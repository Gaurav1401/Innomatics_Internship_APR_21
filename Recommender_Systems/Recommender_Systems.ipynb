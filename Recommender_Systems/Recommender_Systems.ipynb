{
  "nbformat": 4,
  "nbformat_minor": 0,
  "metadata": {
    "colab": {
      "name": "Recommender Systems.ipynb",
      "provenance": [],
      "collapsed_sections": [
        "43NY2lohIF-d",
        "IbZNflBZhBnf",
        "mZV_rkSy5yyd",
        "5HtWI9cN7a5a",
        "6avkJqTg82DY",
        "wOyKBmG63lyj",
        "Q34Ckm593z1d",
        "l1TVjufN8HRc",
        "lu04mPKeDCxw",
        "wptmyKh2El_3",
        "gz7sxX2NKWqk",
        "8ib5ZEYFDYgH",
        "qPjRiimU0ZvZ"
      ],
      "include_colab_link": true
    },
    "kernelspec": {
      "display_name": "Python 3",
      "name": "python3"
    },
    "language_info": {
      "name": "python"
    },
    "accelerator": "GPU"
  },
  "cells": [
    {
      "cell_type": "markdown",
      "metadata": {
        "id": "view-in-github",
        "colab_type": "text"
      },
      "source": [
        "<a href=\"https://colab.research.google.com/github/Gaurav1401/Innomatics_Internship_APR_21/blob/main/Recommender_Systems/Recommender_Systems.ipynb\" target=\"_parent\"><img src=\"https://colab.research.google.com/assets/colab-badge.svg\" alt=\"Open In Colab\"/></a>"
      ]
    },
    {
      "cell_type": "markdown",
      "metadata": {
        "id": "43NY2lohIF-d"
      },
      "source": [
        "# **Importing Relevant Libraries and Connecting with Google Drive :)**"
      ]
    },
    {
      "cell_type": "code",
      "metadata": {
        "id": "E-GiuOk4gKhS"
      },
      "source": [
        "import numpy as np\n",
        "import pandas as pd\n",
        "import matplotlib.pyplot as plt\n",
        "import seaborn as sns"
      ],
      "execution_count": 1,
      "outputs": []
    },
    {
      "cell_type": "code",
      "metadata": {
        "colab": {
          "base_uri": "https://localhost:8080/"
        },
        "id": "KJdrK8-Mo7AD",
        "outputId": "ecbcf781-988d-48b4-dd59-eaf7d32826fb"
      },
      "source": [
        "from google.colab import drive\n",
        "drive.mount('/content/gdrive/')"
      ],
      "execution_count": 2,
      "outputs": [
        {
          "output_type": "stream",
          "text": [
            "Mounted at /content/gdrive/\n"
          ],
          "name": "stdout"
        }
      ]
    },
    {
      "cell_type": "markdown",
      "metadata": {
        "id": "IbZNflBZhBnf"
      },
      "source": [
        "# **Data Loading and its Overview**"
      ]
    },
    {
      "cell_type": "markdown",
      "metadata": {
        "id": "CHecvlXttgNf"
      },
      "source": [
        "For common datasource the path will remain common"
      ]
    },
    {
      "cell_type": "code",
      "metadata": {
        "colab": {
          "base_uri": "https://localhost:8080/"
        },
        "id": "foXWggLzgaWB",
        "outputId": "c61505e2-147d-4df0-d5e5-1b8a9132798c"
      },
      "source": [
        "songs = np.loadtxt('/content/gdrive/MyDrive/Recommender System/kaggle_songs.txt', delimiter=' ',usecols= (0),  dtype = 'str')\n",
        "users = np.loadtxt('/content/gdrive/MyDrive/Recommender System/kaggle_users.txt',usecols= (0),  dtype = 'str')\n",
        "triplet = pd.read_csv('/content/gdrive/MyDrive/Recommender System/kaggle_visible_evaluation_triplets.txt', header = None, delimiter = \"\\t\")\n",
        "taste_track = pd.read_csv('/content/gdrive/MyDrive/Recommender System/taste_profile_song_to_tracks.txt', header = None, delimiter = \"\\t\", error_bad_lines=False)\n",
        "unique_tracks = pd.read_csv('/content/gdrive/MyDrive/Recommender System/unique_tracks.txt', header = None, delimiter = '<SEP>')"
      ],
      "execution_count": 3,
      "outputs": [
        {
          "output_type": "stream",
          "text": [
            "b'Skipping line 100: expected 2 fields, saw 3\\nSkipping line 1366: expected 2 fields, saw 3\\nSkipping line 1965: expected 2 fields, saw 3\\nSkipping line 2633: expected 2 fields, saw 3\\nSkipping line 4604: expected 2 fields, saw 3\\nSkipping line 6107: expected 2 fields, saw 3\\nSkipping line 6243: expected 2 fields, saw 3\\nSkipping line 6977: expected 2 fields, saw 3\\nSkipping line 7757: expected 2 fields, saw 3\\nSkipping line 8451: expected 2 fields, saw 3\\nSkipping line 8507: expected 2 fields, saw 3\\nSkipping line 8657: expected 2 fields, saw 3\\nSkipping line 9025: expected 2 fields, saw 3\\nSkipping line 9360: expected 2 fields, saw 3\\nSkipping line 9655: expected 2 fields, saw 3\\nSkipping line 9803: expected 2 fields, saw 3\\nSkipping line 10390: expected 2 fields, saw 3\\nSkipping line 10480: expected 2 fields, saw 3\\nSkipping line 11272: expected 2 fields, saw 3\\nSkipping line 12554: expected 2 fields, saw 3\\nSkipping line 13587: expected 2 fields, saw 3\\nSkipping line 13737: expected 2 fields, saw 3\\nSkipping line 13863: expected 2 fields, saw 3\\nSkipping line 14424: expected 2 fields, saw 3\\nSkipping line 15208: expected 2 fields, saw 3\\nSkipping line 15690: expected 2 fields, saw 3\\nSkipping line 16796: expected 2 fields, saw 3\\nSkipping line 18365: expected 2 fields, saw 3\\nSkipping line 18739: expected 2 fields, saw 3\\nSkipping line 19166: expected 2 fields, saw 3\\nSkipping line 19720: expected 2 fields, saw 3\\nSkipping line 20655: expected 2 fields, saw 3\\nSkipping line 21662: expected 2 fields, saw 3\\nSkipping line 22446: expected 2 fields, saw 3\\nSkipping line 22529: expected 2 fields, saw 3\\nSkipping line 22636: expected 2 fields, saw 3\\nSkipping line 22807: expected 2 fields, saw 3\\nSkipping line 22813: expected 2 fields, saw 3\\nSkipping line 23576: expected 2 fields, saw 3\\nSkipping line 23957: expected 2 fields, saw 3\\nSkipping line 24249: expected 2 fields, saw 3\\nSkipping line 24302: expected 2 fields, saw 3\\nSkipping line 24776: expected 2 fields, saw 3\\nSkipping line 25348: expected 2 fields, saw 3\\nSkipping line 25453: expected 2 fields, saw 4\\nSkipping line 25643: expected 2 fields, saw 4\\nSkipping line 26088: expected 2 fields, saw 3\\nSkipping line 26856: expected 2 fields, saw 3\\nSkipping line 27007: expected 2 fields, saw 3\\nSkipping line 28502: expected 2 fields, saw 3\\nSkipping line 29523: expected 2 fields, saw 3\\nSkipping line 29574: expected 2 fields, saw 3\\nSkipping line 29974: expected 2 fields, saw 3\\nSkipping line 30643: expected 2 fields, saw 3\\nSkipping line 31101: expected 2 fields, saw 3\\nSkipping line 31149: expected 2 fields, saw 3\\nSkipping line 32597: expected 2 fields, saw 3\\nSkipping line 32916: expected 2 fields, saw 3\\nSkipping line 33649: expected 2 fields, saw 3\\nSkipping line 34149: expected 2 fields, saw 3\\nSkipping line 34621: expected 2 fields, saw 3\\nSkipping line 35222: expected 2 fields, saw 3\\nSkipping line 35731: expected 2 fields, saw 3\\nSkipping line 35744: expected 2 fields, saw 3\\nSkipping line 36433: expected 2 fields, saw 3\\nSkipping line 36558: expected 2 fields, saw 3\\nSkipping line 36622: expected 2 fields, saw 3\\nSkipping line 38383: expected 2 fields, saw 3\\nSkipping line 38598: expected 2 fields, saw 3\\nSkipping line 38873: expected 2 fields, saw 3\\nSkipping line 39720: expected 2 fields, saw 3\\nSkipping line 41145: expected 2 fields, saw 3\\nSkipping line 41226: expected 2 fields, saw 3\\nSkipping line 41238: expected 2 fields, saw 3\\nSkipping line 41500: expected 2 fields, saw 3\\nSkipping line 42110: expected 2 fields, saw 3\\nSkipping line 42222: expected 2 fields, saw 3\\nSkipping line 42731: expected 2 fields, saw 3\\nSkipping line 43737: expected 2 fields, saw 3\\nSkipping line 44287: expected 2 fields, saw 3\\nSkipping line 44946: expected 2 fields, saw 3\\nSkipping line 45934: expected 2 fields, saw 3\\nSkipping line 46407: expected 2 fields, saw 3\\nSkipping line 46480: expected 2 fields, saw 3\\nSkipping line 46800: expected 2 fields, saw 3\\nSkipping line 46951: expected 2 fields, saw 3\\nSkipping line 47431: expected 2 fields, saw 3\\nSkipping line 47844: expected 2 fields, saw 3\\nSkipping line 48071: expected 2 fields, saw 3\\nSkipping line 48497: expected 2 fields, saw 3\\nSkipping line 48596: expected 2 fields, saw 3\\nSkipping line 48999: expected 2 fields, saw 3\\nSkipping line 52478: expected 2 fields, saw 3\\nSkipping line 52844: expected 2 fields, saw 3\\nSkipping line 53301: expected 2 fields, saw 3\\nSkipping line 53560: expected 2 fields, saw 3\\nSkipping line 53845: expected 2 fields, saw 4\\nSkipping line 55216: expected 2 fields, saw 3\\nSkipping line 56835: expected 2 fields, saw 3\\nSkipping line 57229: expected 2 fields, saw 4\\nSkipping line 57378: expected 2 fields, saw 3\\nSkipping line 57861: expected 2 fields, saw 3\\nSkipping line 58346: expected 2 fields, saw 3\\nSkipping line 58379: expected 2 fields, saw 3\\nSkipping line 58957: expected 2 fields, saw 3\\nSkipping line 60574: expected 2 fields, saw 3\\nSkipping line 62212: expected 2 fields, saw 3\\nSkipping line 62494: expected 2 fields, saw 3\\nSkipping line 62582: expected 2 fields, saw 3\\nSkipping line 62668: expected 2 fields, saw 3\\nSkipping line 62773: expected 2 fields, saw 3\\nSkipping line 64400: expected 2 fields, saw 3\\nSkipping line 64699: expected 2 fields, saw 3\\nSkipping line 65178: expected 2 fields, saw 3\\nSkipping line 65370: expected 2 fields, saw 3\\nSkipping line 65618: expected 2 fields, saw 3\\nSkipping line 65920: expected 2 fields, saw 3\\nSkipping line 65922: expected 2 fields, saw 3\\nSkipping line 67253: expected 2 fields, saw 3\\nSkipping line 68408: expected 2 fields, saw 4\\nSkipping line 68603: expected 2 fields, saw 3\\nSkipping line 68690: expected 2 fields, saw 3\\nSkipping line 68874: expected 2 fields, saw 3\\nSkipping line 69017: expected 2 fields, saw 4\\nSkipping line 69032: expected 2 fields, saw 3\\nSkipping line 69165: expected 2 fields, saw 3\\nSkipping line 69380: expected 2 fields, saw 3\\nSkipping line 69564: expected 2 fields, saw 3\\nSkipping line 69940: expected 2 fields, saw 4\\nSkipping line 70178: expected 2 fields, saw 3\\nSkipping line 70334: expected 2 fields, saw 3\\nSkipping line 72684: expected 2 fields, saw 3\\nSkipping line 73353: expected 2 fields, saw 3\\nSkipping line 73402: expected 2 fields, saw 3\\nSkipping line 73942: expected 2 fields, saw 3\\nSkipping line 74073: expected 2 fields, saw 3\\nSkipping line 74372: expected 2 fields, saw 3\\nSkipping line 74795: expected 2 fields, saw 3\\nSkipping line 74800: expected 2 fields, saw 3\\nSkipping line 74980: expected 2 fields, saw 3\\nSkipping line 76038: expected 2 fields, saw 4\\nSkipping line 76551: expected 2 fields, saw 3\\nSkipping line 76665: expected 2 fields, saw 3\\nSkipping line 76794: expected 2 fields, saw 3\\nSkipping line 77019: expected 2 fields, saw 3\\nSkipping line 79206: expected 2 fields, saw 3\\nSkipping line 79744: expected 2 fields, saw 3\\nSkipping line 80131: expected 2 fields, saw 3\\nSkipping line 81092: expected 2 fields, saw 3\\nSkipping line 81442: expected 2 fields, saw 3\\nSkipping line 83413: expected 2 fields, saw 3\\nSkipping line 85231: expected 2 fields, saw 3\\nSkipping line 86655: expected 2 fields, saw 3\\nSkipping line 86661: expected 2 fields, saw 3\\nSkipping line 88065: expected 2 fields, saw 3\\nSkipping line 88182: expected 2 fields, saw 3\\nSkipping line 88863: expected 2 fields, saw 3\\nSkipping line 89798: expected 2 fields, saw 3\\nSkipping line 90373: expected 2 fields, saw 4\\nSkipping line 91018: expected 2 fields, saw 3\\nSkipping line 92566: expected 2 fields, saw 3\\nSkipping line 94085: expected 2 fields, saw 3\\nSkipping line 94717: expected 2 fields, saw 3\\nSkipping line 94933: expected 2 fields, saw 3\\nSkipping line 96505: expected 2 fields, saw 3\\nSkipping line 96826: expected 2 fields, saw 3\\nSkipping line 97777: expected 2 fields, saw 3\\nSkipping line 98460: expected 2 fields, saw 3\\nSkipping line 99189: expected 2 fields, saw 3\\nSkipping line 99530: expected 2 fields, saw 3\\nSkipping line 99539: expected 2 fields, saw 3\\nSkipping line 100027: expected 2 fields, saw 3\\nSkipping line 100237: expected 2 fields, saw 3\\nSkipping line 100960: expected 2 fields, saw 3\\nSkipping line 101081: expected 2 fields, saw 3\\nSkipping line 101231: expected 2 fields, saw 3\\nSkipping line 102260: expected 2 fields, saw 3\\nSkipping line 102372: expected 2 fields, saw 3\\nSkipping line 102413: expected 2 fields, saw 3\\nSkipping line 102500: expected 2 fields, saw 3\\nSkipping line 102964: expected 2 fields, saw 3\\nSkipping line 104176: expected 2 fields, saw 3\\nSkipping line 104484: expected 2 fields, saw 3\\nSkipping line 105213: expected 2 fields, saw 3\\nSkipping line 105370: expected 2 fields, saw 3\\nSkipping line 107504: expected 2 fields, saw 3\\nSkipping line 107866: expected 2 fields, saw 3\\nSkipping line 107981: expected 2 fields, saw 3\\nSkipping line 109498: expected 2 fields, saw 3\\nSkipping line 111713: expected 2 fields, saw 3\\nSkipping line 112460: expected 2 fields, saw 3\\nSkipping line 112487: expected 2 fields, saw 4\\nSkipping line 113185: expected 2 fields, saw 3\\nSkipping line 113413: expected 2 fields, saw 3\\nSkipping line 115638: expected 2 fields, saw 3\\nSkipping line 115965: expected 2 fields, saw 3\\nSkipping line 116590: expected 2 fields, saw 3\\nSkipping line 116887: expected 2 fields, saw 3\\nSkipping line 117836: expected 2 fields, saw 3\\nSkipping line 117854: expected 2 fields, saw 3\\nSkipping line 118220: expected 2 fields, saw 3\\nSkipping line 118431: expected 2 fields, saw 3\\nSkipping line 118505: expected 2 fields, saw 3\\nSkipping line 120027: expected 2 fields, saw 3\\nSkipping line 121349: expected 2 fields, saw 3\\nSkipping line 121351: expected 2 fields, saw 3\\nSkipping line 121628: expected 2 fields, saw 3\\nSkipping line 122629: expected 2 fields, saw 3\\nSkipping line 122658: expected 2 fields, saw 3\\nSkipping line 123491: expected 2 fields, saw 3\\nSkipping line 124244: expected 2 fields, saw 3\\nSkipping line 124645: expected 2 fields, saw 3\\nSkipping line 125582: expected 2 fields, saw 3\\nSkipping line 127195: expected 2 fields, saw 3\\nSkipping line 127785: expected 2 fields, saw 3\\nSkipping line 128662: expected 2 fields, saw 3\\nSkipping line 129762: expected 2 fields, saw 3\\nSkipping line 130037: expected 2 fields, saw 3\\nSkipping line 130455: expected 2 fields, saw 3\\nSkipping line 130564: expected 2 fields, saw 3\\nSkipping line 131315: expected 2 fields, saw 3\\nSkipping line 131791: expected 2 fields, saw 3\\nSkipping line 132116: expected 2 fields, saw 3\\nSkipping line 133560: expected 2 fields, saw 3\\nSkipping line 133862: expected 2 fields, saw 3\\nSkipping line 134221: expected 2 fields, saw 3\\nSkipping line 135695: expected 2 fields, saw 3\\nSkipping line 135877: expected 2 fields, saw 3\\nSkipping line 136050: expected 2 fields, saw 3\\nSkipping line 136067: expected 2 fields, saw 3\\nSkipping line 136096: expected 2 fields, saw 3\\nSkipping line 136846: expected 2 fields, saw 3\\nSkipping line 137041: expected 2 fields, saw 3\\nSkipping line 137197: expected 2 fields, saw 3\\nSkipping line 138335: expected 2 fields, saw 3\\nSkipping line 138793: expected 2 fields, saw 3\\nSkipping line 139233: expected 2 fields, saw 3\\nSkipping line 139580: expected 2 fields, saw 3\\nSkipping line 140566: expected 2 fields, saw 3\\nSkipping line 142051: expected 2 fields, saw 3\\nSkipping line 142220: expected 2 fields, saw 3\\nSkipping line 142514: expected 2 fields, saw 3\\nSkipping line 142745: expected 2 fields, saw 3\\nSkipping line 142830: expected 2 fields, saw 3\\nSkipping line 142966: expected 2 fields, saw 4\\nSkipping line 143079: expected 2 fields, saw 3\\nSkipping line 143898: expected 2 fields, saw 3\\nSkipping line 145087: expected 2 fields, saw 3\\nSkipping line 145233: expected 2 fields, saw 3\\nSkipping line 145253: expected 2 fields, saw 3\\nSkipping line 147149: expected 2 fields, saw 3\\nSkipping line 147815: expected 2 fields, saw 3\\nSkipping line 149185: expected 2 fields, saw 3\\nSkipping line 150274: expected 2 fields, saw 3\\nSkipping line 150661: expected 2 fields, saw 3\\nSkipping line 151423: expected 2 fields, saw 3\\nSkipping line 151901: expected 2 fields, saw 3\\nSkipping line 152405: expected 2 fields, saw 3\\nSkipping line 153249: expected 2 fields, saw 3\\nSkipping line 153273: expected 2 fields, saw 4\\nSkipping line 154063: expected 2 fields, saw 3\\nSkipping line 154765: expected 2 fields, saw 3\\nSkipping line 155255: expected 2 fields, saw 3\\nSkipping line 155355: expected 2 fields, saw 3\\nSkipping line 155542: expected 2 fields, saw 3\\nSkipping line 155850: expected 2 fields, saw 3\\nSkipping line 157306: expected 2 fields, saw 3\\nSkipping line 158889: expected 2 fields, saw 3\\nSkipping line 159300: expected 2 fields, saw 4\\nSkipping line 159649: expected 2 fields, saw 3\\nSkipping line 159989: expected 2 fields, saw 3\\nSkipping line 160509: expected 2 fields, saw 3\\nSkipping line 160661: expected 2 fields, saw 3\\nSkipping line 160807: expected 2 fields, saw 3\\nSkipping line 162401: expected 2 fields, saw 3\\nSkipping line 162630: expected 2 fields, saw 3\\nSkipping line 162869: expected 2 fields, saw 3\\nSkipping line 163393: expected 2 fields, saw 3\\nSkipping line 163622: expected 2 fields, saw 3\\nSkipping line 163705: expected 2 fields, saw 3\\nSkipping line 164887: expected 2 fields, saw 3\\nSkipping line 165192: expected 2 fields, saw 3\\nSkipping line 165679: expected 2 fields, saw 3\\nSkipping line 165921: expected 2 fields, saw 3\\nSkipping line 167161: expected 2 fields, saw 3\\nSkipping line 167248: expected 2 fields, saw 3\\nSkipping line 168104: expected 2 fields, saw 3\\nSkipping line 168254: expected 2 fields, saw 3\\nSkipping line 168457: expected 2 fields, saw 3\\nSkipping line 169895: expected 2 fields, saw 3\\nSkipping line 170168: expected 2 fields, saw 3\\nSkipping line 170222: expected 2 fields, saw 4\\nSkipping line 170257: expected 2 fields, saw 3\\nSkipping line 171998: expected 2 fields, saw 3\\nSkipping line 172226: expected 2 fields, saw 3\\nSkipping line 172741: expected 2 fields, saw 3\\nSkipping line 173256: expected 2 fields, saw 4\\nSkipping line 174568: expected 2 fields, saw 3\\nSkipping line 176143: expected 2 fields, saw 3\\nSkipping line 176333: expected 2 fields, saw 3\\nSkipping line 177378: expected 2 fields, saw 3\\nSkipping line 177432: expected 2 fields, saw 3\\nSkipping line 178198: expected 2 fields, saw 3\\nSkipping line 178325: expected 2 fields, saw 3\\nSkipping line 178394: expected 2 fields, saw 3\\nSkipping line 178507: expected 2 fields, saw 3\\nSkipping line 178607: expected 2 fields, saw 3\\nSkipping line 179418: expected 2 fields, saw 3\\nSkipping line 179719: expected 2 fields, saw 3\\nSkipping line 180110: expected 2 fields, saw 3\\nSkipping line 180351: expected 2 fields, saw 3\\nSkipping line 180432: expected 2 fields, saw 3\\nSkipping line 180471: expected 2 fields, saw 3\\nSkipping line 180763: expected 2 fields, saw 3\\nSkipping line 181001: expected 2 fields, saw 3\\nSkipping line 181057: expected 2 fields, saw 3\\nSkipping line 181383: expected 2 fields, saw 4\\nSkipping line 181481: expected 2 fields, saw 3\\nSkipping line 181944: expected 2 fields, saw 3\\nSkipping line 182053: expected 2 fields, saw 3\\nSkipping line 182238: expected 2 fields, saw 3\\nSkipping line 183608: expected 2 fields, saw 3\\nSkipping line 183611: expected 2 fields, saw 3\\nSkipping line 183920: expected 2 fields, saw 3\\nSkipping line 183998: expected 2 fields, saw 3\\nSkipping line 184820: expected 2 fields, saw 3\\nSkipping line 185552: expected 2 fields, saw 3\\nSkipping line 187921: expected 2 fields, saw 3\\nSkipping line 188417: expected 2 fields, saw 3\\nSkipping line 188549: expected 2 fields, saw 3\\nSkipping line 189290: expected 2 fields, saw 3\\nSkipping line 190514: expected 2 fields, saw 3\\nSkipping line 190737: expected 2 fields, saw 3\\nSkipping line 191002: expected 2 fields, saw 3\\nSkipping line 191273: expected 2 fields, saw 3\\nSkipping line 192057: expected 2 fields, saw 4\\nSkipping line 194261: expected 2 fields, saw 3\\nSkipping line 194392: expected 2 fields, saw 3\\nSkipping line 194723: expected 2 fields, saw 3\\nSkipping line 195364: expected 2 fields, saw 3\\nSkipping line 195564: expected 2 fields, saw 3\\nSkipping line 195867: expected 2 fields, saw 3\\nSkipping line 196875: expected 2 fields, saw 3\\nSkipping line 197060: expected 2 fields, saw 3\\nSkipping line 198379: expected 2 fields, saw 3\\nSkipping line 199080: expected 2 fields, saw 3\\nSkipping line 199334: expected 2 fields, saw 3\\nSkipping line 199362: expected 2 fields, saw 3\\nSkipping line 199443: expected 2 fields, saw 3\\nSkipping line 199740: expected 2 fields, saw 3\\nSkipping line 201108: expected 2 fields, saw 3\\nSkipping line 201425: expected 2 fields, saw 3\\nSkipping line 201482: expected 2 fields, saw 3\\nSkipping line 201851: expected 2 fields, saw 3\\nSkipping line 202347: expected 2 fields, saw 3\\nSkipping line 202860: expected 2 fields, saw 3\\nSkipping line 202890: expected 2 fields, saw 3\\nSkipping line 203665: expected 2 fields, saw 3\\nSkipping line 204235: expected 2 fields, saw 4\\nSkipping line 204963: expected 2 fields, saw 3\\nSkipping line 205372: expected 2 fields, saw 3\\nSkipping line 205992: expected 2 fields, saw 3\\nSkipping line 208010: expected 2 fields, saw 3\\nSkipping line 208383: expected 2 fields, saw 3\\nSkipping line 208433: expected 2 fields, saw 3\\nSkipping line 208650: expected 2 fields, saw 3\\nSkipping line 208803: expected 2 fields, saw 3\\nSkipping line 208935: expected 2 fields, saw 3\\nSkipping line 209788: expected 2 fields, saw 3\\nSkipping line 209920: expected 2 fields, saw 3\\nSkipping line 210068: expected 2 fields, saw 3\\nSkipping line 210166: expected 2 fields, saw 3\\nSkipping line 210178: expected 2 fields, saw 3\\nSkipping line 210533: expected 2 fields, saw 4\\nSkipping line 211250: expected 2 fields, saw 4\\nSkipping line 211456: expected 2 fields, saw 3\\nSkipping line 212012: expected 2 fields, saw 3\\nSkipping line 212520: expected 2 fields, saw 3\\nSkipping line 212675: expected 2 fields, saw 3\\nSkipping line 213114: expected 2 fields, saw 3\\nSkipping line 213782: expected 2 fields, saw 3\\nSkipping line 213834: expected 2 fields, saw 3\\nSkipping line 213918: expected 2 fields, saw 3\\nSkipping line 214322: expected 2 fields, saw 3\\nSkipping line 214379: expected 2 fields, saw 3\\nSkipping line 215743: expected 2 fields, saw 3\\nSkipping line 216308: expected 2 fields, saw 3\\nSkipping line 217405: expected 2 fields, saw 3\\nSkipping line 218655: expected 2 fields, saw 3\\nSkipping line 219099: expected 2 fields, saw 3\\nSkipping line 219169: expected 2 fields, saw 3\\nSkipping line 219974: expected 2 fields, saw 3\\nSkipping line 220629: expected 2 fields, saw 3\\nSkipping line 222650: expected 2 fields, saw 3\\nSkipping line 223470: expected 2 fields, saw 3\\nSkipping line 224147: expected 2 fields, saw 3\\nSkipping line 224757: expected 2 fields, saw 3\\nSkipping line 224988: expected 2 fields, saw 3\\nSkipping line 225108: expected 2 fields, saw 3\\nSkipping line 225288: expected 2 fields, saw 3\\nSkipping line 226016: expected 2 fields, saw 3\\nSkipping line 226191: expected 2 fields, saw 4\\nSkipping line 226229: expected 2 fields, saw 3\\nSkipping line 226354: expected 2 fields, saw 3\\nSkipping line 227252: expected 2 fields, saw 3\\nSkipping line 227374: expected 2 fields, saw 3\\nSkipping line 227518: expected 2 fields, saw 3\\nSkipping line 227732: expected 2 fields, saw 3\\nSkipping line 229220: expected 2 fields, saw 3\\nSkipping line 229233: expected 2 fields, saw 3\\nSkipping line 229463: expected 2 fields, saw 3\\nSkipping line 229482: expected 2 fields, saw 3\\nSkipping line 229498: expected 2 fields, saw 3\\nSkipping line 229505: expected 2 fields, saw 3\\nSkipping line 230559: expected 2 fields, saw 3\\nSkipping line 231384: expected 2 fields, saw 3\\nSkipping line 231723: expected 2 fields, saw 3\\nSkipping line 232123: expected 2 fields, saw 3\\nSkipping line 233369: expected 2 fields, saw 3\\nSkipping line 234480: expected 2 fields, saw 3\\nSkipping line 235145: expected 2 fields, saw 3\\nSkipping line 235752: expected 2 fields, saw 3\\nSkipping line 235936: expected 2 fields, saw 3\\nSkipping line 236189: expected 2 fields, saw 3\\nSkipping line 236257: expected 2 fields, saw 3\\nSkipping line 237048: expected 2 fields, saw 3\\nSkipping line 237346: expected 2 fields, saw 3\\nSkipping line 237917: expected 2 fields, saw 3\\nSkipping line 238108: expected 2 fields, saw 3\\nSkipping line 238496: expected 2 fields, saw 4\\nSkipping line 238581: expected 2 fields, saw 3\\nSkipping line 239029: expected 2 fields, saw 3\\nSkipping line 239158: expected 2 fields, saw 3\\nSkipping line 240119: expected 2 fields, saw 3\\nSkipping line 240763: expected 2 fields, saw 4\\nSkipping line 241611: expected 2 fields, saw 3\\nSkipping line 241714: expected 2 fields, saw 3\\nSkipping line 242379: expected 2 fields, saw 3\\nSkipping line 242880: expected 2 fields, saw 3\\nSkipping line 242895: expected 2 fields, saw 3\\nSkipping line 242968: expected 2 fields, saw 4\\nSkipping line 243186: expected 2 fields, saw 3\\nSkipping line 245381: expected 2 fields, saw 3\\nSkipping line 245936: expected 2 fields, saw 3\\nSkipping line 246561: expected 2 fields, saw 3\\nSkipping line 246562: expected 2 fields, saw 4\\nSkipping line 246930: expected 2 fields, saw 3\\nSkipping line 248406: expected 2 fields, saw 3\\nSkipping line 248806: expected 2 fields, saw 3\\nSkipping line 249075: expected 2 fields, saw 3\\nSkipping line 249603: expected 2 fields, saw 3\\nSkipping line 250623: expected 2 fields, saw 3\\nSkipping line 250651: expected 2 fields, saw 3\\nSkipping line 251206: expected 2 fields, saw 3\\nSkipping line 252358: expected 2 fields, saw 3\\nSkipping line 254745: expected 2 fields, saw 4\\nSkipping line 254795: expected 2 fields, saw 3\\nSkipping line 254895: expected 2 fields, saw 3\\nSkipping line 255857: expected 2 fields, saw 3\\nSkipping line 256567: expected 2 fields, saw 3\\nSkipping line 257902: expected 2 fields, saw 3\\nSkipping line 258513: expected 2 fields, saw 3\\nSkipping line 258898: expected 2 fields, saw 3\\nSkipping line 259883: expected 2 fields, saw 3\\nSkipping line 260095: expected 2 fields, saw 3\\nSkipping line 260177: expected 2 fields, saw 3\\nSkipping line 260379: expected 2 fields, saw 3\\nSkipping line 260844: expected 2 fields, saw 3\\nSkipping line 260867: expected 2 fields, saw 3\\nSkipping line 261868: expected 2 fields, saw 4\\nSkipping line 261941: expected 2 fields, saw 3\\nSkipping line 262359: expected 2 fields, saw 4\\n'\n",
            "b'Skipping line 262788: expected 2 fields, saw 3\\nSkipping line 262904: expected 2 fields, saw 3\\nSkipping line 264294: expected 2 fields, saw 3\\nSkipping line 265081: expected 2 fields, saw 3\\nSkipping line 265375: expected 2 fields, saw 3\\nSkipping line 266872: expected 2 fields, saw 3\\nSkipping line 267015: expected 2 fields, saw 3\\nSkipping line 267870: expected 2 fields, saw 3\\nSkipping line 269294: expected 2 fields, saw 3\\nSkipping line 269870: expected 2 fields, saw 3\\nSkipping line 270255: expected 2 fields, saw 3\\nSkipping line 270624: expected 2 fields, saw 3\\nSkipping line 270631: expected 2 fields, saw 3\\nSkipping line 270991: expected 2 fields, saw 3\\nSkipping line 271963: expected 2 fields, saw 3\\nSkipping line 272642: expected 2 fields, saw 3\\nSkipping line 273276: expected 2 fields, saw 3\\nSkipping line 273378: expected 2 fields, saw 3\\nSkipping line 273843: expected 2 fields, saw 3\\nSkipping line 273859: expected 2 fields, saw 3\\nSkipping line 273861: expected 2 fields, saw 3\\nSkipping line 274263: expected 2 fields, saw 3\\nSkipping line 274272: expected 2 fields, saw 3\\nSkipping line 274685: expected 2 fields, saw 3\\nSkipping line 276905: expected 2 fields, saw 3\\nSkipping line 277873: expected 2 fields, saw 3\\nSkipping line 281073: expected 2 fields, saw 3\\nSkipping line 282859: expected 2 fields, saw 3\\nSkipping line 283637: expected 2 fields, saw 3\\nSkipping line 284507: expected 2 fields, saw 3\\nSkipping line 284681: expected 2 fields, saw 3\\nSkipping line 284713: expected 2 fields, saw 3\\nSkipping line 286031: expected 2 fields, saw 3\\nSkipping line 286399: expected 2 fields, saw 3\\nSkipping line 287295: expected 2 fields, saw 3\\nSkipping line 288533: expected 2 fields, saw 4\\nSkipping line 288819: expected 2 fields, saw 3\\nSkipping line 288848: expected 2 fields, saw 3\\nSkipping line 290239: expected 2 fields, saw 3\\nSkipping line 290575: expected 2 fields, saw 3\\nSkipping line 290765: expected 2 fields, saw 3\\nSkipping line 291144: expected 2 fields, saw 3\\nSkipping line 291694: expected 2 fields, saw 3\\nSkipping line 292708: expected 2 fields, saw 3\\nSkipping line 292864: expected 2 fields, saw 3\\nSkipping line 293464: expected 2 fields, saw 3\\nSkipping line 293679: expected 2 fields, saw 3\\nSkipping line 294059: expected 2 fields, saw 3\\nSkipping line 294671: expected 2 fields, saw 3\\nSkipping line 295355: expected 2 fields, saw 3\\nSkipping line 295408: expected 2 fields, saw 3\\nSkipping line 295513: expected 2 fields, saw 3\\nSkipping line 295596: expected 2 fields, saw 3\\nSkipping line 295651: expected 2 fields, saw 3\\nSkipping line 296088: expected 2 fields, saw 3\\nSkipping line 296230: expected 2 fields, saw 3\\nSkipping line 297351: expected 2 fields, saw 3\\nSkipping line 297506: expected 2 fields, saw 3\\nSkipping line 299341: expected 2 fields, saw 3\\nSkipping line 299350: expected 2 fields, saw 3\\nSkipping line 300008: expected 2 fields, saw 3\\nSkipping line 300057: expected 2 fields, saw 3\\nSkipping line 301013: expected 2 fields, saw 3\\nSkipping line 302369: expected 2 fields, saw 3\\nSkipping line 303528: expected 2 fields, saw 3\\nSkipping line 304560: expected 2 fields, saw 3\\nSkipping line 305173: expected 2 fields, saw 3\\nSkipping line 305656: expected 2 fields, saw 3\\nSkipping line 306423: expected 2 fields, saw 3\\nSkipping line 307218: expected 2 fields, saw 3\\nSkipping line 307232: expected 2 fields, saw 3\\nSkipping line 307687: expected 2 fields, saw 3\\nSkipping line 308201: expected 2 fields, saw 4\\nSkipping line 309318: expected 2 fields, saw 3\\nSkipping line 310418: expected 2 fields, saw 3\\nSkipping line 311243: expected 2 fields, saw 3\\nSkipping line 311407: expected 2 fields, saw 3\\nSkipping line 311465: expected 2 fields, saw 3\\nSkipping line 311609: expected 2 fields, saw 3\\nSkipping line 311696: expected 2 fields, saw 3\\nSkipping line 313997: expected 2 fields, saw 3\\nSkipping line 314291: expected 2 fields, saw 3\\nSkipping line 314491: expected 2 fields, saw 3\\nSkipping line 315007: expected 2 fields, saw 3\\nSkipping line 315446: expected 2 fields, saw 3\\nSkipping line 315852: expected 2 fields, saw 3\\nSkipping line 316197: expected 2 fields, saw 3\\nSkipping line 316294: expected 2 fields, saw 4\\nSkipping line 317306: expected 2 fields, saw 4\\nSkipping line 317389: expected 2 fields, saw 3\\nSkipping line 317509: expected 2 fields, saw 3\\nSkipping line 317749: expected 2 fields, saw 3\\nSkipping line 318411: expected 2 fields, saw 4\\nSkipping line 318454: expected 2 fields, saw 3\\nSkipping line 318467: expected 2 fields, saw 3\\nSkipping line 318566: expected 2 fields, saw 3\\nSkipping line 319432: expected 2 fields, saw 3\\nSkipping line 319545: expected 2 fields, saw 3\\nSkipping line 319747: expected 2 fields, saw 3\\nSkipping line 320522: expected 2 fields, saw 3\\nSkipping line 320574: expected 2 fields, saw 3\\nSkipping line 321173: expected 2 fields, saw 3\\nSkipping line 321197: expected 2 fields, saw 3\\nSkipping line 321496: expected 2 fields, saw 3\\nSkipping line 323060: expected 2 fields, saw 3\\nSkipping line 323183: expected 2 fields, saw 3\\nSkipping line 324305: expected 2 fields, saw 3\\nSkipping line 327408: expected 2 fields, saw 3\\nSkipping line 327859: expected 2 fields, saw 4\\nSkipping line 329036: expected 2 fields, saw 4\\nSkipping line 329326: expected 2 fields, saw 3\\nSkipping line 330194: expected 2 fields, saw 3\\nSkipping line 331955: expected 2 fields, saw 3\\nSkipping line 333259: expected 2 fields, saw 3\\nSkipping line 333874: expected 2 fields, saw 3\\nSkipping line 334493: expected 2 fields, saw 3\\nSkipping line 335668: expected 2 fields, saw 3\\nSkipping line 335901: expected 2 fields, saw 3\\nSkipping line 337715: expected 2 fields, saw 3\\nSkipping line 338407: expected 2 fields, saw 3\\nSkipping line 339093: expected 2 fields, saw 3\\nSkipping line 339122: expected 2 fields, saw 3\\nSkipping line 339218: expected 2 fields, saw 3\\nSkipping line 339609: expected 2 fields, saw 3\\nSkipping line 340310: expected 2 fields, saw 3\\nSkipping line 340649: expected 2 fields, saw 3\\nSkipping line 342488: expected 2 fields, saw 3\\nSkipping line 342705: expected 2 fields, saw 3\\nSkipping line 342947: expected 2 fields, saw 3\\nSkipping line 343225: expected 2 fields, saw 3\\nSkipping line 344269: expected 2 fields, saw 3\\nSkipping line 344621: expected 2 fields, saw 3\\nSkipping line 345133: expected 2 fields, saw 3\\nSkipping line 345873: expected 2 fields, saw 3\\nSkipping line 346139: expected 2 fields, saw 3\\nSkipping line 348491: expected 2 fields, saw 3\\nSkipping line 348704: expected 2 fields, saw 3\\nSkipping line 349419: expected 2 fields, saw 3\\nSkipping line 349677: expected 2 fields, saw 3\\nSkipping line 349860: expected 2 fields, saw 4\\nSkipping line 349993: expected 2 fields, saw 3\\nSkipping line 350449: expected 2 fields, saw 3\\nSkipping line 351316: expected 2 fields, saw 3\\nSkipping line 351802: expected 2 fields, saw 3\\nSkipping line 352212: expected 2 fields, saw 3\\nSkipping line 352606: expected 2 fields, saw 3\\nSkipping line 354431: expected 2 fields, saw 3\\nSkipping line 354574: expected 2 fields, saw 3\\nSkipping line 354666: expected 2 fields, saw 3\\nSkipping line 357202: expected 2 fields, saw 3\\nSkipping line 359040: expected 2 fields, saw 3\\nSkipping line 359321: expected 2 fields, saw 3\\nSkipping line 359984: expected 2 fields, saw 3\\nSkipping line 360185: expected 2 fields, saw 3\\nSkipping line 360605: expected 2 fields, saw 3\\nSkipping line 361372: expected 2 fields, saw 3\\nSkipping line 361629: expected 2 fields, saw 3\\nSkipping line 362359: expected 2 fields, saw 3\\nSkipping line 363163: expected 2 fields, saw 3\\nSkipping line 363438: expected 2 fields, saw 3\\nSkipping line 363579: expected 2 fields, saw 3\\nSkipping line 363803: expected 2 fields, saw 3\\nSkipping line 364020: expected 2 fields, saw 3\\nSkipping line 365516: expected 2 fields, saw 3\\nSkipping line 365853: expected 2 fields, saw 3\\nSkipping line 366911: expected 2 fields, saw 3\\nSkipping line 367513: expected 2 fields, saw 3\\nSkipping line 367609: expected 2 fields, saw 3\\nSkipping line 368991: expected 2 fields, saw 3\\nSkipping line 369799: expected 2 fields, saw 3\\nSkipping line 371171: expected 2 fields, saw 3\\nSkipping line 372001: expected 2 fields, saw 3\\nSkipping line 373158: expected 2 fields, saw 3\\nSkipping line 373516: expected 2 fields, saw 4\\nSkipping line 373628: expected 2 fields, saw 4\\nSkipping line 374019: expected 2 fields, saw 3\\nSkipping line 374392: expected 2 fields, saw 3\\nSkipping line 375251: expected 2 fields, saw 3\\nSkipping line 375503: expected 2 fields, saw 3\\nSkipping line 375894: expected 2 fields, saw 3\\nSkipping line 376735: expected 2 fields, saw 4\\nSkipping line 377217: expected 2 fields, saw 3\\nSkipping line 377758: expected 2 fields, saw 3\\nSkipping line 378942: expected 2 fields, saw 3\\nSkipping line 379377: expected 2 fields, saw 3\\nSkipping line 380066: expected 2 fields, saw 3\\nSkipping line 380069: expected 2 fields, saw 3\\nSkipping line 381791: expected 2 fields, saw 3\\nSkipping line 381829: expected 2 fields, saw 3\\nSkipping line 381884: expected 2 fields, saw 3\\nSkipping line 382453: expected 2 fields, saw 3\\nSkipping line 383051: expected 2 fields, saw 3\\nSkipping line 383196: expected 2 fields, saw 3\\nSkipping line 383438: expected 2 fields, saw 3\\nSkipping line 384941: expected 2 fields, saw 3\\nSkipping line 385478: expected 2 fields, saw 3\\nSkipping line 385616: expected 2 fields, saw 3\\n'\n",
            "/usr/local/lib/python3.7/dist-packages/ipykernel_launcher.py:5: ParserWarning: Falling back to the 'python' engine because the 'c' engine does not support regex separators (separators > 1 char and different from '\\s+' are interpreted as regex); you can avoid this warning by specifying engine='python'.\n",
            "  \"\"\"\n"
          ],
          "name": "stderr"
        }
      ]
    },
    {
      "cell_type": "code",
      "metadata": {
        "id": "LOQglF5ehbWR"
      },
      "source": [
        "songs = pd.DataFrame(songs, columns=['song_id'])\n",
        "users = pd.DataFrame(users, columns=['user_id'])"
      ],
      "execution_count": 4,
      "outputs": []
    },
    {
      "cell_type": "code",
      "metadata": {
        "id": "lN7UjzC2KgpP",
        "colab": {
          "base_uri": "https://localhost:8080/",
          "height": 0
        },
        "outputId": "019fa6fd-cb87-45dd-de77-4dfe6a6dfadb"
      },
      "source": [
        "songs.head(5)"
      ],
      "execution_count": 5,
      "outputs": [
        {
          "output_type": "execute_result",
          "data": {
            "text/html": [
              "<div>\n",
              "<style scoped>\n",
              "    .dataframe tbody tr th:only-of-type {\n",
              "        vertical-align: middle;\n",
              "    }\n",
              "\n",
              "    .dataframe tbody tr th {\n",
              "        vertical-align: top;\n",
              "    }\n",
              "\n",
              "    .dataframe thead th {\n",
              "        text-align: right;\n",
              "    }\n",
              "</style>\n",
              "<table border=\"1\" class=\"dataframe\">\n",
              "  <thead>\n",
              "    <tr style=\"text-align: right;\">\n",
              "      <th></th>\n",
              "      <th>song_id</th>\n",
              "    </tr>\n",
              "  </thead>\n",
              "  <tbody>\n",
              "    <tr>\n",
              "      <th>0</th>\n",
              "      <td>SOAAADD12AB018A9DD</td>\n",
              "    </tr>\n",
              "    <tr>\n",
              "      <th>1</th>\n",
              "      <td>SOAAADE12A6D4F80CC</td>\n",
              "    </tr>\n",
              "    <tr>\n",
              "      <th>2</th>\n",
              "      <td>SOAAADF12A8C13DF62</td>\n",
              "    </tr>\n",
              "    <tr>\n",
              "      <th>3</th>\n",
              "      <td>SOAAADZ12A8C1334FB</td>\n",
              "    </tr>\n",
              "    <tr>\n",
              "      <th>4</th>\n",
              "      <td>SOAAAFI12A6D4F9C66</td>\n",
              "    </tr>\n",
              "  </tbody>\n",
              "</table>\n",
              "</div>"
            ],
            "text/plain": [
              "              song_id\n",
              "0  SOAAADD12AB018A9DD\n",
              "1  SOAAADE12A6D4F80CC\n",
              "2  SOAAADF12A8C13DF62\n",
              "3  SOAAADZ12A8C1334FB\n",
              "4  SOAAAFI12A6D4F9C66"
            ]
          },
          "metadata": {
            "tags": []
          },
          "execution_count": 5
        }
      ]
    },
    {
      "cell_type": "code",
      "metadata": {
        "id": "BBPua1a9KgmE",
        "colab": {
          "base_uri": "https://localhost:8080/",
          "height": 0
        },
        "outputId": "69e850f3-892f-4ca3-c087-491dfff9aba3"
      },
      "source": [
        "users.head()"
      ],
      "execution_count": 6,
      "outputs": [
        {
          "output_type": "execute_result",
          "data": {
            "text/html": [
              "<div>\n",
              "<style scoped>\n",
              "    .dataframe tbody tr th:only-of-type {\n",
              "        vertical-align: middle;\n",
              "    }\n",
              "\n",
              "    .dataframe tbody tr th {\n",
              "        vertical-align: top;\n",
              "    }\n",
              "\n",
              "    .dataframe thead th {\n",
              "        text-align: right;\n",
              "    }\n",
              "</style>\n",
              "<table border=\"1\" class=\"dataframe\">\n",
              "  <thead>\n",
              "    <tr style=\"text-align: right;\">\n",
              "      <th></th>\n",
              "      <th>user_id</th>\n",
              "    </tr>\n",
              "  </thead>\n",
              "  <tbody>\n",
              "    <tr>\n",
              "      <th>0</th>\n",
              "      <td>fd50c4007b68a3737fe052d5a4f78ce8aa117f3d</td>\n",
              "    </tr>\n",
              "    <tr>\n",
              "      <th>1</th>\n",
              "      <td>d7083f5e1d50c264277d624340edaaf3dc16095b</td>\n",
              "    </tr>\n",
              "    <tr>\n",
              "      <th>2</th>\n",
              "      <td>d68dc6fc25248234590d7668a11e3335534ae4b4</td>\n",
              "    </tr>\n",
              "    <tr>\n",
              "      <th>3</th>\n",
              "      <td>9be82340a8b5ef32357fe5af957ccd54736ece95</td>\n",
              "    </tr>\n",
              "    <tr>\n",
              "      <th>4</th>\n",
              "      <td>841b2394ae3a9febbd6b06497b4a8ee8eb24b7f8</td>\n",
              "    </tr>\n",
              "  </tbody>\n",
              "</table>\n",
              "</div>"
            ],
            "text/plain": [
              "                                    user_id\n",
              "0  fd50c4007b68a3737fe052d5a4f78ce8aa117f3d\n",
              "1  d7083f5e1d50c264277d624340edaaf3dc16095b\n",
              "2  d68dc6fc25248234590d7668a11e3335534ae4b4\n",
              "3  9be82340a8b5ef32357fe5af957ccd54736ece95\n",
              "4  841b2394ae3a9febbd6b06497b4a8ee8eb24b7f8"
            ]
          },
          "metadata": {
            "tags": []
          },
          "execution_count": 6
        }
      ]
    },
    {
      "cell_type": "code",
      "metadata": {
        "id": "099DrzSIkWHY",
        "colab": {
          "base_uri": "https://localhost:8080/",
          "height": 0
        },
        "outputId": "6b162972-5abb-4846-a9d7-15f12aa51950"
      },
      "source": [
        "taste_track.columns = ['song_id', 'track_id']\n",
        "taste_track.head()"
      ],
      "execution_count": 7,
      "outputs": [
        {
          "output_type": "execute_result",
          "data": {
            "text/html": [
              "<div>\n",
              "<style scoped>\n",
              "    .dataframe tbody tr th:only-of-type {\n",
              "        vertical-align: middle;\n",
              "    }\n",
              "\n",
              "    .dataframe tbody tr th {\n",
              "        vertical-align: top;\n",
              "    }\n",
              "\n",
              "    .dataframe thead th {\n",
              "        text-align: right;\n",
              "    }\n",
              "</style>\n",
              "<table border=\"1\" class=\"dataframe\">\n",
              "  <thead>\n",
              "    <tr style=\"text-align: right;\">\n",
              "      <th></th>\n",
              "      <th>song_id</th>\n",
              "      <th>track_id</th>\n",
              "    </tr>\n",
              "  </thead>\n",
              "  <tbody>\n",
              "    <tr>\n",
              "      <th>0</th>\n",
              "      <td>SOAAADD12AB018A9DD</td>\n",
              "      <td>TRNCENP12903C9EF3A</td>\n",
              "    </tr>\n",
              "    <tr>\n",
              "      <th>1</th>\n",
              "      <td>SOAAADE12A6D4F80CC</td>\n",
              "      <td>TRSKKFK128F148B615</td>\n",
              "    </tr>\n",
              "    <tr>\n",
              "      <th>2</th>\n",
              "      <td>SOAAADF12A8C13DF62</td>\n",
              "      <td>TRCQMSP128F428A6F7</td>\n",
              "    </tr>\n",
              "    <tr>\n",
              "      <th>3</th>\n",
              "      <td>SOAAADZ12A8C1334FB</td>\n",
              "      <td>TRMDNZY128F425A532</td>\n",
              "    </tr>\n",
              "    <tr>\n",
              "      <th>4</th>\n",
              "      <td>SOAAAFI12A6D4F9C66</td>\n",
              "      <td>TRZEXLQ128F1491D17</td>\n",
              "    </tr>\n",
              "  </tbody>\n",
              "</table>\n",
              "</div>"
            ],
            "text/plain": [
              "              song_id            track_id\n",
              "0  SOAAADD12AB018A9DD  TRNCENP12903C9EF3A\n",
              "1  SOAAADE12A6D4F80CC  TRSKKFK128F148B615\n",
              "2  SOAAADF12A8C13DF62  TRCQMSP128F428A6F7\n",
              "3  SOAAADZ12A8C1334FB  TRMDNZY128F425A532\n",
              "4  SOAAAFI12A6D4F9C66  TRZEXLQ128F1491D17"
            ]
          },
          "metadata": {
            "tags": []
          },
          "execution_count": 7
        }
      ]
    },
    {
      "cell_type": "code",
      "metadata": {
        "id": "4AHKlGe6nox-",
        "colab": {
          "base_uri": "https://localhost:8080/",
          "height": 0
        },
        "outputId": "e490a7fa-954a-461a-c6b1-ca976eb6a7ee"
      },
      "source": [
        "triplet.columns = ['user_id', 'song_id', 'play_count']\n",
        "triplet.head()"
      ],
      "execution_count": 8,
      "outputs": [
        {
          "output_type": "execute_result",
          "data": {
            "text/html": [
              "<div>\n",
              "<style scoped>\n",
              "    .dataframe tbody tr th:only-of-type {\n",
              "        vertical-align: middle;\n",
              "    }\n",
              "\n",
              "    .dataframe tbody tr th {\n",
              "        vertical-align: top;\n",
              "    }\n",
              "\n",
              "    .dataframe thead th {\n",
              "        text-align: right;\n",
              "    }\n",
              "</style>\n",
              "<table border=\"1\" class=\"dataframe\">\n",
              "  <thead>\n",
              "    <tr style=\"text-align: right;\">\n",
              "      <th></th>\n",
              "      <th>user_id</th>\n",
              "      <th>song_id</th>\n",
              "      <th>play_count</th>\n",
              "    </tr>\n",
              "  </thead>\n",
              "  <tbody>\n",
              "    <tr>\n",
              "      <th>0</th>\n",
              "      <td>fd50c4007b68a3737fe052d5a4f78ce8aa117f3d</td>\n",
              "      <td>SOBONKR12A58A7A7E0</td>\n",
              "      <td>1</td>\n",
              "    </tr>\n",
              "    <tr>\n",
              "      <th>1</th>\n",
              "      <td>fd50c4007b68a3737fe052d5a4f78ce8aa117f3d</td>\n",
              "      <td>SOEGIYH12A6D4FC0E3</td>\n",
              "      <td>1</td>\n",
              "    </tr>\n",
              "    <tr>\n",
              "      <th>2</th>\n",
              "      <td>fd50c4007b68a3737fe052d5a4f78ce8aa117f3d</td>\n",
              "      <td>SOFLJQZ12A6D4FADA6</td>\n",
              "      <td>1</td>\n",
              "    </tr>\n",
              "    <tr>\n",
              "      <th>3</th>\n",
              "      <td>fd50c4007b68a3737fe052d5a4f78ce8aa117f3d</td>\n",
              "      <td>SOHTKMO12AB01843B0</td>\n",
              "      <td>1</td>\n",
              "    </tr>\n",
              "    <tr>\n",
              "      <th>4</th>\n",
              "      <td>fd50c4007b68a3737fe052d5a4f78ce8aa117f3d</td>\n",
              "      <td>SODQZCY12A6D4F9D11</td>\n",
              "      <td>1</td>\n",
              "    </tr>\n",
              "  </tbody>\n",
              "</table>\n",
              "</div>"
            ],
            "text/plain": [
              "                                    user_id             song_id  play_count\n",
              "0  fd50c4007b68a3737fe052d5a4f78ce8aa117f3d  SOBONKR12A58A7A7E0           1\n",
              "1  fd50c4007b68a3737fe052d5a4f78ce8aa117f3d  SOEGIYH12A6D4FC0E3           1\n",
              "2  fd50c4007b68a3737fe052d5a4f78ce8aa117f3d  SOFLJQZ12A6D4FADA6           1\n",
              "3  fd50c4007b68a3737fe052d5a4f78ce8aa117f3d  SOHTKMO12AB01843B0           1\n",
              "4  fd50c4007b68a3737fe052d5a4f78ce8aa117f3d  SODQZCY12A6D4F9D11           1"
            ]
          },
          "metadata": {
            "tags": []
          },
          "execution_count": 8
        }
      ]
    },
    {
      "cell_type": "code",
      "metadata": {
        "id": "c8nIILtmnqDx"
      },
      "source": [
        "unique_tracks.columns = ['track_id', 'song_id', 'singer', 'song']"
      ],
      "execution_count": 9,
      "outputs": []
    },
    {
      "cell_type": "code",
      "metadata": {
        "id": "QVGD_VEq7v2j",
        "colab": {
          "base_uri": "https://localhost:8080/",
          "height": 0
        },
        "outputId": "1b6e9707-aa7b-4931-d56a-dc10141dabec"
      },
      "source": [
        "unique_tracks.head()"
      ],
      "execution_count": 10,
      "outputs": [
        {
          "output_type": "execute_result",
          "data": {
            "text/html": [
              "<div>\n",
              "<style scoped>\n",
              "    .dataframe tbody tr th:only-of-type {\n",
              "        vertical-align: middle;\n",
              "    }\n",
              "\n",
              "    .dataframe tbody tr th {\n",
              "        vertical-align: top;\n",
              "    }\n",
              "\n",
              "    .dataframe thead th {\n",
              "        text-align: right;\n",
              "    }\n",
              "</style>\n",
              "<table border=\"1\" class=\"dataframe\">\n",
              "  <thead>\n",
              "    <tr style=\"text-align: right;\">\n",
              "      <th></th>\n",
              "      <th>track_id</th>\n",
              "      <th>song_id</th>\n",
              "      <th>singer</th>\n",
              "      <th>song</th>\n",
              "    </tr>\n",
              "  </thead>\n",
              "  <tbody>\n",
              "    <tr>\n",
              "      <th>0</th>\n",
              "      <td>TRMMMYQ128F932D901</td>\n",
              "      <td>SOQMMHC12AB0180CB8</td>\n",
              "      <td>Faster Pussy cat</td>\n",
              "      <td>Silent Night</td>\n",
              "    </tr>\n",
              "    <tr>\n",
              "      <th>1</th>\n",
              "      <td>TRMMMKD128F425225D</td>\n",
              "      <td>SOVFVAK12A8C1350D9</td>\n",
              "      <td>Karkkiautomaatti</td>\n",
              "      <td>Tanssi vaan</td>\n",
              "    </tr>\n",
              "    <tr>\n",
              "      <th>2</th>\n",
              "      <td>TRMMMRX128F93187D9</td>\n",
              "      <td>SOGTUKN12AB017F4F1</td>\n",
              "      <td>Hudson Mohawke</td>\n",
              "      <td>No One Could Ever</td>\n",
              "    </tr>\n",
              "    <tr>\n",
              "      <th>3</th>\n",
              "      <td>TRMMMCH128F425532C</td>\n",
              "      <td>SOBNYVR12A8C13558C</td>\n",
              "      <td>Yerba Brava</td>\n",
              "      <td>Si Vos Querés</td>\n",
              "    </tr>\n",
              "    <tr>\n",
              "      <th>4</th>\n",
              "      <td>TRMMMWA128F426B589</td>\n",
              "      <td>SOHSBXH12A8C13B0DF</td>\n",
              "      <td>Der Mystic</td>\n",
              "      <td>Tangle Of Aspens</td>\n",
              "    </tr>\n",
              "  </tbody>\n",
              "</table>\n",
              "</div>"
            ],
            "text/plain": [
              "             track_id             song_id            singer               song\n",
              "0  TRMMMYQ128F932D901  SOQMMHC12AB0180CB8  Faster Pussy cat       Silent Night\n",
              "1  TRMMMKD128F425225D  SOVFVAK12A8C1350D9  Karkkiautomaatti        Tanssi vaan\n",
              "2  TRMMMRX128F93187D9  SOGTUKN12AB017F4F1    Hudson Mohawke  No One Could Ever\n",
              "3  TRMMMCH128F425532C  SOBNYVR12A8C13558C       Yerba Brava      Si Vos Querés\n",
              "4  TRMMMWA128F426B589  SOHSBXH12A8C13B0DF        Der Mystic   Tangle Of Aspens"
            ]
          },
          "metadata": {
            "tags": []
          },
          "execution_count": 10
        }
      ]
    },
    {
      "cell_type": "markdown",
      "metadata": {
        "id": "FMGi5Fr-2qJk"
      },
      "source": [
        "**After looking at all the datasets, it is better to go with collaborative filtering approach as we are not provided with the features of the music like whether it is a bhakti song or Rock song**"
      ]
    },
    {
      "cell_type": "markdown",
      "metadata": {
        "id": "QZEb7JR-nfLy"
      },
      "source": [
        "**Checking the number of relevant records**"
      ]
    },
    {
      "cell_type": "code",
      "metadata": {
        "id": "Dwb3bwprMYQG",
        "colab": {
          "base_uri": "https://localhost:8080/"
        },
        "outputId": "8a9188f4-3476-47ec-ee49-966ab82db2b8"
      },
      "source": [
        "print('Total number of songs we have in record', songs['song_id'].unique().shape[0])\n",
        "print('Total number of users we need to focus on', users['user_id'].unique().shape[0])"
      ],
      "execution_count": 11,
      "outputs": [
        {
          "output_type": "stream",
          "text": [
            "Total number of songs we have in record 386213\n",
            "Total number of users we need to focus on 110000\n"
          ],
          "name": "stdout"
        }
      ]
    },
    {
      "cell_type": "markdown",
      "metadata": {
        "id": "mf5c6nPQnmLC"
      },
      "source": [
        "**Checking number of missing values in each column**"
      ]
    },
    {
      "cell_type": "code",
      "metadata": {
        "id": "dC27JnXgnd1M",
        "colab": {
          "base_uri": "https://localhost:8080/"
        },
        "outputId": "c8a879cc-82f8-4ca8-ff8d-5a5d93cd20b8"
      },
      "source": [
        "print('Number of missing values in triplet dataframe',triplet.isna().sum().sum())\n",
        "print('Number of missing values in unique_tracks dataframe',unique_tracks.isna().sum().sum())\n",
        "print('Number of missing values in songs dataframe',songs.isna().sum().sum())\n",
        "print('Number of missing values in songs dataframe',users.isna().sum().sum())"
      ],
      "execution_count": 12,
      "outputs": [
        {
          "output_type": "stream",
          "text": [
            "Number of missing values in triplet dataframe 0\n",
            "Number of missing values in unique_tracks dataframe 15\n",
            "Number of missing values in songs dataframe 0\n",
            "Number of missing values in songs dataframe 0\n"
          ],
          "name": "stdout"
        }
      ]
    },
    {
      "cell_type": "code",
      "metadata": {
        "id": "XMCwEU4npBtw",
        "colab": {
          "base_uri": "https://localhost:8080/"
        },
        "outputId": "62505c37-1a1d-41b6-a3eb-8b0eec8dba89"
      },
      "source": [
        "unique_tracks.isna().sum()"
      ],
      "execution_count": 13,
      "outputs": [
        {
          "output_type": "execute_result",
          "data": {
            "text/plain": [
              "track_id     0\n",
              "song_id      0\n",
              "singer       0\n",
              "song        15\n",
              "dtype: int64"
            ]
          },
          "metadata": {
            "tags": []
          },
          "execution_count": 13
        }
      ]
    },
    {
      "cell_type": "code",
      "metadata": {
        "id": "HKaPYIhEG4Mz"
      },
      "source": [
        "unique_tracks.dropna(inplace = True) # Removing missing values"
      ],
      "execution_count": 14,
      "outputs": []
    },
    {
      "cell_type": "code",
      "metadata": {
        "id": "luAGn-2JspZ8"
      },
      "source": [
        "df=pd.merge(triplet,unique_tracks,on='song_id')"
      ],
      "execution_count": 15,
      "outputs": []
    },
    {
      "cell_type": "code",
      "metadata": {
        "id": "zFHQgvGWspgE",
        "colab": {
          "base_uri": "https://localhost:8080/"
        },
        "outputId": "4361ddd9-1f8c-47f3-bf9e-a205a3628701"
      },
      "source": [
        "df.shape"
      ],
      "execution_count": 16,
      "outputs": [
        {
          "output_type": "execute_result",
          "data": {
            "text/plain": [
              "(1491951, 6)"
            ]
          },
          "metadata": {
            "tags": []
          },
          "execution_count": 16
        }
      ]
    },
    {
      "cell_type": "code",
      "metadata": {
        "id": "-X0AlH4SWBbb"
      },
      "source": [
        "df.to_csv(\"data_final.csv\")"
      ],
      "execution_count": 17,
      "outputs": []
    },
    {
      "cell_type": "code",
      "metadata": {
        "id": "PnDhNR96F3Wd",
        "colab": {
          "base_uri": "https://localhost:8080/",
          "height": 0
        },
        "outputId": "4d82ae0f-b502-4090-87a2-9d4ffcbb9db7"
      },
      "source": [
        "df.head()"
      ],
      "execution_count": 18,
      "outputs": [
        {
          "output_type": "execute_result",
          "data": {
            "text/html": [
              "<div>\n",
              "<style scoped>\n",
              "    .dataframe tbody tr th:only-of-type {\n",
              "        vertical-align: middle;\n",
              "    }\n",
              "\n",
              "    .dataframe tbody tr th {\n",
              "        vertical-align: top;\n",
              "    }\n",
              "\n",
              "    .dataframe thead th {\n",
              "        text-align: right;\n",
              "    }\n",
              "</style>\n",
              "<table border=\"1\" class=\"dataframe\">\n",
              "  <thead>\n",
              "    <tr style=\"text-align: right;\">\n",
              "      <th></th>\n",
              "      <th>user_id</th>\n",
              "      <th>song_id</th>\n",
              "      <th>play_count</th>\n",
              "      <th>track_id</th>\n",
              "      <th>singer</th>\n",
              "      <th>song</th>\n",
              "    </tr>\n",
              "  </thead>\n",
              "  <tbody>\n",
              "    <tr>\n",
              "      <th>0</th>\n",
              "      <td>fd50c4007b68a3737fe052d5a4f78ce8aa117f3d</td>\n",
              "      <td>SOBONKR12A58A7A7E0</td>\n",
              "      <td>1</td>\n",
              "      <td>TRAEHHJ12903CF492F</td>\n",
              "      <td>Dwight Yoakam</td>\n",
              "      <td>You're The One</td>\n",
              "    </tr>\n",
              "    <tr>\n",
              "      <th>1</th>\n",
              "      <td>c34670d9c1718361feb93068a853cead3c95b76a</td>\n",
              "      <td>SOBONKR12A58A7A7E0</td>\n",
              "      <td>1</td>\n",
              "      <td>TRAEHHJ12903CF492F</td>\n",
              "      <td>Dwight Yoakam</td>\n",
              "      <td>You're The One</td>\n",
              "    </tr>\n",
              "    <tr>\n",
              "      <th>2</th>\n",
              "      <td>c5006d9f41f68ccccbf5ee29212b6af494110c5e</td>\n",
              "      <td>SOBONKR12A58A7A7E0</td>\n",
              "      <td>1</td>\n",
              "      <td>TRAEHHJ12903CF492F</td>\n",
              "      <td>Dwight Yoakam</td>\n",
              "      <td>You're The One</td>\n",
              "    </tr>\n",
              "    <tr>\n",
              "      <th>3</th>\n",
              "      <td>e4332e11f4df6dd26673bb6b085e9a2bbdc9b8a5</td>\n",
              "      <td>SOBONKR12A58A7A7E0</td>\n",
              "      <td>2</td>\n",
              "      <td>TRAEHHJ12903CF492F</td>\n",
              "      <td>Dwight Yoakam</td>\n",
              "      <td>You're The One</td>\n",
              "    </tr>\n",
              "    <tr>\n",
              "      <th>4</th>\n",
              "      <td>baf2fe5885ab93fbbdb7fecc6691788e70afb6c8</td>\n",
              "      <td>SOBONKR12A58A7A7E0</td>\n",
              "      <td>4</td>\n",
              "      <td>TRAEHHJ12903CF492F</td>\n",
              "      <td>Dwight Yoakam</td>\n",
              "      <td>You're The One</td>\n",
              "    </tr>\n",
              "  </tbody>\n",
              "</table>\n",
              "</div>"
            ],
            "text/plain": [
              "                                    user_id  ...            song\n",
              "0  fd50c4007b68a3737fe052d5a4f78ce8aa117f3d  ...  You're The One\n",
              "1  c34670d9c1718361feb93068a853cead3c95b76a  ...  You're The One\n",
              "2  c5006d9f41f68ccccbf5ee29212b6af494110c5e  ...  You're The One\n",
              "3  e4332e11f4df6dd26673bb6b085e9a2bbdc9b8a5  ...  You're The One\n",
              "4  baf2fe5885ab93fbbdb7fecc6691788e70afb6c8  ...  You're The One\n",
              "\n",
              "[5 rows x 6 columns]"
            ]
          },
          "metadata": {
            "tags": []
          },
          "execution_count": 18
        }
      ]
    },
    {
      "cell_type": "code",
      "metadata": {
        "id": "9oU2A1EeF47c"
      },
      "source": [
        "df.drop('track_id', axis = 'columns', inplace = True)"
      ],
      "execution_count": 19,
      "outputs": []
    },
    {
      "cell_type": "code",
      "metadata": {
        "id": "AQE8faGpF7lN",
        "colab": {
          "base_uri": "https://localhost:8080/"
        },
        "outputId": "01572fc5-3815-43c8-dec7-d87510deff6e"
      },
      "source": [
        "sum(df.duplicated()) # Checking total number of duplicate rows in the dataframe"
      ],
      "execution_count": 20,
      "outputs": [
        {
          "output_type": "execute_result",
          "data": {
            "text/plain": [
              "35387"
            ]
          },
          "metadata": {
            "tags": []
          },
          "execution_count": 20
        }
      ]
    },
    {
      "cell_type": "code",
      "metadata": {
        "id": "kv5ecosnF_6o"
      },
      "source": [
        "df.drop_duplicates(inplace = True)"
      ],
      "execution_count": 21,
      "outputs": []
    },
    {
      "cell_type": "code",
      "metadata": {
        "id": "FPzrEljXGiTq",
        "colab": {
          "base_uri": "https://localhost:8080/"
        },
        "outputId": "d75d09f0-1185-4c1c-f231-ada15d0bb146"
      },
      "source": [
        "df.isna().sum()"
      ],
      "execution_count": 22,
      "outputs": [
        {
          "output_type": "execute_result",
          "data": {
            "text/plain": [
              "user_id       0\n",
              "song_id       0\n",
              "play_count    0\n",
              "singer        0\n",
              "song          0\n",
              "dtype: int64"
            ]
          },
          "metadata": {
            "tags": []
          },
          "execution_count": 22
        }
      ]
    },
    {
      "cell_type": "markdown",
      "metadata": {
        "id": "HTcIldYyHVqO"
      },
      "source": [
        "**Checking unique values in each column**"
      ]
    },
    {
      "cell_type": "code",
      "metadata": {
        "id": "nFzLoGPeG14J",
        "colab": {
          "base_uri": "https://localhost:8080/"
        },
        "outputId": "1b1a0e10-6fa2-4fba-ee26-87970e70d163"
      },
      "source": [
        "print('Total number of unique user_id', len(df['user_id'].unique()))\n",
        "print('Total number of unique song_id', len(df['song_id'].unique()))\n",
        "print('Total number of unique singers', len(df['singer'].unique()))\n",
        "print('Total number of unique song', len(df['song'].unique()))"
      ],
      "execution_count": 23,
      "outputs": [
        {
          "output_type": "stream",
          "text": [
            "Total number of unique user_id 110000\n",
            "Total number of unique song_id 163205\n",
            "Total number of unique singers 28366\n",
            "Total number of unique song 137670\n"
          ],
          "name": "stdout"
        }
      ]
    },
    {
      "cell_type": "markdown",
      "metadata": {
        "id": "mZV_rkSy5yyd"
      },
      "source": [
        "#**Songs Per User Trend**\n",
        "**Most number of users are listening to around 10 songs only**"
      ]
    },
    {
      "cell_type": "code",
      "metadata": {
        "colab": {
          "base_uri": "https://localhost:8080/"
        },
        "id": "HuOp0g5L6F9Q",
        "outputId": "77e98832-e74c-41e8-bd2a-e0a1ff853d8b"
      },
      "source": [
        "songs_per_user=df.groupby('user_id')['song'].count().sort_values()\n",
        "songs_per_user.head()"
      ],
      "execution_count": null,
      "outputs": [
        {
          "output_type": "execute_result",
          "data": {
            "text/plain": [
              "user_id\n",
              "77282c5601ac2af386c410add50d54c15052c2e8    5\n",
              "1fd647885923823100cbd298993ce43d181f00c3    5\n",
              "95eb4da8bfe8cf9c757a2d0e56cef5575302ee16    5\n",
              "95eed04aa83d06333392308a054ee1a4851d3b3b    5\n",
              "95f00235219b75e73ec8d9bb06d5f323574faec1    5\n",
              "Name: song, dtype: int64"
            ]
          },
          "metadata": {
            "tags": []
          },
          "execution_count": 24
        }
      ]
    },
    {
      "cell_type": "markdown",
      "metadata": {
        "id": "31LcBgzf6cJV"
      },
      "source": [
        "**Checking how many songs each user is listening**"
      ]
    },
    {
      "cell_type": "code",
      "metadata": {
        "colab": {
          "base_uri": "https://localhost:8080/"
        },
        "id": "KjfCSm0W67nu",
        "outputId": "3c012f33-eff1-4232-fd55-9f4228a6b5d9"
      },
      "source": [
        "songs_per_user.describe()"
      ],
      "execution_count": null,
      "outputs": [
        {
          "output_type": "execute_result",
          "data": {
            "text/plain": [
              "count    110000.000000\n",
              "mean         13.241491\n",
              "std           8.105048\n",
              "min           5.000000\n",
              "25%           7.000000\n",
              "50%          11.000000\n",
              "75%          17.000000\n",
              "max          53.000000\n",
              "Name: song, dtype: float64"
            ]
          },
          "metadata": {
            "tags": []
          },
          "execution_count": 25
        }
      ]
    },
    {
      "cell_type": "code",
      "metadata": {
        "colab": {
          "base_uri": "https://localhost:8080/"
        },
        "id": "tWEDS9ww7CNp",
        "outputId": "2a33c1af-f5ef-4e65-f27a-de892a9038a8"
      },
      "source": [
        "sns.kdeplot(songs_per_user)\n",
        "plt.show()"
      ],
      "execution_count": null,
      "outputs": [
        {
          "output_type": "display_data",
          "data": {
            "image/png": "[encoded data removed]",
            "text/plain": [
              "<Figure size 432x288 with 1 Axes>"
            ]
          },
          "metadata": {
            "tags": [],
            "needs_background": "light"
          }
        }
      ]
    },
    {
      "cell_type": "markdown",
      "metadata": {
        "id": "5HtWI9cN7a5a"
      },
      "source": [
        "# **Popular singer**\n",
        "\n",
        "**Most of the songs have a play_count of around 1 only and there are very less songs having larger play_count hence we can conclude that very few singers are actually popular**"
      ]
    },
    {
      "cell_type": "code",
      "metadata": {
        "colab": {
          "base_uri": "https://localhost:8080/"
        },
        "id": "zxvxJqpI7jy_",
        "outputId": "82e88d63-8024-4936-9061-a9537ec9e18b"
      },
      "source": [
        "artist_popularity=df.groupby('singer')['play_count'].sum().sort_values()\n",
        "artist_popularity.head()"
      ],
      "execution_count": null,
      "outputs": [
        {
          "output_type": "execute_result",
          "data": {
            "text/plain": [
              "singer\n",
              "Özlem Tekin                1\n",
              "Open Season                1\n",
              "Open Your Eyes             1\n",
              "Opgeduveld                 1\n",
              "Orange Tulip Conspiracy    1\n",
              "Name: play_count, dtype: int64"
            ]
          },
          "metadata": {
            "tags": []
          },
          "execution_count": 27
        }
      ]
    },
    {
      "cell_type": "code",
      "metadata": {
        "colab": {
          "base_uri": "https://localhost:8080/"
        },
        "id": "PuPG6Il97y5Z",
        "outputId": "bc7f5b63-c8ec-4376-a547-4734a1a240e4"
      },
      "source": [
        "artist_popularity.tail()"
      ],
      "execution_count": null,
      "outputs": [
        {
          "output_type": "execute_result",
          "data": {
            "text/plain": [
              "singer\n",
              "Florence + The Machine    28224\n",
              "Coldplay                  32135\n",
              "Björk                     35210\n",
              "Dwight Yoakam             35688\n",
              "Kings Of Leon             35857\n",
              "Name: play_count, dtype: int64"
            ]
          },
          "metadata": {
            "tags": []
          },
          "execution_count": 28
        }
      ]
    },
    {
      "cell_type": "markdown",
      "metadata": {
        "id": "Bjnbd7DI7_Rg"
      },
      "source": [
        "**We can see that 'Kings Of Leon' is the most famous singer**"
      ]
    },
    {
      "cell_type": "code",
      "metadata": {
        "colab": {
          "base_uri": "https://localhost:8080/"
        },
        "id": "rcOvDYIr8PhE",
        "outputId": "564bda06-bca4-4045-eb1f-745a2020f210"
      },
      "source": [
        "sns.kdeplot(artist_popularity)"
      ],
      "execution_count": null,
      "outputs": [
        {
          "output_type": "execute_result",
          "data": {
            "text/plain": [
              "<matplotlib.axes._subplots.AxesSubplot at 0x7f15203c59d0>"
            ]
          },
          "metadata": {
            "tags": []
          },
          "execution_count": 29
        },
        {
          "output_type": "display_data",
          "data": {
            "image/png": "[encoded data removed]",
            "text/plain": [
              "<Figure size 432x288 with 1 Axes>"
            ]
          },
          "metadata": {
            "tags": [],
            "needs_background": "light"
          }
        }
      ]
    },
    {
      "cell_type": "markdown",
      "metadata": {
        "id": "6avkJqTg82DY"
      },
      "source": [
        "# **Top 10 Singers with most played Songs**\n",
        "**Kings Of Leon and Dwight Yoakam are actually the most loved singers accoridng to the data**"
      ]
    },
    {
      "cell_type": "code",
      "metadata": {
        "id": "WwE9EpL3HSTJ"
      },
      "source": [
        "singers_10 = pd.DataFrame(df.groupby('singer')['play_count'].sum().sort_values(ascending = False)[:10]).reset_index()"
      ],
      "execution_count": null,
      "outputs": []
    },
    {
      "cell_type": "code",
      "metadata": {
        "id": "WZQxLvWKHxKf"
      },
      "source": [
        "singers_10['Number of Songs'] = singers_10['singer']"
      ],
      "execution_count": null,
      "outputs": []
    },
    {
      "cell_type": "code",
      "metadata": {
        "colab": {
          "base_uri": "https://localhost:8080/"
        },
        "id": "bBinag8AHy2Q",
        "outputId": "3429d279-04a2-402e-f6e3-85dd52706533"
      },
      "source": [
        "plt.figure(figsize = (15, 5))\n",
        "ax = sns.barplot(x = 'play_count', y = 'singer', data = singers_10)"
      ],
      "execution_count": null,
      "outputs": [
        {
          "output_type": "display_data",
          "data": {
            "image/png": "[encoded data removed]",
            "text/plain": [
              "<Figure size 1080x360 with 1 Axes>"
            ]
          },
          "metadata": {
            "tags": [],
            "needs_background": "light"
          }
        }
      ]
    },
    {
      "cell_type": "markdown",
      "metadata": {
        "id": "wOyKBmG63lyj"
      },
      "source": [
        "# **Top 10 most played songs**\n",
        "**You'r the one and Undo are the most listened songs according to the trend shown below**"
      ]
    },
    {
      "cell_type": "code",
      "metadata": {
        "id": "B5UjrqnQz6a0"
      },
      "source": [
        "songs_10 = pd.DataFrame(df.groupby('song')['play_count'].sum().sort_values(ascending = False)[:10]).reset_index()"
      ],
      "execution_count": null,
      "outputs": []
    },
    {
      "cell_type": "code",
      "metadata": {
        "colab": {
          "base_uri": "https://localhost:8080/"
        },
        "id": "bRGdX-1Oz6V-",
        "outputId": "a45afd61-ec52-4042-9ad9-9642fdc40c2f"
      },
      "source": [
        "plt.figure(figsize = (15, 5))\n",
        "sns.barplot(x = 'play_count', y = 'song', data = songs_10)"
      ],
      "execution_count": null,
      "outputs": [
        {
          "output_type": "execute_result",
          "data": {
            "text/plain": [
              "<matplotlib.axes._subplots.AxesSubplot at 0x7f152019f6d0>"
            ]
          },
          "metadata": {
            "tags": []
          },
          "execution_count": 34
        },
        {
          "output_type": "display_data",
          "data": {
            "image/png": "[encoded data removed]",
            "text/plain": [
              "<Figure size 1080x360 with 1 Axes>"
            ]
          },
          "metadata": {
            "tags": [],
            "needs_background": "light"
          }
        }
      ]
    },
    {
      "cell_type": "markdown",
      "metadata": {
        "id": "Q34Ckm593z1d"
      },
      "source": [
        "#**What made Kings of Leon Famous**\n",
        "\n",
        "**It looks like Revelry song is the reason why Kings of Leon is so famous**"
      ]
    },
    {
      "cell_type": "code",
      "metadata": {
        "id": "qzx-q1uc10Jv"
      },
      "source": [
        "kol_songs = df[df['singer'] == 'Kings Of Leon'].groupby('song')['play_count'].sum().sort_values(ascending = False)[:10]"
      ],
      "execution_count": null,
      "outputs": []
    },
    {
      "cell_type": "code",
      "metadata": {
        "id": "F1e1goMiz6S9"
      },
      "source": [
        "kol_songs = pd.DataFrame(kol_songs).reset_index()"
      ],
      "execution_count": null,
      "outputs": []
    },
    {
      "cell_type": "code",
      "metadata": {
        "colab": {
          "base_uri": "https://localhost:8080/"
        },
        "id": "uDV6Wx-y7z0k",
        "outputId": "b2496b1e-e0c6-4487-eaa8-a20b890e224d"
      },
      "source": [
        " plt.figure(figsize = (15, 5))\n",
        "sns.barplot(x = 'play_count', y = 'song', data = kol_songs)"
      ],
      "execution_count": null,
      "outputs": [
        {
          "output_type": "execute_result",
          "data": {
            "text/plain": [
              "<matplotlib.axes._subplots.AxesSubplot at 0x7f151ff9b510>"
            ]
          },
          "metadata": {
            "tags": []
          },
          "execution_count": 37
        },
        {
          "output_type": "display_data",
          "data": {
            "image/png": "[encoded data removed]",
            "text/plain": [
              "<Figure size 1080x360 with 1 Axes>"
            ]
          },
          "metadata": {
            "tags": [],
            "needs_background": "light"
          }
        }
      ]
    },
    {
      "cell_type": "markdown",
      "metadata": {
        "id": "l1TVjufN8HRc"
      },
      "source": [
        "# **What made Justin Bieber Famous**\n",
        "\n",
        "**All songs of Justin Bieber have a high play_count and Somebody To Love is his most loved Song**"
      ]
    },
    {
      "cell_type": "code",
      "metadata": {
        "id": "EdozyRzD8GGN"
      },
      "source": [
        " jb_songs = df[df['singer'] == 'Justin Bieber'].groupby('song')['play_count'].sum().sort_values(ascending = False)[:10]"
      ],
      "execution_count": null,
      "outputs": []
    },
    {
      "cell_type": "code",
      "metadata": {
        "id": "wvSNQObx808I"
      },
      "source": [
        "jb_songs = pd.DataFrame(jb_songs).reset_index()"
      ],
      "execution_count": null,
      "outputs": []
    },
    {
      "cell_type": "code",
      "metadata": {
        "colab": {
          "base_uri": "https://localhost:8080/"
        },
        "id": "2JR6HjIz8GJP",
        "outputId": "242fd54c-851f-41e7-815c-b6549d9b9ed0"
      },
      "source": [
        "plt.figure(figsize = (15, 5))\n",
        "sns.barplot(x = 'play_count', y = 'song', data = jb_songs)"
      ],
      "execution_count": null,
      "outputs": [
        {
          "output_type": "execute_result",
          "data": {
            "text/plain": [
              "<matplotlib.axes._subplots.AxesSubplot at 0x7f151ff35150>"
            ]
          },
          "metadata": {
            "tags": []
          },
          "execution_count": 40
        },
        {
          "output_type": "display_data",
          "data": {
            "image/png": "[encoded data removed]",
            "text/plain": [
              "<Figure size 1080x360 with 1 Axes>"
            ]
          },
          "metadata": {
            "tags": [],
            "needs_background": "light"
          }
        }
      ]
    },
    {
      "cell_type": "markdown",
      "metadata": {
        "id": "lu04mPKeDCxw"
      },
      "source": [
        " # **Top 10 Singers by number of Songs**\n",
        "\n",
        " **From the given trend it looks like Coldplay has sung most number of Songs according to the data**"
      ]
    },
    {
      "cell_type": "code",
      "metadata": {
        "id": "qr5yU3Zj8GMe"
      },
      "source": [
        "singer_num_songs = df.groupby('singer')['song'].count().sort_values(ascending = False)[:10]"
      ],
      "execution_count": null,
      "outputs": []
    },
    {
      "cell_type": "code",
      "metadata": {
        "id": "0qYTrAK-8GPW"
      },
      "source": [
        "singer_num_songs = pd.DataFrame(singer_num_songs).reset_index()\n",
        "singer_num_songs.columns = ['singer', 'No. of Songs']"
      ],
      "execution_count": null,
      "outputs": []
    },
    {
      "cell_type": "code",
      "metadata": {
        "colab": {
          "base_uri": "https://localhost:8080/"
        },
        "id": "YQWUsB5jCLRz",
        "outputId": "c9e64bbe-44fc-4503-83cd-79e7cc2b4d6b"
      },
      "source": [
        " plt.figure(figsize = (15, 5))\n",
        "sns.barplot(x = 'No. of Songs', y = 'singer', data = singer_num_songs)"
      ],
      "execution_count": null,
      "outputs": [
        {
          "output_type": "execute_result",
          "data": {
            "text/plain": [
              "<matplotlib.axes._subplots.AxesSubplot at 0x7f15203e4550>"
            ]
          },
          "metadata": {
            "tags": []
          },
          "execution_count": 43
        },
        {
          "output_type": "display_data",
          "data": {
            "image/png": "[encoded data removed]",
            "text/plain": [
              "<Figure size 1080x360 with 1 Axes>"
            ]
          },
          "metadata": {
            "tags": [],
            "needs_background": "light"
          }
        }
      ]
    },
    {
      "cell_type": "markdown",
      "metadata": {
        "id": "wptmyKh2El_3"
      },
      "source": [
        " # **Top 10 singers with large Fan base**\n",
        "\n",
        " **Coldplay has the largest Fanbase as their songs are listened by most number of unique users** "
      ]
    },
    {
      "cell_type": "code",
      "metadata": {
        "id": "l64QXLt7ElOK"
      },
      "source": [
        "fan_base = df.groupby('singer')['user_id'].count().sort_values(ascending = False)[:10]"
      ],
      "execution_count": null,
      "outputs": []
    },
    {
      "cell_type": "code",
      "metadata": {
        "id": "InCXe7mnCLzM"
      },
      "source": [
        "fan_base = pd.DataFrame(fan_base).reset_index()\n",
        "fan_base.columns = ['singer', 'No. of unique users']"
      ],
      "execution_count": null,
      "outputs": []
    },
    {
      "cell_type": "code",
      "metadata": {
        "colab": {
          "base_uri": "https://localhost:8080/"
        },
        "id": "vXsCXlc2DjzQ",
        "outputId": "84c656b5-2c24-438b-cf75-8ccbe46b7538"
      },
      "source": [
        "plt.figure(figsize = (15, 5))\n",
        "sns.barplot(x = 'No. of unique users', y = 'singer', data = fan_base)"
      ],
      "execution_count": null,
      "outputs": [
        {
          "output_type": "execute_result",
          "data": {
            "text/plain": [
              "<matplotlib.axes._subplots.AxesSubplot at 0x7f151fd9d610>"
            ]
          },
          "metadata": {
            "tags": []
          },
          "execution_count": 46
        },
        {
          "output_type": "display_data",
          "data": {
            "image/png": "[encoded data removed]",
            "text/plain": [
              "<Figure size 1080x360 with 1 Axes>"
            ]
          },
          "metadata": {
            "tags": [],
            "needs_background": "light"
          }
        }
      ]
    },
    {
      "cell_type": "markdown",
      "metadata": {
        "id": "gz7sxX2NKWqk"
      },
      "source": [
        " # **Top 10 Users who are mad for songs**\n",
        "\n",
        " **There are many users who have listened to the songs 1000s of times**"
      ]
    },
    {
      "cell_type": "code",
      "metadata": {
        "id": "AS_4d9YJJLaW"
      },
      "source": [
        "mad_users = df.groupby('user_id')['play_count'].sum().sort_values(ascending = False)[:10]"
      ],
      "execution_count": null,
      "outputs": []
    },
    {
      "cell_type": "code",
      "metadata": {
        "id": "dUasaSaGOVWQ"
      },
      "source": [
        "mad_users = pd.DataFrame(mad_users).reset_index()\n",
        "fan_base.columns = ['user_id', 'No. of songs listened']"
      ],
      "execution_count": null,
      "outputs": []
    },
    {
      "cell_type": "code",
      "metadata": {
        "colab": {
          "base_uri": "https://localhost:8080/"
        },
        "id": "1RzBlW9mOpZx",
        "outputId": "3d8412f2-4aa7-4333-e747-a992d98738d3"
      },
      "source": [
        "mad_users"
      ],
      "execution_count": null,
      "outputs": [
        {
          "output_type": "execute_result",
          "data": {
            "text/html": [
              "<div>\n",
              "<style scoped>\n",
              "    .dataframe tbody tr th:only-of-type {\n",
              "        vertical-align: middle;\n",
              "    }\n",
              "\n",
              "    .dataframe tbody tr th {\n",
              "        vertical-align: top;\n",
              "    }\n",
              "\n",
              "    .dataframe thead th {\n",
              "        text-align: right;\n",
              "    }\n",
              "</style>\n",
              "<table border=\"1\" class=\"dataframe\">\n",
              "  <thead>\n",
              "    <tr style=\"text-align: right;\">\n",
              "      <th></th>\n",
              "      <th>user_id</th>\n",
              "      <th>play_count</th>\n",
              "    </tr>\n",
              "  </thead>\n",
              "  <tbody>\n",
              "    <tr>\n",
              "      <th>0</th>\n",
              "      <td>090b841eaf56d343a26625c2c6d08b823927bc4f</td>\n",
              "      <td>1305</td>\n",
              "    </tr>\n",
              "    <tr>\n",
              "      <th>1</th>\n",
              "      <td>938c2632d43eeadb8a83a7cc254d014f9cea6afe</td>\n",
              "      <td>1280</td>\n",
              "    </tr>\n",
              "    <tr>\n",
              "      <th>2</th>\n",
              "      <td>1c5aa998482a40abfd020759e7d757eb6c510e72</td>\n",
              "      <td>1200</td>\n",
              "    </tr>\n",
              "    <tr>\n",
              "      <th>3</th>\n",
              "      <td>c6150292374fb1dad89982367b3245dd5004c718</td>\n",
              "      <td>1192</td>\n",
              "    </tr>\n",
              "    <tr>\n",
              "      <th>4</th>\n",
              "      <td>5a9375e46a7e9b869058c7bc0e820e00d77f3e0b</td>\n",
              "      <td>1184</td>\n",
              "    </tr>\n",
              "    <tr>\n",
              "      <th>5</th>\n",
              "      <td>d1d845a92cd34456423e781512bdb502ca385b51</td>\n",
              "      <td>1180</td>\n",
              "    </tr>\n",
              "    <tr>\n",
              "      <th>6</th>\n",
              "      <td>957440a77858369fb7a6bcc6fa408fc187d5bd7b</td>\n",
              "      <td>1150</td>\n",
              "    </tr>\n",
              "    <tr>\n",
              "      <th>7</th>\n",
              "      <td>315103a41c2ced1143de0c2ba20de224800e6d89</td>\n",
              "      <td>1148</td>\n",
              "    </tr>\n",
              "    <tr>\n",
              "      <th>8</th>\n",
              "      <td>22bb29714137fa47083963c30e1a26f1bf517e7d</td>\n",
              "      <td>1141</td>\n",
              "    </tr>\n",
              "    <tr>\n",
              "      <th>9</th>\n",
              "      <td>bda891a59a96252cc0f5b1f63f2630692b490e37</td>\n",
              "      <td>1140</td>\n",
              "    </tr>\n",
              "  </tbody>\n",
              "</table>\n",
              "</div>"
            ],
            "text/plain": [
              "                                    user_id  play_count\n",
              "0  090b841eaf56d343a26625c2c6d08b823927bc4f        1305\n",
              "1  938c2632d43eeadb8a83a7cc254d014f9cea6afe        1280\n",
              "2  1c5aa998482a40abfd020759e7d757eb6c510e72        1200\n",
              "3  c6150292374fb1dad89982367b3245dd5004c718        1192\n",
              "4  5a9375e46a7e9b869058c7bc0e820e00d77f3e0b        1184\n",
              "5  d1d845a92cd34456423e781512bdb502ca385b51        1180\n",
              "6  957440a77858369fb7a6bcc6fa408fc187d5bd7b        1150\n",
              "7  315103a41c2ced1143de0c2ba20de224800e6d89        1148\n",
              "8  22bb29714137fa47083963c30e1a26f1bf517e7d        1141\n",
              "9  bda891a59a96252cc0f5b1f63f2630692b490e37        1140"
            ]
          },
          "metadata": {
            "tags": []
          },
          "execution_count": 49
        }
      ]
    },
    {
      "cell_type": "markdown",
      "metadata": {
        "id": "8ib5ZEYFDYgH"
      },
      "source": [
        "# **Top 10 Users listening to most number of unique songs**\n",
        "\n",
        "**There are many users who love to listen many songs**"
      ]
    },
    {
      "cell_type": "code",
      "metadata": {
        "id": "oKW1uznPP-ql"
      },
      "source": [
        "tasting_users = df.groupby('user_id')['song'].count().sort_values(ascending = False)[:10]"
      ],
      "execution_count": null,
      "outputs": []
    },
    {
      "cell_type": "code",
      "metadata": {
        "id": "Uva5PWRqDvn4"
      },
      "source": [
        "tasting_users = pd.DataFrame(tasting_users).reset_index()\n",
        "tasting_users.columns = ['user_id', 'No. of unique songs listened']"
      ],
      "execution_count": null,
      "outputs": []
    },
    {
      "cell_type": "code",
      "metadata": {
        "colab": {
          "base_uri": "https://localhost:8080/"
        },
        "id": "IAnLXMPzD2QX",
        "outputId": "87e55b53-7a78-422b-90d5-0714f8422469"
      },
      "source": [
        "tasting_users"
      ],
      "execution_count": null,
      "outputs": [
        {
          "output_type": "execute_result",
          "data": {
            "text/html": [
              "<div>\n",
              "<style scoped>\n",
              "    .dataframe tbody tr th:only-of-type {\n",
              "        vertical-align: middle;\n",
              "    }\n",
              "\n",
              "    .dataframe tbody tr th {\n",
              "        vertical-align: top;\n",
              "    }\n",
              "\n",
              "    .dataframe thead th {\n",
              "        text-align: right;\n",
              "    }\n",
              "</style>\n",
              "<table border=\"1\" class=\"dataframe\">\n",
              "  <thead>\n",
              "    <tr style=\"text-align: right;\">\n",
              "      <th></th>\n",
              "      <th>user_id</th>\n",
              "      <th>No. of unique songs listened</th>\n",
              "    </tr>\n",
              "  </thead>\n",
              "  <tbody>\n",
              "    <tr>\n",
              "      <th>0</th>\n",
              "      <td>0f8308935bcbb9a1e04ebb7c4d41c037e5f23b90</td>\n",
              "      <td>53</td>\n",
              "    </tr>\n",
              "    <tr>\n",
              "      <th>1</th>\n",
              "      <td>03ad93fdb01506ce205f4708decf8e4b1ae90fff</td>\n",
              "      <td>53</td>\n",
              "    </tr>\n",
              "    <tr>\n",
              "      <th>2</th>\n",
              "      <td>7d90be8dfdbde170f036ce8a4b915440137cb11c</td>\n",
              "      <td>53</td>\n",
              "    </tr>\n",
              "    <tr>\n",
              "      <th>3</th>\n",
              "      <td>016a24e91a72c159a5048ab1b9b2ba5ce761b526</td>\n",
              "      <td>52</td>\n",
              "    </tr>\n",
              "    <tr>\n",
              "      <th>4</th>\n",
              "      <td>2e424b28bff1f62a2dae22a918f09f9c30c06d1b</td>\n",
              "      <td>52</td>\n",
              "    </tr>\n",
              "    <tr>\n",
              "      <th>5</th>\n",
              "      <td>d30e18323f15426c3cdc8585252ed34459916f51</td>\n",
              "      <td>52</td>\n",
              "    </tr>\n",
              "    <tr>\n",
              "      <th>6</th>\n",
              "      <td>316110734d8da7478cc33237458814f770a9eb7a</td>\n",
              "      <td>52</td>\n",
              "    </tr>\n",
              "    <tr>\n",
              "      <th>7</th>\n",
              "      <td>992fea335363e87217e1b052fd7380b3fd7e35b4</td>\n",
              "      <td>51</td>\n",
              "    </tr>\n",
              "    <tr>\n",
              "      <th>8</th>\n",
              "      <td>7db2077964762a3889dd4d61444a8ba254b6365d</td>\n",
              "      <td>51</td>\n",
              "    </tr>\n",
              "    <tr>\n",
              "      <th>9</th>\n",
              "      <td>9769ebffc543fa42b58daf6f52f8816abf5f408e</td>\n",
              "      <td>51</td>\n",
              "    </tr>\n",
              "  </tbody>\n",
              "</table>\n",
              "</div>"
            ],
            "text/plain": [
              "                                    user_id  No. of unique songs listened\n",
              "0  0f8308935bcbb9a1e04ebb7c4d41c037e5f23b90                            53\n",
              "1  03ad93fdb01506ce205f4708decf8e4b1ae90fff                            53\n",
              "2  7d90be8dfdbde170f036ce8a4b915440137cb11c                            53\n",
              "3  016a24e91a72c159a5048ab1b9b2ba5ce761b526                            52\n",
              "4  2e424b28bff1f62a2dae22a918f09f9c30c06d1b                            52\n",
              "5  d30e18323f15426c3cdc8585252ed34459916f51                            52\n",
              "6  316110734d8da7478cc33237458814f770a9eb7a                            52\n",
              "7  992fea335363e87217e1b052fd7380b3fd7e35b4                            51\n",
              "8  7db2077964762a3889dd4d61444a8ba254b6365d                            51\n",
              "9  9769ebffc543fa42b58daf6f52f8816abf5f408e                            51"
            ]
          },
          "metadata": {
            "tags": []
          },
          "execution_count": 52
        }
      ]
    },
    {
      "cell_type": "markdown",
      "metadata": {
        "id": "4748w0o3O625"
      },
      "source": [
        "# **Popularity based Recommender Systems**\n",
        "\n",
        "**It just work similar to the trending page of You Tube by giving same recommendations to every user based on the popularity of the items.**"
      ]
    },
    {
      "cell_type": "code",
      "metadata": {
        "id": "4muYxLe6Wnyg"
      },
      "source": [
        "#Class for Popularity based Recommender System modelclass \n",
        "\n",
        "class popularity_recommender_py():\n",
        "  def __init__(self):        \n",
        "    self.train_data = None        \n",
        "    self.user_id = None        \n",
        "    self.item_id = None        \n",
        "    self.popularity_recommendations = None            \n",
        "  #Create the popularity based recommender system model    \n",
        "  \n",
        "  def create(self, train_data, user_id, item_id): \n",
        "      self.train_data = train_data\n",
        "      self.user_id = user_id        \n",
        "      self.item_id = item_id         \n",
        "      \n",
        "      #Get a count of user_ids for each unique song as   recommendation score\n",
        "      train_data_grouped = train_data.groupby([self.item_id]).agg({self.user_id: 'count'}).reset_index()        \n",
        "      train_data_grouped.rename(columns = {'user_id': 'score'},inplace=True)            \n",
        "      #Sort the songs based upon recommendation score\n",
        "      train_data_sort = train_data_grouped.sort_values(['score', self.item_id], ascending = [0,1])            \n",
        "      #Generate a recommendation rank based upon score\n",
        "      train_data_sort['Rank'] = train_data_sort['score'].rank(ascending=0, method='first')\n",
        "      #Get the top 10 recommendations\n",
        "      self.popularity_recommendations = train_data_sort.head(10)     \n",
        "      #Use the popularity based recommender system model to    \n",
        "      #make recommendations    \n",
        "\n",
        "  def recommend(self, user_id):            \n",
        "      user_recommendations = self.popularity_recommendations                 \n",
        "      #Add user_id column for which the recommendations are being generated        \n",
        "      user_recommendations['user_id'] = user_id            \n",
        "      #Bring user_id column to the front        \n",
        "      cols = user_recommendations.columns.tolist()        \n",
        "      cols = cols[-1:] + cols[:-1]        \n",
        "      user_recommendations = user_recommendations[cols]\n",
        "      return user_recommendations"
      ],
      "execution_count": null,
      "outputs": []
    },
    {
      "cell_type": "code",
      "metadata": {
        "id": "P388q6eoPB1K"
      },
      "source": [
        "from sklearn.model_selection import train_test_split\n",
        "train_data, test_data = train_test_split(df, test_size = 0.20, random_state=0)"
      ],
      "execution_count": null,
      "outputs": []
    },
    {
      "cell_type": "code",
      "metadata": {
        "id": "JqsdbYk5PE-G"
      },
      "source": [
        "pm = popularity_recommender_py()\n",
        "pm.create(train_data, 'user_id', 'song_id')"
      ],
      "execution_count": null,
      "outputs": []
    },
    {
      "cell_type": "code",
      "metadata": {
        "colab": {
          "base_uri": "https://localhost:8080/",
          "height": 360
        },
        "id": "FPO3ywRNPHUJ",
        "outputId": "3f0c0179-0831-49c9-e56e-9ca52218e909"
      },
      "source": [
        "#user the popularity model to make some prediction\n",
        "user_id = input('Enter the User ID: ')\n",
        "\n",
        "recommend = pm.recommend(user_id)\n",
        "\n",
        "final = pd.merge(recommend, df.drop_duplicates('song_id'), on = 'song_id', how='left')\n",
        "# final\n",
        "# print('Best songs for the given user are: ')\n",
        "# final[['song', 'Rank']]\n",
        "\n",
        "final[['Rank', 'song']]"
      ],
      "execution_count": null,
      "outputs": [
        {
          "output_type": "stream",
          "text": [
            "Enter the User ID: fd50c4007b68a3737fe052d5a4f78ce8aa117f3d\n"
          ],
          "name": "stdout"
        },
        {
          "output_type": "execute_result",
          "data": {
            "text/html": [
              "<div>\n",
              "<style scoped>\n",
              "    .dataframe tbody tr th:only-of-type {\n",
              "        vertical-align: middle;\n",
              "    }\n",
              "\n",
              "    .dataframe tbody tr th {\n",
              "        vertical-align: top;\n",
              "    }\n",
              "\n",
              "    .dataframe thead th {\n",
              "        text-align: right;\n",
              "    }\n",
              "</style>\n",
              "<table border=\"1\" class=\"dataframe\">\n",
              "  <thead>\n",
              "    <tr style=\"text-align: right;\">\n",
              "      <th></th>\n",
              "      <th>Rank</th>\n",
              "      <th>song</th>\n",
              "    </tr>\n",
              "  </thead>\n",
              "  <tbody>\n",
              "    <tr>\n",
              "      <th>0</th>\n",
              "      <td>1.0</td>\n",
              "      <td>Sehr kosmisch</td>\n",
              "    </tr>\n",
              "    <tr>\n",
              "      <th>1</th>\n",
              "      <td>2.0</td>\n",
              "      <td>Undo</td>\n",
              "    </tr>\n",
              "    <tr>\n",
              "      <th>2</th>\n",
              "      <td>3.0</td>\n",
              "      <td>You're The One</td>\n",
              "    </tr>\n",
              "    <tr>\n",
              "      <th>3</th>\n",
              "      <td>4.0</td>\n",
              "      <td>Dog Days Are Over (Radio Edit)</td>\n",
              "    </tr>\n",
              "    <tr>\n",
              "      <th>4</th>\n",
              "      <td>5.0</td>\n",
              "      <td>Revelry</td>\n",
              "    </tr>\n",
              "    <tr>\n",
              "      <th>5</th>\n",
              "      <td>6.0</td>\n",
              "      <td>Secrets</td>\n",
              "    </tr>\n",
              "    <tr>\n",
              "      <th>6</th>\n",
              "      <td>7.0</td>\n",
              "      <td>Horn Concerto No. 4 in E flat K495: II. Romanc...</td>\n",
              "    </tr>\n",
              "    <tr>\n",
              "      <th>7</th>\n",
              "      <td>8.0</td>\n",
              "      <td>Hey_ Soul Sister</td>\n",
              "    </tr>\n",
              "    <tr>\n",
              "      <th>8</th>\n",
              "      <td>9.0</td>\n",
              "      <td>Fireflies</td>\n",
              "    </tr>\n",
              "    <tr>\n",
              "      <th>9</th>\n",
              "      <td>10.0</td>\n",
              "      <td>Tive Sim</td>\n",
              "    </tr>\n",
              "  </tbody>\n",
              "</table>\n",
              "</div>"
            ],
            "text/plain": [
              "   Rank                                               song\n",
              "0   1.0                                      Sehr kosmisch\n",
              "1   2.0                                               Undo\n",
              "2   3.0                                     You're The One\n",
              "3   4.0                     Dog Days Are Over (Radio Edit)\n",
              "4   5.0                                            Revelry\n",
              "5   6.0                                            Secrets\n",
              "6   7.0  Horn Concerto No. 4 in E flat K495: II. Romanc...\n",
              "7   8.0                                   Hey_ Soul Sister\n",
              "8   9.0                                          Fireflies\n",
              "9  10.0                                           Tive Sim"
            ]
          },
          "metadata": {
            "tags": []
          },
          "execution_count": 27
        }
      ]
    },
    {
      "cell_type": "markdown",
      "metadata": {
        "id": "2_teGerpOSJR"
      },
      "source": [
        "# **COLLABORATIVE FILTERING** <br>\n",
        "\n",
        "Collaborative filtering filters information by using the interactions and data collected by the system from other users. It's based on the idea that people who agreed in their evaluation of certain items are likely to agree again in the future.\n",
        "\n",
        "The concept is simple: when we want to find a new movie to watch we'll often ask our friends for recommendations. Naturally, we have greater trust in the recommendations from friends who share tastes similar to our own.\n",
        "\n",
        "# **Types of Collaborative Filtering**\n",
        "\n",
        "\n",
        "1.   **Memory-Based or Nearest Neighborhood Algorithm**\n",
        "\n",
        "This method uses a rating system to predict the preferences of one user by taking into consideration the preferences of a similar user, or the ‘neighbor’. There are two ways to calculate preferences here, \n",
        "\n",
        "  a) User-based Collaborative Filtering \n",
        "\n",
        "  b) Item-based Collaborative Filtering\n",
        "\n",
        "2.   **Model-Based Collaborative Filtering**\n",
        "\n",
        "In this method of collaborative filtering recommender systems, different data mining and machine learning algorithms are used to develop a model to predict a user’s rating of an unrated item.\n",
        "\n",
        "3.   **Hybrid Collaborative Filtering**\n",
        "\n",
        "This method combines the memory-based and model-based Collaborative Filtering systems to eliminate limitations like sparsity and loss of information. This method, however, is more complex to build.\n",
        "\n",
        "\n",
        "\n",
        "\n",
        "\n",
        "\n"
      ]
    },
    {
      "cell_type": "markdown",
      "metadata": {
        "id": "kDzEyW-4_OLl"
      },
      "source": [
        "## **CREATING MODEL USING USER BASED COLLABORATIVE FILTERING**"
      ]
    },
    {
      "cell_type": "markdown",
      "metadata": {
        "id": "T0lvQF4GAJ_g"
      },
      "source": [
        "**Song's name will be provided as input**"
      ]
    },
    {
      "cell_type": "code",
      "metadata": {
        "colab": {
          "base_uri": "https://localhost:8080/",
          "height": 204
        },
        "id": "j1K61LMUPs1C",
        "outputId": "5e7e0997-b0fd-4afc-e1ad-35dd977381d2"
      },
      "source": [
        "df.head()"
      ],
      "execution_count": 24,
      "outputs": [
        {
          "output_type": "execute_result",
          "data": {
            "text/html": [
              "<div>\n",
              "<style scoped>\n",
              "    .dataframe tbody tr th:only-of-type {\n",
              "        vertical-align: middle;\n",
              "    }\n",
              "\n",
              "    .dataframe tbody tr th {\n",
              "        vertical-align: top;\n",
              "    }\n",
              "\n",
              "    .dataframe thead th {\n",
              "        text-align: right;\n",
              "    }\n",
              "</style>\n",
              "<table border=\"1\" class=\"dataframe\">\n",
              "  <thead>\n",
              "    <tr style=\"text-align: right;\">\n",
              "      <th></th>\n",
              "      <th>user_id</th>\n",
              "      <th>song_id</th>\n",
              "      <th>play_count</th>\n",
              "      <th>singer</th>\n",
              "      <th>song</th>\n",
              "    </tr>\n",
              "  </thead>\n",
              "  <tbody>\n",
              "    <tr>\n",
              "      <th>0</th>\n",
              "      <td>fd50c4007b68a3737fe052d5a4f78ce8aa117f3d</td>\n",
              "      <td>SOBONKR12A58A7A7E0</td>\n",
              "      <td>1</td>\n",
              "      <td>Dwight Yoakam</td>\n",
              "      <td>You're The One</td>\n",
              "    </tr>\n",
              "    <tr>\n",
              "      <th>1</th>\n",
              "      <td>c34670d9c1718361feb93068a853cead3c95b76a</td>\n",
              "      <td>SOBONKR12A58A7A7E0</td>\n",
              "      <td>1</td>\n",
              "      <td>Dwight Yoakam</td>\n",
              "      <td>You're The One</td>\n",
              "    </tr>\n",
              "    <tr>\n",
              "      <th>2</th>\n",
              "      <td>c5006d9f41f68ccccbf5ee29212b6af494110c5e</td>\n",
              "      <td>SOBONKR12A58A7A7E0</td>\n",
              "      <td>1</td>\n",
              "      <td>Dwight Yoakam</td>\n",
              "      <td>You're The One</td>\n",
              "    </tr>\n",
              "    <tr>\n",
              "      <th>3</th>\n",
              "      <td>e4332e11f4df6dd26673bb6b085e9a2bbdc9b8a5</td>\n",
              "      <td>SOBONKR12A58A7A7E0</td>\n",
              "      <td>2</td>\n",
              "      <td>Dwight Yoakam</td>\n",
              "      <td>You're The One</td>\n",
              "    </tr>\n",
              "    <tr>\n",
              "      <th>4</th>\n",
              "      <td>baf2fe5885ab93fbbdb7fecc6691788e70afb6c8</td>\n",
              "      <td>SOBONKR12A58A7A7E0</td>\n",
              "      <td>4</td>\n",
              "      <td>Dwight Yoakam</td>\n",
              "      <td>You're The One</td>\n",
              "    </tr>\n",
              "  </tbody>\n",
              "</table>\n",
              "</div>"
            ],
            "text/plain": [
              "                                    user_id  ...            song\n",
              "0  fd50c4007b68a3737fe052d5a4f78ce8aa117f3d  ...  You're The One\n",
              "1  c34670d9c1718361feb93068a853cead3c95b76a  ...  You're The One\n",
              "2  c5006d9f41f68ccccbf5ee29212b6af494110c5e  ...  You're The One\n",
              "3  e4332e11f4df6dd26673bb6b085e9a2bbdc9b8a5  ...  You're The One\n",
              "4  baf2fe5885ab93fbbdb7fecc6691788e70afb6c8  ...  You're The One\n",
              "\n",
              "[5 rows x 5 columns]"
            ]
          },
          "metadata": {
            "tags": []
          },
          "execution_count": 24
        }
      ]
    },
    {
      "cell_type": "markdown",
      "metadata": {
        "id": "9gtOWXyW4Xgp"
      },
      "source": [
        "**To Calculate the total number of unique users listening to a song and how many times the song is being played**"
      ]
    },
    {
      "cell_type": "code",
      "metadata": {
        "id": "idI1V9mxRqWJ"
      },
      "source": [
        "joint = df.groupby('song').agg({'user_id':'count', \n",
        "                              'play_count' : 'sum'})"
      ],
      "execution_count": 25,
      "outputs": []
    },
    {
      "cell_type": "code",
      "metadata": {
        "id": "L31rAyNrSyEz"
      },
      "source": [
        "joint = joint.reset_index()\n",
        "joint.columns = ['song','user_count', 'total_play_count']"
      ],
      "execution_count": 26,
      "outputs": []
    },
    {
      "cell_type": "code",
      "metadata": {
        "colab": {
          "base_uri": "https://localhost:8080/",
          "height": 204
        },
        "id": "uu5JsTAnS3NF",
        "outputId": "6d5c11b2-86ba-4584-cda4-af589baa39e5"
      },
      "source": [
        "joint.head()"
      ],
      "execution_count": 27,
      "outputs": [
        {
          "output_type": "execute_result",
          "data": {
            "text/html": [
              "<div>\n",
              "<style scoped>\n",
              "    .dataframe tbody tr th:only-of-type {\n",
              "        vertical-align: middle;\n",
              "    }\n",
              "\n",
              "    .dataframe tbody tr th {\n",
              "        vertical-align: top;\n",
              "    }\n",
              "\n",
              "    .dataframe thead th {\n",
              "        text-align: right;\n",
              "    }\n",
              "</style>\n",
              "<table border=\"1\" class=\"dataframe\">\n",
              "  <thead>\n",
              "    <tr style=\"text-align: right;\">\n",
              "      <th></th>\n",
              "      <th>song</th>\n",
              "      <th>user_count</th>\n",
              "      <th>total_play_count</th>\n",
              "    </tr>\n",
              "  </thead>\n",
              "  <tbody>\n",
              "    <tr>\n",
              "      <th>0</th>\n",
              "      <td>Ef Ég Hefði Aldrei...</td>\n",
              "      <td>1</td>\n",
              "      <td>2</td>\n",
              "    </tr>\n",
              "    <tr>\n",
              "      <th>1</th>\n",
              "      <td>Light Mass Prayers</td>\n",
              "      <td>4</td>\n",
              "      <td>5</td>\n",
              "    </tr>\n",
              "    <tr>\n",
              "      <th>2</th>\n",
              "      <td>The Arsonist Story\":  Evil Craves Attention/O...</td>\n",
              "      <td>1</td>\n",
              "      <td>1</td>\n",
              "    </tr>\n",
              "    <tr>\n",
              "      <th>3</th>\n",
              "      <td>Ég Átti Gráa Æsku</td>\n",
              "      <td>4</td>\n",
              "      <td>34</td>\n",
              "    </tr>\n",
              "    <tr>\n",
              "      <th>4</th>\n",
              "      <td>(Jack The Stripper)</td>\n",
              "      <td>2</td>\n",
              "      <td>2</td>\n",
              "    </tr>\n",
              "  </tbody>\n",
              "</table>\n",
              "</div>"
            ],
            "text/plain": [
              "                                                song  ...  total_play_count\n",
              "0                             \n",
              "Ef Ég Hefði Aldrei...  ...                 2\n",
              "1                                \n",
              "Light Mass Prayers  ...                 5\n",
              "2  \n",
              "The Arsonist Story\":  Evil Craves Attention/O...  ...                 1\n",
              "3                                 \n",
              "Ég Átti Gráa Æsku  ...                34\n",
              "4                                (Jack The Stripper)  ...                 2\n",
              "\n",
              "[5 rows x 3 columns]"
            ]
          },
          "metadata": {
            "tags": []
          },
          "execution_count": 27
        }
      ]
    },
    {
      "cell_type": "markdown",
      "metadata": {
        "id": "7vTZ0LnT4pU5"
      },
      "source": [
        "**Doing this so that we could filter out the relevant songs having good ratings and fan following to recommend to another user using collaborative filtering**"
      ]
    },
    {
      "cell_type": "code",
      "metadata": {
        "id": "SW9qGS0AS-x7"
      },
      "source": [
        "combined = df.merge(joint, how = 'left', left_on='song', right_on='song')"
      ],
      "execution_count": 28,
      "outputs": []
    },
    {
      "cell_type": "code",
      "metadata": {
        "colab": {
          "base_uri": "https://localhost:8080/",
          "height": 204
        },
        "id": "YLnem6UATEoK",
        "outputId": "02680057-e42a-45ee-8c40-3e00d830c788"
      },
      "source": [
        "combined.head()"
      ],
      "execution_count": 29,
      "outputs": [
        {
          "output_type": "execute_result",
          "data": {
            "text/html": [
              "<div>\n",
              "<style scoped>\n",
              "    .dataframe tbody tr th:only-of-type {\n",
              "        vertical-align: middle;\n",
              "    }\n",
              "\n",
              "    .dataframe tbody tr th {\n",
              "        vertical-align: top;\n",
              "    }\n",
              "\n",
              "    .dataframe thead th {\n",
              "        text-align: right;\n",
              "    }\n",
              "</style>\n",
              "<table border=\"1\" class=\"dataframe\">\n",
              "  <thead>\n",
              "    <tr style=\"text-align: right;\">\n",
              "      <th></th>\n",
              "      <th>user_id</th>\n",
              "      <th>song_id</th>\n",
              "      <th>play_count</th>\n",
              "      <th>singer</th>\n",
              "      <th>song</th>\n",
              "      <th>user_count</th>\n",
              "      <th>total_play_count</th>\n",
              "    </tr>\n",
              "  </thead>\n",
              "  <tbody>\n",
              "    <tr>\n",
              "      <th>0</th>\n",
              "      <td>fd50c4007b68a3737fe052d5a4f78ce8aa117f3d</td>\n",
              "      <td>SOBONKR12A58A7A7E0</td>\n",
              "      <td>1</td>\n",
              "      <td>Dwight Yoakam</td>\n",
              "      <td>You're The One</td>\n",
              "      <td>4270</td>\n",
              "      <td>35738</td>\n",
              "    </tr>\n",
              "    <tr>\n",
              "      <th>1</th>\n",
              "      <td>c34670d9c1718361feb93068a853cead3c95b76a</td>\n",
              "      <td>SOBONKR12A58A7A7E0</td>\n",
              "      <td>1</td>\n",
              "      <td>Dwight Yoakam</td>\n",
              "      <td>You're The One</td>\n",
              "      <td>4270</td>\n",
              "      <td>35738</td>\n",
              "    </tr>\n",
              "    <tr>\n",
              "      <th>2</th>\n",
              "      <td>c5006d9f41f68ccccbf5ee29212b6af494110c5e</td>\n",
              "      <td>SOBONKR12A58A7A7E0</td>\n",
              "      <td>1</td>\n",
              "      <td>Dwight Yoakam</td>\n",
              "      <td>You're The One</td>\n",
              "      <td>4270</td>\n",
              "      <td>35738</td>\n",
              "    </tr>\n",
              "    <tr>\n",
              "      <th>3</th>\n",
              "      <td>e4332e11f4df6dd26673bb6b085e9a2bbdc9b8a5</td>\n",
              "      <td>SOBONKR12A58A7A7E0</td>\n",
              "      <td>2</td>\n",
              "      <td>Dwight Yoakam</td>\n",
              "      <td>You're The One</td>\n",
              "      <td>4270</td>\n",
              "      <td>35738</td>\n",
              "    </tr>\n",
              "    <tr>\n",
              "      <th>4</th>\n",
              "      <td>baf2fe5885ab93fbbdb7fecc6691788e70afb6c8</td>\n",
              "      <td>SOBONKR12A58A7A7E0</td>\n",
              "      <td>4</td>\n",
              "      <td>Dwight Yoakam</td>\n",
              "      <td>You're The One</td>\n",
              "      <td>4270</td>\n",
              "      <td>35738</td>\n",
              "    </tr>\n",
              "  </tbody>\n",
              "</table>\n",
              "</div>"
            ],
            "text/plain": [
              "                                    user_id  ... total_play_count\n",
              "0  fd50c4007b68a3737fe052d5a4f78ce8aa117f3d  ...            35738\n",
              "1  c34670d9c1718361feb93068a853cead3c95b76a  ...            35738\n",
              "2  c5006d9f41f68ccccbf5ee29212b6af494110c5e  ...            35738\n",
              "3  e4332e11f4df6dd26673bb6b085e9a2bbdc9b8a5  ...            35738\n",
              "4  baf2fe5885ab93fbbdb7fecc6691788e70afb6c8  ...            35738\n",
              "\n",
              "[5 rows x 7 columns]"
            ]
          },
          "metadata": {
            "tags": []
          },
          "execution_count": 29
        }
      ]
    },
    {
      "cell_type": "code",
      "metadata": {
        "id": "TxjzoWVLTGfo"
      },
      "source": [
        "combined.drop('singer', axis = 'columns', inplace=True)"
      ],
      "execution_count": 30,
      "outputs": []
    },
    {
      "cell_type": "markdown",
      "metadata": {
        "id": "Y5QWLO2E42Xu"
      },
      "source": [
        "**Putting a threshold value for the number of unique users as there are many songs that have a play_count of more than 100s but are only being listened by 3-4 users, so the songs which are liked by very less users are actually not relevant**"
      ]
    },
    {
      "cell_type": "code",
      "metadata": {
        "colab": {
          "base_uri": "https://localhost:8080/"
        },
        "id": "t-ONsW1PTKXY",
        "outputId": "573a348a-6d70-4616-e70a-494a4f1ab880"
      },
      "source": [
        "combined[combined['user_count'] < 50].shape, combined[combined['user_count'] >= 50].shape"
      ],
      "execution_count": 31,
      "outputs": [
        {
          "output_type": "execute_result",
          "data": {
            "text/plain": [
              "((714415, 6), (742149, 6))"
            ]
          },
          "metadata": {
            "tags": []
          },
          "execution_count": 31
        }
      ]
    },
    {
      "cell_type": "markdown",
      "metadata": {
        "id": "W2b9F9jr6Az3"
      },
      "source": [
        "**We are only recommending songs which have play_count of more than or equal to 500.**"
      ]
    },
    {
      "cell_type": "code",
      "metadata": {
        "colab": {
          "base_uri": "https://localhost:8080/"
        },
        "id": "LixSPCSmTMOy",
        "outputId": "fa537135-dfe0-4d50-f7b2-f5b9a1c1cd5b"
      },
      "source": [
        "combined[combined['total_play_count'] < 500].shape, combined[combined['total_play_count'] >= 500].shape"
      ],
      "execution_count": 32,
      "outputs": [
        {
          "output_type": "execute_result",
          "data": {
            "text/plain": [
              "((1058073, 6), (398491, 6))"
            ]
          },
          "metadata": {
            "tags": []
          },
          "execution_count": 32
        }
      ]
    },
    {
      "cell_type": "code",
      "metadata": {
        "colab": {
          "base_uri": "https://localhost:8080/"
        },
        "id": "4jZlKLmQTPTA",
        "outputId": "e84ed0e8-e420-492a-da37-a6dc4196ec41"
      },
      "source": [
        "combined[(combined['user_count'] <= 50) & (combined['total_play_count'] < 500)].shape"
      ],
      "execution_count": 33,
      "outputs": [
        {
          "output_type": "execute_result",
          "data": {
            "text/plain": [
              "(721098, 6)"
            ]
          },
          "metadata": {
            "tags": []
          },
          "execution_count": 33
        }
      ]
    },
    {
      "cell_type": "markdown",
      "metadata": {
        "id": "zg8axLiWTTdV"
      },
      "source": [
        "**It is better to recommend the songs which have a play count of more than 500 and have been listened by more than 50 users**"
      ]
    },
    {
      "cell_type": "code",
      "metadata": {
        "id": "V3_yjD83TQ8M"
      },
      "source": [
        "final_df = combined[(combined['user_count'] > 50) & (combined['total_play_count'] >= 500)]"
      ],
      "execution_count": 34,
      "outputs": []
    },
    {
      "cell_type": "code",
      "metadata": {
        "colab": {
          "base_uri": "https://localhost:8080/"
        },
        "id": "XIhDi6Lv9P74",
        "outputId": "0307443c-764e-45ce-ff8a-18699fd0e71b"
      },
      "source": [
        "final_df[\"song\"].count()"
      ],
      "execution_count": 35,
      "outputs": [
        {
          "output_type": "execute_result",
          "data": {
            "text/plain": [
              "398124"
            ]
          },
          "metadata": {
            "tags": []
          },
          "execution_count": 35
        }
      ]
    },
    {
      "cell_type": "code",
      "metadata": {
        "colab": {
          "base_uri": "https://localhost:8080/",
          "height": 204
        },
        "id": "D-UPO8y8TX_8",
        "outputId": "c11a3984-3ef1-417d-d6ea-b801570ea9c3"
      },
      "source": [
        "final_df.head()"
      ],
      "execution_count": 36,
      "outputs": [
        {
          "output_type": "execute_result",
          "data": {
            "text/html": [
              "<div>\n",
              "<style scoped>\n",
              "    .dataframe tbody tr th:only-of-type {\n",
              "        vertical-align: middle;\n",
              "    }\n",
              "\n",
              "    .dataframe tbody tr th {\n",
              "        vertical-align: top;\n",
              "    }\n",
              "\n",
              "    .dataframe thead th {\n",
              "        text-align: right;\n",
              "    }\n",
              "</style>\n",
              "<table border=\"1\" class=\"dataframe\">\n",
              "  <thead>\n",
              "    <tr style=\"text-align: right;\">\n",
              "      <th></th>\n",
              "      <th>user_id</th>\n",
              "      <th>song_id</th>\n",
              "      <th>play_count</th>\n",
              "      <th>song</th>\n",
              "      <th>user_count</th>\n",
              "      <th>total_play_count</th>\n",
              "    </tr>\n",
              "  </thead>\n",
              "  <tbody>\n",
              "    <tr>\n",
              "      <th>0</th>\n",
              "      <td>fd50c4007b68a3737fe052d5a4f78ce8aa117f3d</td>\n",
              "      <td>SOBONKR12A58A7A7E0</td>\n",
              "      <td>1</td>\n",
              "      <td>You're The One</td>\n",
              "      <td>4270</td>\n",
              "      <td>35738</td>\n",
              "    </tr>\n",
              "    <tr>\n",
              "      <th>1</th>\n",
              "      <td>c34670d9c1718361feb93068a853cead3c95b76a</td>\n",
              "      <td>SOBONKR12A58A7A7E0</td>\n",
              "      <td>1</td>\n",
              "      <td>You're The One</td>\n",
              "      <td>4270</td>\n",
              "      <td>35738</td>\n",
              "    </tr>\n",
              "    <tr>\n",
              "      <th>2</th>\n",
              "      <td>c5006d9f41f68ccccbf5ee29212b6af494110c5e</td>\n",
              "      <td>SOBONKR12A58A7A7E0</td>\n",
              "      <td>1</td>\n",
              "      <td>You're The One</td>\n",
              "      <td>4270</td>\n",
              "      <td>35738</td>\n",
              "    </tr>\n",
              "    <tr>\n",
              "      <th>3</th>\n",
              "      <td>e4332e11f4df6dd26673bb6b085e9a2bbdc9b8a5</td>\n",
              "      <td>SOBONKR12A58A7A7E0</td>\n",
              "      <td>2</td>\n",
              "      <td>You're The One</td>\n",
              "      <td>4270</td>\n",
              "      <td>35738</td>\n",
              "    </tr>\n",
              "    <tr>\n",
              "      <th>4</th>\n",
              "      <td>baf2fe5885ab93fbbdb7fecc6691788e70afb6c8</td>\n",
              "      <td>SOBONKR12A58A7A7E0</td>\n",
              "      <td>4</td>\n",
              "      <td>You're The One</td>\n",
              "      <td>4270</td>\n",
              "      <td>35738</td>\n",
              "    </tr>\n",
              "  </tbody>\n",
              "</table>\n",
              "</div>"
            ],
            "text/plain": [
              "                                    user_id  ... total_play_count\n",
              "0  fd50c4007b68a3737fe052d5a4f78ce8aa117f3d  ...            35738\n",
              "1  c34670d9c1718361feb93068a853cead3c95b76a  ...            35738\n",
              "2  c5006d9f41f68ccccbf5ee29212b6af494110c5e  ...            35738\n",
              "3  e4332e11f4df6dd26673bb6b085e9a2bbdc9b8a5  ...            35738\n",
              "4  baf2fe5885ab93fbbdb7fecc6691788e70afb6c8  ...            35738\n",
              "\n",
              "[5 rows x 6 columns]"
            ]
          },
          "metadata": {
            "tags": []
          },
          "execution_count": 36
        }
      ]
    },
    {
      "cell_type": "code",
      "metadata": {
        "colab": {
          "base_uri": "https://localhost:8080/"
        },
        "id": "0ZrQZx3lTZK0",
        "outputId": "15e2908d-117a-48da-f1a8-37db5fb3cd14"
      },
      "source": [
        "final_df.shape"
      ],
      "execution_count": null,
      "outputs": [
        {
          "output_type": "execute_result",
          "data": {
            "text/plain": [
              "(398124, 6)"
            ]
          },
          "metadata": {
            "tags": []
          },
          "execution_count": 37
        }
      ]
    },
    {
      "cell_type": "markdown",
      "metadata": {
        "id": "UOfnDcVh6U9J"
      },
      "source": [
        "**Making the matrix of user_id and songs to further use in collaborative filtering**"
      ]
    },
    {
      "cell_type": "code",
      "metadata": {
        "id": "T6cImptZTbDT"
      },
      "source": [
        "  final_edit=final_df.pivot_table(index='user_id',columns='song',values='play_count').head()"
      ],
      "execution_count": null,
      "outputs": []
    },
    {
      "cell_type": "code",
      "metadata": {
        "id": "iI5ZCpm_TeJr"
      },
      "source": [
        "final_edit.fillna(0,inplace=True) # Filling missing values with 0 as those songs have not been listened by that particular user."
      ],
      "execution_count": null,
      "outputs": []
    },
    {
      "cell_type": "code",
      "metadata": {
        "colab": {
          "base_uri": "https://localhost:8080/",
          "height": 582
        },
        "id": "k-dZoclKTl5F",
        "outputId": "94b34531-f790-4222-c6a5-834e16b1982d"
      },
      "source": [
        "final_edit.tail()"
      ],
      "execution_count": null,
      "outputs": [
        {
          "output_type": "execute_result",
          "data": {
            "text/html": [
              "<div>\n",
              "<style scoped>\n",
              "    .dataframe tbody tr th:only-of-type {\n",
              "        vertical-align: middle;\n",
              "    }\n",
              "\n",
              "    .dataframe tbody tr th {\n",
              "        vertical-align: top;\n",
              "    }\n",
              "\n",
              "    .dataframe thead th {\n",
              "        text-align: right;\n",
              "    }\n",
              "</style>\n",
              "<table border=\"1\" class=\"dataframe\">\n",
              "  <thead>\n",
              "    <tr style=\"text-align: right;\">\n",
              "      <th>song</th>\n",
              "      <th>#40</th>\n",
              "      <th>'Till I Collapse</th>\n",
              "      <th>(Nice Dream)</th>\n",
              "      <th>(They Long To Be) Close To You</th>\n",
              "      <th>(iii)</th>\n",
              "      <th>1234</th>\n",
              "      <th>16 Candles</th>\n",
              "      <th>21 Guns [feat. Green Day &amp; The Cast Of American Idiot] (Album Version)</th>\n",
              "      <th>221</th>\n",
              "      <th>3AM (LP Version)</th>\n",
              "      <th>5.45</th>\n",
              "      <th>A Beggar On A Beach Of Gold</th>\n",
              "      <th>A Girl Like You</th>\n",
              "      <th>A Nightmare To Remember (Album Version)</th>\n",
              "      <th>A Whiter Shade Of Pale</th>\n",
              "      <th>A-Punk (Album)</th>\n",
              "      <th>Above The Clouds (Edited)</th>\n",
              "      <th>Abrazame</th>\n",
              "      <th>Acapulco 1922</th>\n",
              "      <th>Acende O Candieiro (2003 Digital Remaster)</th>\n",
              "      <th>Adam's Song</th>\n",
              "      <th>Addams Groove</th>\n",
              "      <th>Aerodynamic (Daft Punk Remix)</th>\n",
              "      <th>Aghia Sophia (2008 Digital Remaster)</th>\n",
              "      <th>Ain't Misbehavin</th>\n",
              "      <th>Ain't No Rest For The Wicked (Original Version)</th>\n",
              "      <th>Alejandro</th>\n",
              "      <th>Alejate De Mi</th>\n",
              "      <th>Alice</th>\n",
              "      <th>All Along The Watchtower</th>\n",
              "      <th>All Hands Against His Own</th>\n",
              "      <th>All I Do Is Win (feat. T-Pain_ Ludacris_ Snoop Dogg &amp; Rick Ross)</th>\n",
              "      <th>All I Ever Wanted</th>\n",
              "      <th>All I Need</th>\n",
              "      <th>All Men Are Liars</th>\n",
              "      <th>All My Life</th>\n",
              "      <th>All My Loving</th>\n",
              "      <th>All Night Long</th>\n",
              "      <th>All Star</th>\n",
              "      <th>All Summer Long (Album Version)</th>\n",
              "      <th>...</th>\n",
              "      <th>Working With Homesick</th>\n",
              "      <th>XRDS</th>\n",
              "      <th>Xehasmeni Melodia</th>\n",
              "      <th>Yeah Yeah</th>\n",
              "      <th>Yeah!</th>\n",
              "      <th>Yellin' At The Xmas Tree</th>\n",
              "      <th>Yellow</th>\n",
              "      <th>Yellow Ledbetter</th>\n",
              "      <th>Yes</th>\n",
              "      <th>Yesterday Once More</th>\n",
              "      <th>You</th>\n",
              "      <th>You And Me (Wedding Version)</th>\n",
              "      <th>You And Me Jesus</th>\n",
              "      <th>You And Your Heart</th>\n",
              "      <th>You Be The Anchor That Keeps My Feet On The Ground_ I'll Be The Wings That Keep Your Heart In The Clouds (Album)</th>\n",
              "      <th>You Belong With Me</th>\n",
              "      <th>You Could Be Mine</th>\n",
              "      <th>You Get What You Give</th>\n",
              "      <th>You Give Love A Bad Name</th>\n",
              "      <th>You Got Me</th>\n",
              "      <th>You Gotta Be</th>\n",
              "      <th>You Know I'm No Good</th>\n",
              "      <th>You Learn (Album Version)</th>\n",
              "      <th>You Never Miss The Water Until The Well Runs Dry</th>\n",
              "      <th>You'd Be So Nice To Come Home To</th>\n",
              "      <th>You'll Be In My Heart</th>\n",
              "      <th>You'll Never Know (My Love) (Bovellian 07 Mix)</th>\n",
              "      <th>You're Not Alone</th>\n",
              "      <th>You're The One</th>\n",
              "      <th>You've Got The Love</th>\n",
              "      <th>Young</th>\n",
              "      <th>Your Guardian Angel</th>\n",
              "      <th>Your Hand In Mine</th>\n",
              "      <th>Your Mother Should Have Told You</th>\n",
              "      <th>Your Touch</th>\n",
              "      <th>Your Woman</th>\n",
              "      <th>Youth Against Fascism</th>\n",
              "      <th>Zero</th>\n",
              "      <th>paranoid android</th>\n",
              "      <th>re:stacks</th>\n",
              "    </tr>\n",
              "    <tr>\n",
              "      <th>user_id</th>\n",
              "      <th></th>\n",
              "      <th></th>\n",
              "      <th></th>\n",
              "      <th></th>\n",
              "      <th></th>\n",
              "      <th></th>\n",
              "      <th></th>\n",
              "      <th></th>\n",
              "      <th></th>\n",
              "      <th></th>\n",
              "      <th></th>\n",
              "      <th></th>\n",
              "      <th></th>\n",
              "      <th></th>\n",
              "      <th></th>\n",
              "      <th></th>\n",
              "      <th></th>\n",
              "      <th></th>\n",
              "      <th></th>\n",
              "      <th></th>\n",
              "      <th></th>\n",
              "      <th></th>\n",
              "      <th></th>\n",
              "      <th></th>\n",
              "      <th></th>\n",
              "      <th></th>\n",
              "      <th></th>\n",
              "      <th></th>\n",
              "      <th></th>\n",
              "      <th></th>\n",
              "      <th></th>\n",
              "      <th></th>\n",
              "      <th></th>\n",
              "      <th></th>\n",
              "      <th></th>\n",
              "      <th></th>\n",
              "      <th></th>\n",
              "      <th></th>\n",
              "      <th></th>\n",
              "      <th></th>\n",
              "      <th></th>\n",
              "      <th></th>\n",
              "      <th></th>\n",
              "      <th></th>\n",
              "      <th></th>\n",
              "      <th></th>\n",
              "      <th></th>\n",
              "      <th></th>\n",
              "      <th></th>\n",
              "      <th></th>\n",
              "      <th></th>\n",
              "      <th></th>\n",
              "      <th></th>\n",
              "      <th></th>\n",
              "      <th></th>\n",
              "      <th></th>\n",
              "      <th></th>\n",
              "      <th></th>\n",
              "      <th></th>\n",
              "      <th></th>\n",
              "      <th></th>\n",
              "      <th></th>\n",
              "      <th></th>\n",
              "      <th></th>\n",
              "      <th></th>\n",
              "      <th></th>\n",
              "      <th></th>\n",
              "      <th></th>\n",
              "      <th></th>\n",
              "      <th></th>\n",
              "      <th></th>\n",
              "      <th></th>\n",
              "      <th></th>\n",
              "      <th></th>\n",
              "      <th></th>\n",
              "      <th></th>\n",
              "      <th></th>\n",
              "      <th></th>\n",
              "      <th></th>\n",
              "      <th></th>\n",
              "      <th></th>\n",
              "    </tr>\n",
              "  </thead>\n",
              "  <tbody>\n",
              "    <tr>\n",
              "      <th>00014a76ed063e1a749171a253bca9d9a0ff1782</th>\n",
              "      <td>0.0</td>\n",
              "      <td>0.0</td>\n",
              "      <td>0.0</td>\n",
              "      <td>0.0</td>\n",
              "      <td>0.0</td>\n",
              "      <td>0.0</td>\n",
              "      <td>0.0</td>\n",
              "      <td>0.0</td>\n",
              "      <td>0.0</td>\n",
              "      <td>0.0</td>\n",
              "      <td>0.0</td>\n",
              "      <td>0.0</td>\n",
              "      <td>0.0</td>\n",
              "      <td>0.0</td>\n",
              "      <td>0.0</td>\n",
              "      <td>0.0</td>\n",
              "      <td>0.0</td>\n",
              "      <td>0.0</td>\n",
              "      <td>0.0</td>\n",
              "      <td>0.0</td>\n",
              "      <td>0.0</td>\n",
              "      <td>0.0</td>\n",
              "      <td>0.0</td>\n",
              "      <td>0.0</td>\n",
              "      <td>0.0</td>\n",
              "      <td>0.0</td>\n",
              "      <td>0.0</td>\n",
              "      <td>0.0</td>\n",
              "      <td>0.0</td>\n",
              "      <td>0.0</td>\n",
              "      <td>0.0</td>\n",
              "      <td>0.0</td>\n",
              "      <td>0.0</td>\n",
              "      <td>0.0</td>\n",
              "      <td>0.0</td>\n",
              "      <td>0.0</td>\n",
              "      <td>0.0</td>\n",
              "      <td>0.0</td>\n",
              "      <td>0.0</td>\n",
              "      <td>0.0</td>\n",
              "      <td>...</td>\n",
              "      <td>0.0</td>\n",
              "      <td>0.0</td>\n",
              "      <td>0.0</td>\n",
              "      <td>0.0</td>\n",
              "      <td>0.0</td>\n",
              "      <td>0.0</td>\n",
              "      <td>0.0</td>\n",
              "      <td>0.0</td>\n",
              "      <td>0.0</td>\n",
              "      <td>0.0</td>\n",
              "      <td>0.0</td>\n",
              "      <td>0.0</td>\n",
              "      <td>0.0</td>\n",
              "      <td>0.0</td>\n",
              "      <td>0.0</td>\n",
              "      <td>0.0</td>\n",
              "      <td>0.0</td>\n",
              "      <td>0.0</td>\n",
              "      <td>0.0</td>\n",
              "      <td>0.0</td>\n",
              "      <td>0.0</td>\n",
              "      <td>0.0</td>\n",
              "      <td>0.0</td>\n",
              "      <td>0.0</td>\n",
              "      <td>0.0</td>\n",
              "      <td>0.0</td>\n",
              "      <td>0.0</td>\n",
              "      <td>0.0</td>\n",
              "      <td>0.0</td>\n",
              "      <td>0.0</td>\n",
              "      <td>0.0</td>\n",
              "      <td>0.0</td>\n",
              "      <td>0.0</td>\n",
              "      <td>0.0</td>\n",
              "      <td>0.0</td>\n",
              "      <td>0.0</td>\n",
              "      <td>0.0</td>\n",
              "      <td>0.0</td>\n",
              "      <td>0.0</td>\n",
              "      <td>0.0</td>\n",
              "    </tr>\n",
              "    <tr>\n",
              "      <th>00015189668691680bb1a2e58afde1541ec92ced</th>\n",
              "      <td>0.0</td>\n",
              "      <td>0.0</td>\n",
              "      <td>0.0</td>\n",
              "      <td>0.0</td>\n",
              "      <td>0.0</td>\n",
              "      <td>0.0</td>\n",
              "      <td>0.0</td>\n",
              "      <td>0.0</td>\n",
              "      <td>0.0</td>\n",
              "      <td>0.0</td>\n",
              "      <td>0.0</td>\n",
              "      <td>0.0</td>\n",
              "      <td>0.0</td>\n",
              "      <td>0.0</td>\n",
              "      <td>0.0</td>\n",
              "      <td>0.0</td>\n",
              "      <td>0.0</td>\n",
              "      <td>0.0</td>\n",
              "      <td>0.0</td>\n",
              "      <td>0.0</td>\n",
              "      <td>0.0</td>\n",
              "      <td>0.0</td>\n",
              "      <td>0.0</td>\n",
              "      <td>0.0</td>\n",
              "      <td>0.0</td>\n",
              "      <td>0.0</td>\n",
              "      <td>3.0</td>\n",
              "      <td>0.0</td>\n",
              "      <td>0.0</td>\n",
              "      <td>0.0</td>\n",
              "      <td>0.0</td>\n",
              "      <td>0.0</td>\n",
              "      <td>0.0</td>\n",
              "      <td>0.0</td>\n",
              "      <td>0.0</td>\n",
              "      <td>0.0</td>\n",
              "      <td>0.0</td>\n",
              "      <td>0.0</td>\n",
              "      <td>0.0</td>\n",
              "      <td>0.0</td>\n",
              "      <td>...</td>\n",
              "      <td>0.0</td>\n",
              "      <td>0.0</td>\n",
              "      <td>0.0</td>\n",
              "      <td>0.0</td>\n",
              "      <td>0.0</td>\n",
              "      <td>0.0</td>\n",
              "      <td>0.0</td>\n",
              "      <td>0.0</td>\n",
              "      <td>0.0</td>\n",
              "      <td>0.0</td>\n",
              "      <td>0.0</td>\n",
              "      <td>0.0</td>\n",
              "      <td>0.0</td>\n",
              "      <td>0.0</td>\n",
              "      <td>0.0</td>\n",
              "      <td>0.0</td>\n",
              "      <td>0.0</td>\n",
              "      <td>0.0</td>\n",
              "      <td>0.0</td>\n",
              "      <td>0.0</td>\n",
              "      <td>0.0</td>\n",
              "      <td>0.0</td>\n",
              "      <td>0.0</td>\n",
              "      <td>0.0</td>\n",
              "      <td>0.0</td>\n",
              "      <td>0.0</td>\n",
              "      <td>0.0</td>\n",
              "      <td>0.0</td>\n",
              "      <td>0.0</td>\n",
              "      <td>0.0</td>\n",
              "      <td>0.0</td>\n",
              "      <td>0.0</td>\n",
              "      <td>0.0</td>\n",
              "      <td>0.0</td>\n",
              "      <td>0.0</td>\n",
              "      <td>0.0</td>\n",
              "      <td>0.0</td>\n",
              "      <td>0.0</td>\n",
              "      <td>0.0</td>\n",
              "      <td>9.0</td>\n",
              "    </tr>\n",
              "    <tr>\n",
              "      <th>0001ff7aa2667c8d8b945317b88adaed1c0b9dc2</th>\n",
              "      <td>0.0</td>\n",
              "      <td>0.0</td>\n",
              "      <td>0.0</td>\n",
              "      <td>0.0</td>\n",
              "      <td>0.0</td>\n",
              "      <td>0.0</td>\n",
              "      <td>0.0</td>\n",
              "      <td>0.0</td>\n",
              "      <td>0.0</td>\n",
              "      <td>0.0</td>\n",
              "      <td>0.0</td>\n",
              "      <td>0.0</td>\n",
              "      <td>0.0</td>\n",
              "      <td>0.0</td>\n",
              "      <td>0.0</td>\n",
              "      <td>0.0</td>\n",
              "      <td>0.0</td>\n",
              "      <td>0.0</td>\n",
              "      <td>0.0</td>\n",
              "      <td>0.0</td>\n",
              "      <td>0.0</td>\n",
              "      <td>0.0</td>\n",
              "      <td>0.0</td>\n",
              "      <td>0.0</td>\n",
              "      <td>0.0</td>\n",
              "      <td>0.0</td>\n",
              "      <td>0.0</td>\n",
              "      <td>0.0</td>\n",
              "      <td>0.0</td>\n",
              "      <td>0.0</td>\n",
              "      <td>0.0</td>\n",
              "      <td>0.0</td>\n",
              "      <td>0.0</td>\n",
              "      <td>0.0</td>\n",
              "      <td>0.0</td>\n",
              "      <td>0.0</td>\n",
              "      <td>0.0</td>\n",
              "      <td>0.0</td>\n",
              "      <td>0.0</td>\n",
              "      <td>0.0</td>\n",
              "      <td>...</td>\n",
              "      <td>0.0</td>\n",
              "      <td>0.0</td>\n",
              "      <td>0.0</td>\n",
              "      <td>0.0</td>\n",
              "      <td>0.0</td>\n",
              "      <td>0.0</td>\n",
              "      <td>0.0</td>\n",
              "      <td>0.0</td>\n",
              "      <td>0.0</td>\n",
              "      <td>0.0</td>\n",
              "      <td>0.0</td>\n",
              "      <td>0.0</td>\n",
              "      <td>0.0</td>\n",
              "      <td>0.0</td>\n",
              "      <td>0.0</td>\n",
              "      <td>0.0</td>\n",
              "      <td>0.0</td>\n",
              "      <td>0.0</td>\n",
              "      <td>0.0</td>\n",
              "      <td>0.0</td>\n",
              "      <td>0.0</td>\n",
              "      <td>0.0</td>\n",
              "      <td>0.0</td>\n",
              "      <td>0.0</td>\n",
              "      <td>0.0</td>\n",
              "      <td>0.0</td>\n",
              "      <td>0.0</td>\n",
              "      <td>0.0</td>\n",
              "      <td>0.0</td>\n",
              "      <td>0.0</td>\n",
              "      <td>0.0</td>\n",
              "      <td>0.0</td>\n",
              "      <td>0.0</td>\n",
              "      <td>0.0</td>\n",
              "      <td>0.0</td>\n",
              "      <td>0.0</td>\n",
              "      <td>0.0</td>\n",
              "      <td>0.0</td>\n",
              "      <td>0.0</td>\n",
              "      <td>0.0</td>\n",
              "    </tr>\n",
              "    <tr>\n",
              "      <th>00020fcd8b01986a6a85b896ccde6c49f35142ad</th>\n",
              "      <td>0.0</td>\n",
              "      <td>0.0</td>\n",
              "      <td>0.0</td>\n",
              "      <td>0.0</td>\n",
              "      <td>0.0</td>\n",
              "      <td>0.0</td>\n",
              "      <td>0.0</td>\n",
              "      <td>0.0</td>\n",
              "      <td>0.0</td>\n",
              "      <td>0.0</td>\n",
              "      <td>0.0</td>\n",
              "      <td>0.0</td>\n",
              "      <td>0.0</td>\n",
              "      <td>0.0</td>\n",
              "      <td>0.0</td>\n",
              "      <td>0.0</td>\n",
              "      <td>0.0</td>\n",
              "      <td>0.0</td>\n",
              "      <td>0.0</td>\n",
              "      <td>0.0</td>\n",
              "      <td>0.0</td>\n",
              "      <td>0.0</td>\n",
              "      <td>0.0</td>\n",
              "      <td>0.0</td>\n",
              "      <td>0.0</td>\n",
              "      <td>0.0</td>\n",
              "      <td>0.0</td>\n",
              "      <td>0.0</td>\n",
              "      <td>0.0</td>\n",
              "      <td>0.0</td>\n",
              "      <td>0.0</td>\n",
              "      <td>0.0</td>\n",
              "      <td>0.0</td>\n",
              "      <td>0.0</td>\n",
              "      <td>0.0</td>\n",
              "      <td>0.0</td>\n",
              "      <td>0.0</td>\n",
              "      <td>0.0</td>\n",
              "      <td>0.0</td>\n",
              "      <td>0.0</td>\n",
              "      <td>...</td>\n",
              "      <td>0.0</td>\n",
              "      <td>0.0</td>\n",
              "      <td>0.0</td>\n",
              "      <td>0.0</td>\n",
              "      <td>0.0</td>\n",
              "      <td>0.0</td>\n",
              "      <td>0.0</td>\n",
              "      <td>0.0</td>\n",
              "      <td>0.0</td>\n",
              "      <td>0.0</td>\n",
              "      <td>0.0</td>\n",
              "      <td>0.0</td>\n",
              "      <td>0.0</td>\n",
              "      <td>0.0</td>\n",
              "      <td>0.0</td>\n",
              "      <td>0.0</td>\n",
              "      <td>0.0</td>\n",
              "      <td>0.0</td>\n",
              "      <td>0.0</td>\n",
              "      <td>0.0</td>\n",
              "      <td>0.0</td>\n",
              "      <td>0.0</td>\n",
              "      <td>0.0</td>\n",
              "      <td>0.0</td>\n",
              "      <td>0.0</td>\n",
              "      <td>0.0</td>\n",
              "      <td>0.0</td>\n",
              "      <td>0.0</td>\n",
              "      <td>0.0</td>\n",
              "      <td>0.0</td>\n",
              "      <td>0.0</td>\n",
              "      <td>0.0</td>\n",
              "      <td>0.0</td>\n",
              "      <td>0.0</td>\n",
              "      <td>0.0</td>\n",
              "      <td>0.0</td>\n",
              "      <td>0.0</td>\n",
              "      <td>0.0</td>\n",
              "      <td>0.0</td>\n",
              "      <td>0.0</td>\n",
              "    </tr>\n",
              "    <tr>\n",
              "      <th>0003798d61a8010dbfd8010180b7107cbbb8a649</th>\n",
              "      <td>0.0</td>\n",
              "      <td>0.0</td>\n",
              "      <td>0.0</td>\n",
              "      <td>0.0</td>\n",
              "      <td>0.0</td>\n",
              "      <td>0.0</td>\n",
              "      <td>0.0</td>\n",
              "      <td>0.0</td>\n",
              "      <td>0.0</td>\n",
              "      <td>0.0</td>\n",
              "      <td>0.0</td>\n",
              "      <td>0.0</td>\n",
              "      <td>0.0</td>\n",
              "      <td>0.0</td>\n",
              "      <td>0.0</td>\n",
              "      <td>0.0</td>\n",
              "      <td>0.0</td>\n",
              "      <td>0.0</td>\n",
              "      <td>0.0</td>\n",
              "      <td>0.0</td>\n",
              "      <td>0.0</td>\n",
              "      <td>0.0</td>\n",
              "      <td>0.0</td>\n",
              "      <td>0.0</td>\n",
              "      <td>0.0</td>\n",
              "      <td>0.0</td>\n",
              "      <td>0.0</td>\n",
              "      <td>0.0</td>\n",
              "      <td>0.0</td>\n",
              "      <td>0.0</td>\n",
              "      <td>0.0</td>\n",
              "      <td>0.0</td>\n",
              "      <td>0.0</td>\n",
              "      <td>0.0</td>\n",
              "      <td>0.0</td>\n",
              "      <td>0.0</td>\n",
              "      <td>0.0</td>\n",
              "      <td>0.0</td>\n",
              "      <td>0.0</td>\n",
              "      <td>0.0</td>\n",
              "      <td>...</td>\n",
              "      <td>0.0</td>\n",
              "      <td>0.0</td>\n",
              "      <td>0.0</td>\n",
              "      <td>0.0</td>\n",
              "      <td>0.0</td>\n",
              "      <td>0.0</td>\n",
              "      <td>0.0</td>\n",
              "      <td>0.0</td>\n",
              "      <td>0.0</td>\n",
              "      <td>0.0</td>\n",
              "      <td>0.0</td>\n",
              "      <td>0.0</td>\n",
              "      <td>0.0</td>\n",
              "      <td>0.0</td>\n",
              "      <td>0.0</td>\n",
              "      <td>1.0</td>\n",
              "      <td>0.0</td>\n",
              "      <td>0.0</td>\n",
              "      <td>0.0</td>\n",
              "      <td>0.0</td>\n",
              "      <td>0.0</td>\n",
              "      <td>0.0</td>\n",
              "      <td>0.0</td>\n",
              "      <td>0.0</td>\n",
              "      <td>0.0</td>\n",
              "      <td>0.0</td>\n",
              "      <td>0.0</td>\n",
              "      <td>0.0</td>\n",
              "      <td>0.0</td>\n",
              "      <td>0.0</td>\n",
              "      <td>0.0</td>\n",
              "      <td>0.0</td>\n",
              "      <td>0.0</td>\n",
              "      <td>0.0</td>\n",
              "      <td>0.0</td>\n",
              "      <td>0.0</td>\n",
              "      <td>0.0</td>\n",
              "      <td>0.0</td>\n",
              "      <td>0.0</td>\n",
              "      <td>0.0</td>\n",
              "    </tr>\n",
              "  </tbody>\n",
              "</table>\n",
              "<p>5 rows × 1160 columns</p>\n",
              "</div>"
            ],
            "text/plain": [
              "song                                      #40  ...  re:stacks\n",
              "user_id                                        ...           \n",
              "00014a76ed063e1a749171a253bca9d9a0ff1782  0.0  ...        0.0\n",
              "00015189668691680bb1a2e58afde1541ec92ced  0.0  ...        9.0\n",
              "0001ff7aa2667c8d8b945317b88adaed1c0b9dc2  0.0  ...        0.0\n",
              "00020fcd8b01986a6a85b896ccde6c49f35142ad  0.0  ...        0.0\n",
              "0003798d61a8010dbfd8010180b7107cbbb8a649  0.0  ...        0.0\n",
              "\n",
              "[5 rows x 1160 columns]"
            ]
          },
          "metadata": {
            "tags": []
          },
          "execution_count": 40
        }
      ]
    },
    {
      "cell_type": "code",
      "metadata": {
        "id": "nqOA4MYOTnT0"
      },
      "source": [
        "from scipy.sparse import csr_matrix\n",
        "final_matrix=csr_matrix(final_edit.values)"
      ],
      "execution_count": null,
      "outputs": []
    },
    {
      "cell_type": "code",
      "metadata": {
        "id": "ULQikzwNTqBF"
      },
      "source": [
        "from sklearn.neighbors import NearestNeighbors\n",
        "model=NearestNeighbors(n_neighbors=3,\n",
        "                        radius=1.0,\n",
        "                         algorithm='brute',\n",
        "                         leaf_size=30,\n",
        "                         metric='cosine',\n",
        "                         metric_params=None,\n",
        "                        n_jobs=-1)"
      ],
      "execution_count": null,
      "outputs": []
    },
    {
      "cell_type": "code",
      "metadata": {
        "colab": {
          "base_uri": "https://localhost:8080/"
        },
        "id": "z_rg6z7vTrta",
        "outputId": "1565056a-7103-4113-e98e-5d1a5940b6be"
      },
      "source": [
        "model.fit(final_edit)"
      ],
      "execution_count": null,
      "outputs": [
        {
          "output_type": "execute_result",
          "data": {
            "text/plain": [
              "NearestNeighbors(algorithm='brute', leaf_size=30, metric='cosine',\n",
              "                 metric_params=None, n_jobs=-1, n_neighbors=3, p=2, radius=1.0)"
            ]
          },
          "metadata": {
            "tags": []
          },
          "execution_count": 42
        }
      ]
    },
    {
      "cell_type": "code",
      "metadata": {
        "colab": {
          "base_uri": "https://localhost:8080/"
        },
        "id": "WxGZsEesTtLW",
        "outputId": "adf21a0a-7ee5-4c7a-cb35-f9e9e47c8295"
      },
      "source": [
        "def recommend(song):\n",
        "  position=final_edit.index.get_loc(song)\n",
        "  distances,indices = model.kneighbors(final_matrix[position,:].reshape(1, -1),n_neighbors=5)\n",
        "  print('As you are {0}:\\nYou will like these songs\\n'.format(final_edit.index[position]))\n",
        "  \n",
        "  for i in range(1,5):    \n",
        "    user=final_edit.index[indices.flatten()[i]]\n",
        "    maax=final_edit[final_edit.index==user].values.max()\n",
        "    print('{0}: {1}\\n'.format(i,final_edit[final_edit.index==user].idxmax(axis=1).values[0]))\n",
        "\n",
        "\n",
        "recommend(\"00014a76ed063e1a749171a253bca9d9a0ff1782\")"
      ],
      "execution_count": null,
      "outputs": [
        {
          "output_type": "stream",
          "text": [
            "As you are 00014a76ed063e1a749171a253bca9d9a0ff1782:\n",
            "You will like these songs\n",
            "\n",
            "1: Speak\n",
            "\n",
            "2: Sweet home Alabama\n",
            "\n",
            "3: Easy\n",
            "\n",
            "4: Dog Days Are Over (Radio Edit)\n",
            "\n"
          ],
          "name": "stdout"
        }
      ]
    },
    {
      "cell_type": "markdown",
      "metadata": {
        "id": "VtoJwuTcWAaC"
      },
      "source": [
        "## **CREATING MODEL USING ITEM BASED COLLABORATIVE FILTERING**"
      ]
    },
    {
      "cell_type": "markdown",
      "metadata": {
        "id": "2A6nzdPs_1km"
      },
      "source": [
        "**Item's name will be provided as the input**"
      ]
    },
    {
      "cell_type": "code",
      "metadata": {
        "id": "-VrJIhaGWQg7"
      },
      "source": [
        "user_rating_data=final_df.pivot_table(index='song',columns='user_id',values='play_count')"
      ],
      "execution_count": 38,
      "outputs": []
    },
    {
      "cell_type": "code",
      "metadata": {
        "id": "5kI7cJ3zWwAB"
      },
      "source": [
        "user_rating_data.fillna(0,inplace=True)"
      ],
      "execution_count": 39,
      "outputs": []
    },
    {
      "cell_type": "code",
      "metadata": {
        "colab": {
          "base_uri": "https://localhost:8080/",
          "height": 357
        },
        "id": "k6LCQ-SAWxiZ",
        "outputId": "358b5980-b206-4bc7-c449-733fc5a35988"
      },
      "source": [
        "user_rating_data.tail() # Transpose"
      ],
      "execution_count": null,
      "outputs": [
        {
          "output_type": "execute_result",
          "data": {
            "text/html": [
              "<div>\n",
              "<style scoped>\n",
              "    .dataframe tbody tr th:only-of-type {\n",
              "        vertical-align: middle;\n",
              "    }\n",
              "\n",
              "    .dataframe tbody tr th {\n",
              "        vertical-align: top;\n",
              "    }\n",
              "\n",
              "    .dataframe thead th {\n",
              "        text-align: right;\n",
              "    }\n",
              "</style>\n",
              "<table border=\"1\" class=\"dataframe\">\n",
              "  <thead>\n",
              "    <tr style=\"text-align: right;\">\n",
              "      <th>user_id</th>\n",
              "      <th>00014a76ed063e1a749171a253bca9d9a0ff1782</th>\n",
              "      <th>00015189668691680bb1a2e58afde1541ec92ced</th>\n",
              "      <th>0001ff7aa2667c8d8b945317b88adaed1c0b9dc2</th>\n",
              "      <th>00020fcd8b01986a6a85b896ccde6c49f35142ad</th>\n",
              "      <th>0003798d61a8010dbfd8010180b7107cbbb8a649</th>\n",
              "      <th>0003d5245414b9c6244046543a06f601bfc97949</th>\n",
              "      <th>00040e91f2f614ca2f94ebc558dd0fc53ea2b875</th>\n",
              "      <th>0004dd6499e2e3f630f070416c437627de60d5c1</th>\n",
              "      <th>0005b81b840251543089e816fb790690e3914df2</th>\n",
              "      <th>00061a993bb3add5cc37b2ea28a9552337f2fe4d</th>\n",
              "      <th>0006a8a3733a7009f8bc109ccb3cdb59a19721ad</th>\n",
              "      <th>0006dfb63a4b7b1790a18c4c92da3b9dbcbc02bb</th>\n",
              "      <th>0007140a3796e901f3190f12e9de6d7548d4ac4a</th>\n",
              "      <th>0007151403610e6b0d8c9c7352b2a72144a212d8</th>\n",
              "      <th>00071b4e8ffb68920638635660f887e8c43a3f36</th>\n",
              "      <th>000724134199acaa98869fc4ffb805198d2940eb</th>\n",
              "      <th>0007ccf17b03de70b8642e2548fe4c9be3b9e560</th>\n",
              "      <th>0007e2fe805dd791cd082707a85cd616e7808ea5</th>\n",
              "      <th>0008c5592e089fff5a99c4bd1ef4c2fc1a7bf2a8</th>\n",
              "      <th>000923be99eda0ecf81ca3351794f80dd758f696</th>\n",
              "      <th>000a05d1543724ff087cea15ede2fe4eb417ae8b</th>\n",
              "      <th>000a43eb37163bb2f93020e107a2d543f27257b7</th>\n",
              "      <th>000ae9c80733348ff64cd3716a27477b94578d9d</th>\n",
              "      <th>000b22f91d4992dba3a80025493059f972a7850e</th>\n",
              "      <th>000b30862af21f64b05bc8b35a1a13577948d34d</th>\n",
              "      <th>000b8aba8fde15a79a947b2fdaacf162726d4630</th>\n",
              "      <th>000d1ab78dfe1ed9201b762370743af08dc53f5b</th>\n",
              "      <th>000dd7137b511a0c6e45880de551c6a7019ee4c3</th>\n",
              "      <th>000f1aea4be1f190c79fcaf0ba158732b210fc0f</th>\n",
              "      <th>000f7987ddcba4eefb4a3f37d78c3347d887a1e7</th>\n",
              "      <th>000ff0be2ddd080905d46d155d2c3821cc127040</th>\n",
              "      <th>0011d5f4fb02ff276763d385c3f2ded2b00ad94a</th>\n",
              "      <th>00129ab0a7e969359aceab8c1db3db3342e17518</th>\n",
              "      <th>001599607ba12f1aa6d6ffe3237e00c4dda0055c</th>\n",
              "      <th>0015c41d2d3fd639bad125cf737039dcc65e1865</th>\n",
              "      <th>0015fa97e2a0ec2eaa252b9d892f8bac269e8c8b</th>\n",
              "      <th>00163db1225a833be3ce50798198a8059a507dae</th>\n",
              "      <th>0017af1a903e9c32db1c3ac11fc6fff3213c2e96</th>\n",
              "      <th>0018e70be70ebbdf1f2ec2dab891d0de0fe25710</th>\n",
              "      <th>001943f33f2b2b713f239c3e9f7f3233594ca4ab</th>\n",
              "      <th>...</th>\n",
              "      <th>ffe7958ffecb733473f495d5c3b3246e7b017522</th>\n",
              "      <th>ffe80dacced7e9dfe98074bab80eb11ef3b785c7</th>\n",
              "      <th>ffe8430dabbe08d48f505ae7e82b04031e9e4ebc</th>\n",
              "      <th>ffe95a4bf0b8178a8b1db270efe20aff5928dbf4</th>\n",
              "      <th>ffe96e24a565e460bac7f144a99b21e6b3ec421d</th>\n",
              "      <th>ffe98099df91d5ff4a9ab02f58bb9dc87b278cb2</th>\n",
              "      <th>ffe98240b89fb05e1997ed4933b544d434f108b1</th>\n",
              "      <th>ffe9b7a91e236149072a1e81a145c6c7eba3b808</th>\n",
              "      <th>ffeaa4970cbecf74e33de158d9eb110774dd9a53</th>\n",
              "      <th>ffeb0748367d0befd5c29e01416f0e79c4dbaa5f</th>\n",
              "      <th>ffec05a25ac8205943d2a4defcaf9aa609d9c63c</th>\n",
              "      <th>ffec588ea1dbc63bbd28f2155a10e03c020468a6</th>\n",
              "      <th>ffec87ea10f29a7103edd660c45c65527b1c4b9d</th>\n",
              "      <th>ffedd3bea08f4ef2c7e5df5821b5e79ef2ca6ae5</th>\n",
              "      <th>ffee87bc67591e8045e05674691672c5207c5e83</th>\n",
              "      <th>ffee916020d891a74264b8326829742333b79103</th>\n",
              "      <th>ffef132931d961bad8df82a6a8f200fa1aed7746</th>\n",
              "      <th>ffef5c05e4f25af2e8e9880af84d66936056b597</th>\n",
              "      <th>ffefed477ce4d09877e5483aac8d7123bec16bb6</th>\n",
              "      <th>fff040562f792c8d1caea35706d39160d0173f13</th>\n",
              "      <th>fff1310e43c6c37962596f528cd73d78aba17d1b</th>\n",
              "      <th>fff16c1f1888c93847d64df3d8446439efe743d5</th>\n",
              "      <th>fff16e33847fcc82338026c3c88293c1af139a8e</th>\n",
              "      <th>fff3b1ee05d9750e8868de9470ea46fcb0776f66</th>\n",
              "      <th>fff4438f5d96c5ecd66678f2a22fd7bbed59625f</th>\n",
              "      <th>fff5304527f3c658ce48cd7afa5b76b7b4172852</th>\n",
              "      <th>fff5f4a02dfb4d4b9f6ab5b728f48e235d99959a</th>\n",
              "      <th>fff6f087923420e4e5d2b0669531b26ae351bab4</th>\n",
              "      <th>fff7d30a45a17d26768d020b75818008a741ef2c</th>\n",
              "      <th>fff7d93d0384f02498bcbaefccd76bee486da8cc</th>\n",
              "      <th>fff7e94f0a8d3c6c705b5f7c677d61da82aa545b</th>\n",
              "      <th>fffa5731da86ec66f113b8eb8dc763c444110692</th>\n",
              "      <th>fffa8a20b865c4d2443785bab08bb498f0795a43</th>\n",
              "      <th>fffcfe9b89b791e39ff3e643aa57ae9303079c56</th>\n",
              "      <th>fffd0a1b26c37a55574d844277d176991d054f99</th>\n",
              "      <th>fffdef71f13352e9cff769f1d96f5ccf90f8955e</th>\n",
              "      <th>fffe29116f96c97b47a5dabdd406784ad0ba6f30</th>\n",
              "      <th>fffe5b73c50c72ca9c54947efac1fcacf59c4a17</th>\n",
              "      <th>fffed0bee753cd78494011b8b55dafd4f5c7e5ff</th>\n",
              "      <th>ffff07d7d9bb187aa58c7b81b3d3f35e7cf7c0ee</th>\n",
              "    </tr>\n",
              "    <tr>\n",
              "      <th>song</th>\n",
              "      <th></th>\n",
              "      <th></th>\n",
              "      <th></th>\n",
              "      <th></th>\n",
              "      <th></th>\n",
              "      <th></th>\n",
              "      <th></th>\n",
              "      <th></th>\n",
              "      <th></th>\n",
              "      <th></th>\n",
              "      <th></th>\n",
              "      <th></th>\n",
              "      <th></th>\n",
              "      <th></th>\n",
              "      <th></th>\n",
              "      <th></th>\n",
              "      <th></th>\n",
              "      <th></th>\n",
              "      <th></th>\n",
              "      <th></th>\n",
              "      <th></th>\n",
              "      <th></th>\n",
              "      <th></th>\n",
              "      <th></th>\n",
              "      <th></th>\n",
              "      <th></th>\n",
              "      <th></th>\n",
              "      <th></th>\n",
              "      <th></th>\n",
              "      <th></th>\n",
              "      <th></th>\n",
              "      <th></th>\n",
              "      <th></th>\n",
              "      <th></th>\n",
              "      <th></th>\n",
              "      <th></th>\n",
              "      <th></th>\n",
              "      <th></th>\n",
              "      <th></th>\n",
              "      <th></th>\n",
              "      <th></th>\n",
              "      <th></th>\n",
              "      <th></th>\n",
              "      <th></th>\n",
              "      <th></th>\n",
              "      <th></th>\n",
              "      <th></th>\n",
              "      <th></th>\n",
              "      <th></th>\n",
              "      <th></th>\n",
              "      <th></th>\n",
              "      <th></th>\n",
              "      <th></th>\n",
              "      <th></th>\n",
              "      <th></th>\n",
              "      <th></th>\n",
              "      <th></th>\n",
              "      <th></th>\n",
              "      <th></th>\n",
              "      <th></th>\n",
              "      <th></th>\n",
              "      <th></th>\n",
              "      <th></th>\n",
              "      <th></th>\n",
              "      <th></th>\n",
              "      <th></th>\n",
              "      <th></th>\n",
              "      <th></th>\n",
              "      <th></th>\n",
              "      <th></th>\n",
              "      <th></th>\n",
              "      <th></th>\n",
              "      <th></th>\n",
              "      <th></th>\n",
              "      <th></th>\n",
              "      <th></th>\n",
              "      <th></th>\n",
              "      <th></th>\n",
              "      <th></th>\n",
              "      <th></th>\n",
              "      <th></th>\n",
              "    </tr>\n",
              "  </thead>\n",
              "  <tbody>\n",
              "    <tr>\n",
              "      <th>Your Woman</th>\n",
              "      <td>0.0</td>\n",
              "      <td>0.0</td>\n",
              "      <td>0.0</td>\n",
              "      <td>0.0</td>\n",
              "      <td>0.0</td>\n",
              "      <td>0.0</td>\n",
              "      <td>0.0</td>\n",
              "      <td>0.0</td>\n",
              "      <td>0.0</td>\n",
              "      <td>0.0</td>\n",
              "      <td>0.0</td>\n",
              "      <td>0.0</td>\n",
              "      <td>0.0</td>\n",
              "      <td>0.0</td>\n",
              "      <td>0.0</td>\n",
              "      <td>0.0</td>\n",
              "      <td>0.0</td>\n",
              "      <td>0.0</td>\n",
              "      <td>0.0</td>\n",
              "      <td>0.0</td>\n",
              "      <td>0.0</td>\n",
              "      <td>0.0</td>\n",
              "      <td>0.0</td>\n",
              "      <td>0.0</td>\n",
              "      <td>0.0</td>\n",
              "      <td>0.0</td>\n",
              "      <td>0.0</td>\n",
              "      <td>0.0</td>\n",
              "      <td>0.0</td>\n",
              "      <td>0.0</td>\n",
              "      <td>0.0</td>\n",
              "      <td>0.0</td>\n",
              "      <td>0.0</td>\n",
              "      <td>0.0</td>\n",
              "      <td>0.0</td>\n",
              "      <td>0.0</td>\n",
              "      <td>0.0</td>\n",
              "      <td>0.0</td>\n",
              "      <td>0.0</td>\n",
              "      <td>0.0</td>\n",
              "      <td>...</td>\n",
              "      <td>0.0</td>\n",
              "      <td>0.0</td>\n",
              "      <td>0.0</td>\n",
              "      <td>0.0</td>\n",
              "      <td>0.0</td>\n",
              "      <td>0.0</td>\n",
              "      <td>0.0</td>\n",
              "      <td>0.0</td>\n",
              "      <td>0.0</td>\n",
              "      <td>0.0</td>\n",
              "      <td>0.0</td>\n",
              "      <td>0.0</td>\n",
              "      <td>0.0</td>\n",
              "      <td>0.0</td>\n",
              "      <td>0.0</td>\n",
              "      <td>0.0</td>\n",
              "      <td>0.0</td>\n",
              "      <td>0.0</td>\n",
              "      <td>0.0</td>\n",
              "      <td>0.0</td>\n",
              "      <td>0.0</td>\n",
              "      <td>0.0</td>\n",
              "      <td>0.0</td>\n",
              "      <td>0.0</td>\n",
              "      <td>0.0</td>\n",
              "      <td>0.0</td>\n",
              "      <td>0.0</td>\n",
              "      <td>0.0</td>\n",
              "      <td>0.0</td>\n",
              "      <td>0.0</td>\n",
              "      <td>0.0</td>\n",
              "      <td>0.0</td>\n",
              "      <td>0.0</td>\n",
              "      <td>0.0</td>\n",
              "      <td>0.0</td>\n",
              "      <td>0.0</td>\n",
              "      <td>0.0</td>\n",
              "      <td>0.0</td>\n",
              "      <td>0.0</td>\n",
              "      <td>0.0</td>\n",
              "    </tr>\n",
              "    <tr>\n",
              "      <th>Youth Against Fascism</th>\n",
              "      <td>0.0</td>\n",
              "      <td>0.0</td>\n",
              "      <td>0.0</td>\n",
              "      <td>0.0</td>\n",
              "      <td>0.0</td>\n",
              "      <td>0.0</td>\n",
              "      <td>0.0</td>\n",
              "      <td>0.0</td>\n",
              "      <td>0.0</td>\n",
              "      <td>0.0</td>\n",
              "      <td>0.0</td>\n",
              "      <td>0.0</td>\n",
              "      <td>0.0</td>\n",
              "      <td>0.0</td>\n",
              "      <td>0.0</td>\n",
              "      <td>0.0</td>\n",
              "      <td>0.0</td>\n",
              "      <td>0.0</td>\n",
              "      <td>0.0</td>\n",
              "      <td>0.0</td>\n",
              "      <td>0.0</td>\n",
              "      <td>0.0</td>\n",
              "      <td>0.0</td>\n",
              "      <td>0.0</td>\n",
              "      <td>0.0</td>\n",
              "      <td>0.0</td>\n",
              "      <td>0.0</td>\n",
              "      <td>0.0</td>\n",
              "      <td>0.0</td>\n",
              "      <td>0.0</td>\n",
              "      <td>0.0</td>\n",
              "      <td>0.0</td>\n",
              "      <td>0.0</td>\n",
              "      <td>0.0</td>\n",
              "      <td>0.0</td>\n",
              "      <td>0.0</td>\n",
              "      <td>0.0</td>\n",
              "      <td>0.0</td>\n",
              "      <td>0.0</td>\n",
              "      <td>0.0</td>\n",
              "      <td>...</td>\n",
              "      <td>0.0</td>\n",
              "      <td>0.0</td>\n",
              "      <td>0.0</td>\n",
              "      <td>0.0</td>\n",
              "      <td>0.0</td>\n",
              "      <td>0.0</td>\n",
              "      <td>0.0</td>\n",
              "      <td>0.0</td>\n",
              "      <td>0.0</td>\n",
              "      <td>0.0</td>\n",
              "      <td>0.0</td>\n",
              "      <td>0.0</td>\n",
              "      <td>0.0</td>\n",
              "      <td>0.0</td>\n",
              "      <td>0.0</td>\n",
              "      <td>0.0</td>\n",
              "      <td>0.0</td>\n",
              "      <td>0.0</td>\n",
              "      <td>0.0</td>\n",
              "      <td>0.0</td>\n",
              "      <td>0.0</td>\n",
              "      <td>0.0</td>\n",
              "      <td>0.0</td>\n",
              "      <td>0.0</td>\n",
              "      <td>0.0</td>\n",
              "      <td>0.0</td>\n",
              "      <td>0.0</td>\n",
              "      <td>0.0</td>\n",
              "      <td>0.0</td>\n",
              "      <td>0.0</td>\n",
              "      <td>0.0</td>\n",
              "      <td>0.0</td>\n",
              "      <td>0.0</td>\n",
              "      <td>0.0</td>\n",
              "      <td>0.0</td>\n",
              "      <td>0.0</td>\n",
              "      <td>0.0</td>\n",
              "      <td>0.0</td>\n",
              "      <td>0.0</td>\n",
              "      <td>0.0</td>\n",
              "    </tr>\n",
              "    <tr>\n",
              "      <th>Zero</th>\n",
              "      <td>0.0</td>\n",
              "      <td>0.0</td>\n",
              "      <td>0.0</td>\n",
              "      <td>0.0</td>\n",
              "      <td>0.0</td>\n",
              "      <td>0.0</td>\n",
              "      <td>0.0</td>\n",
              "      <td>0.0</td>\n",
              "      <td>0.0</td>\n",
              "      <td>0.0</td>\n",
              "      <td>0.0</td>\n",
              "      <td>0.0</td>\n",
              "      <td>0.0</td>\n",
              "      <td>0.0</td>\n",
              "      <td>0.0</td>\n",
              "      <td>0.0</td>\n",
              "      <td>0.0</td>\n",
              "      <td>0.0</td>\n",
              "      <td>0.0</td>\n",
              "      <td>0.0</td>\n",
              "      <td>0.0</td>\n",
              "      <td>0.0</td>\n",
              "      <td>0.0</td>\n",
              "      <td>0.0</td>\n",
              "      <td>0.0</td>\n",
              "      <td>0.0</td>\n",
              "      <td>0.0</td>\n",
              "      <td>0.0</td>\n",
              "      <td>0.0</td>\n",
              "      <td>0.0</td>\n",
              "      <td>0.0</td>\n",
              "      <td>0.0</td>\n",
              "      <td>0.0</td>\n",
              "      <td>0.0</td>\n",
              "      <td>0.0</td>\n",
              "      <td>0.0</td>\n",
              "      <td>0.0</td>\n",
              "      <td>0.0</td>\n",
              "      <td>0.0</td>\n",
              "      <td>0.0</td>\n",
              "      <td>...</td>\n",
              "      <td>0.0</td>\n",
              "      <td>0.0</td>\n",
              "      <td>0.0</td>\n",
              "      <td>0.0</td>\n",
              "      <td>0.0</td>\n",
              "      <td>0.0</td>\n",
              "      <td>0.0</td>\n",
              "      <td>0.0</td>\n",
              "      <td>0.0</td>\n",
              "      <td>0.0</td>\n",
              "      <td>0.0</td>\n",
              "      <td>0.0</td>\n",
              "      <td>0.0</td>\n",
              "      <td>0.0</td>\n",
              "      <td>0.0</td>\n",
              "      <td>0.0</td>\n",
              "      <td>0.0</td>\n",
              "      <td>0.0</td>\n",
              "      <td>0.0</td>\n",
              "      <td>0.0</td>\n",
              "      <td>0.0</td>\n",
              "      <td>0.0</td>\n",
              "      <td>0.0</td>\n",
              "      <td>0.0</td>\n",
              "      <td>0.0</td>\n",
              "      <td>0.0</td>\n",
              "      <td>0.0</td>\n",
              "      <td>0.0</td>\n",
              "      <td>0.0</td>\n",
              "      <td>0.0</td>\n",
              "      <td>0.0</td>\n",
              "      <td>0.0</td>\n",
              "      <td>0.0</td>\n",
              "      <td>0.0</td>\n",
              "      <td>0.0</td>\n",
              "      <td>0.0</td>\n",
              "      <td>0.0</td>\n",
              "      <td>0.0</td>\n",
              "      <td>0.0</td>\n",
              "      <td>0.0</td>\n",
              "    </tr>\n",
              "    <tr>\n",
              "      <th>paranoid android</th>\n",
              "      <td>0.0</td>\n",
              "      <td>0.0</td>\n",
              "      <td>0.0</td>\n",
              "      <td>0.0</td>\n",
              "      <td>0.0</td>\n",
              "      <td>0.0</td>\n",
              "      <td>0.0</td>\n",
              "      <td>0.0</td>\n",
              "      <td>0.0</td>\n",
              "      <td>0.0</td>\n",
              "      <td>0.0</td>\n",
              "      <td>0.0</td>\n",
              "      <td>0.0</td>\n",
              "      <td>0.0</td>\n",
              "      <td>0.0</td>\n",
              "      <td>0.0</td>\n",
              "      <td>0.0</td>\n",
              "      <td>0.0</td>\n",
              "      <td>0.0</td>\n",
              "      <td>0.0</td>\n",
              "      <td>0.0</td>\n",
              "      <td>0.0</td>\n",
              "      <td>0.0</td>\n",
              "      <td>0.0</td>\n",
              "      <td>0.0</td>\n",
              "      <td>0.0</td>\n",
              "      <td>0.0</td>\n",
              "      <td>0.0</td>\n",
              "      <td>0.0</td>\n",
              "      <td>0.0</td>\n",
              "      <td>0.0</td>\n",
              "      <td>0.0</td>\n",
              "      <td>0.0</td>\n",
              "      <td>0.0</td>\n",
              "      <td>0.0</td>\n",
              "      <td>0.0</td>\n",
              "      <td>0.0</td>\n",
              "      <td>0.0</td>\n",
              "      <td>0.0</td>\n",
              "      <td>0.0</td>\n",
              "      <td>...</td>\n",
              "      <td>0.0</td>\n",
              "      <td>0.0</td>\n",
              "      <td>0.0</td>\n",
              "      <td>0.0</td>\n",
              "      <td>0.0</td>\n",
              "      <td>0.0</td>\n",
              "      <td>0.0</td>\n",
              "      <td>0.0</td>\n",
              "      <td>0.0</td>\n",
              "      <td>0.0</td>\n",
              "      <td>0.0</td>\n",
              "      <td>0.0</td>\n",
              "      <td>0.0</td>\n",
              "      <td>0.0</td>\n",
              "      <td>0.0</td>\n",
              "      <td>0.0</td>\n",
              "      <td>0.0</td>\n",
              "      <td>0.0</td>\n",
              "      <td>0.0</td>\n",
              "      <td>0.0</td>\n",
              "      <td>0.0</td>\n",
              "      <td>0.0</td>\n",
              "      <td>0.0</td>\n",
              "      <td>0.0</td>\n",
              "      <td>0.0</td>\n",
              "      <td>0.0</td>\n",
              "      <td>0.0</td>\n",
              "      <td>0.0</td>\n",
              "      <td>0.0</td>\n",
              "      <td>0.0</td>\n",
              "      <td>0.0</td>\n",
              "      <td>0.0</td>\n",
              "      <td>0.0</td>\n",
              "      <td>0.0</td>\n",
              "      <td>0.0</td>\n",
              "      <td>0.0</td>\n",
              "      <td>0.0</td>\n",
              "      <td>0.0</td>\n",
              "      <td>0.0</td>\n",
              "      <td>0.0</td>\n",
              "    </tr>\n",
              "    <tr>\n",
              "      <th>re:stacks</th>\n",
              "      <td>0.0</td>\n",
              "      <td>9.0</td>\n",
              "      <td>0.0</td>\n",
              "      <td>0.0</td>\n",
              "      <td>0.0</td>\n",
              "      <td>0.0</td>\n",
              "      <td>0.0</td>\n",
              "      <td>0.0</td>\n",
              "      <td>0.0</td>\n",
              "      <td>0.0</td>\n",
              "      <td>0.0</td>\n",
              "      <td>0.0</td>\n",
              "      <td>0.0</td>\n",
              "      <td>0.0</td>\n",
              "      <td>0.0</td>\n",
              "      <td>0.0</td>\n",
              "      <td>0.0</td>\n",
              "      <td>0.0</td>\n",
              "      <td>0.0</td>\n",
              "      <td>0.0</td>\n",
              "      <td>0.0</td>\n",
              "      <td>0.0</td>\n",
              "      <td>0.0</td>\n",
              "      <td>0.0</td>\n",
              "      <td>0.0</td>\n",
              "      <td>0.0</td>\n",
              "      <td>0.0</td>\n",
              "      <td>0.0</td>\n",
              "      <td>0.0</td>\n",
              "      <td>0.0</td>\n",
              "      <td>0.0</td>\n",
              "      <td>0.0</td>\n",
              "      <td>0.0</td>\n",
              "      <td>0.0</td>\n",
              "      <td>0.0</td>\n",
              "      <td>0.0</td>\n",
              "      <td>0.0</td>\n",
              "      <td>0.0</td>\n",
              "      <td>0.0</td>\n",
              "      <td>0.0</td>\n",
              "      <td>...</td>\n",
              "      <td>0.0</td>\n",
              "      <td>0.0</td>\n",
              "      <td>0.0</td>\n",
              "      <td>0.0</td>\n",
              "      <td>0.0</td>\n",
              "      <td>0.0</td>\n",
              "      <td>0.0</td>\n",
              "      <td>0.0</td>\n",
              "      <td>0.0</td>\n",
              "      <td>0.0</td>\n",
              "      <td>0.0</td>\n",
              "      <td>0.0</td>\n",
              "      <td>0.0</td>\n",
              "      <td>0.0</td>\n",
              "      <td>0.0</td>\n",
              "      <td>0.0</td>\n",
              "      <td>0.0</td>\n",
              "      <td>0.0</td>\n",
              "      <td>0.0</td>\n",
              "      <td>0.0</td>\n",
              "      <td>0.0</td>\n",
              "      <td>0.0</td>\n",
              "      <td>0.0</td>\n",
              "      <td>0.0</td>\n",
              "      <td>0.0</td>\n",
              "      <td>0.0</td>\n",
              "      <td>0.0</td>\n",
              "      <td>0.0</td>\n",
              "      <td>0.0</td>\n",
              "      <td>0.0</td>\n",
              "      <td>0.0</td>\n",
              "      <td>0.0</td>\n",
              "      <td>0.0</td>\n",
              "      <td>0.0</td>\n",
              "      <td>0.0</td>\n",
              "      <td>0.0</td>\n",
              "      <td>0.0</td>\n",
              "      <td>4.0</td>\n",
              "      <td>0.0</td>\n",
              "      <td>0.0</td>\n",
              "    </tr>\n",
              "  </tbody>\n",
              "</table>\n",
              "<p>5 rows × 92562 columns</p>\n",
              "</div>"
            ],
            "text/plain": [
              "user_id                00014a76ed063e1a749171a253bca9d9a0ff1782  ...  ffff07d7d9bb187aa58c7b81b3d3f35e7cf7c0ee\n",
              "song                                                             ...                                          \n",
              "Your Woman                                                  0.0  ...                                       0.0\n",
              "Youth Against Fascism                                       0.0  ...                                       0.0\n",
              "Zero                                                        0.0  ...                                       0.0\n",
              "paranoid android                                            0.0  ...                                       0.0\n",
              "re:stacks                                                   0.0  ...                                       0.0\n",
              "\n",
              "[5 rows x 92562 columns]"
            ]
          },
          "metadata": {
            "tags": []
          },
          "execution_count": 45
        }
      ]
    },
    {
      "cell_type": "code",
      "metadata": {
        "id": "MLic5QLRXJdw"
      },
      "source": [
        "final_matrix=csr_matrix(user_rating_data.values)"
      ],
      "execution_count": null,
      "outputs": []
    },
    {
      "cell_type": "code",
      "metadata": {
        "id": "t2vlS2WbXLYr"
      },
      "source": [
        "model=NearestNeighbors(n_neighbors=3,\n",
        "                        radius=1.0,\n",
        "                         algorithm='brute',\n",
        "                         leaf_size=30,\n",
        "                         metric='cosine',\n",
        "                         metric_params=None,\n",
        "                        n_jobs=-1)"
      ],
      "execution_count": null,
      "outputs": []
    },
    {
      "cell_type": "code",
      "metadata": {
        "colab": {
          "base_uri": "https://localhost:8080/"
        },
        "id": "nUPOQ2FlYUWS",
        "outputId": "25e20a2e-b04a-4b24-b02b-c92fbf3e8681"
      },
      "source": [
        "model.fit(final_matrix)"
      ],
      "execution_count": null,
      "outputs": [
        {
          "output_type": "execute_result",
          "data": {
            "text/plain": [
              "NearestNeighbors(algorithm='brute', leaf_size=30, metric='cosine',\n",
              "                 metric_params=None, n_jobs=-1, n_neighbors=3, p=2, radius=1.0)"
            ]
          },
          "metadata": {
            "tags": []
          },
          "execution_count": 48
        }
      ]
    },
    {
      "cell_type": "code",
      "metadata": {
        "colab": {
          "base_uri": "https://localhost:8080/"
        },
        "id": "9-LGhUr9XN3m",
        "outputId": "823ae017-c1e4-484d-e03d-c29d57b1aa23"
      },
      "source": [
        "def recommend(song):\n",
        "  \n",
        "  position=user_rating_data.index.get_loc(song)\n",
        "  distances,indices = model.kneighbors(final_matrix[position,:].reshape(1, -1),n_neighbors=15)\n",
        "  print('If you liked {0}:\\n Then you will Definetly like these songs too \\n'.format(user_rating_data.index[position]))\n",
        "  for i in range(1,6):    \n",
        "    print('{0}: {1}\\n'.format(i,user_rating_data.index[indices.flatten()[i]]))\n",
        "\n",
        "\n",
        "recommend(\"Greece 2000\") # Gives similar songs"
      ],
      "execution_count": null,
      "outputs": [
        {
          "output_type": "stream",
          "text": [
            "If you liked Greece 2000:\n",
            " Then you will Definetly like these songs too \n",
            "\n",
            "1: Let Me Be Myself\n",
            "\n",
            "2: Citizen/Soldier\n",
            "\n",
            "3: Bedroom Suite\n",
            "\n",
            "4: Hero/Heroine\n",
            "\n",
            "5: Rock Star\n",
            "\n"
          ],
          "name": "stdout"
        }
      ]
    },
    {
      "cell_type": "markdown",
      "metadata": {
        "id": "HcnAjfpp60uA"
      },
      "source": [
        "# **CREATING MODEL USING CORRELATION**\n",
        "\n",
        "**Similar items and Users are found using Pearson Correlation Method**"
      ]
    },
    {
      "cell_type": "code",
      "metadata": {
        "id": "ojZDKQhkXUXi"
      },
      "source": [
        "#user_rating_data=final_df.pivot_table(index='song',columns='user_id',values='play_count')"
      ],
      "execution_count": null,
      "outputs": []
    },
    {
      "cell_type": "code",
      "metadata": {
        "id": "l0oYlhxQ5j8A"
      },
      "source": [
        "#user_rating_data.head()"
      ],
      "execution_count": null,
      "outputs": []
    },
    {
      "cell_type": "code",
      "metadata": {
        "id": "NG2PYMdv9AMH"
      },
      "source": [
        "user_rating_data.fillna(0,inplace=True)"
      ],
      "execution_count": 40,
      "outputs": []
    },
    {
      "cell_type": "markdown",
      "metadata": {
        "id": "O7eIJLr09P10"
      },
      "source": [
        "**Swapping the rows and columns of user_rating_data by taking its transpose**"
      ]
    },
    {
      "cell_type": "code",
      "metadata": {
        "id": "e2rulXidHnw_"
      },
      "source": [
        "user_rating_data_T = user_rating_data.T"
      ],
      "execution_count": 41,
      "outputs": []
    },
    {
      "cell_type": "markdown",
      "metadata": {
        "id": "SS4S4051Fk8v"
      },
      "source": [
        "## **Item Based Approach**\n",
        "\n",
        "**In this approach, similar items are recommended that the user is loving**"
      ]
    },
    {
      "cell_type": "code",
      "metadata": {
        "id": "9tKjX7SjIl8e"
      },
      "source": [
        "song = user_rating_data_T[\"I'll Be Your Man\"] # Passing the name of the song to find the similar songs"
      ],
      "execution_count": null,
      "outputs": []
    },
    {
      "cell_type": "code",
      "metadata": {
        "id": "z5HZ-U9RIl32"
      },
      "source": [
        "song_corr = user_rating_data_T.corrwith(song)\n",
        "song_corr = pd.DataFrame(song_corr, columns=['pearsonR'])\n",
        "song_corr.dropna(inplace=True)"
      ],
      "execution_count": null,
      "outputs": []
    },
    {
      "cell_type": "markdown",
      "metadata": {
        "id": "oyZn1-_J8ME2"
      },
      "source": [
        "**Top 5 most similar songs of the given song using Pearson Correlation**"
      ]
    },
    {
      "cell_type": "code",
      "metadata": {
        "colab": {
          "base_uri": "https://localhost:8080/"
        },
        "id": "VW7jErQzIlSh",
        "outputId": "cf9b85bd-076b-48ee-f769-99a83eed60f7"
      },
      "source": [
        "song_corr.sort_values(by = 'pearsonR',ascending=False).head()"
      ],
      "execution_count": null,
      "outputs": [
        {
          "output_type": "execute_result",
          "data": {
            "text/html": [
              "<div>\n",
              "<style scoped>\n",
              "    .dataframe tbody tr th:only-of-type {\n",
              "        vertical-align: middle;\n",
              "    }\n",
              "\n",
              "    .dataframe tbody tr th {\n",
              "        vertical-align: top;\n",
              "    }\n",
              "\n",
              "    .dataframe thead th {\n",
              "        text-align: right;\n",
              "    }\n",
              "</style>\n",
              "<table border=\"1\" class=\"dataframe\">\n",
              "  <thead>\n",
              "    <tr style=\"text-align: right;\">\n",
              "      <th></th>\n",
              "      <th>pearsonR</th>\n",
              "    </tr>\n",
              "    <tr>\n",
              "      <th>song</th>\n",
              "      <th></th>\n",
              "    </tr>\n",
              "  </thead>\n",
              "  <tbody>\n",
              "    <tr>\n",
              "      <th>I'll Be Your Man</th>\n",
              "      <td>1.000000</td>\n",
              "    </tr>\n",
              "    <tr>\n",
              "      <th>Esta Es Para Hacerte Féliz</th>\n",
              "      <td>0.089782</td>\n",
              "    </tr>\n",
              "    <tr>\n",
              "      <th>Snow [Hey Oh] (Album Version)</th>\n",
              "      <td>0.057385</td>\n",
              "    </tr>\n",
              "    <tr>\n",
              "      <th>Tighten Up</th>\n",
              "      <td>0.041757</td>\n",
              "    </tr>\n",
              "    <tr>\n",
              "      <th>Your Touch</th>\n",
              "      <td>0.039344</td>\n",
              "    </tr>\n",
              "  </tbody>\n",
              "</table>\n",
              "</div>"
            ],
            "text/plain": [
              "                               pearsonR\n",
              "song                                   \n",
              "I'll Be Your Man               1.000000\n",
              "Esta Es Para Hacerte Féliz     0.089782\n",
              "Snow [Hey Oh] (Album Version)  0.057385\n",
              "Tighten Up                     0.041757\n",
              "Your Touch                     0.039344"
            ]
          },
          "metadata": {
            "tags": []
          },
          "execution_count": 91
        }
      ]
    },
    {
      "cell_type": "markdown",
      "metadata": {
        "id": "IlVJ2G5XF5S0"
      },
      "source": [
        "## **User Based Approach**\n",
        "**In this approach, those items are recommended which are being loved by the similar users having similar behaviour**"
      ]
    },
    {
      "cell_type": "code",
      "metadata": {
        "colab": {
          "base_uri": "https://localhost:8080/",
          "height": 582
        },
        "id": "bBSxN_9RW2WM",
        "outputId": "0a67d7f9-5847-4251-eca0-b2fe2a9b70a4"
      },
      "source": [
        "user_rating_data_T.head()"
      ],
      "execution_count": null,
      "outputs": [
        {
          "output_type": "execute_result",
          "data": {
            "text/html": [
              "<div>\n",
              "<style scoped>\n",
              "    .dataframe tbody tr th:only-of-type {\n",
              "        vertical-align: middle;\n",
              "    }\n",
              "\n",
              "    .dataframe tbody tr th {\n",
              "        vertical-align: top;\n",
              "    }\n",
              "\n",
              "    .dataframe thead th {\n",
              "        text-align: right;\n",
              "    }\n",
              "</style>\n",
              "<table border=\"1\" class=\"dataframe\">\n",
              "  <thead>\n",
              "    <tr style=\"text-align: right;\">\n",
              "      <th>song</th>\n",
              "      <th>#40</th>\n",
              "      <th>'Till I Collapse</th>\n",
              "      <th>(Nice Dream)</th>\n",
              "      <th>(They Long To Be) Close To You</th>\n",
              "      <th>(iii)</th>\n",
              "      <th>1234</th>\n",
              "      <th>16 Candles</th>\n",
              "      <th>21 Guns [feat. Green Day &amp; The Cast Of American Idiot] (Album Version)</th>\n",
              "      <th>221</th>\n",
              "      <th>3AM (LP Version)</th>\n",
              "      <th>5.45</th>\n",
              "      <th>A Beggar On A Beach Of Gold</th>\n",
              "      <th>A Girl Like You</th>\n",
              "      <th>A Nightmare To Remember (Album Version)</th>\n",
              "      <th>A Whiter Shade Of Pale</th>\n",
              "      <th>A-Punk (Album)</th>\n",
              "      <th>Above The Clouds (Edited)</th>\n",
              "      <th>Abrazame</th>\n",
              "      <th>Acapulco 1922</th>\n",
              "      <th>Acende O Candieiro (2003 Digital Remaster)</th>\n",
              "      <th>Adam's Song</th>\n",
              "      <th>Addams Groove</th>\n",
              "      <th>Aerodynamic (Daft Punk Remix)</th>\n",
              "      <th>Aghia Sophia (2008 Digital Remaster)</th>\n",
              "      <th>Ain't Misbehavin</th>\n",
              "      <th>Ain't No Rest For The Wicked (Original Version)</th>\n",
              "      <th>Alejandro</th>\n",
              "      <th>Alejate De Mi</th>\n",
              "      <th>Alice</th>\n",
              "      <th>All Along The Watchtower</th>\n",
              "      <th>All Hands Against His Own</th>\n",
              "      <th>All I Do Is Win (feat. T-Pain_ Ludacris_ Snoop Dogg &amp; Rick Ross)</th>\n",
              "      <th>All I Ever Wanted</th>\n",
              "      <th>All I Need</th>\n",
              "      <th>All Men Are Liars</th>\n",
              "      <th>All My Life</th>\n",
              "      <th>All My Loving</th>\n",
              "      <th>All Night Long</th>\n",
              "      <th>All Star</th>\n",
              "      <th>All Summer Long (Album Version)</th>\n",
              "      <th>...</th>\n",
              "      <th>Working With Homesick</th>\n",
              "      <th>XRDS</th>\n",
              "      <th>Xehasmeni Melodia</th>\n",
              "      <th>Yeah Yeah</th>\n",
              "      <th>Yeah!</th>\n",
              "      <th>Yellin' At The Xmas Tree</th>\n",
              "      <th>Yellow</th>\n",
              "      <th>Yellow Ledbetter</th>\n",
              "      <th>Yes</th>\n",
              "      <th>Yesterday Once More</th>\n",
              "      <th>You</th>\n",
              "      <th>You And Me (Wedding Version)</th>\n",
              "      <th>You And Me Jesus</th>\n",
              "      <th>You And Your Heart</th>\n",
              "      <th>You Be The Anchor That Keeps My Feet On The Ground_ I'll Be The Wings That Keep Your Heart In The Clouds (Album)</th>\n",
              "      <th>You Belong With Me</th>\n",
              "      <th>You Could Be Mine</th>\n",
              "      <th>You Get What You Give</th>\n",
              "      <th>You Give Love A Bad Name</th>\n",
              "      <th>You Got Me</th>\n",
              "      <th>You Gotta Be</th>\n",
              "      <th>You Know I'm No Good</th>\n",
              "      <th>You Learn (Album Version)</th>\n",
              "      <th>You Never Miss The Water Until The Well Runs Dry</th>\n",
              "      <th>You'd Be So Nice To Come Home To</th>\n",
              "      <th>You'll Be In My Heart</th>\n",
              "      <th>You'll Never Know (My Love) (Bovellian 07 Mix)</th>\n",
              "      <th>You're Not Alone</th>\n",
              "      <th>You're The One</th>\n",
              "      <th>You've Got The Love</th>\n",
              "      <th>Young</th>\n",
              "      <th>Your Guardian Angel</th>\n",
              "      <th>Your Hand In Mine</th>\n",
              "      <th>Your Mother Should Have Told You</th>\n",
              "      <th>Your Touch</th>\n",
              "      <th>Your Woman</th>\n",
              "      <th>Youth Against Fascism</th>\n",
              "      <th>Zero</th>\n",
              "      <th>paranoid android</th>\n",
              "      <th>re:stacks</th>\n",
              "    </tr>\n",
              "    <tr>\n",
              "      <th>user_id</th>\n",
              "      <th></th>\n",
              "      <th></th>\n",
              "      <th></th>\n",
              "      <th></th>\n",
              "      <th></th>\n",
              "      <th></th>\n",
              "      <th></th>\n",
              "      <th></th>\n",
              "      <th></th>\n",
              "      <th></th>\n",
              "      <th></th>\n",
              "      <th></th>\n",
              "      <th></th>\n",
              "      <th></th>\n",
              "      <th></th>\n",
              "      <th></th>\n",
              "      <th></th>\n",
              "      <th></th>\n",
              "      <th></th>\n",
              "      <th></th>\n",
              "      <th></th>\n",
              "      <th></th>\n",
              "      <th></th>\n",
              "      <th></th>\n",
              "      <th></th>\n",
              "      <th></th>\n",
              "      <th></th>\n",
              "      <th></th>\n",
              "      <th></th>\n",
              "      <th></th>\n",
              "      <th></th>\n",
              "      <th></th>\n",
              "      <th></th>\n",
              "      <th></th>\n",
              "      <th></th>\n",
              "      <th></th>\n",
              "      <th></th>\n",
              "      <th></th>\n",
              "      <th></th>\n",
              "      <th></th>\n",
              "      <th></th>\n",
              "      <th></th>\n",
              "      <th></th>\n",
              "      <th></th>\n",
              "      <th></th>\n",
              "      <th></th>\n",
              "      <th></th>\n",
              "      <th></th>\n",
              "      <th></th>\n",
              "      <th></th>\n",
              "      <th></th>\n",
              "      <th></th>\n",
              "      <th></th>\n",
              "      <th></th>\n",
              "      <th></th>\n",
              "      <th></th>\n",
              "      <th></th>\n",
              "      <th></th>\n",
              "      <th></th>\n",
              "      <th></th>\n",
              "      <th></th>\n",
              "      <th></th>\n",
              "      <th></th>\n",
              "      <th></th>\n",
              "      <th></th>\n",
              "      <th></th>\n",
              "      <th></th>\n",
              "      <th></th>\n",
              "      <th></th>\n",
              "      <th></th>\n",
              "      <th></th>\n",
              "      <th></th>\n",
              "      <th></th>\n",
              "      <th></th>\n",
              "      <th></th>\n",
              "      <th></th>\n",
              "      <th></th>\n",
              "      <th></th>\n",
              "      <th></th>\n",
              "      <th></th>\n",
              "      <th></th>\n",
              "    </tr>\n",
              "  </thead>\n",
              "  <tbody>\n",
              "    <tr>\n",
              "      <th>00014a76ed063e1a749171a253bca9d9a0ff1782</th>\n",
              "      <td>0.0</td>\n",
              "      <td>0.0</td>\n",
              "      <td>0.0</td>\n",
              "      <td>0.0</td>\n",
              "      <td>0.0</td>\n",
              "      <td>0.0</td>\n",
              "      <td>0.0</td>\n",
              "      <td>0.0</td>\n",
              "      <td>0.0</td>\n",
              "      <td>0.0</td>\n",
              "      <td>0.0</td>\n",
              "      <td>0.0</td>\n",
              "      <td>0.0</td>\n",
              "      <td>0.0</td>\n",
              "      <td>0.0</td>\n",
              "      <td>0.0</td>\n",
              "      <td>0.0</td>\n",
              "      <td>0.0</td>\n",
              "      <td>0.0</td>\n",
              "      <td>0.0</td>\n",
              "      <td>0.0</td>\n",
              "      <td>0.0</td>\n",
              "      <td>0.0</td>\n",
              "      <td>0.0</td>\n",
              "      <td>0.0</td>\n",
              "      <td>0.0</td>\n",
              "      <td>0.0</td>\n",
              "      <td>0.0</td>\n",
              "      <td>0.0</td>\n",
              "      <td>0.0</td>\n",
              "      <td>0.0</td>\n",
              "      <td>0.0</td>\n",
              "      <td>0.0</td>\n",
              "      <td>0.0</td>\n",
              "      <td>0.0</td>\n",
              "      <td>0.0</td>\n",
              "      <td>0.0</td>\n",
              "      <td>0.0</td>\n",
              "      <td>0.0</td>\n",
              "      <td>0.0</td>\n",
              "      <td>...</td>\n",
              "      <td>0.0</td>\n",
              "      <td>0.0</td>\n",
              "      <td>0.0</td>\n",
              "      <td>0.0</td>\n",
              "      <td>0.0</td>\n",
              "      <td>0.0</td>\n",
              "      <td>0.0</td>\n",
              "      <td>0.0</td>\n",
              "      <td>0.0</td>\n",
              "      <td>0.0</td>\n",
              "      <td>0.0</td>\n",
              "      <td>0.0</td>\n",
              "      <td>0.0</td>\n",
              "      <td>0.0</td>\n",
              "      <td>0.0</td>\n",
              "      <td>0.0</td>\n",
              "      <td>0.0</td>\n",
              "      <td>0.0</td>\n",
              "      <td>0.0</td>\n",
              "      <td>0.0</td>\n",
              "      <td>0.0</td>\n",
              "      <td>0.0</td>\n",
              "      <td>0.0</td>\n",
              "      <td>0.0</td>\n",
              "      <td>0.0</td>\n",
              "      <td>0.0</td>\n",
              "      <td>0.0</td>\n",
              "      <td>0.0</td>\n",
              "      <td>0.0</td>\n",
              "      <td>0.0</td>\n",
              "      <td>0.0</td>\n",
              "      <td>0.0</td>\n",
              "      <td>0.0</td>\n",
              "      <td>0.0</td>\n",
              "      <td>0.0</td>\n",
              "      <td>0.0</td>\n",
              "      <td>0.0</td>\n",
              "      <td>0.0</td>\n",
              "      <td>0.0</td>\n",
              "      <td>0.0</td>\n",
              "    </tr>\n",
              "    <tr>\n",
              "      <th>00015189668691680bb1a2e58afde1541ec92ced</th>\n",
              "      <td>0.0</td>\n",
              "      <td>0.0</td>\n",
              "      <td>0.0</td>\n",
              "      <td>0.0</td>\n",
              "      <td>0.0</td>\n",
              "      <td>0.0</td>\n",
              "      <td>0.0</td>\n",
              "      <td>0.0</td>\n",
              "      <td>0.0</td>\n",
              "      <td>0.0</td>\n",
              "      <td>0.0</td>\n",
              "      <td>0.0</td>\n",
              "      <td>0.0</td>\n",
              "      <td>0.0</td>\n",
              "      <td>0.0</td>\n",
              "      <td>0.0</td>\n",
              "      <td>0.0</td>\n",
              "      <td>0.0</td>\n",
              "      <td>0.0</td>\n",
              "      <td>0.0</td>\n",
              "      <td>0.0</td>\n",
              "      <td>0.0</td>\n",
              "      <td>0.0</td>\n",
              "      <td>0.0</td>\n",
              "      <td>0.0</td>\n",
              "      <td>0.0</td>\n",
              "      <td>3.0</td>\n",
              "      <td>0.0</td>\n",
              "      <td>0.0</td>\n",
              "      <td>0.0</td>\n",
              "      <td>0.0</td>\n",
              "      <td>0.0</td>\n",
              "      <td>0.0</td>\n",
              "      <td>0.0</td>\n",
              "      <td>0.0</td>\n",
              "      <td>0.0</td>\n",
              "      <td>0.0</td>\n",
              "      <td>0.0</td>\n",
              "      <td>0.0</td>\n",
              "      <td>0.0</td>\n",
              "      <td>...</td>\n",
              "      <td>0.0</td>\n",
              "      <td>0.0</td>\n",
              "      <td>0.0</td>\n",
              "      <td>0.0</td>\n",
              "      <td>0.0</td>\n",
              "      <td>0.0</td>\n",
              "      <td>0.0</td>\n",
              "      <td>0.0</td>\n",
              "      <td>0.0</td>\n",
              "      <td>0.0</td>\n",
              "      <td>0.0</td>\n",
              "      <td>0.0</td>\n",
              "      <td>0.0</td>\n",
              "      <td>0.0</td>\n",
              "      <td>0.0</td>\n",
              "      <td>0.0</td>\n",
              "      <td>0.0</td>\n",
              "      <td>0.0</td>\n",
              "      <td>0.0</td>\n",
              "      <td>0.0</td>\n",
              "      <td>0.0</td>\n",
              "      <td>0.0</td>\n",
              "      <td>0.0</td>\n",
              "      <td>0.0</td>\n",
              "      <td>0.0</td>\n",
              "      <td>0.0</td>\n",
              "      <td>0.0</td>\n",
              "      <td>0.0</td>\n",
              "      <td>0.0</td>\n",
              "      <td>0.0</td>\n",
              "      <td>0.0</td>\n",
              "      <td>0.0</td>\n",
              "      <td>0.0</td>\n",
              "      <td>0.0</td>\n",
              "      <td>0.0</td>\n",
              "      <td>0.0</td>\n",
              "      <td>0.0</td>\n",
              "      <td>0.0</td>\n",
              "      <td>0.0</td>\n",
              "      <td>9.0</td>\n",
              "    </tr>\n",
              "    <tr>\n",
              "      <th>0001ff7aa2667c8d8b945317b88adaed1c0b9dc2</th>\n",
              "      <td>0.0</td>\n",
              "      <td>0.0</td>\n",
              "      <td>0.0</td>\n",
              "      <td>0.0</td>\n",
              "      <td>0.0</td>\n",
              "      <td>0.0</td>\n",
              "      <td>0.0</td>\n",
              "      <td>0.0</td>\n",
              "      <td>0.0</td>\n",
              "      <td>0.0</td>\n",
              "      <td>0.0</td>\n",
              "      <td>0.0</td>\n",
              "      <td>0.0</td>\n",
              "      <td>0.0</td>\n",
              "      <td>0.0</td>\n",
              "      <td>0.0</td>\n",
              "      <td>0.0</td>\n",
              "      <td>0.0</td>\n",
              "      <td>0.0</td>\n",
              "      <td>0.0</td>\n",
              "      <td>0.0</td>\n",
              "      <td>0.0</td>\n",
              "      <td>0.0</td>\n",
              "      <td>0.0</td>\n",
              "      <td>0.0</td>\n",
              "      <td>0.0</td>\n",
              "      <td>0.0</td>\n",
              "      <td>0.0</td>\n",
              "      <td>0.0</td>\n",
              "      <td>0.0</td>\n",
              "      <td>0.0</td>\n",
              "      <td>0.0</td>\n",
              "      <td>0.0</td>\n",
              "      <td>0.0</td>\n",
              "      <td>0.0</td>\n",
              "      <td>0.0</td>\n",
              "      <td>0.0</td>\n",
              "      <td>0.0</td>\n",
              "      <td>0.0</td>\n",
              "      <td>0.0</td>\n",
              "      <td>...</td>\n",
              "      <td>0.0</td>\n",
              "      <td>0.0</td>\n",
              "      <td>0.0</td>\n",
              "      <td>0.0</td>\n",
              "      <td>0.0</td>\n",
              "      <td>0.0</td>\n",
              "      <td>0.0</td>\n",
              "      <td>0.0</td>\n",
              "      <td>0.0</td>\n",
              "      <td>0.0</td>\n",
              "      <td>0.0</td>\n",
              "      <td>0.0</td>\n",
              "      <td>0.0</td>\n",
              "      <td>0.0</td>\n",
              "      <td>0.0</td>\n",
              "      <td>0.0</td>\n",
              "      <td>0.0</td>\n",
              "      <td>0.0</td>\n",
              "      <td>0.0</td>\n",
              "      <td>0.0</td>\n",
              "      <td>0.0</td>\n",
              "      <td>0.0</td>\n",
              "      <td>0.0</td>\n",
              "      <td>0.0</td>\n",
              "      <td>0.0</td>\n",
              "      <td>0.0</td>\n",
              "      <td>0.0</td>\n",
              "      <td>0.0</td>\n",
              "      <td>0.0</td>\n",
              "      <td>0.0</td>\n",
              "      <td>0.0</td>\n",
              "      <td>0.0</td>\n",
              "      <td>0.0</td>\n",
              "      <td>0.0</td>\n",
              "      <td>0.0</td>\n",
              "      <td>0.0</td>\n",
              "      <td>0.0</td>\n",
              "      <td>0.0</td>\n",
              "      <td>0.0</td>\n",
              "      <td>0.0</td>\n",
              "    </tr>\n",
              "    <tr>\n",
              "      <th>00020fcd8b01986a6a85b896ccde6c49f35142ad</th>\n",
              "      <td>0.0</td>\n",
              "      <td>0.0</td>\n",
              "      <td>0.0</td>\n",
              "      <td>0.0</td>\n",
              "      <td>0.0</td>\n",
              "      <td>0.0</td>\n",
              "      <td>0.0</td>\n",
              "      <td>0.0</td>\n",
              "      <td>0.0</td>\n",
              "      <td>0.0</td>\n",
              "      <td>0.0</td>\n",
              "      <td>0.0</td>\n",
              "      <td>0.0</td>\n",
              "      <td>0.0</td>\n",
              "      <td>0.0</td>\n",
              "      <td>0.0</td>\n",
              "      <td>0.0</td>\n",
              "      <td>0.0</td>\n",
              "      <td>0.0</td>\n",
              "      <td>0.0</td>\n",
              "      <td>0.0</td>\n",
              "      <td>0.0</td>\n",
              "      <td>0.0</td>\n",
              "      <td>0.0</td>\n",
              "      <td>0.0</td>\n",
              "      <td>0.0</td>\n",
              "      <td>0.0</td>\n",
              "      <td>0.0</td>\n",
              "      <td>0.0</td>\n",
              "      <td>0.0</td>\n",
              "      <td>0.0</td>\n",
              "      <td>0.0</td>\n",
              "      <td>0.0</td>\n",
              "      <td>0.0</td>\n",
              "      <td>0.0</td>\n",
              "      <td>0.0</td>\n",
              "      <td>0.0</td>\n",
              "      <td>0.0</td>\n",
              "      <td>0.0</td>\n",
              "      <td>0.0</td>\n",
              "      <td>...</td>\n",
              "      <td>0.0</td>\n",
              "      <td>0.0</td>\n",
              "      <td>0.0</td>\n",
              "      <td>0.0</td>\n",
              "      <td>0.0</td>\n",
              "      <td>0.0</td>\n",
              "      <td>0.0</td>\n",
              "      <td>0.0</td>\n",
              "      <td>0.0</td>\n",
              "      <td>0.0</td>\n",
              "      <td>0.0</td>\n",
              "      <td>0.0</td>\n",
              "      <td>0.0</td>\n",
              "      <td>0.0</td>\n",
              "      <td>0.0</td>\n",
              "      <td>0.0</td>\n",
              "      <td>0.0</td>\n",
              "      <td>0.0</td>\n",
              "      <td>0.0</td>\n",
              "      <td>0.0</td>\n",
              "      <td>0.0</td>\n",
              "      <td>0.0</td>\n",
              "      <td>0.0</td>\n",
              "      <td>0.0</td>\n",
              "      <td>0.0</td>\n",
              "      <td>0.0</td>\n",
              "      <td>0.0</td>\n",
              "      <td>0.0</td>\n",
              "      <td>0.0</td>\n",
              "      <td>0.0</td>\n",
              "      <td>0.0</td>\n",
              "      <td>0.0</td>\n",
              "      <td>0.0</td>\n",
              "      <td>0.0</td>\n",
              "      <td>0.0</td>\n",
              "      <td>0.0</td>\n",
              "      <td>0.0</td>\n",
              "      <td>0.0</td>\n",
              "      <td>0.0</td>\n",
              "      <td>0.0</td>\n",
              "    </tr>\n",
              "    <tr>\n",
              "      <th>0003798d61a8010dbfd8010180b7107cbbb8a649</th>\n",
              "      <td>0.0</td>\n",
              "      <td>0.0</td>\n",
              "      <td>0.0</td>\n",
              "      <td>0.0</td>\n",
              "      <td>0.0</td>\n",
              "      <td>0.0</td>\n",
              "      <td>0.0</td>\n",
              "      <td>0.0</td>\n",
              "      <td>0.0</td>\n",
              "      <td>0.0</td>\n",
              "      <td>0.0</td>\n",
              "      <td>0.0</td>\n",
              "      <td>0.0</td>\n",
              "      <td>0.0</td>\n",
              "      <td>0.0</td>\n",
              "      <td>0.0</td>\n",
              "      <td>0.0</td>\n",
              "      <td>0.0</td>\n",
              "      <td>0.0</td>\n",
              "      <td>0.0</td>\n",
              "      <td>0.0</td>\n",
              "      <td>0.0</td>\n",
              "      <td>0.0</td>\n",
              "      <td>0.0</td>\n",
              "      <td>0.0</td>\n",
              "      <td>0.0</td>\n",
              "      <td>0.0</td>\n",
              "      <td>0.0</td>\n",
              "      <td>0.0</td>\n",
              "      <td>0.0</td>\n",
              "      <td>0.0</td>\n",
              "      <td>0.0</td>\n",
              "      <td>0.0</td>\n",
              "      <td>0.0</td>\n",
              "      <td>0.0</td>\n",
              "      <td>0.0</td>\n",
              "      <td>0.0</td>\n",
              "      <td>0.0</td>\n",
              "      <td>0.0</td>\n",
              "      <td>0.0</td>\n",
              "      <td>...</td>\n",
              "      <td>0.0</td>\n",
              "      <td>0.0</td>\n",
              "      <td>0.0</td>\n",
              "      <td>0.0</td>\n",
              "      <td>0.0</td>\n",
              "      <td>0.0</td>\n",
              "      <td>0.0</td>\n",
              "      <td>0.0</td>\n",
              "      <td>0.0</td>\n",
              "      <td>0.0</td>\n",
              "      <td>0.0</td>\n",
              "      <td>0.0</td>\n",
              "      <td>0.0</td>\n",
              "      <td>0.0</td>\n",
              "      <td>0.0</td>\n",
              "      <td>1.0</td>\n",
              "      <td>0.0</td>\n",
              "      <td>0.0</td>\n",
              "      <td>0.0</td>\n",
              "      <td>0.0</td>\n",
              "      <td>0.0</td>\n",
              "      <td>0.0</td>\n",
              "      <td>0.0</td>\n",
              "      <td>0.0</td>\n",
              "      <td>0.0</td>\n",
              "      <td>0.0</td>\n",
              "      <td>0.0</td>\n",
              "      <td>0.0</td>\n",
              "      <td>0.0</td>\n",
              "      <td>0.0</td>\n",
              "      <td>0.0</td>\n",
              "      <td>0.0</td>\n",
              "      <td>0.0</td>\n",
              "      <td>0.0</td>\n",
              "      <td>0.0</td>\n",
              "      <td>0.0</td>\n",
              "      <td>0.0</td>\n",
              "      <td>0.0</td>\n",
              "      <td>0.0</td>\n",
              "      <td>0.0</td>\n",
              "    </tr>\n",
              "  </tbody>\n",
              "</table>\n",
              "<p>5 rows × 1160 columns</p>\n",
              "</div>"
            ],
            "text/plain": [
              "song                                      #40  ...  re:stacks\n",
              "user_id                                        ...           \n",
              "00014a76ed063e1a749171a253bca9d9a0ff1782  0.0  ...        0.0\n",
              "00015189668691680bb1a2e58afde1541ec92ced  0.0  ...        9.0\n",
              "0001ff7aa2667c8d8b945317b88adaed1c0b9dc2  0.0  ...        0.0\n",
              "00020fcd8b01986a6a85b896ccde6c49f35142ad  0.0  ...        0.0\n",
              "0003798d61a8010dbfd8010180b7107cbbb8a649  0.0  ...        0.0\n",
              "\n",
              "[5 rows x 1160 columns]"
            ]
          },
          "metadata": {
            "tags": []
          },
          "execution_count": 55
        }
      ]
    },
    {
      "cell_type": "code",
      "metadata": {
        "id": "TuJIvhqQVAER"
      },
      "source": [
        "def similar_user(user):\n",
        "  user = user_rating_data[user]# taking the whole data of the particular user\n",
        "  user_similar = user_rating_data.corrwith(user) # Calculating his/her correrlation with other users\n",
        "  user_similar = pd.DataFrame(user_similar, columns=['pearsonR']) # Creating the dataframae of those correlation values\n",
        "  user_similar.dropna(inplace=True)\n",
        "  top_5 = user_similar.sort_values(by='pearsonR',ascending=False).head().index # Getting the user_id of top 5 highly correlated users\n",
        "  user_list = list(top_5) # Storing the user_id's into the list\n",
        "  j=1\n",
        "\n",
        "  print('Top 5 songs that other most similar users are loving:')\n",
        "  for i in user_list:\n",
        "    position=user_rating_data_T.index.get_loc(i) # Getting the location of the user_id's in the user_rating_data_T pivot table\n",
        "    \n",
        "    print(j,\"----->\",user_rating_data_T[user_rating_data_T.index==i].idxmax(axis=1).values[0]) # Getting the most favourite songs of those users\n",
        "\n",
        "\n",
        "    j+=1"
      ],
      "execution_count": null,
      "outputs": []
    },
    {
      "cell_type": "code",
      "metadata": {
        "colab": {
          "base_uri": "https://localhost:8080/"
        },
        "id": "8Qw_MdVbVRu1",
        "outputId": "53f47b37-0936-4510-c9b2-d61494914171"
      },
      "source": [
        "similar_user('00015189668691680bb1a2e58afde1541ec92ced')"
      ],
      "execution_count": null,
      "outputs": [
        {
          "output_type": "stream",
          "text": [
            "Top 5 songs that other most similar users are loving:\n",
            "1 -----> Speak\n",
            "2 -----> For Emma\n",
            "3 -----> Speak\n",
            "4 -----> re:stacks\n",
            "5 -----> For Emma\n"
          ],
          "name": "stdout"
        }
      ]
    },
    {
      "cell_type": "markdown",
      "metadata": {
        "id": "JtOB5YuXa5e5"
      },
      "source": [
        "# **Content Based Filtering**\n",
        "\n",
        "**It Provides recommendations based on reaction or feedback of the users about the particular item by extracting features from their reviews**"
      ]
    },
    {
      "cell_type": "code",
      "metadata": {
        "colab": {
          "base_uri": "https://localhost:8080/",
          "height": 204
        },
        "id": "Qia6zA749It4",
        "outputId": "0b28cd26-afa4-4508-98aa-c8ab1dbc6dbc"
      },
      "source": [
        "final_df.head()"
      ],
      "execution_count": 42,
      "outputs": [
        {
          "output_type": "execute_result",
          "data": {
            "text/html": [
              "<div>\n",
              "<style scoped>\n",
              "    .dataframe tbody tr th:only-of-type {\n",
              "        vertical-align: middle;\n",
              "    }\n",
              "\n",
              "    .dataframe tbody tr th {\n",
              "        vertical-align: top;\n",
              "    }\n",
              "\n",
              "    .dataframe thead th {\n",
              "        text-align: right;\n",
              "    }\n",
              "</style>\n",
              "<table border=\"1\" class=\"dataframe\">\n",
              "  <thead>\n",
              "    <tr style=\"text-align: right;\">\n",
              "      <th></th>\n",
              "      <th>user_id</th>\n",
              "      <th>song_id</th>\n",
              "      <th>play_count</th>\n",
              "      <th>song</th>\n",
              "      <th>user_count</th>\n",
              "      <th>total_play_count</th>\n",
              "    </tr>\n",
              "  </thead>\n",
              "  <tbody>\n",
              "    <tr>\n",
              "      <th>0</th>\n",
              "      <td>fd50c4007b68a3737fe052d5a4f78ce8aa117f3d</td>\n",
              "      <td>SOBONKR12A58A7A7E0</td>\n",
              "      <td>1</td>\n",
              "      <td>You're The One</td>\n",
              "      <td>4270</td>\n",
              "      <td>35738</td>\n",
              "    </tr>\n",
              "    <tr>\n",
              "      <th>1</th>\n",
              "      <td>c34670d9c1718361feb93068a853cead3c95b76a</td>\n",
              "      <td>SOBONKR12A58A7A7E0</td>\n",
              "      <td>1</td>\n",
              "      <td>You're The One</td>\n",
              "      <td>4270</td>\n",
              "      <td>35738</td>\n",
              "    </tr>\n",
              "    <tr>\n",
              "      <th>2</th>\n",
              "      <td>c5006d9f41f68ccccbf5ee29212b6af494110c5e</td>\n",
              "      <td>SOBONKR12A58A7A7E0</td>\n",
              "      <td>1</td>\n",
              "      <td>You're The One</td>\n",
              "      <td>4270</td>\n",
              "      <td>35738</td>\n",
              "    </tr>\n",
              "    <tr>\n",
              "      <th>3</th>\n",
              "      <td>e4332e11f4df6dd26673bb6b085e9a2bbdc9b8a5</td>\n",
              "      <td>SOBONKR12A58A7A7E0</td>\n",
              "      <td>2</td>\n",
              "      <td>You're The One</td>\n",
              "      <td>4270</td>\n",
              "      <td>35738</td>\n",
              "    </tr>\n",
              "    <tr>\n",
              "      <th>4</th>\n",
              "      <td>baf2fe5885ab93fbbdb7fecc6691788e70afb6c8</td>\n",
              "      <td>SOBONKR12A58A7A7E0</td>\n",
              "      <td>4</td>\n",
              "      <td>You're The One</td>\n",
              "      <td>4270</td>\n",
              "      <td>35738</td>\n",
              "    </tr>\n",
              "  </tbody>\n",
              "</table>\n",
              "</div>"
            ],
            "text/plain": [
              "                                    user_id  ... total_play_count\n",
              "0  fd50c4007b68a3737fe052d5a4f78ce8aa117f3d  ...            35738\n",
              "1  c34670d9c1718361feb93068a853cead3c95b76a  ...            35738\n",
              "2  c5006d9f41f68ccccbf5ee29212b6af494110c5e  ...            35738\n",
              "3  e4332e11f4df6dd26673bb6b085e9a2bbdc9b8a5  ...            35738\n",
              "4  baf2fe5885ab93fbbdb7fecc6691788e70afb6c8  ...            35738\n",
              "\n",
              "[5 rows x 6 columns]"
            ]
          },
          "metadata": {
            "tags": []
          },
          "execution_count": 42
        }
      ]
    },
    {
      "cell_type": "markdown",
      "metadata": {
        "id": "yS6rne1f5_vq"
      },
      "source": [
        "**new is our sample dataset used to test the approach of content based filtering**"
      ]
    },
    {
      "cell_type": "code",
      "metadata": {
        "id": "696PUM-E05aQ"
      },
      "source": [
        "new = combined[(combined['user_count'] > 600) & (combined['total_play_count'] >= 20000)]"
      ],
      "execution_count": 51,
      "outputs": []
    },
    {
      "cell_type": "code",
      "metadata": {
        "colab": {
          "base_uri": "https://localhost:8080/"
        },
        "id": "YuXXc7PVuqiV",
        "outputId": "826a23f7-34ae-4b42-e82e-a1c44d04535a"
      },
      "source": [
        "new.shape"
      ],
      "execution_count": 52,
      "outputs": [
        {
          "output_type": "execute_result",
          "data": {
            "text/plain": [
              "(12425, 6)"
            ]
          },
          "metadata": {
            "tags": []
          },
          "execution_count": 52
        }
      ]
    },
    {
      "cell_type": "code",
      "metadata": {
        "colab": {
          "base_uri": "https://localhost:8080/",
          "height": 204
        },
        "id": "KjE-DgIwJ_Zz",
        "outputId": "a7b3d46a-5af4-42cd-ffa0-64d960e9d50c"
      },
      "source": [
        "new.tail()"
      ],
      "execution_count": 53,
      "outputs": [
        {
          "output_type": "execute_result",
          "data": {
            "text/html": [
              "<div>\n",
              "<style scoped>\n",
              "    .dataframe tbody tr th:only-of-type {\n",
              "        vertical-align: middle;\n",
              "    }\n",
              "\n",
              "    .dataframe tbody tr th {\n",
              "        vertical-align: top;\n",
              "    }\n",
              "\n",
              "    .dataframe thead th {\n",
              "        text-align: right;\n",
              "    }\n",
              "</style>\n",
              "<table border=\"1\" class=\"dataframe\">\n",
              "  <thead>\n",
              "    <tr style=\"text-align: right;\">\n",
              "      <th></th>\n",
              "      <th>user_id</th>\n",
              "      <th>song_id</th>\n",
              "      <th>play_count</th>\n",
              "      <th>song</th>\n",
              "      <th>user_count</th>\n",
              "      <th>total_play_count</th>\n",
              "    </tr>\n",
              "  </thead>\n",
              "  <tbody>\n",
              "    <tr>\n",
              "      <th>1326804</th>\n",
              "      <td>9255cd855c06bed7535a598e92d37cd01246fe5f</td>\n",
              "      <td>SOJAEYM12A58A7CA33</td>\n",
              "      <td>1</td>\n",
              "      <td>You're The One</td>\n",
              "      <td>4270</td>\n",
              "      <td>35738</td>\n",
              "    </tr>\n",
              "    <tr>\n",
              "      <th>1419391</th>\n",
              "      <td>c643865457a0c34773e8325c2b09576d654a7f73</td>\n",
              "      <td>SOIAIGV12A8AE47648</td>\n",
              "      <td>1</td>\n",
              "      <td>You're The One</td>\n",
              "      <td>4270</td>\n",
              "      <td>35738</td>\n",
              "    </tr>\n",
              "    <tr>\n",
              "      <th>1439398</th>\n",
              "      <td>632fcb66ae06f4a17308f27b1ca9f57d31dbc5f5</td>\n",
              "      <td>SOVCXRC12AB0182DB5</td>\n",
              "      <td>1</td>\n",
              "      <td>You're The One</td>\n",
              "      <td>4270</td>\n",
              "      <td>35738</td>\n",
              "    </tr>\n",
              "    <tr>\n",
              "      <th>1439399</th>\n",
              "      <td>b1bda682567ec5405ed4cc4a804b02dac8557c31</td>\n",
              "      <td>SOVCXRC12AB0182DB5</td>\n",
              "      <td>5</td>\n",
              "      <td>You're The One</td>\n",
              "      <td>4270</td>\n",
              "      <td>35738</td>\n",
              "    </tr>\n",
              "    <tr>\n",
              "      <th>1443910</th>\n",
              "      <td>1e6d385e38671ee026f2eb86ce27113b67ea381f</td>\n",
              "      <td>SOGACQO12A8AE4659D</td>\n",
              "      <td>1</td>\n",
              "      <td>You're The One</td>\n",
              "      <td>4270</td>\n",
              "      <td>35738</td>\n",
              "    </tr>\n",
              "  </tbody>\n",
              "</table>\n",
              "</div>"
            ],
            "text/plain": [
              "                                          user_id  ... total_play_count\n",
              "1326804  9255cd855c06bed7535a598e92d37cd01246fe5f  ...            35738\n",
              "1419391  c643865457a0c34773e8325c2b09576d654a7f73  ...            35738\n",
              "1439398  632fcb66ae06f4a17308f27b1ca9f57d31dbc5f5  ...            35738\n",
              "1439399  b1bda682567ec5405ed4cc4a804b02dac8557c31  ...            35738\n",
              "1443910  1e6d385e38671ee026f2eb86ce27113b67ea381f  ...            35738\n",
              "\n",
              "[5 rows x 6 columns]"
            ]
          },
          "metadata": {
            "tags": []
          },
          "execution_count": 53
        }
      ]
    },
    {
      "cell_type": "code",
      "metadata": {
        "colab": {
          "base_uri": "https://localhost:8080/"
        },
        "id": "OtvX7pr41NUM",
        "outputId": "3c2ea1a1-530a-4087-e01a-3934de04f0db"
      },
      "source": [
        "new['song'].unique()"
      ],
      "execution_count": 54,
      "outputs": [
        {
          "output_type": "execute_result",
          "data": {
            "text/plain": [
              "array([\"You're The One\", 'Undo', 'Revelry'], dtype=object)"
            ]
          },
          "metadata": {
            "tags": []
          },
          "execution_count": 54
        }
      ]
    },
    {
      "cell_type": "markdown",
      "metadata": {
        "id": "53U6AQdPtiJY"
      },
      "source": [
        "**Converting the names of the songs into numeric values**"
      ]
    },
    {
      "cell_type": "code",
      "metadata": {
        "id": "zr51xIjfiUmu",
        "colab": {
          "base_uri": "https://localhost:8080/"
        },
        "outputId": "45907b3e-147d-4067-cfb4-c1ab0c62630c"
      },
      "source": [
        "from sklearn.feature_extraction.text import TfidfVectorizer\n",
        "tvf = TfidfVectorizer(analyzer='word', stop_words='english')\n",
        "new[\"song\"]=new[\"song\"].fillna('')"
      ],
      "execution_count": 55,
      "outputs": [
        {
          "output_type": "stream",
          "text": [
            "/usr/local/lib/python3.7/dist-packages/ipykernel_launcher.py:3: SettingWithCopyWarning: \n",
            "A value is trying to be set on a copy of a slice from a DataFrame.\n",
            "Try using .loc[row_indexer,col_indexer] = value instead\n",
            "\n",
            "See the caveats in the documentation: https://pandas.pydata.org/pandas-docs/stable/user_guide/indexing.html#returning-a-view-versus-a-copy\n",
            "  This is separate from the ipykernel package so we can avoid doing imports until\n"
          ],
          "name": "stderr"
        }
      ]
    },
    {
      "cell_type": "code",
      "metadata": {
        "id": "anzd7yyCqfhq"
      },
      "source": [
        "tvf_matrix=tvf.fit_transform(new[\"song\"].values.astype('U'))"
      ],
      "execution_count": 56,
      "outputs": []
    },
    {
      "cell_type": "code",
      "metadata": {
        "colab": {
          "base_uri": "https://localhost:8080/"
        },
        "id": "pn6b4rXHneoI",
        "outputId": "a6f981b3-f9a8-471c-d3f8-8be4de31f004"
      },
      "source": [
        "tvf_matrix.shape"
      ],
      "execution_count": 57,
      "outputs": [
        {
          "output_type": "execute_result",
          "data": {
            "text/plain": [
              "(12425, 2)"
            ]
          },
          "metadata": {
            "tags": []
          },
          "execution_count": 57
        }
      ]
    },
    {
      "cell_type": "code",
      "metadata": {
        "id": "1y0LLevYiUu8"
      },
      "source": [
        "from sklearn.metrics.pairwise import cosine_similarity\n",
        "cosine_similarities=cosine_similarity(tvf_matrix)"
      ],
      "execution_count": 58,
      "outputs": []
    },
    {
      "cell_type": "code",
      "metadata": {
        "colab": {
          "base_uri": "https://localhost:8080/"
        },
        "id": "hWqJfcFITg7o",
        "outputId": "71a45f1e-f667-4505-f021-a327220827a0"
      },
      "source": [
        "cosine_similarities"
      ],
      "execution_count": 59,
      "outputs": [
        {
          "output_type": "execute_result",
          "data": {
            "text/plain": [
              "array([[0., 0., 0., ..., 0., 0., 0.],\n",
              "       [0., 0., 0., ..., 0., 0., 0.],\n",
              "       [0., 0., 0., ..., 0., 0., 0.],\n",
              "       ...,\n",
              "       [0., 0., 0., ..., 0., 0., 0.],\n",
              "       [0., 0., 0., ..., 0., 0., 0.],\n",
              "       [0., 0., 0., ..., 0., 0., 0.]])"
            ]
          },
          "metadata": {
            "tags": []
          },
          "execution_count": 59
        }
      ]
    },
    {
      "cell_type": "code",
      "metadata": {
        "id": "iTkUepasTnK9"
      },
      "source": [
        "indices = pd.Series(new.index, index=new['song']).drop_duplicates()"
      ],
      "execution_count": 60,
      "outputs": []
    },
    {
      "cell_type": "code",
      "metadata": {
        "id": "QiYR_eXDThA5"
      },
      "source": [
        "def get_recommendations(title, cosine_sim=cosine_similarities):\n",
        "    # Get the index of the movie that matches the title\n",
        "    \n",
        "    posi=indices.index.get_loc(\"You're The One\")\n",
        "    lst_index=[]\n",
        "    for i in range(0,len(posi)):\n",
        "      if posi[i]==True:\n",
        "        lst_index.append(i)\n",
        "\n",
        "    new_new=pd.DataFrame(cosine_similarities).drop(lst_index,axis=1)\n",
        "    new_new=pd.DataFrame(cosine_similarities).drop(lst_index,axis=0)\n",
        "\n",
        "\n",
        "    # Get the pairwsie similarity scores of all movies with that movie\n",
        "    sim_scores = list(enumerate(new_new[lst_index[0]]))\n",
        "        \n",
        "    # Sort the movies based on the similarity scores\n",
        "    sim_scores = sorted(sim_scores, key=lambda x: x[1], reverse=True)\n",
        "\n",
        "    # Get the scores of the 10 most similar movies\n",
        "    sim_scores = sim_scores[1:10]\n",
        "\n",
        "    # Get the movie indices\n",
        "    movie_indices = [i[0] for i in sim_scores]\n",
        "\n",
        "    # Return the top 10 most similar movies\n",
        "    return new['song'].iloc[movie_indices]"
      ],
      "execution_count": 64,
      "outputs": []
    },
    {
      "cell_type": "code",
      "metadata": {
        "id": "9b6e5fQITnQO",
        "colab": {
          "base_uri": "https://localhost:8080/"
        },
        "outputId": "314dec79-e802-42f1-8eb4-828e0cd930ba"
      },
      "source": [
        "print(get_recommendations(\"Undo\"))"
      ],
      "execution_count": 65,
      "outputs": [
        {
          "output_type": "stream",
          "text": [
            "1    You're The One\n",
            "2    You're The One\n",
            "3    You're The One\n",
            "4    You're The One\n",
            "5    You're The One\n",
            "6    You're The One\n",
            "7    You're The One\n",
            "8    You're The One\n",
            "9    You're The One\n",
            "Name: song, dtype: object\n"
          ],
          "name": "stdout"
        }
      ]
    },
    {
      "cell_type": "markdown",
      "metadata": {
        "id": "wKE5yfksblF8"
      },
      "source": [
        "**Here, I am trying to show the implementation of content based filtering although the data is not made according to that**"
      ]
    },
    {
      "cell_type": "markdown",
      "metadata": {
        "id": "qPjRiimU0ZvZ"
      },
      "source": [
        "# **Collaborative Filtering Using Surprise Library**"
      ]
    },
    {
      "cell_type": "code",
      "metadata": {
        "colab": {
          "base_uri": "https://localhost:8080/"
        },
        "id": "Q552zKlJaH6u",
        "outputId": "49e76c9a-d2a6-491f-f3fb-66d83f0ac07d"
      },
      "source": [
        "!pip install surprise\n",
        "import surprise\n",
        "from surprise.prediction_algorithms.knns import KNNBasic\n",
        "from surprise.model_selection import cross_validate"
      ],
      "execution_count": null,
      "outputs": [
        {
          "output_type": "stream",
          "text": [
            "Collecting surprise\n",
            "  Downloading https://files.pythonhosted.org/packages/61/de/e5cba8682201fcf9c3719a6fdda95693468ed061945493dea2dd37c5618b/surprise-0.1-py2.py3-none-any.whl\n",
            "Collecting scikit-surprise\n",
            "\u001b[?25l  Downloading https://files.pythonhosted.org/packages/97/37/5d334adaf5ddd65da99fc65f6507e0e4599d092ba048f4302fe8775619e8/scikit-surprise-1.1.1.tar.gz (11.8MB)\n",
            "\u001b[K     |████████████████████████████████| 11.8MB 18.8MB/s \n",
            "\u001b[?25hRequirement already satisfied: joblib>=0.11 in /usr/local/lib/python3.7/dist-packages (from scikit-surprise->surprise) (1.0.1)\n",
            "Requirement already satisfied: numpy>=1.11.2 in /usr/local/lib/python3.7/dist-packages (from scikit-surprise->surprise) (1.19.5)\n",
            "Requirement already satisfied: scipy>=1.0.0 in /usr/local/lib/python3.7/dist-packages (from scikit-surprise->surprise) (1.4.1)\n",
            "Requirement already satisfied: six>=1.10.0 in /usr/local/lib/python3.7/dist-packages (from scikit-surprise->surprise) (1.15.0)\n",
            "Building wheels for collected packages: scikit-surprise\n",
            "  Building wheel for scikit-surprise (setup.py) ... \u001b[?25l\u001b[?25hdone\n",
            "  Created wheel for scikit-surprise: filename=scikit_surprise-1.1.1-cp37-cp37m-linux_x86_64.whl size=1617686 sha256=90d7bfbf56a7c6bc5ebe16f68d78f3d2a3a8af75dd2f8b1da53347c2c7c01f40\n",
            "  Stored in directory: /root/.cache/pip/wheels/78/9c/3d/41b419c9d2aff5b6e2b4c0fc8d25c538202834058f9ed110d0\n",
            "Successfully built scikit-surprise\n",
            "Installing collected packages: scikit-surprise, surprise\n",
            "Successfully installed scikit-surprise-1.1.1 surprise-0.1\n"
          ],
          "name": "stdout"
        }
      ]
    },
    {
      "cell_type": "code",
      "metadata": {
        "id": "hlRyJha5aIEZ"
      },
      "source": [
        "import surprise\n",
        "from surprise.prediction_algorithms.knns import KNNWithMeans\n",
        "from surprise.model_selection import cross_validate\n",
        "#from surprise import SVD\n",
        "from surprise import Reader ,NormalPredictor\n",
        "from surprise import Dataset"
      ],
      "execution_count": null,
      "outputs": []
    },
    {
      "cell_type": "code",
      "metadata": {
        "id": "2KOmsunZaIKg"
      },
      "source": [
        "model=KNNWithMeans(k=40)\n",
        "#algo = SVD()"
      ],
      "execution_count": null,
      "outputs": []
    },
    {
      "cell_type": "code",
      "metadata": {
        "colab": {
          "base_uri": "https://localhost:8080/"
        },
        "id": "qY_QkpPnaIWP",
        "outputId": "b80a8434-657c-43a3-ed3b-a9c3bf38ba92"
      },
      "source": [
        "reader = Reader(rating_scale=(400,582)) # Since, we want to recommend good songs so the play_count should be more than 400\n",
        "\n",
        "# The columns must correspond to user id, item id and ratings (in that order).\n",
        "data = Dataset.load_from_df(final_df[['user_id', 'song_id', 'user_count']], reader)\n",
        "\n",
        "# We can now use this dataset as we please, e.g. calling cross_validate\n",
        "cross_validate(NormalPredictor(), data, measures=['RMSE', 'MAE'], cv=2)"
      ],
      "execution_count": null,
      "outputs": [
        {
          "output_type": "execute_result",
          "data": {
            "text/plain": [
              "{'fit_time': (0.35726046562194824, 0.48223376274108887),\n",
              " 'test_mae': array([646.56277   , 642.92580867]),\n",
              " 'test_rmse': array([1125.28735999, 1118.93941951]),\n",
              " 'test_time': (1.6346290111541748, 1.9231274127960205)}"
            ]
          },
          "metadata": {
            "tags": []
          },
          "execution_count": 36
        }
      ]
    },
    {
      "cell_type": "code",
      "metadata": {
        "id": "EwvJTdbajh3v"
      },
      "source": [
        "data = Dataset.load_from_df(final_df[['user_id', 'song', 'play_count']], reader)\n",
        "trainset = data.build_full_trainset()"
      ],
      "execution_count": null,
      "outputs": []
    },
    {
      "cell_type": "code",
      "metadata": {
        "colab": {
          "base_uri": "https://localhost:8080/"
        },
        "id": "HyBVNFDDxmbc",
        "outputId": "0ebc717a-cafc-4dbd-e575-219737d2f318"
      },
      "source": [
        "type(trainset)"
      ],
      "execution_count": null,
      "outputs": [
        {
          "output_type": "execute_result",
          "data": {
            "text/plain": [
              "surprise.trainset.Trainset"
            ]
          },
          "metadata": {
            "tags": []
          },
          "execution_count": 39
        }
      ]
    },
    {
      "cell_type": "code",
      "metadata": {
        "colab": {
          "base_uri": "https://localhost:8080/"
        },
        "id": "PeoZTGQuv2C9",
        "outputId": "ca04f242-addf-44c0-c946-bfb400d37e4f"
      },
      "source": [
        "from surprise import KNNBasic\n",
        "similarity_matrix = KNNBasic(sim_options={\n",
        "        'name': 'cosine', # cosine similarity to find the similar songs\n",
        "        'user_based': False\n",
        "        })\\\n",
        "        .fit(trainset)\\\n",
        "        .compute_similarities()"
      ],
      "execution_count": null,
      "outputs": [
        {
          "output_type": "stream",
          "text": [
            "Computing the cosine similarity matrix...\n",
            "Done computing similarity matrix.\n",
            "Computing the cosine similarity matrix...\n",
            "Done computing similarity matrix.\n"
          ],
          "name": "stdout"
        }
      ]
    },
    {
      "cell_type": "code",
      "metadata": {
        "colab": {
          "base_uri": "https://localhost:8080/"
        },
        "id": "_QSEUJbZv2J0",
        "outputId": "c4c75bfa-6f11-479b-c00d-a4136a68a351"
      },
      "source": [
        "print(similarity_matrix)"
      ],
      "execution_count": null,
      "outputs": [
        {
          "output_type": "stream",
          "text": [
            "[[1.         0.37933288 0.41194585 ... 0.32003079 0.40715979 0.80677222]\n",
            " [0.37933288 1.         0.31317396 ... 0.18834884 0.78954203 0.9486833 ]\n",
            " [0.41194585 0.31317396 1.         ... 0.31481855 0.63245553 0.89442719]\n",
            " ...\n",
            " [0.32003079 0.18834884 0.31481855 ... 1.         0.         0.        ]\n",
            " [0.40715979 0.78954203 0.63245553 ... 0.         1.         0.        ]\n",
            " [0.80677222 0.9486833  0.89442719 ... 0.         0.         1.        ]]\n"
          ],
          "name": "stdout"
        }
      ]
    },
    {
      "cell_type": "code",
      "metadata": {
        "id": "gIcVsvBfv2P-"
      },
      "source": [
        "import heapq"
      ],
      "execution_count": null,
      "outputs": []
    },
    {
      "cell_type": "code",
      "metadata": {
        "id": "OS51REK0v2TM"
      },
      "source": [
        "test_subject_iid = trainset.to_inner_uid(\"00014a76ed063e1a749171a253bca9d9a0ff1782\")"
      ],
      "execution_count": null,
      "outputs": []
    },
    {
      "cell_type": "code",
      "metadata": {
        "colab": {
          "base_uri": "https://localhost:8080/"
        },
        "id": "uAIbJFuxGWDe",
        "outputId": "9e97387a-00ea-4fb0-a067-cd9800ce48f1"
      },
      "source": [
        "test_subject_iid"
      ],
      "execution_count": null,
      "outputs": [
        {
          "output_type": "execute_result",
          "data": {
            "text/plain": [
              "75941"
            ]
          },
          "metadata": {
            "tags": []
          },
          "execution_count": 44
        }
      ]
    },
    {
      "cell_type": "code",
      "metadata": {
        "colab": {
          "base_uri": "https://localhost:8080/"
        },
        "id": "MCmxcrC77_qP",
        "outputId": "dda9b2c4-71bf-4920-8cc7-73d80b027e4c"
      },
      "source": [
        "trainset.ur[45165] # getting index of the song in the random dataframe and actual play_count for that song"
      ],
      "execution_count": null,
      "outputs": [
        {
          "output_type": "execute_result",
          "data": {
            "text/plain": [
              "[(111, 1.0),\n",
              " (148, 1.0),\n",
              " (283, 90.0),\n",
              " (409, 1.0),\n",
              " (474, 463.0),\n",
              " (537, 1.0),\n",
              " (585, 68.0),\n",
              " (720, 1.0),\n",
              " (507, 1.0),\n",
              " (1131, 16.0),\n",
              " (786, 1.0),\n",
              " (305, 1.0)]"
            ]
          },
          "metadata": {
            "tags": []
          },
          "execution_count": 45
        }
      ]
    },
    {
      "cell_type": "code",
      "metadata": {
        "id": "rhh2vxN5v2WS"
      },
      "source": [
        "test_subject_ratings = trainset.ur[test_subject_iid]\n",
        "k_neighbors = heapq.nlargest(10, test_subject_ratings, key=lambda t: t[1]) "
      ],
      "execution_count": null,
      "outputs": []
    },
    {
      "cell_type": "code",
      "metadata": {
        "colab": {
          "base_uri": "https://localhost:8080/"
        },
        "id": "Hv1-Xw4wA28T",
        "outputId": "10e5983d-08e6-4519-b428-dfc2e733d5cd"
      },
      "source": [
        "test_subject_ratings"
      ],
      "execution_count": null,
      "outputs": [
        {
          "output_type": "execute_result",
          "data": {
            "text/plain": [
              "[(547, 4.0), (867, 1.0), (1062, 1.0)]"
            ]
          },
          "metadata": {
            "tags": []
          },
          "execution_count": 47
        }
      ]
    },
    {
      "cell_type": "code",
      "metadata": {
        "id": "0uVdeGeFvDiZ",
        "colab": {
          "base_uri": "https://localhost:8080/"
        },
        "outputId": "438ca612-cc76-40d7-e3fc-a9e27c8de559"
      },
      "source": [
        "k_neighbors"
      ],
      "execution_count": null,
      "outputs": [
        {
          "output_type": "execute_result",
          "data": {
            "text/plain": [
              "[(547, 4.0), (867, 1.0), (1062, 1.0)]"
            ]
          },
          "metadata": {
            "tags": []
          },
          "execution_count": 48
        }
      ]
    },
    {
      "cell_type": "code",
      "metadata": {
        "id": "Bj2lRH6ui36h"
      },
      "source": [
        "random=pd.DataFrame(similarity_matrix,columns=final_df[\"song\"].unique(),index=final_df[\"song\"].unique())"
      ],
      "execution_count": null,
      "outputs": []
    },
    {
      "cell_type": "code",
      "metadata": {
        "colab": {
          "base_uri": "https://localhost:8080/",
          "height": 672
        },
        "id": "UgoEMqXyjR5T",
        "outputId": "874ee0e0-c455-4831-e073-1b8ab3edfb86"
      },
      "source": [
        "random.head()"
      ],
      "execution_count": null,
      "outputs": [
        {
          "output_type": "execute_result",
          "data": {
            "text/html": [
              "<div>\n",
              "<style scoped>\n",
              "    .dataframe tbody tr th:only-of-type {\n",
              "        vertical-align: middle;\n",
              "    }\n",
              "\n",
              "    .dataframe tbody tr th {\n",
              "        vertical-align: top;\n",
              "    }\n",
              "\n",
              "    .dataframe thead th {\n",
              "        text-align: right;\n",
              "    }\n",
              "</style>\n",
              "<table border=\"1\" class=\"dataframe\">\n",
              "  <thead>\n",
              "    <tr style=\"text-align: right;\">\n",
              "      <th></th>\n",
              "      <th>You're The One</th>\n",
              "      <th>Horn Concerto No. 4 in E flat K495: II. Romance (Andante cantabile)</th>\n",
              "      <th>Tive Sim</th>\n",
              "      <th>Catch You Baby (Steve Pitron &amp; Max Sanna Radio Edit)</th>\n",
              "      <th>El Cuatrero</th>\n",
              "      <th>Unite (2009 Digital Remaster)</th>\n",
              "      <th>Lift Me Up</th>\n",
              "      <th>Open Your Eyes</th>\n",
              "      <th>Rain</th>\n",
              "      <th>Sehr kosmisch</th>\n",
              "      <th>Dog Days Are Over (Radio Edit)</th>\n",
              "      <th>Oxford Comma (Album)</th>\n",
              "      <th>The Downfall Of Us All</th>\n",
              "      <th>Have Faith In Me</th>\n",
              "      <th>Kryptonite</th>\n",
              "      <th>In The Waiting Line</th>\n",
              "      <th>Transparency</th>\n",
              "      <th>Hips Don't Lie (featuring Wyclef Jean)</th>\n",
              "      <th>Hips Don't Lie</th>\n",
              "      <th>Undo</th>\n",
              "      <th>Creep (Explicit)</th>\n",
              "      <th>Ain't Misbehavin</th>\n",
              "      <th>In The End (Album Version)</th>\n",
              "      <th>Secrets</th>\n",
              "      <th>Boys Will Be Boys</th>\n",
              "      <th>Forever &amp; Always</th>\n",
              "      <th>Replay</th>\n",
              "      <th>Naturally</th>\n",
              "      <th>Yellow</th>\n",
              "      <th>Easy</th>\n",
              "      <th>Bette Davis Eyes</th>\n",
              "      <th>Invalid</th>\n",
              "      <th>Revelry</th>\n",
              "      <th>Electric Avenue</th>\n",
              "      <th>Interactive Halloween Bear</th>\n",
              "      <th>Hotel California</th>\n",
              "      <th>Black</th>\n",
              "      <th>Wait And Bleed (Album Version)</th>\n",
              "      <th>Elephant Gun</th>\n",
              "      <th>Float On</th>\n",
              "      <th>...</th>\n",
              "      <th>Pocket Porn (1990)</th>\n",
              "      <th>Dear God (Album Version)</th>\n",
              "      <th>Breaking The Habit (Album Version)</th>\n",
              "      <th>Superstar Talking Blues</th>\n",
              "      <th>Drunk Kid Catholic</th>\n",
              "      <th>Talk Me Out Of Tampa</th>\n",
              "      <th>Tears In Heaven</th>\n",
              "      <th>Loba</th>\n",
              "      <th>Working With Homesick</th>\n",
              "      <th>Secret Hell</th>\n",
              "      <th>In League With Satan</th>\n",
              "      <th>Cold Blooded (Acid Cleanse)</th>\n",
              "      <th>Theme From Harry's Game</th>\n",
              "      <th>Glad All Over</th>\n",
              "      <th>Bewildered</th>\n",
              "      <th>Esisti Tu</th>\n",
              "      <th>The Calculation (Album Version)</th>\n",
              "      <th>Playground Love</th>\n",
              "      <th>Please_ Before I Go</th>\n",
              "      <th>Servant in heaven - King in hell</th>\n",
              "      <th>Automotywacja</th>\n",
              "      <th>One More Step To Take</th>\n",
              "      <th>Hope</th>\n",
              "      <th>It's Not Over</th>\n",
              "      <th>No Balanço Da Canoa</th>\n",
              "      <th>I'm Your Boogie Man</th>\n",
              "      <th>Animal</th>\n",
              "      <th>Pills</th>\n",
              "      <th>Beautiful Stranger</th>\n",
              "      <th>Gestern_Morgen</th>\n",
              "      <th>Chelsea Burns (Live In Reykjavik 2008)</th>\n",
              "      <th>Long Arm Of The Law</th>\n",
              "      <th>Reign Of The Tyrants</th>\n",
              "      <th>Escape</th>\n",
              "      <th>Path</th>\n",
              "      <th>Strip My Mind (Album Version)</th>\n",
              "      <th>Train</th>\n",
              "      <th>Ona Kasuita</th>\n",
              "      <th>Kissin' Ears [feat. The-Dream] (Explicit Album Version)</th>\n",
              "      <th>Jetstream</th>\n",
              "    </tr>\n",
              "  </thead>\n",
              "  <tbody>\n",
              "    <tr>\n",
              "      <th>You're The One</th>\n",
              "      <td>1.000000</td>\n",
              "      <td>0.379333</td>\n",
              "      <td>0.411946</td>\n",
              "      <td>0.473244</td>\n",
              "      <td>0.500028</td>\n",
              "      <td>0.317210</td>\n",
              "      <td>0.490964</td>\n",
              "      <td>0.552899</td>\n",
              "      <td>0.576352</td>\n",
              "      <td>0.335578</td>\n",
              "      <td>0.492851</td>\n",
              "      <td>0.208458</td>\n",
              "      <td>0.755257</td>\n",
              "      <td>0.717312</td>\n",
              "      <td>0.392348</td>\n",
              "      <td>0.653706</td>\n",
              "      <td>0.341140</td>\n",
              "      <td>0.133824</td>\n",
              "      <td>0.133824</td>\n",
              "      <td>0.454467</td>\n",
              "      <td>0.396780</td>\n",
              "      <td>0.535677</td>\n",
              "      <td>0.597084</td>\n",
              "      <td>0.349182</td>\n",
              "      <td>0.881176</td>\n",
              "      <td>0.392402</td>\n",
              "      <td>0.431100</td>\n",
              "      <td>0.203377</td>\n",
              "      <td>0.271593</td>\n",
              "      <td>0.451223</td>\n",
              "      <td>0.405148</td>\n",
              "      <td>0.529226</td>\n",
              "      <td>0.468116</td>\n",
              "      <td>0.500894</td>\n",
              "      <td>0.460157</td>\n",
              "      <td>0.161061</td>\n",
              "      <td>0.682712</td>\n",
              "      <td>0.570429</td>\n",
              "      <td>0.989541</td>\n",
              "      <td>0.512861</td>\n",
              "      <td>...</td>\n",
              "      <td>0.233331</td>\n",
              "      <td>0.377131</td>\n",
              "      <td>0.205668</td>\n",
              "      <td>0.197606</td>\n",
              "      <td>0.992209</td>\n",
              "      <td>0.720577</td>\n",
              "      <td>0.299709</td>\n",
              "      <td>0.710819</td>\n",
              "      <td>0.386439</td>\n",
              "      <td>0.412364</td>\n",
              "      <td>0.906183</td>\n",
              "      <td>0.623615</td>\n",
              "      <td>1.000000</td>\n",
              "      <td>0.925820</td>\n",
              "      <td>0.166964</td>\n",
              "      <td>0.528227</td>\n",
              "      <td>0.751217</td>\n",
              "      <td>0.789352</td>\n",
              "      <td>0.000000</td>\n",
              "      <td>0.617213</td>\n",
              "      <td>0.663506</td>\n",
              "      <td>0.662056</td>\n",
              "      <td>0.989135</td>\n",
              "      <td>0.33559</td>\n",
              "      <td>0.179821</td>\n",
              "      <td>0.989949</td>\n",
              "      <td>0.853123</td>\n",
              "      <td>0.521387</td>\n",
              "      <td>0.541662</td>\n",
              "      <td>0.557918</td>\n",
              "      <td>0.194522</td>\n",
              "      <td>0.730099</td>\n",
              "      <td>0.265334</td>\n",
              "      <td>0.444545</td>\n",
              "      <td>1.000000</td>\n",
              "      <td>0.8</td>\n",
              "      <td>0.933626</td>\n",
              "      <td>0.320031</td>\n",
              "      <td>0.407160</td>\n",
              "      <td>0.806772</td>\n",
              "    </tr>\n",
              "    <tr>\n",
              "      <th>Horn Concerto No. 4 in E flat K495: II. Romance (Andante cantabile)</th>\n",
              "      <td>0.379333</td>\n",
              "      <td>1.000000</td>\n",
              "      <td>0.313174</td>\n",
              "      <td>0.479554</td>\n",
              "      <td>0.753188</td>\n",
              "      <td>0.279222</td>\n",
              "      <td>0.976571</td>\n",
              "      <td>0.791495</td>\n",
              "      <td>0.218728</td>\n",
              "      <td>0.331808</td>\n",
              "      <td>0.368867</td>\n",
              "      <td>0.946457</td>\n",
              "      <td>0.372891</td>\n",
              "      <td>0.896117</td>\n",
              "      <td>0.287661</td>\n",
              "      <td>0.000000</td>\n",
              "      <td>0.509985</td>\n",
              "      <td>0.320727</td>\n",
              "      <td>0.320727</td>\n",
              "      <td>0.363510</td>\n",
              "      <td>0.653525</td>\n",
              "      <td>0.491403</td>\n",
              "      <td>0.485195</td>\n",
              "      <td>0.554784</td>\n",
              "      <td>0.621706</td>\n",
              "      <td>0.493127</td>\n",
              "      <td>0.528170</td>\n",
              "      <td>0.885244</td>\n",
              "      <td>0.601118</td>\n",
              "      <td>0.221244</td>\n",
              "      <td>1.000000</td>\n",
              "      <td>0.557168</td>\n",
              "      <td>0.452737</td>\n",
              "      <td>0.885610</td>\n",
              "      <td>0.596437</td>\n",
              "      <td>0.699609</td>\n",
              "      <td>0.461991</td>\n",
              "      <td>0.415571</td>\n",
              "      <td>1.000000</td>\n",
              "      <td>0.745769</td>\n",
              "      <td>...</td>\n",
              "      <td>0.605321</td>\n",
              "      <td>0.347524</td>\n",
              "      <td>0.685727</td>\n",
              "      <td>0.662733</td>\n",
              "      <td>0.000000</td>\n",
              "      <td>0.881689</td>\n",
              "      <td>0.389249</td>\n",
              "      <td>0.715271</td>\n",
              "      <td>0.707107</td>\n",
              "      <td>0.313950</td>\n",
              "      <td>0.857493</td>\n",
              "      <td>0.976187</td>\n",
              "      <td>0.000000</td>\n",
              "      <td>1.000000</td>\n",
              "      <td>0.701706</td>\n",
              "      <td>0.968278</td>\n",
              "      <td>1.000000</td>\n",
              "      <td>0.000000</td>\n",
              "      <td>0.974058</td>\n",
              "      <td>0.943701</td>\n",
              "      <td>0.738827</td>\n",
              "      <td>0.439588</td>\n",
              "      <td>0.707107</td>\n",
              "      <td>0.00000</td>\n",
              "      <td>0.986950</td>\n",
              "      <td>1.000000</td>\n",
              "      <td>0.672673</td>\n",
              "      <td>0.757216</td>\n",
              "      <td>0.000000</td>\n",
              "      <td>0.992052</td>\n",
              "      <td>0.858906</td>\n",
              "      <td>0.390272</td>\n",
              "      <td>0.826957</td>\n",
              "      <td>0.331351</td>\n",
              "      <td>0.981044</td>\n",
              "      <td>1.0</td>\n",
              "      <td>0.876990</td>\n",
              "      <td>0.188349</td>\n",
              "      <td>0.789542</td>\n",
              "      <td>0.948683</td>\n",
              "    </tr>\n",
              "    <tr>\n",
              "      <th>Tive Sim</th>\n",
              "      <td>0.411946</td>\n",
              "      <td>0.313174</td>\n",
              "      <td>1.000000</td>\n",
              "      <td>0.429277</td>\n",
              "      <td>0.527726</td>\n",
              "      <td>0.281168</td>\n",
              "      <td>0.697863</td>\n",
              "      <td>1.000000</td>\n",
              "      <td>0.170582</td>\n",
              "      <td>0.453674</td>\n",
              "      <td>0.479853</td>\n",
              "      <td>0.646231</td>\n",
              "      <td>0.910182</td>\n",
              "      <td>0.989949</td>\n",
              "      <td>0.294128</td>\n",
              "      <td>0.914659</td>\n",
              "      <td>0.480491</td>\n",
              "      <td>0.526853</td>\n",
              "      <td>0.527091</td>\n",
              "      <td>0.487149</td>\n",
              "      <td>0.652700</td>\n",
              "      <td>0.348474</td>\n",
              "      <td>0.414803</td>\n",
              "      <td>0.386856</td>\n",
              "      <td>0.442789</td>\n",
              "      <td>0.574090</td>\n",
              "      <td>0.716055</td>\n",
              "      <td>0.882063</td>\n",
              "      <td>0.556588</td>\n",
              "      <td>0.286026</td>\n",
              "      <td>0.949024</td>\n",
              "      <td>0.270820</td>\n",
              "      <td>0.248787</td>\n",
              "      <td>0.228688</td>\n",
              "      <td>0.404923</td>\n",
              "      <td>0.234126</td>\n",
              "      <td>0.594984</td>\n",
              "      <td>0.795495</td>\n",
              "      <td>0.351957</td>\n",
              "      <td>0.707245</td>\n",
              "      <td>...</td>\n",
              "      <td>0.841058</td>\n",
              "      <td>0.000000</td>\n",
              "      <td>0.949020</td>\n",
              "      <td>0.627646</td>\n",
              "      <td>0.992278</td>\n",
              "      <td>0.594993</td>\n",
              "      <td>0.843089</td>\n",
              "      <td>0.895087</td>\n",
              "      <td>1.000000</td>\n",
              "      <td>0.811789</td>\n",
              "      <td>0.608834</td>\n",
              "      <td>0.000000</td>\n",
              "      <td>0.983141</td>\n",
              "      <td>0.961524</td>\n",
              "      <td>0.762001</td>\n",
              "      <td>0.368939</td>\n",
              "      <td>1.000000</td>\n",
              "      <td>0.984252</td>\n",
              "      <td>0.195625</td>\n",
              "      <td>0.857493</td>\n",
              "      <td>1.000000</td>\n",
              "      <td>1.000000</td>\n",
              "      <td>0.593907</td>\n",
              "      <td>1.00000</td>\n",
              "      <td>0.480148</td>\n",
              "      <td>0.948683</td>\n",
              "      <td>0.948683</td>\n",
              "      <td>0.911685</td>\n",
              "      <td>0.671122</td>\n",
              "      <td>0.647336</td>\n",
              "      <td>0.304886</td>\n",
              "      <td>0.966119</td>\n",
              "      <td>0.456127</td>\n",
              "      <td>0.650791</td>\n",
              "      <td>0.857493</td>\n",
              "      <td>0.0</td>\n",
              "      <td>0.987997</td>\n",
              "      <td>0.314819</td>\n",
              "      <td>0.632456</td>\n",
              "      <td>0.894427</td>\n",
              "    </tr>\n",
              "    <tr>\n",
              "      <th>Catch You Baby (Steve Pitron &amp; Max Sanna Radio Edit)</th>\n",
              "      <td>0.473244</td>\n",
              "      <td>0.479554</td>\n",
              "      <td>0.429277</td>\n",
              "      <td>1.000000</td>\n",
              "      <td>0.222152</td>\n",
              "      <td>0.652178</td>\n",
              "      <td>0.985736</td>\n",
              "      <td>1.000000</td>\n",
              "      <td>0.782624</td>\n",
              "      <td>0.405449</td>\n",
              "      <td>0.194303</td>\n",
              "      <td>0.632695</td>\n",
              "      <td>0.816497</td>\n",
              "      <td>1.000000</td>\n",
              "      <td>0.348809</td>\n",
              "      <td>0.109939</td>\n",
              "      <td>0.782824</td>\n",
              "      <td>0.222371</td>\n",
              "      <td>0.222371</td>\n",
              "      <td>0.503874</td>\n",
              "      <td>0.923715</td>\n",
              "      <td>0.343196</td>\n",
              "      <td>0.277059</td>\n",
              "      <td>0.324652</td>\n",
              "      <td>0.358101</td>\n",
              "      <td>0.409509</td>\n",
              "      <td>0.826732</td>\n",
              "      <td>0.521360</td>\n",
              "      <td>0.626816</td>\n",
              "      <td>0.757659</td>\n",
              "      <td>0.596040</td>\n",
              "      <td>0.365661</td>\n",
              "      <td>0.354477</td>\n",
              "      <td>0.784465</td>\n",
              "      <td>0.407383</td>\n",
              "      <td>0.536135</td>\n",
              "      <td>0.885596</td>\n",
              "      <td>0.946729</td>\n",
              "      <td>0.866025</td>\n",
              "      <td>0.404334</td>\n",
              "      <td>...</td>\n",
              "      <td>0.910918</td>\n",
              "      <td>0.928047</td>\n",
              "      <td>0.332477</td>\n",
              "      <td>0.794906</td>\n",
              "      <td>1.000000</td>\n",
              "      <td>0.539188</td>\n",
              "      <td>0.369504</td>\n",
              "      <td>0.638195</td>\n",
              "      <td>0.931243</td>\n",
              "      <td>0.404831</td>\n",
              "      <td>0.668648</td>\n",
              "      <td>1.000000</td>\n",
              "      <td>0.749269</td>\n",
              "      <td>0.476763</td>\n",
              "      <td>0.985619</td>\n",
              "      <td>0.238226</td>\n",
              "      <td>0.999575</td>\n",
              "      <td>1.000000</td>\n",
              "      <td>0.737154</td>\n",
              "      <td>0.964764</td>\n",
              "      <td>1.000000</td>\n",
              "      <td>1.000000</td>\n",
              "      <td>1.000000</td>\n",
              "      <td>1.00000</td>\n",
              "      <td>0.852323</td>\n",
              "      <td>1.000000</td>\n",
              "      <td>0.996546</td>\n",
              "      <td>1.000000</td>\n",
              "      <td>0.654536</td>\n",
              "      <td>0.227395</td>\n",
              "      <td>0.780108</td>\n",
              "      <td>1.000000</td>\n",
              "      <td>0.386632</td>\n",
              "      <td>0.445924</td>\n",
              "      <td>0.707107</td>\n",
              "      <td>0.0</td>\n",
              "      <td>0.243193</td>\n",
              "      <td>1.000000</td>\n",
              "      <td>1.000000</td>\n",
              "      <td>1.000000</td>\n",
              "    </tr>\n",
              "    <tr>\n",
              "      <th>El Cuatrero</th>\n",
              "      <td>0.500028</td>\n",
              "      <td>0.753188</td>\n",
              "      <td>0.527726</td>\n",
              "      <td>0.222152</td>\n",
              "      <td>1.000000</td>\n",
              "      <td>0.851843</td>\n",
              "      <td>0.000000</td>\n",
              "      <td>0.000000</td>\n",
              "      <td>1.000000</td>\n",
              "      <td>0.707478</td>\n",
              "      <td>0.554702</td>\n",
              "      <td>1.000000</td>\n",
              "      <td>0.000000</td>\n",
              "      <td>0.000000</td>\n",
              "      <td>0.642243</td>\n",
              "      <td>1.000000</td>\n",
              "      <td>0.421902</td>\n",
              "      <td>0.391979</td>\n",
              "      <td>0.391979</td>\n",
              "      <td>0.459952</td>\n",
              "      <td>1.000000</td>\n",
              "      <td>0.438314</td>\n",
              "      <td>0.000000</td>\n",
              "      <td>0.791456</td>\n",
              "      <td>0.000000</td>\n",
              "      <td>1.000000</td>\n",
              "      <td>0.536875</td>\n",
              "      <td>0.613941</td>\n",
              "      <td>1.000000</td>\n",
              "      <td>0.000000</td>\n",
              "      <td>0.000000</td>\n",
              "      <td>0.611976</td>\n",
              "      <td>0.368069</td>\n",
              "      <td>0.000000</td>\n",
              "      <td>0.997880</td>\n",
              "      <td>1.000000</td>\n",
              "      <td>0.000000</td>\n",
              "      <td>0.000000</td>\n",
              "      <td>0.000000</td>\n",
              "      <td>1.000000</td>\n",
              "      <td>...</td>\n",
              "      <td>1.000000</td>\n",
              "      <td>0.000000</td>\n",
              "      <td>0.000000</td>\n",
              "      <td>0.000000</td>\n",
              "      <td>0.000000</td>\n",
              "      <td>0.000000</td>\n",
              "      <td>0.000000</td>\n",
              "      <td>0.000000</td>\n",
              "      <td>0.000000</td>\n",
              "      <td>0.000000</td>\n",
              "      <td>1.000000</td>\n",
              "      <td>0.000000</td>\n",
              "      <td>0.000000</td>\n",
              "      <td>0.000000</td>\n",
              "      <td>0.000000</td>\n",
              "      <td>0.819232</td>\n",
              "      <td>1.000000</td>\n",
              "      <td>0.000000</td>\n",
              "      <td>0.000000</td>\n",
              "      <td>0.000000</td>\n",
              "      <td>0.000000</td>\n",
              "      <td>0.000000</td>\n",
              "      <td>0.000000</td>\n",
              "      <td>0.00000</td>\n",
              "      <td>0.000000</td>\n",
              "      <td>0.000000</td>\n",
              "      <td>0.000000</td>\n",
              "      <td>0.000000</td>\n",
              "      <td>0.999040</td>\n",
              "      <td>0.000000</td>\n",
              "      <td>0.000000</td>\n",
              "      <td>0.000000</td>\n",
              "      <td>0.000000</td>\n",
              "      <td>0.000000</td>\n",
              "      <td>0.000000</td>\n",
              "      <td>0.0</td>\n",
              "      <td>1.000000</td>\n",
              "      <td>0.000000</td>\n",
              "      <td>0.000000</td>\n",
              "      <td>0.976187</td>\n",
              "    </tr>\n",
              "  </tbody>\n",
              "</table>\n",
              "<p>5 rows × 1160 columns</p>\n",
              "</div>"
            ],
            "text/plain": [
              "                                                    You're The One  ...  Jetstream\n",
              "You're The One                                            1.000000  ...   0.806772\n",
              "Horn Concerto No. 4 in E flat K495: II. Romance...        0.379333  ...   0.948683\n",
              "Tive Sim                                                  0.411946  ...   0.894427\n",
              "Catch You Baby (Steve Pitron & Max Sanna Radio ...        0.473244  ...   1.000000\n",
              "El Cuatrero                                               0.500028  ...   0.976187\n",
              "\n",
              "[5 rows x 1160 columns]"
            ]
          },
          "metadata": {
            "tags": []
          },
          "execution_count": 50
        }
      ]
    },
    {
      "cell_type": "code",
      "metadata": {
        "id": "UEfUs9LEr86r"
      },
      "source": [
        "lst=random.index.values.tolist()"
      ],
      "execution_count": null,
      "outputs": []
    },
    {
      "cell_type": "code",
      "metadata": {
        "id": "UxNb8d-h0o42",
        "colab": {
          "base_uri": "https://localhost:8080/"
        },
        "outputId": "ec03b809-4535-43d8-ddf1-48f880fc42c7"
      },
      "source": [
        "j=1\n",
        "for itemID, views in k_neighbors:\n",
        "  print(\"For Song---->\",lst[itemID])\n",
        "  j+=1\n",
        "  try:\n",
        "    for i in range(3):\n",
        "      print(random.iloc[itemID,:].nlargest(3).index[i]) # to find the 3 most matching songs of given song\n",
        "  except:\n",
        "      continue\n",
        "\n",
        "  if(j==5):\n",
        "    break"
      ],
      "execution_count": null,
      "outputs": [
        {
          "output_type": "stream",
          "text": [
            "FOr Song----> The Gift\n",
            "Lift Me Up\n",
            "In The Waiting Line\n",
            "Forever & Always\n",
            "FOr Song----> Casting A Spell (Remixed) (1998 Digital Remaster)\n",
            "El Cuatrero\n",
            "Unite (2009 Digital Remaster)\n",
            "Dog Days Are Over (Radio Edit)\n",
            "FOr Song----> Give It To Me\n",
            "Unite (2009 Digital Remaster)\n",
            "Lift Me Up\n",
            "Rain\n"
          ],
          "name": "stdout"
        }
      ]
    },
    {
      "cell_type": "code",
      "metadata": {
        "colab": {
          "base_uri": "https://localhost:8080/"
        },
        "id": "J1n0IF2vHN29",
        "outputId": "962991fb-6820-4f1e-fd1a-9dc6e91f8e22"
      },
      "source": [
        "similarity_matrix"
      ],
      "execution_count": null,
      "outputs": [
        {
          "output_type": "execute_result",
          "data": {
            "text/plain": [
              "array([[1.        , 0.37933288, 0.41194585, ..., 0.32003079, 0.40715979,\n",
              "        0.80677222],\n",
              "       [0.37933288, 1.        , 0.31317396, ..., 0.18834884, 0.78954203,\n",
              "        0.9486833 ],\n",
              "       [0.41194585, 0.31317396, 1.        , ..., 0.31481855, 0.63245553,\n",
              "        0.89442719],\n",
              "       ...,\n",
              "       [0.32003079, 0.18834884, 0.31481855, ..., 1.        , 0.        ,\n",
              "        0.        ],\n",
              "       [0.40715979, 0.78954203, 0.63245553, ..., 0.        , 1.        ,\n",
              "        0.        ],\n",
              "       [0.80677222, 0.9486833 , 0.89442719, ..., 0.        , 0.        ,\n",
              "        1.        ]])"
            ]
          },
          "metadata": {
            "tags": []
          },
          "execution_count": 177
        }
      ]
    },
    {
      "cell_type": "markdown",
      "metadata": {
        "id": "mdrIqIVXs6DE"
      },
      "source": [
        "# **Future Scope**\n",
        "\n",
        "We have applied several filtering techniques for our recommendation system which includes:\n",
        "\n",
        "\n",
        "\n",
        "\n",
        "*   Popularity Based Filtering\n",
        "*   Content based Filtering (not enough RAM)\n",
        "*   Collaborative Based filtering\n",
        "     - Using Correlation\n",
        "     - Using Nearest neighbours\n",
        "     - Using Surprise\n",
        "\n",
        "But our current recommendation model cannot recommend relevant products to a new user in a personalized manner ,i.e., it suffers from Cold Start Problem.\n",
        "\n",
        "So to make sure it doesn't happen, it can be prevented by hybrid filtering which is actually a mixture of both content based and collaborative based filtering.\n",
        "\n",
        "Collaborative filtering using surprise library should further be improved as the RMSE score is 1125.28\n",
        "\n",
        "We can also try to implement collaborative filtering approach using Turicreate\n"
      ]
    },
    {
      "cell_type": "markdown",
      "metadata": {
        "id": "yJI-pxNenwxC"
      },
      "source": [
        "# **Conclusion**\n",
        "\n",
        "\n",
        "\n",
        "\n",
        "*   It is better to have a combination of different approaches for a recommender systems having popularity based, content based and collaborative based filtering as each of the approach has its own drawback hence they can't be applied individually.\n",
        "\n",
        "*  Popularity based recommender systems are not personalized at all as they recommend the same songs for all kind of users.\n",
        "*   Content based recommender systems require high computational power as compared to collaborative filtering.\n",
        "\n",
        "   \n",
        "\n",
        "\n",
        "\n"
      ]
    }
  ]
}