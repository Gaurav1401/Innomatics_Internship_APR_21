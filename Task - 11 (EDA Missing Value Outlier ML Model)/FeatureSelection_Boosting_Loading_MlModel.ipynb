{
  "nbformat": 4,
  "nbformat_minor": 0,
  "metadata": {
    "kernelspec": {
      "display_name": "Python 3",
      "language": "python",
      "name": "python3"
    },
    "language_info": {
      "codemirror_mode": {
        "name": "ipython",
        "version": 3
      },
      "file_extension": ".py",
      "mimetype": "text/x-python",
      "name": "python",
      "nbconvert_exporter": "python",
      "pygments_lexer": "ipython3",
      "version": "3.8.5"
    },
    "colab": {
      "name": "FeatureSelection_Boosting_Loading_MlModel.ipynb",
      "provenance": [],
      "collapsed_sections": [
        "nvv9AjKYCupC",
        "5wUVrXHiCupE",
        "474g-LvaEDXm",
        "5TGR3sovFPVo",
        "vHzjVK8JFjoL",
        "-Mqq6enNGP9r",
        "4V8Y3pMSbN5x",
        "MoHaMSfuCupL",
        "sh8z9yWlJXMI",
        "8oXKdNdCHMG3",
        "bOXoNr7gHTLD",
        "tiWbPc1mJ90m",
        "Xl_whGpiCITT"
      ],
      "include_colab_link": true
    }
  },
  "cells": [
    {
      "cell_type": "markdown",
      "metadata": {
        "id": "view-in-github",
        "colab_type": "text"
      },
      "source": [
        "<a href=\"https://colab.research.google.com/github/Gaurav1401/Innomatics_Internship_APR_21/blob/main/Task%20-%2011%20(EDA%20Missing%20Value%20Outlier%20ML%20Model)/FeatureSelection_Boosting_Loading_MlModel.ipynb\" target=\"_parent\"><img src=\"https://colab.research.google.com/assets/colab-badge.svg\" alt=\"Open In Colab\"/></a>"
      ]
    },
    {
      "cell_type": "code",
      "metadata": {
        "id": "qGcNQxcTCuov"
      },
      "source": [
        "import numpy as np\n",
        "import seaborn as sns\n",
        "import pandas as pd\n",
        "import matplotlib.pyplot as plt"
      ],
      "execution_count": 1,
      "outputs": []
    },
    {
      "cell_type": "code",
      "metadata": {
        "id": "ZLB8gsa7QH5u"
      },
      "source": [
        "from sklearn.model_selection import cross_val_score"
      ],
      "execution_count": 2,
      "outputs": []
    },
    {
      "cell_type": "code",
      "metadata": {
        "id": "3voBFgLMOagp"
      },
      "source": [
        "from joblib import dump, load"
      ],
      "execution_count": 3,
      "outputs": []
    },
    {
      "cell_type": "code",
      "metadata": {
        "id": "E3GA8N_8Cuoy"
      },
      "source": [
        "import warnings as wg\n",
        "wg.filterwarnings('ignore')"
      ],
      "execution_count": 4,
      "outputs": []
    },
    {
      "cell_type": "code",
      "metadata": {
        "id": "J1YnB81cyLdf"
      },
      "source": [
        "from sklearn.metrics import plot_confusion_matrix\n",
        "from sklearn.metrics import confusion_matrix\n",
        "from sklearn.metrics import f1_score"
      ],
      "execution_count": 5,
      "outputs": []
    },
    {
      "cell_type": "code",
      "metadata": {
        "id": "Wl0YoBPbO3WX"
      },
      "source": [
        "# This version supports oversampling\n",
        "# !pip install scikit-learn==0.22.2.post1"
      ],
      "execution_count": 6,
      "outputs": []
    },
    {
      "cell_type": "markdown",
      "metadata": {
        "id": "3LidjAXqSnoZ"
      },
      "source": [
        "Since, this version of sklearn supports oversampling on Colab"
      ]
    },
    {
      "cell_type": "code",
      "metadata": {
        "colab": {
          "base_uri": "https://localhost:8080/",
          "height": 34
        },
        "id": "5FUSiapFPCF8",
        "outputId": "4145bd76-8e66-4e56-ba19-24026c0e79cb"
      },
      "source": [
        "import sklearn\n",
        "\n",
        "sklearn.__version__"
      ],
      "execution_count": 7,
      "outputs": [
        {
          "output_type": "execute_result",
          "data": {
            "application/vnd.google.colaboratory.intrinsic+json": {
              "type": "string"
            },
            "text/plain": [
              "'0.22.2.post1'"
            ]
          },
          "metadata": {
            "tags": []
          },
          "execution_count": 7
        }
      ]
    },
    {
      "cell_type": "code",
      "metadata": {
        "id": "n2OmOw1yCuoz"
      },
      "source": [
        "df_3 = pd.read_csv('original_df.csv')\n",
        "test =  pd.read_csv('test_encod.csv')"
      ],
      "execution_count": 8,
      "outputs": []
    },
    {
      "cell_type": "code",
      "metadata": {
        "id": "GeL1whQ8Cuo0",
        "colab": {
          "base_uri": "https://localhost:8080/"
        },
        "outputId": "d4348367-5a68-4fac-ca3f-1e13155083cc"
      },
      "source": [
        "df_3.columns"
      ],
      "execution_count": 9,
      "outputs": [
        {
          "output_type": "execute_result",
          "data": {
            "text/plain": [
              "Index(['age', 'educational-num', 'gender', 'capital-gain', 'capital-loss',\n",
              "       'hours-per-week', 'native-country', 'income', 'workclass_Private',\n",
              "       'workclass_Self-emp', 'marital-status_Married',\n",
              "       'marital-status_Separated', 'marital-status_Unmarried',\n",
              "       'occupation_Craft-repair', 'occupation_Exec-managerial',\n",
              "       'occupation_Farming-fishing', 'occupation_Handlers-cleaners',\n",
              "       'occupation_Machine-op-inspct', 'occupation_Other-service',\n",
              "       'occupation_Prof-specialty', 'occupation_Sales',\n",
              "       'occupation_Tech-support', 'occupation_Transport-moving', 'race_Other',\n",
              "       'race_White'],\n",
              "      dtype='object')"
            ]
          },
          "metadata": {
            "tags": []
          },
          "execution_count": 9
        }
      ]
    },
    {
      "cell_type": "code",
      "metadata": {
        "id": "_8p1eV9DCuo3"
      },
      "source": [
        "x_train = df_3.drop('income', axis = 'columns')\n",
        "y_train = df_3['income']"
      ],
      "execution_count": 10,
      "outputs": []
    },
    {
      "cell_type": "code",
      "metadata": {
        "id": "aUIdfXtCCuo4"
      },
      "source": [
        "x_test = test.drop('income', axis = 'columns')\n",
        "y_test = test['income']"
      ],
      "execution_count": 11,
      "outputs": []
    },
    {
      "cell_type": "code",
      "metadata": {
        "id": "fEhStbVpCuo5",
        "colab": {
          "base_uri": "https://localhost:8080/"
        },
        "outputId": "402ee125-991a-4413-89d4-6f6377c3ca4c"
      },
      "source": [
        "y_train.value_counts()"
      ],
      "execution_count": 12,
      "outputs": [
        {
          "output_type": "execute_result",
          "data": {
            "text/plain": [
              "0    26394\n",
              "1     8750\n",
              "Name: income, dtype: int64"
            ]
          },
          "metadata": {
            "tags": []
          },
          "execution_count": 12
        }
      ]
    },
    {
      "cell_type": "code",
      "metadata": {
        "id": "P1l02uZkCuo6",
        "colab": {
          "base_uri": "https://localhost:8080/"
        },
        "outputId": "9c13882f-4b38-4e9b-9b82-eed1f7f455e7"
      },
      "source": [
        "y_test.value_counts()"
      ],
      "execution_count": 13,
      "outputs": [
        {
          "output_type": "execute_result",
          "data": {
            "text/plain": [
              "0    7129\n",
              "1    2267\n",
              "Name: income, dtype: int64"
            ]
          },
          "metadata": {
            "tags": []
          },
          "execution_count": 13
        }
      ]
    },
    {
      "cell_type": "code",
      "metadata": {
        "id": "E8Lg2117Cuo7"
      },
      "source": [
        "from sklearn.metrics import classification_report\n",
        "from sklearn.model_selection import cross_val_score\n",
        "from sklearn.model_selection import RandomizedSearchCV"
      ],
      "execution_count": 14,
      "outputs": []
    },
    {
      "cell_type": "markdown",
      "metadata": {
        "id": "DF43mTmiCuo8"
      },
      "source": [
        "# Random Forest"
      ]
    },
    {
      "cell_type": "code",
      "metadata": {
        "id": "uD4K0IJACuo9"
      },
      "source": [
        "from sklearn.ensemble import RandomForestClassifier"
      ],
      "execution_count": 15,
      "outputs": []
    },
    {
      "cell_type": "code",
      "metadata": {
        "id": "01pWg5bMCuo-"
      },
      "source": [
        "rfc = RandomForestClassifier(n_estimators=100)"
      ],
      "execution_count": null,
      "outputs": []
    },
    {
      "cell_type": "code",
      "metadata": {
        "id": "Tx1Dqw4CCuo-",
        "colab": {
          "base_uri": "https://localhost:8080/"
        },
        "outputId": "eae4098e-3901-481b-cea6-d82f99e47ecc"
      },
      "source": [
        "rfc.fit(x_train, y_train)"
      ],
      "execution_count": null,
      "outputs": [
        {
          "output_type": "execute_result",
          "data": {
            "text/plain": [
              "RandomForestClassifier(bootstrap=True, ccp_alpha=0.0, class_weight=None,\n",
              "                       criterion='gini', max_depth=None, max_features='auto',\n",
              "                       max_leaf_nodes=None, max_samples=None,\n",
              "                       min_impurity_decrease=0.0, min_impurity_split=None,\n",
              "                       min_samples_leaf=1, min_samples_split=2,\n",
              "                       min_weight_fraction_leaf=0.0, n_estimators=100,\n",
              "                       n_jobs=None, oob_score=False, random_state=None,\n",
              "                       verbose=0, warm_start=False)"
            ]
          },
          "metadata": {
            "tags": []
          },
          "execution_count": 17
        }
      ]
    },
    {
      "cell_type": "code",
      "metadata": {
        "id": "2q84Y-fGCuo_"
      },
      "source": [
        "y_pred = rfc.predict(x_test)"
      ],
      "execution_count": null,
      "outputs": []
    },
    {
      "cell_type": "code",
      "metadata": {
        "id": "A_J_oaM8CupA",
        "colab": {
          "base_uri": "https://localhost:8080/"
        },
        "outputId": "6b094c8a-52d9-4c66-b7bd-15dd7ed56a8c"
      },
      "source": [
        "from sklearn.metrics import f1_score\n",
        "f1_score(y_test, y_pred)"
      ],
      "execution_count": null,
      "outputs": [
        {
          "output_type": "execute_result",
          "data": {
            "text/plain": [
              "0.546896363139185"
            ]
          },
          "metadata": {
            "tags": []
          },
          "execution_count": 19
        }
      ]
    },
    {
      "cell_type": "code",
      "metadata": {
        "id": "AV7ojz5pCupB",
        "colab": {
          "base_uri": "https://localhost:8080/"
        },
        "outputId": "01183345-1f60-4df8-f233-273fe1f222bc"
      },
      "source": [
        "print(classification_report(y_test,rfc.predict(x_test)))"
      ],
      "execution_count": null,
      "outputs": [
        {
          "output_type": "stream",
          "text": [
            "              precision    recall  f1-score   support\n",
            "\n",
            "           0       0.84      0.95      0.89      7129\n",
            "           1       0.72      0.44      0.55      2267\n",
            "\n",
            "    accuracy                           0.82      9396\n",
            "   macro avg       0.78      0.69      0.72      9396\n",
            "weighted avg       0.81      0.82      0.81      9396\n",
            "\n"
          ],
          "name": "stdout"
        }
      ]
    },
    {
      "cell_type": "code",
      "metadata": {
        "id": "xVJX6TeSw1cN",
        "colab": {
          "base_uri": "https://localhost:8080/",
          "height": 278
        },
        "outputId": "bc681722-d0ed-4432-efe9-3dec1e76ce13"
      },
      "source": [
        "plot_confusion_matrix(rfc, x_test, y_test, normalize='true')  \n",
        "plt.show()"
      ],
      "execution_count": null,
      "outputs": [
        {
          "output_type": "display_data",
          "data": {
            "image/png": "[encoded data removed]",
            "text/plain": [
              "<Figure size 432x288 with 2 Axes>"
            ]
          },
          "metadata": {
            "tags": [],
            "needs_background": "light"
          }
        }
      ]
    },
    {
      "cell_type": "markdown",
      "metadata": {
        "id": "nvv9AjKYCupC"
      },
      "source": [
        "# SVM"
      ]
    },
    {
      "cell_type": "code",
      "metadata": {
        "id": "-rlBawAaCupC"
      },
      "source": [
        "from sklearn.svm import SVC"
      ],
      "execution_count": null,
      "outputs": []
    },
    {
      "cell_type": "code",
      "metadata": {
        "id": "D_x5T9KcCupD"
      },
      "source": [
        "svc = SVC()"
      ],
      "execution_count": null,
      "outputs": []
    },
    {
      "cell_type": "code",
      "metadata": {
        "colab": {
          "base_uri": "https://localhost:8080/"
        },
        "id": "vpBjhim3CupD",
        "outputId": "13eea1ac-1552-4bc4-ab26-4319bc95feac"
      },
      "source": [
        "svc.fit(x_train, y_train)"
      ],
      "execution_count": null,
      "outputs": [
        {
          "output_type": "execute_result",
          "data": {
            "text/plain": [
              "SVC(C=1.0, break_ties=False, cache_size=200, class_weight=None, coef0=0.0,\n",
              "    decision_function_shape='ovr', degree=3, gamma='scale', kernel='rbf',\n",
              "    max_iter=-1, probability=False, random_state=None, shrinking=True,\n",
              "    tol=0.001, verbose=False)"
            ]
          },
          "metadata": {
            "tags": []
          },
          "execution_count": 23
        }
      ]
    },
    {
      "cell_type": "code",
      "metadata": {
        "colab": {
          "base_uri": "https://localhost:8080/"
        },
        "id": "DR_NP0z9CupE",
        "outputId": "e0e2a6fd-b105-4907-be00-ffdd59239351"
      },
      "source": [
        "print(classification_report(y_test,svc.predict(x_test)))"
      ],
      "execution_count": null,
      "outputs": [
        {
          "output_type": "stream",
          "text": [
            "              precision    recall  f1-score   support\n",
            "\n",
            "           0       0.88      0.92      0.90      7129\n",
            "           1       0.71      0.60      0.65      2267\n",
            "\n",
            "    accuracy                           0.85      9396\n",
            "   macro avg       0.80      0.76      0.78      9396\n",
            "weighted avg       0.84      0.85      0.84      9396\n",
            "\n"
          ],
          "name": "stdout"
        }
      ]
    },
    {
      "cell_type": "code",
      "metadata": {
        "colab": {
          "base_uri": "https://localhost:8080/",
          "height": 278
        },
        "id": "tLEBpoWAwySf",
        "outputId": "ba36c09a-900f-447f-f59d-f961d07b236d"
      },
      "source": [
        "plot_confusion_matrix(svc, x_test, y_test, normalize='true')  \n",
        "plt.show()"
      ],
      "execution_count": null,
      "outputs": [
        {
          "output_type": "display_data",
          "data": {
            "image/png": "[encoded data removed]",
            "text/plain": [
              "<Figure size 432x288 with 2 Axes>"
            ]
          },
          "metadata": {
            "tags": [],
            "needs_background": "light"
          }
        }
      ]
    },
    {
      "cell_type": "markdown",
      "metadata": {
        "id": "5wUVrXHiCupE"
      },
      "source": [
        "# Logistic Regression"
      ]
    },
    {
      "cell_type": "code",
      "metadata": {
        "id": "bbgwaBGgCupF"
      },
      "source": [
        "from sklearn.linear_model import LogisticRegression"
      ],
      "execution_count": null,
      "outputs": []
    },
    {
      "cell_type": "code",
      "metadata": {
        "id": "K3QNhCU4CupF"
      },
      "source": [
        "lr = LogisticRegression()"
      ],
      "execution_count": null,
      "outputs": []
    },
    {
      "cell_type": "code",
      "metadata": {
        "colab": {
          "base_uri": "https://localhost:8080/"
        },
        "id": "IAUFpXF7CupG",
        "outputId": "2226a99d-fd64-4b0a-a857-01ff7abd8838"
      },
      "source": [
        "lr.fit(x_train, y_train)"
      ],
      "execution_count": null,
      "outputs": [
        {
          "output_type": "execute_result",
          "data": {
            "text/plain": [
              "LogisticRegression(C=1.0, class_weight=None, dual=False, fit_intercept=True,\n",
              "                   intercept_scaling=1, l1_ratio=None, max_iter=100,\n",
              "                   multi_class='auto', n_jobs=None, penalty='l2',\n",
              "                   random_state=None, solver='lbfgs', tol=0.0001, verbose=0,\n",
              "                   warm_start=False)"
            ]
          },
          "metadata": {
            "tags": []
          },
          "execution_count": 28
        }
      ]
    },
    {
      "cell_type": "code",
      "metadata": {
        "colab": {
          "base_uri": "https://localhost:8080/"
        },
        "id": "mWzob6_jCupH",
        "outputId": "936c1c76-1943-4899-b220-eb28bf81386b"
      },
      "source": [
        "print(classification_report(y_test,lr.predict(x_test)))"
      ],
      "execution_count": null,
      "outputs": [
        {
          "output_type": "stream",
          "text": [
            "              precision    recall  f1-score   support\n",
            "\n",
            "           0       0.88      0.92      0.90      7129\n",
            "           1       0.71      0.59      0.65      2267\n",
            "\n",
            "    accuracy                           0.84      9396\n",
            "   macro avg       0.80      0.76      0.77      9396\n",
            "weighted avg       0.84      0.84      0.84      9396\n",
            "\n"
          ],
          "name": "stdout"
        }
      ]
    },
    {
      "cell_type": "code",
      "metadata": {
        "colab": {
          "base_uri": "https://localhost:8080/",
          "height": 278
        },
        "id": "BSbR8LbgwnKf",
        "outputId": "4b6508ac-2dc2-42ac-d9ca-ce37e7c0b3b4"
      },
      "source": [
        "plot_confusion_matrix(lr, x_test, y_test, normalize='true')  \n",
        "plt.show()"
      ],
      "execution_count": null,
      "outputs": [
        {
          "output_type": "display_data",
          "data": {
            "image/png": "[encoded data removed]",
            "text/plain": [
              "<Figure size 432x288 with 2 Axes>"
            ]
          },
          "metadata": {
            "tags": [],
            "needs_background": "light"
          }
        }
      ]
    },
    {
      "cell_type": "markdown",
      "metadata": {
        "id": "474g-LvaEDXm"
      },
      "source": [
        "# OverSampling"
      ]
    },
    {
      "cell_type": "code",
      "metadata": {
        "id": "kxk888dMCupH"
      },
      "source": [
        "#pip install imbalanced-learn --user"
      ],
      "execution_count": 16,
      "outputs": []
    },
    {
      "cell_type": "code",
      "metadata": {
        "id": "fhsgPdZMCupI"
      },
      "source": [
        "## RandomOverSampler to handle imbalanced data\n",
        "\n",
        "from imblearn.over_sampling import RandomOverSampler\n",
        "\n",
        "from collections import Counter"
      ],
      "execution_count": 17,
      "outputs": []
    },
    {
      "cell_type": "code",
      "metadata": {
        "id": "MZUfFhuDCupJ"
      },
      "source": [
        "os =  RandomOverSampler(ratio=1)"
      ],
      "execution_count": 18,
      "outputs": []
    },
    {
      "cell_type": "code",
      "metadata": {
        "id": "SCiwHoE6CupJ"
      },
      "source": [
        "x_train_res, y_train_res = os.fit_sample(x_train, y_train)"
      ],
      "execution_count": 19,
      "outputs": []
    },
    {
      "cell_type": "code",
      "metadata": {
        "id": "g5-JX1V9CupJ",
        "colab": {
          "base_uri": "https://localhost:8080/"
        },
        "outputId": "3a4d00c8-6f48-4808-f02f-49ac3be15e7b"
      },
      "source": [
        "print('Original dataset shape {}'.format(Counter(y_train)))\n",
        "print('Resampled dataset shape {}'.format(Counter(y_train_res)))"
      ],
      "execution_count": 20,
      "outputs": [
        {
          "output_type": "stream",
          "text": [
            "Original dataset shape Counter({0: 26394, 1: 8750})\n",
            "Resampled dataset shape Counter({0: 26394, 1: 26394})\n"
          ],
          "name": "stdout"
        }
      ]
    },
    {
      "cell_type": "markdown",
      "metadata": {
        "id": "IpGqPA7xT4V3"
      },
      "source": [
        "### Downloading the two files after resampling"
      ]
    },
    {
      "cell_type": "code",
      "metadata": {
        "colab": {
          "base_uri": "https://localhost:8080/"
        },
        "id": "5nMJrROcUSqM",
        "outputId": "a64dda40-443e-474a-d997-9ee4400340b9"
      },
      "source": [
        "x_train_res.shape, x_train.shape"
      ],
      "execution_count": 21,
      "outputs": [
        {
          "output_type": "execute_result",
          "data": {
            "text/plain": [
              "((52788, 24), (35144, 24))"
            ]
          },
          "metadata": {
            "tags": []
          },
          "execution_count": 21
        }
      ]
    },
    {
      "cell_type": "code",
      "metadata": {
        "colab": {
          "base_uri": "https://localhost:8080/"
        },
        "id": "XJoG3a4FYICT",
        "outputId": "8fb269c2-6695-4d08-845e-2758ee5f6834"
      },
      "source": [
        "y_train_res.shape, y_train.shape"
      ],
      "execution_count": 22,
      "outputs": [
        {
          "output_type": "execute_result",
          "data": {
            "text/plain": [
              "((52788,), (35144,))"
            ]
          },
          "metadata": {
            "tags": []
          },
          "execution_count": 22
        }
      ]
    },
    {
      "cell_type": "code",
      "metadata": {
        "colab": {
          "base_uri": "https://localhost:8080/"
        },
        "id": "VUYNASadZ40y",
        "outputId": "52ae5405-2fbe-4e95-aaba-f0fedcaae6fe"
      },
      "source": [
        "y_train.head()"
      ],
      "execution_count": 23,
      "outputs": [
        {
          "output_type": "execute_result",
          "data": {
            "text/plain": [
              "0    0\n",
              "1    1\n",
              "2    0\n",
              "3    1\n",
              "4    1\n",
              "Name: income, dtype: int64"
            ]
          },
          "metadata": {
            "tags": []
          },
          "execution_count": 23
        }
      ]
    },
    {
      "cell_type": "code",
      "metadata": {
        "id": "sUKU6XBeU7kD"
      },
      "source": [
        "x_train_res = pd.DataFrame(x_train_res, columns=x_train.columns)"
      ],
      "execution_count": 24,
      "outputs": []
    },
    {
      "cell_type": "code",
      "metadata": {
        "id": "rPr7-VC3VJET"
      },
      "source": [
        "y_train_res = pd.Series(y_train_res)"
      ],
      "execution_count": 25,
      "outputs": []
    },
    {
      "cell_type": "code",
      "metadata": {
        "id": "m3pVCqLITuxX"
      },
      "source": [
        "from google.colab import files"
      ],
      "execution_count": 26,
      "outputs": []
    },
    {
      "cell_type": "code",
      "metadata": {
        "id": "yFmBYeNKT0jc"
      },
      "source": [
        "# x_train_res.to_csv('x_train_res.csv', index = False)         \n",
        "# files.download('x_train_res.csv')"
      ],
      "execution_count": 27,
      "outputs": []
    },
    {
      "cell_type": "code",
      "metadata": {
        "id": "L-BvgHGkT1GU"
      },
      "source": [
        "# y_train_res.to_csv('y_train_res.csv', index = False)         \n",
        "# files.download('y_train_res.csv')"
      ],
      "execution_count": 28,
      "outputs": []
    },
    {
      "cell_type": "code",
      "metadata": {
        "id": "x3W5tIFwXP6w"
      },
      "source": [
        "# After restarting the runtime I am loading the files\n",
        "x_train_res = pd.read_csv('x_train_res.csv')\n",
        "y_train_res = pd.read_csv('y_train_res.csv', header=None).iloc[:,0]"
      ],
      "execution_count": 29,
      "outputs": []
    },
    {
      "cell_type": "code",
      "metadata": {
        "colab": {
          "base_uri": "https://localhost:8080/"
        },
        "id": "s9X4VLs1YALK",
        "outputId": "3e8e7de7-147f-4cf0-e906-e33d59946dd6"
      },
      "source": [
        "y_train_res.head()"
      ],
      "execution_count": 30,
      "outputs": [
        {
          "output_type": "execute_result",
          "data": {
            "text/plain": [
              "0    0\n",
              "1    1\n",
              "2    0\n",
              "3    1\n",
              "4    1\n",
              "Name: 0, dtype: int64"
            ]
          },
          "metadata": {
            "tags": []
          },
          "execution_count": 30
        }
      ]
    },
    {
      "cell_type": "code",
      "metadata": {
        "colab": {
          "base_uri": "https://localhost:8080/"
        },
        "id": "B2bXMOcSX0uf",
        "outputId": "8e9adc36-78a5-41bc-db59-adadf6fa7ca4"
      },
      "source": [
        "x_train_res.shape, y_train_res.shape"
      ],
      "execution_count": 31,
      "outputs": [
        {
          "output_type": "execute_result",
          "data": {
            "text/plain": [
              "((52788, 24), (52788,))"
            ]
          },
          "metadata": {
            "tags": []
          },
          "execution_count": 31
        }
      ]
    },
    {
      "cell_type": "markdown",
      "metadata": {
        "id": "swaXvCR2E3Xa"
      },
      "source": [
        "## Random Forest after resampling"
      ]
    },
    {
      "cell_type": "code",
      "metadata": {
        "id": "Ibm-5fszCupK",
        "colab": {
          "base_uri": "https://localhost:8080/"
        },
        "outputId": "659bc779-e9f6-432f-ca47-70dea40722d7"
      },
      "source": [
        "rfc.fit(x_train_res, y_train_res)"
      ],
      "execution_count": null,
      "outputs": [
        {
          "output_type": "execute_result",
          "data": {
            "text/plain": [
              "RandomForestClassifier(bootstrap=True, ccp_alpha=0.0, class_weight=None,\n",
              "                       criterion='gini', max_depth=None, max_features='auto',\n",
              "                       max_leaf_nodes=None, max_samples=None,\n",
              "                       min_impurity_decrease=0.0, min_impurity_split=None,\n",
              "                       min_samples_leaf=1, min_samples_split=2,\n",
              "                       min_weight_fraction_leaf=0.0, n_estimators=100,\n",
              "                       n_jobs=None, oob_score=False, random_state=None,\n",
              "                       verbose=0, warm_start=False)"
            ]
          },
          "metadata": {
            "tags": []
          },
          "execution_count": 63
        }
      ]
    },
    {
      "cell_type": "code",
      "metadata": {
        "id": "P1hkZFfGCupK",
        "colab": {
          "base_uri": "https://localhost:8080/"
        },
        "outputId": "1af3d16b-2ee4-4200-a9c8-8e5642555369"
      },
      "source": [
        "print(classification_report(y_test,rfc.predict(x_test)))"
      ],
      "execution_count": null,
      "outputs": [
        {
          "output_type": "stream",
          "text": [
            "              precision    recall  f1-score   support\n",
            "\n",
            "           0       0.85      0.92      0.89      7129\n",
            "           1       0.67      0.50      0.58      2267\n",
            "\n",
            "    accuracy                           0.82      9396\n",
            "   macro avg       0.76      0.71      0.73      9396\n",
            "weighted avg       0.81      0.82      0.81      9396\n",
            "\n"
          ],
          "name": "stdout"
        }
      ]
    },
    {
      "cell_type": "code",
      "metadata": {
        "colab": {
          "base_uri": "https://localhost:8080/",
          "height": 278
        },
        "id": "TC2adCwKv_m1",
        "outputId": "6267eabf-ff31-4e8d-dda8-18a47a6f1730"
      },
      "source": [
        "plot_confusion_matrix(rfc, x_test, y_test, normalize='true')  \n",
        "plt.show()  "
      ],
      "execution_count": null,
      "outputs": [
        {
          "output_type": "display_data",
          "data": {
            "image/png": "[encoded data removed]",
            "text/plain": [
              "<Figure size 432x288 with 2 Axes>"
            ]
          },
          "metadata": {
            "tags": [],
            "needs_background": "light"
          }
        }
      ]
    },
    {
      "cell_type": "markdown",
      "metadata": {
        "id": "5TGR3sovFPVo"
      },
      "source": [
        "## SVM after resampling"
      ]
    },
    {
      "cell_type": "code",
      "metadata": {
        "id": "mTM4IvHuCupK",
        "colab": {
          "base_uri": "https://localhost:8080/"
        },
        "outputId": "c36fb731-a195-4a55-97ae-8a55ec078a74"
      },
      "source": [
        "svc.fit(x_train_res, y_train_res)"
      ],
      "execution_count": null,
      "outputs": [
        {
          "output_type": "execute_result",
          "data": {
            "text/plain": [
              "SVC(C=1.0, break_ties=False, cache_size=200, class_weight=None, coef0=0.0,\n",
              "    decision_function_shape='ovr', degree=3, gamma='scale', kernel='rbf',\n",
              "    max_iter=-1, probability=False, random_state=None, shrinking=True,\n",
              "    tol=0.001, verbose=False)"
            ]
          },
          "metadata": {
            "tags": []
          },
          "execution_count": 66
        }
      ]
    },
    {
      "cell_type": "code",
      "metadata": {
        "id": "EpIiwuRKFVZp",
        "colab": {
          "base_uri": "https://localhost:8080/"
        },
        "outputId": "f641eb00-c84d-4a92-d449-c4474c34ba68"
      },
      "source": [
        "print(classification_report(y_test,svc.predict(x_test)))"
      ],
      "execution_count": null,
      "outputs": [
        {
          "output_type": "stream",
          "text": [
            "              precision    recall  f1-score   support\n",
            "\n",
            "           0       0.94      0.77      0.85      7129\n",
            "           1       0.54      0.85      0.66      2267\n",
            "\n",
            "    accuracy                           0.79      9396\n",
            "   macro avg       0.74      0.81      0.75      9396\n",
            "weighted avg       0.84      0.79      0.80      9396\n",
            "\n"
          ],
          "name": "stdout"
        }
      ]
    },
    {
      "cell_type": "code",
      "metadata": {
        "colab": {
          "base_uri": "https://localhost:8080/",
          "height": 278
        },
        "id": "Tu_uE9QWwaDE",
        "outputId": "be780943-b727-42dd-b1e9-8718ce1a7864"
      },
      "source": [
        "plot_confusion_matrix(svc, x_test, y_test, normalize='true')  \n",
        "plt.show()  "
      ],
      "execution_count": null,
      "outputs": [
        {
          "output_type": "display_data",
          "data": {
            "image/png": "[encoded data removed]",
            "text/plain": [
              "<Figure size 432x288 with 2 Axes>"
            ]
          },
          "metadata": {
            "tags": [],
            "needs_background": "light"
          }
        }
      ]
    },
    {
      "cell_type": "markdown",
      "metadata": {
        "id": "vHzjVK8JFjoL"
      },
      "source": [
        "## Logistic Regression after resampling"
      ]
    },
    {
      "cell_type": "code",
      "metadata": {
        "id": "MTJ3GDCqFnw2",
        "colab": {
          "base_uri": "https://localhost:8080/"
        },
        "outputId": "4e2004b3-572d-4eaa-f33e-d8ef2edfce57"
      },
      "source": [
        "lr.fit(x_train_res, y_train_res)"
      ],
      "execution_count": null,
      "outputs": [
        {
          "output_type": "execute_result",
          "data": {
            "text/plain": [
              "LogisticRegression(C=1.0, class_weight=None, dual=False, fit_intercept=True,\n",
              "                   intercept_scaling=1, l1_ratio=None, max_iter=100,\n",
              "                   multi_class='auto', n_jobs=None, penalty='l2',\n",
              "                   random_state=None, solver='lbfgs', tol=0.0001, verbose=0,\n",
              "                   warm_start=False)"
            ]
          },
          "metadata": {
            "tags": []
          },
          "execution_count": 69
        }
      ]
    },
    {
      "cell_type": "code",
      "metadata": {
        "id": "jRARNetQFsc-",
        "colab": {
          "base_uri": "https://localhost:8080/"
        },
        "outputId": "7d8b10fe-f0dd-4e22-c793-69f54aa3da33"
      },
      "source": [
        "print(classification_report(y_test,lr.predict(x_test)))"
      ],
      "execution_count": null,
      "outputs": [
        {
          "output_type": "stream",
          "text": [
            "              precision    recall  f1-score   support\n",
            "\n",
            "           0       0.94      0.79      0.86      7129\n",
            "           1       0.56      0.84      0.67      2267\n",
            "\n",
            "    accuracy                           0.80      9396\n",
            "   macro avg       0.75      0.82      0.77      9396\n",
            "weighted avg       0.85      0.80      0.81      9396\n",
            "\n"
          ],
          "name": "stdout"
        }
      ]
    },
    {
      "cell_type": "code",
      "metadata": {
        "colab": {
          "base_uri": "https://localhost:8080/",
          "height": 278
        },
        "id": "jYrwY0Fbwdx9",
        "outputId": "72656b22-f688-4fcb-c35f-04112cc8bbe9"
      },
      "source": [
        "plot_confusion_matrix(lr, x_test, y_test, normalize='true')  \n",
        "plt.show()"
      ],
      "execution_count": null,
      "outputs": [
        {
          "output_type": "display_data",
          "data": {
            "image/png": "[encoded data removed]",
            "text/plain": [
              "<Figure size 432x288 with 2 Axes>"
            ]
          },
          "metadata": {
            "tags": [],
            "needs_background": "light"
          }
        }
      ]
    },
    {
      "cell_type": "markdown",
      "metadata": {
        "id": "-Mqq6enNGP9r"
      },
      "source": [
        "# Hyperparameter Tuning"
      ]
    },
    {
      "cell_type": "code",
      "metadata": {
        "id": "bwRBoHsIGOuY"
      },
      "source": [
        "from sklearn.model_selection import RandomizedSearchCV\n",
        "from sklearn.model_selection import GridSearchCV"
      ],
      "execution_count": 32,
      "outputs": []
    },
    {
      "cell_type": "code",
      "metadata": {
        "id": "QfUyaG0OGOq_"
      },
      "source": [
        "model_params = {\n",
        "    'svm': {\n",
        "        'model': SVC(gamma='auto'),\n",
        "        'params' : {\n",
        "            'C': [0.1, 1, 10, 100, 1000], \n",
        "            'gamma': [1, 0.1, 0.01, 0.001, 0.0001],\n",
        "            'kernel': ['rbf','linear']\n",
        "        }  \n",
        "    },\n",
        "    'random_forest': {\n",
        "        'model': RandomForestClassifier(),\n",
        "        'params' : {\n",
        "            'bootstrap': [True, False],\n",
        "             'max_depth': [10, 20, 30, 40, 50, 60, 70, 80, None],\n",
        "             'max_features': ['auto', 'sqrt'],\n",
        "             'min_samples_leaf': [1, 2, 4],\n",
        "             'min_samples_split': [2, 5, 10],\n",
        "             'n_estimators': [200, 400, 600, 800, 1000]\n",
        "        }\n",
        "    },\n",
        "    'logistic_regression' : {\n",
        "        'model': LogisticRegression(solver='liblinear',multi_class='auto'),\n",
        "        'params': {\n",
        "  #          'C': [1,5,10]\n",
        "            'penalty' : ['l1', 'l2'],\n",
        "            'C' : np.logspace(-4, 4, 20)\n",
        "        }\n",
        "    }\n",
        "}"
      ],
      "execution_count": null,
      "outputs": []
    },
    {
      "cell_type": "code",
      "metadata": {
        "id": "scInerlOGOjm"
      },
      "source": [
        "# scores = []\n",
        "\n",
        "# for model_name, mp in model_params.items():\n",
        "#     clf =  RandomizedSearchCV(mp['model'], mp['params'], cv=5, return_train_score=False, n_iter=2)\n",
        "#     clf.fit(x_train_res, y_train_res)\n",
        "#     scores.append({\n",
        "#         'model': model_name,\n",
        "#         'best_score': clf.best_score_,\n",
        "#         'best_params': clf.best_params_\n",
        "#     })\n",
        "    \n",
        "# df = pd.DataFrame(scores,columns=['model','best_score','best_params'])\n",
        "# df"
      ],
      "execution_count": null,
      "outputs": []
    },
    {
      "cell_type": "code",
      "metadata": {
        "id": "NDzcPJW4WHpJ"
      },
      "source": [
        "#df[df['model'] == 'random_forest']['best_params'].values"
      ],
      "execution_count": null,
      "outputs": []
    },
    {
      "cell_type": "markdown",
      "metadata": {
        "id": "xf3a84sRWpFZ"
      },
      "source": [
        "best parameter for random forest:- {'n_estimators': 200, 'min_samples_split': 2, 'min_samples_leaf': 1, 'max_features': 'sqrt', 'max_depth': 50, 'bootstrap': True} for accuracy 0.8999 on resampled data."
      ]
    },
    {
      "cell_type": "markdown",
      "metadata": {
        "id": "kxGMKSiJBgRW"
      },
      "source": [
        "#### Results after hyperparameter tuning first time on resampled data"
      ]
    },
    {
      "cell_type": "markdown",
      "metadata": {
        "id": "XU1MsBWwBI1X"
      },
      "source": [
        "![Screenshot (133).png](data:image/png;base64,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)"
      ]
    },
    {
      "cell_type": "markdown",
      "metadata": {
        "id": "M9vZHXO6aDNg"
      },
      "source": [
        "#### Results after hyperparameter tuning second time on non-resampled data"
      ]
    },
    {
      "cell_type": "markdown",
      "metadata": {
        "id": "fVsL6EzMaOBD"
      },
      "source": [
        "Best parameters for random forest{'n_estimators': 200, 'min_samples_split': 2, 'min_samples_leaf': 4, 'max_features': 'sqrt', 'max_depth': 70, 'bootstrap': True} without resampling with the score of 0.8422"
      ]
    },
    {
      "cell_type": "markdown",
      "metadata": {
        "id": "hOmkZwitaN9q"
      },
      "source": [
        "![Screenshot (134).png](data:image/png;base64,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)"
      ]
    },
    {
      "cell_type": "markdown",
      "metadata": {
        "id": "4V8Y3pMSbN5x"
      },
      "source": [
        "# Checking the  models on resampled data after Hyperparameter Tuning"
      ]
    },
    {
      "cell_type": "code",
      "metadata": {
        "id": "Um9wESSOa9Kf",
        "colab": {
          "base_uri": "https://localhost:8080/"
        },
        "outputId": "9124fc13-b1cc-4af7-bc21-4f5deb57e313"
      },
      "source": [
        "rfc_hyper = RandomForestClassifier(n_estimators =  200, \n",
        "                                   min_samples_split= 2, \n",
        "                                   min_samples_leaf= 1, \n",
        "                                   max_features= 'sqrt', \n",
        "                                   max_depth= 50, \n",
        "                                   bootstrap= True)\n",
        "rfc_hyper.fit(x_train_res, y_train_res)\n",
        "print(classification_report(y_test,rfc_hyper.predict(x_test)))"
      ],
      "execution_count": null,
      "outputs": [
        {
          "output_type": "stream",
          "text": [
            "              precision    recall  f1-score   support\n",
            "\n",
            "           0       0.86      0.93      0.89      7129\n",
            "           1       0.68      0.51      0.58      2267\n",
            "\n",
            "    accuracy                           0.82      9396\n",
            "   macro avg       0.77      0.72      0.74      9396\n",
            "weighted avg       0.81      0.82      0.82      9396\n",
            "\n"
          ],
          "name": "stdout"
        }
      ]
    },
    {
      "cell_type": "code",
      "metadata": {
        "id": "r5wnV8EF0x5d",
        "colab": {
          "base_uri": "https://localhost:8080/",
          "height": 278
        },
        "outputId": "5099db9e-4055-4ad7-de71-5dae75e5c847"
      },
      "source": [
        "plot_confusion_matrix(rfc_hyper, x_test, y_test, normalize='true')  \n",
        "plt.show()"
      ],
      "execution_count": null,
      "outputs": [
        {
          "output_type": "display_data",
          "data": {
            "image/png": "[encoded data removed]",
            "text/plain": [
              "<Figure size 432x288 with 2 Axes>"
            ]
          },
          "metadata": {
            "tags": [],
            "needs_background": "light"
          }
        }
      ]
    },
    {
      "cell_type": "code",
      "metadata": {
        "id": "KjddUNJKa9F9",
        "colab": {
          "base_uri": "https://localhost:8080/"
        },
        "outputId": "3acd8907-ff33-438d-9f85-dc665e0b5acc"
      },
      "source": [
        "lr_hyper = LogisticRegression(penalty='l2',\n",
        "                              C = 78.47599)\n",
        "\n",
        "lr_hyper.fit(x_train_res, y_train_res)\n",
        "print(classification_report(y_test,lr_hyper.predict(x_test)))"
      ],
      "execution_count": null,
      "outputs": [
        {
          "output_type": "stream",
          "text": [
            "              precision    recall  f1-score   support\n",
            "\n",
            "           0       0.94      0.79      0.86      7129\n",
            "           1       0.56      0.84      0.67      2267\n",
            "\n",
            "    accuracy                           0.80      9396\n",
            "   macro avg       0.75      0.81      0.76      9396\n",
            "weighted avg       0.85      0.80      0.81      9396\n",
            "\n"
          ],
          "name": "stdout"
        }
      ]
    },
    {
      "cell_type": "code",
      "metadata": {
        "id": "tRpJFs360nmB",
        "colab": {
          "base_uri": "https://localhost:8080/",
          "height": 278
        },
        "outputId": "8688f07e-c175-4d49-e3dc-9360dab5d83c"
      },
      "source": [
        "plot_confusion_matrix(lr_hyper, x_test, y_test, normalize='true')  \n",
        "plt.show()"
      ],
      "execution_count": null,
      "outputs": [
        {
          "output_type": "display_data",
          "data": {
            "image/png": "[encoded data removed]",
            "text/plain": [
              "<Figure size 432x288 with 2 Axes>"
            ]
          },
          "metadata": {
            "tags": [],
            "needs_background": "light"
          }
        }
      ]
    },
    {
      "cell_type": "code",
      "metadata": {
        "id": "eNqOoutZdEVn",
        "colab": {
          "base_uri": "https://localhost:8080/"
        },
        "outputId": "cf855c79-df97-429d-a073-2f2b724e3670"
      },
      "source": [
        "svc_hyper = SVC(kernel='rbf',\n",
        "          C = 20)\n",
        "\n",
        "svc.fit(x_train_res, y_train_res)\n",
        "print(classification_report(y_test,svc.predict(x_test)))"
      ],
      "execution_count": null,
      "outputs": [
        {
          "output_type": "stream",
          "text": [
            "              precision    recall  f1-score   support\n",
            "\n",
            "           0       0.94      0.77      0.85      7129\n",
            "           1       0.54      0.85      0.66      2267\n",
            "\n",
            "    accuracy                           0.79      9396\n",
            "   macro avg       0.74      0.81      0.75      9396\n",
            "weighted avg       0.84      0.79      0.80      9396\n",
            "\n"
          ],
          "name": "stdout"
        }
      ]
    },
    {
      "cell_type": "code",
      "metadata": {
        "id": "HSfBjy7h04yx",
        "colab": {
          "base_uri": "https://localhost:8080/",
          "height": 278
        },
        "outputId": "9c272cfc-e594-4106-b978-0a5d6e1c72bd"
      },
      "source": [
        "plot_confusion_matrix(lr_hyper, x_test, y_test, normalize='true')  \n",
        "plt.show()"
      ],
      "execution_count": null,
      "outputs": [
        {
          "output_type": "display_data",
          "data": {
            "image/png": "[encoded data removed]",
            "text/plain": [
              "<Figure size 432x288 with 2 Axes>"
            ]
          },
          "metadata": {
            "tags": [],
            "needs_background": "light"
          }
        }
      ]
    },
    {
      "cell_type": "markdown",
      "metadata": {
        "id": "MoHaMSfuCupL"
      },
      "source": [
        "# Xgboost"
      ]
    },
    {
      "cell_type": "code",
      "metadata": {
        "id": "7ZFxYbyECupL"
      },
      "source": [
        "import xgboost"
      ],
      "execution_count": 36,
      "outputs": []
    },
    {
      "cell_type": "code",
      "metadata": {
        "id": "t6InjMb2CupM"
      },
      "source": [
        "classifier=xgboost.XGBClassifier()"
      ],
      "execution_count": null,
      "outputs": []
    },
    {
      "cell_type": "code",
      "metadata": {
        "id": "KKwutBByCupM"
      },
      "source": [
        "params={\n",
        " \"learning_rate\"    : [0.05, 0.10, 0.15, 0.20, 0.25, 0.30 ] ,\n",
        " \"max_depth\"        : [ 3, 4, 5, 6, 8, 10, 12, 15],\n",
        " \"min_child_weight\" : [ 1, 3, 5, 7 ],\n",
        " \"gamma\"            : [ 0.0, 0.1, 0.2 , 0.3, 0.4 ],\n",
        " \"colsample_bytree\" : [ 0.3, 0.4, 0.5 , 0.7 ]    \n",
        "}"
      ],
      "execution_count": null,
      "outputs": []
    },
    {
      "cell_type": "code",
      "metadata": {
        "id": "qzK6awrj6Tnr"
      },
      "source": [
        "#random_search = RandomizedSearchCV(classifier,param_distributions=params,n_iter=5,scoring='roc_auc',n_jobs=-1,cv=5,verbose=3)"
      ],
      "execution_count": null,
      "outputs": []
    },
    {
      "cell_type": "markdown",
      "metadata": {
        "id": "kyanjTmu7J2S"
      },
      "source": [
        "## On Resampled Data"
      ]
    },
    {
      "cell_type": "code",
      "metadata": {
        "id": "yJwD66Pq6YXc"
      },
      "source": [
        "#random_search.fit(x_train_res,y_train_res)"
      ],
      "execution_count": null,
      "outputs": []
    },
    {
      "cell_type": "code",
      "metadata": {
        "id": "aO_axSNS6hGM"
      },
      "source": [
        "#random_search.best_estimator_"
      ],
      "execution_count": null,
      "outputs": []
    },
    {
      "cell_type": "code",
      "metadata": {
        "id": "84B8V9eX64F9"
      },
      "source": [
        "#random_search.best_params_"
      ],
      "execution_count": null,
      "outputs": []
    },
    {
      "cell_type": "markdown",
      "metadata": {
        "id": "T_nqwT1R6_JY"
      },
      "source": [
        "{'colsample_bytree': 0.3,\n",
        " 'gamma': 0.0,\n",
        " 'learning_rate': 0.25,\n",
        " 'max_depth': 8,\n",
        " 'min_child_weight': 1}"
      ]
    },
    {
      "cell_type": "code",
      "metadata": {
        "id": "UYBVRem368oX"
      },
      "source": [
        "# xg_res = xgboost.XGBClassifier(colsample_bytree = 0.3,\n",
        "#                                gamma = 0.0,\n",
        "#                                learning_rate = 0.25,\n",
        "#                                max_depth = 8,\n",
        "#                                min_child_weight = 1)"
      ],
      "execution_count": null,
      "outputs": []
    },
    {
      "cell_type": "code",
      "metadata": {
        "id": "BzFYoTOt7vyO"
      },
      "source": [
        "#xg_res.fit(x_train_res,y_train_res)"
      ],
      "execution_count": null,
      "outputs": []
    },
    {
      "cell_type": "markdown",
      "metadata": {
        "id": "A3MqVYwyIaFu"
      },
      "source": [
        "### Saving/Loading the model"
      ]
    },
    {
      "cell_type": "code",
      "metadata": {
        "id": "9qHOr9zOIaFu"
      },
      "source": [
        "#dump(xg_res, 'xg_res.joblib')"
      ],
      "execution_count": null,
      "outputs": []
    },
    {
      "cell_type": "code",
      "metadata": {
        "id": "iMxJKea_IaFv"
      },
      "source": [
        "xg_res = load('xg_res.joblib') "
      ],
      "execution_count": null,
      "outputs": []
    },
    {
      "cell_type": "code",
      "metadata": {
        "colab": {
          "base_uri": "https://localhost:8080/",
          "height": 278
        },
        "id": "4Q5x_WQ473-R",
        "outputId": "190fafb6-d0f1-4554-e663-b2fae6a1c462"
      },
      "source": [
        "plot_confusion_matrix(xg_res, x_test, y_test, normalize='true')  \n",
        "plt.show()"
      ],
      "execution_count": null,
      "outputs": [
        {
          "output_type": "display_data",
          "data": {
            "image/png": "[encoded data removed]",
            "text/plain": [
              "<Figure size 432x288 with 2 Axes>"
            ]
          },
          "metadata": {
            "tags": [],
            "needs_background": "light"
          }
        }
      ]
    },
    {
      "cell_type": "code",
      "metadata": {
        "colab": {
          "base_uri": "https://localhost:8080/"
        },
        "id": "3UrXPEDYSHUq",
        "outputId": "72c1fac3-9f57-439c-ac41-c7a9a75eb171"
      },
      "source": [
        "f1_score(y_test, xg_res.predict(x_test))"
      ],
      "execution_count": null,
      "outputs": [
        {
          "output_type": "execute_result",
          "data": {
            "text/plain": [
              "0.6252302025782689"
            ]
          },
          "metadata": {
            "tags": []
          },
          "execution_count": 75
        }
      ]
    },
    {
      "cell_type": "markdown",
      "metadata": {
        "id": "TOV2QTWf8mhB"
      },
      "source": [
        "## On normal data"
      ]
    },
    {
      "cell_type": "code",
      "metadata": {
        "id": "Uw6kHabd8BD8"
      },
      "source": [
        "#random_search.fit(x_train,y_train)"
      ],
      "execution_count": null,
      "outputs": []
    },
    {
      "cell_type": "code",
      "metadata": {
        "id": "___c1W6pAH4T"
      },
      "source": [
        "#random_search.best_params_"
      ],
      "execution_count": null,
      "outputs": []
    },
    {
      "cell_type": "markdown",
      "metadata": {
        "id": "cydmSFsyArfD"
      },
      "source": [
        "{'colsample_bytree': 0.5,\n",
        " 'gamma': 0.4,\n",
        " 'learning_rate': 0.15,\n",
        " 'max_depth': 5,\n",
        " 'min_child_weight': 3}"
      ]
    },
    {
      "cell_type": "code",
      "metadata": {
        "id": "2cqL-vt1AniP"
      },
      "source": [
        "# xg_non_res = xgboost.XGBClassifier(colsample_bytree = 0.5,\n",
        "#                                gamma = 0.4,\n",
        "#                                learning_rate = 0.15,\n",
        "#                                max_depth = 5,\n",
        "#                                min_child_weight = 3)"
      ],
      "execution_count": null,
      "outputs": []
    },
    {
      "cell_type": "code",
      "metadata": {
        "id": "fNkQ5z9LBASE"
      },
      "source": [
        "# xg_non_res.fit(x_train_res,y_train_res)"
      ],
      "execution_count": null,
      "outputs": []
    },
    {
      "cell_type": "markdown",
      "metadata": {
        "id": "i1BXGVCoICsc"
      },
      "source": [
        "### Saving/Loading the model"
      ]
    },
    {
      "cell_type": "code",
      "metadata": {
        "id": "ukCPvpe1ICsm"
      },
      "source": [
        "#dump(xg_non_res, 'xg_non_res.joblib')"
      ],
      "execution_count": null,
      "outputs": []
    },
    {
      "cell_type": "code",
      "metadata": {
        "id": "AMXXlafUICsr"
      },
      "source": [
        "xg_non_res = load('xg_non_res.joblib') "
      ],
      "execution_count": null,
      "outputs": []
    },
    {
      "cell_type": "code",
      "metadata": {
        "colab": {
          "base_uri": "https://localhost:8080/",
          "height": 278
        },
        "id": "Ov2_O87nBGz8",
        "outputId": "f239ad48-4630-41d5-e0cd-a3c28f7181ae"
      },
      "source": [
        "plot_confusion_matrix(xg_non_res, x_test, y_test, normalize='true')  \n",
        "plt.show()"
      ],
      "execution_count": null,
      "outputs": [
        {
          "output_type": "display_data",
          "data": {
            "image/png": "[encoded data removed]",
            "text/plain": [
              "<Figure size 432x288 with 2 Axes>"
            ]
          },
          "metadata": {
            "tags": [],
            "needs_background": "light"
          }
        }
      ]
    },
    {
      "cell_type": "code",
      "metadata": {
        "colab": {
          "base_uri": "https://localhost:8080/"
        },
        "id": "sxxNSI0gR7f0",
        "outputId": "0f45510e-3b66-4d38-b80b-064399829b12"
      },
      "source": [
        "f1_score(y_test, xg_non_res.predict(x_test))"
      ],
      "execution_count": null,
      "outputs": [
        {
          "output_type": "execute_result",
          "data": {
            "text/plain": [
              "0.6610968294772921"
            ]
          },
          "metadata": {
            "tags": []
          },
          "execution_count": 73
        }
      ]
    },
    {
      "cell_type": "markdown",
      "metadata": {
        "id": "sh8z9yWlJXMI"
      },
      "source": [
        "# Adaboost"
      ]
    },
    {
      "cell_type": "code",
      "metadata": {
        "id": "fDVH5AH1Iyij"
      },
      "source": [
        "from sklearn.ensemble import AdaBoostClassifier"
      ],
      "execution_count": null,
      "outputs": []
    },
    {
      "cell_type": "markdown",
      "metadata": {
        "id": "IjK2bXYtGin6"
      },
      "source": [
        "## Using Default Hyperparameters"
      ]
    },
    {
      "cell_type": "code",
      "metadata": {
        "id": "in450G9sGMwl"
      },
      "source": [
        "ada = AdaBoostClassifier()"
      ],
      "execution_count": null,
      "outputs": []
    },
    {
      "cell_type": "markdown",
      "metadata": {
        "id": "8oXKdNdCHMG3"
      },
      "source": [
        "### On Normal Data"
      ]
    },
    {
      "cell_type": "code",
      "metadata": {
        "colab": {
          "base_uri": "https://localhost:8080/"
        },
        "id": "clMgjXDDGcxv",
        "outputId": "16f88dfd-61f0-4ade-b25c-05889a467474"
      },
      "source": [
        "ada.fit(x_train, y_train)"
      ],
      "execution_count": null,
      "outputs": [
        {
          "output_type": "execute_result",
          "data": {
            "text/plain": [
              "AdaBoostClassifier(algorithm='SAMME.R', base_estimator=None, learning_rate=1.0,\n",
              "                   n_estimators=50, random_state=None)"
            ]
          },
          "metadata": {
            "tags": []
          },
          "execution_count": 47
        }
      ]
    },
    {
      "cell_type": "code",
      "metadata": {
        "colab": {
          "base_uri": "https://localhost:8080/",
          "height": 278
        },
        "id": "VbhujphoGcuV",
        "outputId": "abb8f183-a383-418a-805d-3cf90b7e38cf"
      },
      "source": [
        "plot_confusion_matrix(ada, x_test, y_test, normalize='true')  \n",
        "plt.show()"
      ],
      "execution_count": null,
      "outputs": [
        {
          "output_type": "display_data",
          "data": {
            "image/png": "[encoded data removed]",
            "text/plain": [
              "<Figure size 432x288 with 2 Axes>"
            ]
          },
          "metadata": {
            "tags": [],
            "needs_background": "light"
          }
        }
      ]
    },
    {
      "cell_type": "markdown",
      "metadata": {
        "id": "bOXoNr7gHTLD"
      },
      "source": [
        "### On Resampled Data"
      ]
    },
    {
      "cell_type": "code",
      "metadata": {
        "colab": {
          "base_uri": "https://localhost:8080/"
        },
        "id": "1irdG9pBHYl6",
        "outputId": "29f71aea-8d2c-4ac1-b895-fec6eebbbc5b"
      },
      "source": [
        "ada.fit(x_train_res, y_train_res)"
      ],
      "execution_count": null,
      "outputs": [
        {
          "output_type": "execute_result",
          "data": {
            "text/plain": [
              "AdaBoostClassifier(algorithm='SAMME.R', base_estimator=None, learning_rate=1.0,\n",
              "                   n_estimators=50, random_state=None)"
            ]
          },
          "metadata": {
            "tags": []
          },
          "execution_count": 49
        }
      ]
    },
    {
      "cell_type": "code",
      "metadata": {
        "colab": {
          "base_uri": "https://localhost:8080/",
          "height": 278
        },
        "id": "9RM61SzEHYji",
        "outputId": "da411020-cb05-419a-824f-2ae8b1a8dff8"
      },
      "source": [
        "plot_confusion_matrix(ada, x_test, y_test, normalize='true')  \n",
        "plt.show()"
      ],
      "execution_count": null,
      "outputs": [
        {
          "output_type": "display_data",
          "data": {
            "image/png": "[encoded data removed]",
            "text/plain": [
              "<Figure size 432x288 with 2 Axes>"
            ]
          },
          "metadata": {
            "tags": [],
            "needs_background": "light"
          }
        }
      ]
    },
    {
      "cell_type": "markdown",
      "metadata": {
        "id": "DlJj4UQJGo91"
      },
      "source": [
        "## After Hyperparameter Tuning"
      ]
    },
    {
      "cell_type": "code",
      "metadata": {
        "id": "w82RnUzWIygG"
      },
      "source": [
        "param_grid = {\n",
        "    'n_estimators' : [100, 200],\n",
        "    'learning_rate' : [0.001, 0.01, 0.1, 0.2, 0.5]\n",
        "}"
      ],
      "execution_count": null,
      "outputs": []
    },
    {
      "cell_type": "markdown",
      "metadata": {
        "id": "tiWbPc1mJ90m"
      },
      "source": [
        "### On normal data"
      ]
    },
    {
      "cell_type": "code",
      "metadata": {
        "id": "8LUpLSUuIydn"
      },
      "source": [
        "gs_ab = GridSearchCV(AdaBoostClassifier(), param_grid = param_grid)"
      ],
      "execution_count": null,
      "outputs": []
    },
    {
      "cell_type": "code",
      "metadata": {
        "id": "XzuVUctiIx9a",
        "colab": {
          "base_uri": "https://localhost:8080/"
        },
        "outputId": "ac45bc4d-1806-4fe8-ae08-3821ea85bf0d"
      },
      "source": [
        "gs_ab.fit(x_train, y_train)"
      ],
      "execution_count": null,
      "outputs": [
        {
          "output_type": "execute_result",
          "data": {
            "text/plain": [
              "GridSearchCV(cv=None, error_score=nan,\n",
              "             estimator=AdaBoostClassifier(algorithm='SAMME.R',\n",
              "                                          base_estimator=None,\n",
              "                                          learning_rate=1.0, n_estimators=50,\n",
              "                                          random_state=None),\n",
              "             iid='deprecated', n_jobs=None,\n",
              "             param_grid={'learning_rate': [0.001, 0.01, 0.1, 0.2, 0.5],\n",
              "                         'n_estimators': [100, 200]},\n",
              "             pre_dispatch='2*n_jobs', refit=True, return_train_score=False,\n",
              "             scoring=None, verbose=0)"
            ]
          },
          "metadata": {
            "tags": []
          },
          "execution_count": 56
        }
      ]
    },
    {
      "cell_type": "markdown",
      "metadata": {
        "id": "D1U8eLZHLcQZ"
      },
      "source": [
        "#### Saving/Loading the model"
      ]
    },
    {
      "cell_type": "code",
      "metadata": {
        "id": "9UyW4dTOLcQd",
        "colab": {
          "base_uri": "https://localhost:8080/"
        },
        "outputId": "9e2e131c-b8a8-4e7d-f8ef-24cfc6bef359"
      },
      "source": [
        "#dump(gs_ab, 'ada_non_res.joblib') # on non resampled data"
      ],
      "execution_count": null,
      "outputs": [
        {
          "output_type": "execute_result",
          "data": {
            "text/plain": [
              "['ada_non_res.joblib']"
            ]
          },
          "metadata": {
            "tags": []
          },
          "execution_count": 58
        }
      ]
    },
    {
      "cell_type": "code",
      "metadata": {
        "id": "jIiQAdq4LcQf"
      },
      "source": [
        "ada_non_res = load('ada_non_res.joblib') "
      ],
      "execution_count": null,
      "outputs": []
    },
    {
      "cell_type": "code",
      "metadata": {
        "colab": {
          "base_uri": "https://localhost:8080/",
          "height": 278
        },
        "id": "0FzQGFdmKdtd",
        "outputId": "43fdf034-b5bf-45ae-b271-87905b7bdcd1"
      },
      "source": [
        "plot_confusion_matrix(ada_non_res, x_test, y_test, normalize='true')  \n",
        "plt.show()"
      ],
      "execution_count": null,
      "outputs": [
        {
          "output_type": "display_data",
          "data": {
            "image/png": "[encoded data removed]",
            "text/plain": [
              "<Figure size 432x288 with 2 Axes>"
            ]
          },
          "metadata": {
            "tags": [],
            "needs_background": "light"
          }
        }
      ]
    },
    {
      "cell_type": "code",
      "metadata": {
        "colab": {
          "base_uri": "https://localhost:8080/"
        },
        "id": "Dj4JmAPZQNnS",
        "outputId": "067eac1e-12a4-40b5-b9a5-daeef1d959fc"
      },
      "source": [
        "f1_score(y_test, ada_non_res.predict(x_test))"
      ],
      "execution_count": null,
      "outputs": [
        {
          "output_type": "execute_result",
          "data": {
            "text/plain": [
              "0.544841158279449"
            ]
          },
          "metadata": {
            "tags": []
          },
          "execution_count": 70
        }
      ]
    },
    {
      "cell_type": "markdown",
      "metadata": {
        "id": "lJ8ZFyCaMrcS"
      },
      "source": [
        "### On Resampled Data"
      ]
    },
    {
      "cell_type": "code",
      "metadata": {
        "colab": {
          "base_uri": "https://localhost:8080/"
        },
        "id": "02lIC3HKMvYk",
        "outputId": "0e39fe50-ce5d-4725-a175-cd0fbad54808"
      },
      "source": [
        "gs_ab.fit(x_train_res, y_train_res)"
      ],
      "execution_count": null,
      "outputs": [
        {
          "output_type": "execute_result",
          "data": {
            "text/plain": [
              "GridSearchCV(cv=None, error_score=nan,\n",
              "             estimator=AdaBoostClassifier(algorithm='SAMME.R',\n",
              "                                          base_estimator=None,\n",
              "                                          learning_rate=1.0, n_estimators=50,\n",
              "                                          random_state=None),\n",
              "             iid='deprecated', n_jobs=None,\n",
              "             param_grid={'learning_rate': [0.001, 0.01, 0.1, 0.2, 0.5],\n",
              "                         'n_estimators': [100, 200]},\n",
              "             pre_dispatch='2*n_jobs', refit=True, return_train_score=False,\n",
              "             scoring=None, verbose=0)"
            ]
          },
          "metadata": {
            "tags": []
          },
          "execution_count": 64
        }
      ]
    },
    {
      "cell_type": "markdown",
      "metadata": {
        "id": "RU0scAC0OuwY"
      },
      "source": [
        "#### Saving/Loading the model"
      ]
    },
    {
      "cell_type": "code",
      "metadata": {
        "colab": {
          "base_uri": "https://localhost:8080/"
        },
        "id": "yh-vv0Z8NBZZ",
        "outputId": "6371c8a4-5774-406d-e695-c60fe78acf6c"
      },
      "source": [
        "dump(gs_ab, 'ada_res.joblib')"
      ],
      "execution_count": null,
      "outputs": [
        {
          "output_type": "execute_result",
          "data": {
            "text/plain": [
              "['ada_res.joblib']"
            ]
          },
          "metadata": {
            "tags": []
          },
          "execution_count": 65
        }
      ]
    },
    {
      "cell_type": "code",
      "metadata": {
        "id": "OPdhgANEOkxM"
      },
      "source": [
        "ada_res = load('ada_res.joblib') "
      ],
      "execution_count": null,
      "outputs": []
    },
    {
      "cell_type": "code",
      "metadata": {
        "colab": {
          "base_uri": "https://localhost:8080/",
          "height": 278
        },
        "id": "48hWER-qOzVg",
        "outputId": "f48a332b-c886-4d65-e9ae-5deedd900197"
      },
      "source": [
        "plot_confusion_matrix(ada_res, x_test, y_test, normalize='true')  \n",
        "plt.show()"
      ],
      "execution_count": null,
      "outputs": [
        {
          "output_type": "display_data",
          "data": {
            "image/png": "[encoded data removed]",
            "text/plain": [
              "<Figure size 432x288 with 2 Axes>"
            ]
          },
          "metadata": {
            "tags": [],
            "needs_background": "light"
          }
        }
      ]
    },
    {
      "cell_type": "code",
      "metadata": {
        "colab": {
          "base_uri": "https://localhost:8080/"
        },
        "id": "FIOp28H-O4I9",
        "outputId": "fa219411-02fa-41a2-f2ac-7d1a3c6db5ce"
      },
      "source": [
        "f1_score(y_test, ada_res.predict(x_test))"
      ],
      "execution_count": null,
      "outputs": [
        {
          "output_type": "execute_result",
          "data": {
            "text/plain": [
              "0.6663936104853573"
            ]
          },
          "metadata": {
            "tags": []
          },
          "execution_count": 71
        }
      ]
    },
    {
      "cell_type": "markdown",
      "metadata": {
        "id": "p7Jw1fPQ-lCl"
      },
      "source": [
        "# Catboost"
      ]
    },
    {
      "cell_type": "code",
      "metadata": {
        "id": "kmb3TxGGBQi-"
      },
      "source": [
        "#!pip install catboost"
      ],
      "execution_count": null,
      "outputs": []
    },
    {
      "cell_type": "code",
      "metadata": {
        "id": "6zGZK04vRuG4"
      },
      "source": [
        "from catboost import CatBoostClassifier\n",
        "from scipy.stats import randint"
      ],
      "execution_count": null,
      "outputs": []
    },
    {
      "cell_type": "code",
      "metadata": {
        "id": "gy_xJXUBBOmy"
      },
      "source": [
        "cbc = CatBoostClassifier(eval_metric='F1', task_type= 'GPU', random_state = 2, iterations = 50)"
      ],
      "execution_count": null,
      "outputs": []
    },
    {
      "cell_type": "code",
      "metadata": {
        "id": "TuDK96vtBmwP"
      },
      "source": [
        "param_grid = { \"learning_rate\": np.linspace(0,0.2,5),\n",
        "               \"max_depth\": randint(3, 10)}"
      ],
      "execution_count": null,
      "outputs": []
    },
    {
      "cell_type": "code",
      "metadata": {
        "id": "aXf30cB_Bpsg"
      },
      "source": [
        "rscv = RandomizedSearchCV(cbc , param_grid, scoring='f1', cv =5)"
      ],
      "execution_count": null,
      "outputs": []
    },
    {
      "cell_type": "markdown",
      "metadata": {
        "id": "Xl_whGpiCITT"
      },
      "source": [
        "## On normal data"
      ]
    },
    {
      "cell_type": "code",
      "metadata": {
        "id": "39tn5fBZCCVi"
      },
      "source": [
        "#rscv.fit(x_train, y_train)"
      ],
      "execution_count": null,
      "outputs": []
    },
    {
      "cell_type": "code",
      "metadata": {
        "colab": {
          "base_uri": "https://localhost:8080/"
        },
        "id": "oFAwZPYMCOH0",
        "outputId": "aef3e80f-e5dd-46a4-ce63-f6e13363f16c"
      },
      "source": [
        "rscv.best_params_"
      ],
      "execution_count": null,
      "outputs": [
        {
          "output_type": "execute_result",
          "data": {
            "text/plain": [
              "{'learning_rate': 0.2, 'max_depth': 9}"
            ]
          },
          "metadata": {
            "tags": []
          },
          "execution_count": 70
        }
      ]
    },
    {
      "cell_type": "markdown",
      "metadata": {
        "id": "8xnICNi-KLA7"
      },
      "source": [
        "{'learning_rate': 0.2, 'max_depth': 7} with 50 iterations<br>\n",
        "'learning_rate': 0.2, 'max_depth': 5 with 100 iterations"
      ]
    },
    {
      "cell_type": "code",
      "metadata": {
        "id": "DhCX88tOG1Y2"
      },
      "source": [
        "cbc_non_res = CatBoostClassifier(eval_metric='F1', task_type= 'GPU', random_state = 2, \n",
        "                                 iterations = 50, learning_rate = 0.2, max_depth = 7)"
      ],
      "execution_count": null,
      "outputs": []
    },
    {
      "cell_type": "code",
      "metadata": {
        "colab": {
          "base_uri": "https://localhost:8080/"
        },
        "id": "_h65caetLVhl",
        "outputId": "3ed16ec1-c545-4dc1-ba4b-def33a7d103a"
      },
      "source": [
        "#cbc_non_res.fit(x_train, y_train)"
      ],
      "execution_count": null,
      "outputs": [
        {
          "output_type": "stream",
          "text": [
            "0:\tlearn: 0.5952952\ttotal: 12.3ms\tremaining: 601ms\n",
            "1:\tlearn: 0.6246407\ttotal: 23.8ms\tremaining: 571ms\n",
            "2:\tlearn: 0.6289808\ttotal: 35.5ms\tremaining: 557ms\n",
            "3:\tlearn: 0.6293588\ttotal: 46.9ms\tremaining: 540ms\n",
            "4:\tlearn: 0.6306755\ttotal: 58.1ms\tremaining: 523ms\n",
            "5:\tlearn: 0.6340193\ttotal: 69.4ms\tremaining: 509ms\n",
            "6:\tlearn: 0.6416699\ttotal: 89.8ms\tremaining: 552ms\n",
            "7:\tlearn: 0.6415119\ttotal: 102ms\tremaining: 533ms\n",
            "8:\tlearn: 0.6444129\ttotal: 113ms\tremaining: 514ms\n",
            "9:\tlearn: 0.6435188\ttotal: 124ms\tremaining: 497ms\n",
            "10:\tlearn: 0.6425927\ttotal: 137ms\tremaining: 484ms\n",
            "11:\tlearn: 0.6426157\ttotal: 148ms\tremaining: 469ms\n",
            "12:\tlearn: 0.6465116\ttotal: 159ms\tremaining: 454ms\n",
            "13:\tlearn: 0.6497004\ttotal: 171ms\tremaining: 439ms\n",
            "14:\tlearn: 0.6511747\ttotal: 185ms\tremaining: 433ms\n",
            "15:\tlearn: 0.6515424\ttotal: 197ms\tremaining: 418ms\n",
            "16:\tlearn: 0.6531659\ttotal: 213ms\tremaining: 413ms\n",
            "17:\tlearn: 0.6541195\ttotal: 224ms\tremaining: 399ms\n",
            "18:\tlearn: 0.6551195\ttotal: 236ms\tremaining: 385ms\n",
            "19:\tlearn: 0.6553289\ttotal: 247ms\tremaining: 370ms\n",
            "20:\tlearn: 0.6562001\ttotal: 258ms\tremaining: 356ms\n",
            "21:\tlearn: 0.6585180\ttotal: 268ms\tremaining: 341ms\n",
            "22:\tlearn: 0.6596745\ttotal: 278ms\tremaining: 326ms\n",
            "23:\tlearn: 0.6606893\ttotal: 287ms\tremaining: 311ms\n",
            "24:\tlearn: 0.6612473\ttotal: 297ms\tremaining: 297ms\n",
            "25:\tlearn: 0.6643827\ttotal: 307ms\tremaining: 283ms\n",
            "26:\tlearn: 0.6643007\ttotal: 316ms\tremaining: 269ms\n",
            "27:\tlearn: 0.6650215\ttotal: 326ms\tremaining: 256ms\n",
            "28:\tlearn: 0.6673407\ttotal: 336ms\tremaining: 243ms\n",
            "29:\tlearn: 0.6681405\ttotal: 345ms\tremaining: 230ms\n",
            "30:\tlearn: 0.6683084\ttotal: 355ms\tremaining: 218ms\n",
            "31:\tlearn: 0.6686006\ttotal: 365ms\tremaining: 205ms\n",
            "32:\tlearn: 0.6700309\ttotal: 374ms\tremaining: 193ms\n",
            "33:\tlearn: 0.6707456\ttotal: 384ms\tremaining: 181ms\n",
            "34:\tlearn: 0.6719144\ttotal: 394ms\tremaining: 169ms\n",
            "35:\tlearn: 0.6723715\ttotal: 404ms\tremaining: 157ms\n",
            "36:\tlearn: 0.6732499\ttotal: 418ms\tremaining: 147ms\n",
            "37:\tlearn: 0.6726987\ttotal: 427ms\tremaining: 135ms\n",
            "38:\tlearn: 0.6743309\ttotal: 438ms\tremaining: 124ms\n",
            "39:\tlearn: 0.6744975\ttotal: 450ms\tremaining: 112ms\n",
            "40:\tlearn: 0.6754601\ttotal: 459ms\tremaining: 101ms\n",
            "41:\tlearn: 0.6762030\ttotal: 468ms\tremaining: 89.1ms\n",
            "42:\tlearn: 0.6769462\ttotal: 476ms\tremaining: 77.6ms\n",
            "43:\tlearn: 0.6766568\ttotal: 485ms\tremaining: 66.1ms\n",
            "44:\tlearn: 0.6764115\ttotal: 494ms\tremaining: 54.9ms\n",
            "45:\tlearn: 0.6781487\ttotal: 502ms\tremaining: 43.7ms\n",
            "46:\tlearn: 0.6779810\ttotal: 511ms\tremaining: 32.6ms\n",
            "47:\tlearn: 0.6784306\ttotal: 520ms\tremaining: 21.6ms\n",
            "48:\tlearn: 0.6782141\ttotal: 528ms\tremaining: 10.8ms\n",
            "49:\tlearn: 0.6779364\ttotal: 539ms\tremaining: 0us\n"
          ],
          "name": "stdout"
        },
        {
          "output_type": "execute_result",
          "data": {
            "text/plain": [
              "<catboost.core.CatBoostClassifier at 0x7fa7502e09d0>"
            ]
          },
          "metadata": {
            "tags": []
          },
          "execution_count": 75
        }
      ]
    },
    {
      "cell_type": "markdown",
      "metadata": {
        "id": "jITnOdx-OI6Q"
      },
      "source": [
        "### Saving and loading our work"
      ]
    },
    {
      "cell_type": "code",
      "metadata": {
        "colab": {
          "base_uri": "https://localhost:8080/"
        },
        "id": "LKHAjV7zL7uP",
        "outputId": "b5be624a-8824-4568-d00a-86d9161a3311"
      },
      "source": [
        "dump(cbc_non_res, 'cbc_non_res.joblib')"
      ],
      "execution_count": null,
      "outputs": [
        {
          "output_type": "execute_result",
          "data": {
            "text/plain": [
              "['cbc_non_res.joblib']"
            ]
          },
          "metadata": {
            "tags": []
          },
          "execution_count": 81
        }
      ]
    },
    {
      "cell_type": "code",
      "metadata": {
        "id": "PgwdZlyiOkAh"
      },
      "source": [
        "cbc_non_res = load('cbc_non_res.joblib')"
      ],
      "execution_count": null,
      "outputs": []
    },
    {
      "cell_type": "code",
      "metadata": {
        "colab": {
          "base_uri": "https://localhost:8080/",
          "height": 278
        },
        "id": "lprnwRA4Lg2Q",
        "outputId": "13939acf-882c-49ce-9175-55dc3526ee3f"
      },
      "source": [
        "plot_confusion_matrix(cbc_non_res, x_test, y_test, normalize='true')  \n",
        "plt.show()"
      ],
      "execution_count": null,
      "outputs": [
        {
          "output_type": "display_data",
          "data": {
            "image/png": "[encoded data removed]",
            "text/plain": [
              "<Figure size 432x288 with 2 Axes>"
            ]
          },
          "metadata": {
            "tags": [],
            "needs_background": "light"
          }
        }
      ]
    },
    {
      "cell_type": "code",
      "metadata": {
        "colab": {
          "base_uri": "https://localhost:8080/"
        },
        "id": "wIwK6I8ZLqoK",
        "outputId": "d6169e2e-d9a9-4419-ce69-505cfec574fd"
      },
      "source": [
        "f1_score(y_test, cbc_non_res.predict(x_test))"
      ],
      "execution_count": null,
      "outputs": [
        {
          "output_type": "execute_result",
          "data": {
            "text/plain": [
              "0.5679147308007653"
            ]
          },
          "metadata": {
            "tags": []
          },
          "execution_count": 77
        }
      ]
    },
    {
      "cell_type": "markdown",
      "metadata": {
        "id": "2MUeF2CHOAOx"
      },
      "source": [
        "It is working better with 50 iterations"
      ]
    },
    {
      "cell_type": "markdown",
      "metadata": {
        "id": "5ql03SA2PS5L"
      },
      "source": [
        "## On resampled data"
      ]
    },
    {
      "cell_type": "code",
      "metadata": {
        "colab": {
          "base_uri": "https://localhost:8080/"
        },
        "id": "y6k1As-9PSWS",
        "outputId": "7eafbfe8-876b-4b69-e787-3315b0ea565b"
      },
      "source": [
        "#rscv.fit(x_train_res, y_train_res)"
      ],
      "execution_count": null,
      "outputs": [
        {
          "output_type": "stream",
          "text": [
            "0:\tlearn: 0.8227972\ttotal: 12.5ms\tremaining: 614ms\n",
            "1:\tlearn: 0.8187956\ttotal: 24.4ms\tremaining: 585ms\n",
            "2:\tlearn: 0.8239710\ttotal: 36ms\tremaining: 564ms\n",
            "3:\tlearn: 0.8235086\ttotal: 47.5ms\tremaining: 546ms\n",
            "4:\tlearn: 0.8262179\ttotal: 58.8ms\tremaining: 529ms\n",
            "5:\tlearn: 0.8253454\ttotal: 70.1ms\tremaining: 514ms\n",
            "6:\tlearn: 0.8265399\ttotal: 81.5ms\tremaining: 500ms\n",
            "7:\tlearn: 0.8266922\ttotal: 93ms\tremaining: 488ms\n",
            "8:\tlearn: 0.8273189\ttotal: 104ms\tremaining: 475ms\n",
            "9:\tlearn: 0.8269612\ttotal: 116ms\tremaining: 462ms\n",
            "10:\tlearn: 0.8273248\ttotal: 127ms\tremaining: 450ms\n",
            "11:\tlearn: 0.8276694\ttotal: 140ms\tremaining: 444ms\n",
            "12:\tlearn: 0.8286883\ttotal: 152ms\tremaining: 432ms\n",
            "13:\tlearn: 0.8304096\ttotal: 163ms\tremaining: 420ms\n",
            "14:\tlearn: 0.8304334\ttotal: 175ms\tremaining: 409ms\n",
            "15:\tlearn: 0.8309566\ttotal: 187ms\tremaining: 397ms\n",
            "16:\tlearn: 0.8320975\ttotal: 198ms\tremaining: 385ms\n",
            "17:\tlearn: 0.8321224\ttotal: 214ms\tremaining: 381ms\n",
            "18:\tlearn: 0.8319935\ttotal: 224ms\tremaining: 366ms\n",
            "19:\tlearn: 0.8327199\ttotal: 234ms\tremaining: 351ms\n",
            "20:\tlearn: 0.8329029\ttotal: 244ms\tremaining: 337ms\n",
            "21:\tlearn: 0.8339551\ttotal: 256ms\tremaining: 325ms\n",
            "22:\tlearn: 0.8341279\ttotal: 265ms\tremaining: 311ms\n",
            "23:\tlearn: 0.8338540\ttotal: 275ms\tremaining: 298ms\n",
            "24:\tlearn: 0.8340793\ttotal: 284ms\tremaining: 284ms\n",
            "25:\tlearn: 0.8342741\ttotal: 294ms\tremaining: 271ms\n",
            "26:\tlearn: 0.8346786\ttotal: 303ms\tremaining: 259ms\n",
            "27:\tlearn: 0.8344157\ttotal: 313ms\tremaining: 246ms\n",
            "28:\tlearn: 0.8360652\ttotal: 323ms\tremaining: 234ms\n",
            "29:\tlearn: 0.8364438\ttotal: 332ms\tremaining: 222ms\n",
            "30:\tlearn: 0.8366916\ttotal: 342ms\tremaining: 210ms\n",
            "31:\tlearn: 0.8364896\ttotal: 352ms\tremaining: 198ms\n",
            "32:\tlearn: 0.8369905\ttotal: 361ms\tremaining: 186ms\n",
            "33:\tlearn: 0.8371014\ttotal: 371ms\tremaining: 175ms\n",
            "34:\tlearn: 0.8378774\ttotal: 381ms\tremaining: 163ms\n",
            "35:\tlearn: 0.8377995\ttotal: 390ms\tremaining: 152ms\n",
            "36:\tlearn: 0.8385207\ttotal: 400ms\tremaining: 140ms\n",
            "37:\tlearn: 0.8390341\ttotal: 409ms\tremaining: 129ms\n",
            "38:\tlearn: 0.8390431\ttotal: 421ms\tremaining: 119ms\n",
            "39:\tlearn: 0.8392091\ttotal: 429ms\tremaining: 107ms\n",
            "40:\tlearn: 0.8391918\ttotal: 438ms\tremaining: 96.1ms\n",
            "41:\tlearn: 0.8397191\ttotal: 446ms\tremaining: 85ms\n",
            "42:\tlearn: 0.8398708\ttotal: 455ms\tremaining: 74.1ms\n",
            "43:\tlearn: 0.8399350\ttotal: 464ms\tremaining: 63.2ms\n",
            "44:\tlearn: 0.8401987\ttotal: 472ms\tremaining: 52.5ms\n",
            "45:\tlearn: 0.8406079\ttotal: 485ms\tremaining: 42.2ms\n",
            "46:\tlearn: 0.8407577\ttotal: 494ms\tremaining: 31.5ms\n",
            "47:\tlearn: 0.8412731\ttotal: 503ms\tremaining: 20.9ms\n",
            "48:\tlearn: 0.8417297\ttotal: 511ms\tremaining: 10.4ms\n",
            "49:\tlearn: 0.8424521\ttotal: 520ms\tremaining: 0us\n",
            "0:\tlearn: 0.8225399\ttotal: 8.61ms\tremaining: 422ms\n",
            "1:\tlearn: 0.8225402\ttotal: 16.4ms\tremaining: 393ms\n",
            "2:\tlearn: 0.8242486\ttotal: 23.9ms\tremaining: 375ms\n",
            "3:\tlearn: 0.8237875\ttotal: 31.6ms\tremaining: 364ms\n",
            "4:\tlearn: 0.8239268\ttotal: 39.3ms\tremaining: 353ms\n",
            "5:\tlearn: 0.8255158\ttotal: 46.9ms\tremaining: 344ms\n",
            "6:\tlearn: 0.8263954\ttotal: 54.6ms\tremaining: 335ms\n",
            "7:\tlearn: 0.8275523\ttotal: 62.1ms\tremaining: 326ms\n",
            "8:\tlearn: 0.8275939\ttotal: 69.8ms\tremaining: 318ms\n",
            "9:\tlearn: 0.8286990\ttotal: 77.6ms\tremaining: 310ms\n",
            "10:\tlearn: 0.8296052\ttotal: 85.1ms\tremaining: 302ms\n",
            "11:\tlearn: 0.8300926\ttotal: 92.8ms\tremaining: 294ms\n",
            "12:\tlearn: 0.8305698\ttotal: 100ms\tremaining: 286ms\n",
            "13:\tlearn: 0.8317872\ttotal: 108ms\tremaining: 279ms\n",
            "14:\tlearn: 0.8317385\ttotal: 116ms\tremaining: 271ms\n",
            "15:\tlearn: 0.8316100\ttotal: 124ms\tremaining: 263ms\n",
            "16:\tlearn: 0.8326098\ttotal: 131ms\tremaining: 255ms\n",
            "17:\tlearn: 0.8334154\ttotal: 139ms\tremaining: 247ms\n",
            "18:\tlearn: 0.8345027\ttotal: 147ms\tremaining: 239ms\n",
            "19:\tlearn: 0.8345698\ttotal: 154ms\tremaining: 231ms\n",
            "20:\tlearn: 0.8344481\ttotal: 162ms\tremaining: 224ms\n",
            "21:\tlearn: 0.8355998\ttotal: 170ms\tremaining: 216ms\n",
            "22:\tlearn: 0.8356420\ttotal: 177ms\tremaining: 208ms\n",
            "23:\tlearn: 0.8350814\ttotal: 185ms\tremaining: 201ms\n",
            "24:\tlearn: 0.8350177\ttotal: 193ms\tremaining: 193ms\n",
            "25:\tlearn: 0.8352769\ttotal: 201ms\tremaining: 185ms\n",
            "26:\tlearn: 0.8356886\ttotal: 213ms\tremaining: 182ms\n",
            "27:\tlearn: 0.8361312\ttotal: 223ms\tremaining: 176ms\n",
            "28:\tlearn: 0.8365660\ttotal: 231ms\tremaining: 167ms\n",
            "29:\tlearn: 0.8366832\ttotal: 239ms\tremaining: 159ms\n",
            "30:\tlearn: 0.8369776\ttotal: 246ms\tremaining: 151ms\n",
            "31:\tlearn: 0.8367204\ttotal: 254ms\tremaining: 143ms\n",
            "32:\tlearn: 0.8371894\ttotal: 262ms\tremaining: 135ms\n",
            "33:\tlearn: 0.8374836\ttotal: 269ms\tremaining: 127ms\n",
            "34:\tlearn: 0.8377505\ttotal: 277ms\tremaining: 119ms\n",
            "35:\tlearn: 0.8382619\ttotal: 285ms\tremaining: 111ms\n",
            "36:\tlearn: 0.8388278\ttotal: 299ms\tremaining: 105ms\n",
            "37:\tlearn: 0.8398898\ttotal: 307ms\tremaining: 96.9ms\n",
            "38:\tlearn: 0.8406039\ttotal: 314ms\tremaining: 88.7ms\n",
            "39:\tlearn: 0.8407243\ttotal: 322ms\tremaining: 80.5ms\n",
            "40:\tlearn: 0.8402982\ttotal: 330ms\tremaining: 72.4ms\n",
            "41:\tlearn: 0.8404409\ttotal: 337ms\tremaining: 64.3ms\n",
            "42:\tlearn: 0.8409045\ttotal: 345ms\tremaining: 56.2ms\n",
            "43:\tlearn: 0.8415967\ttotal: 353ms\tremaining: 48.1ms\n",
            "44:\tlearn: 0.8416631\ttotal: 360ms\tremaining: 40ms\n",
            "45:\tlearn: 0.8421695\ttotal: 368ms\tremaining: 32ms\n",
            "46:\tlearn: 0.8425192\ttotal: 376ms\tremaining: 24ms\n",
            "47:\tlearn: 0.8423122\ttotal: 383ms\tremaining: 16ms\n",
            "48:\tlearn: 0.8426547\ttotal: 391ms\tremaining: 7.98ms\n",
            "49:\tlearn: 0.8428407\ttotal: 399ms\tremaining: 0us\n",
            "0:\tlearn: 0.8235475\ttotal: 8.54ms\tremaining: 418ms\n",
            "1:\tlearn: 0.8226130\ttotal: 16.2ms\tremaining: 390ms\n",
            "2:\tlearn: 0.8240650\ttotal: 23.9ms\tremaining: 374ms\n",
            "3:\tlearn: 0.8251985\ttotal: 31.2ms\tremaining: 359ms\n",
            "4:\tlearn: 0.8259957\ttotal: 38.7ms\tremaining: 348ms\n",
            "5:\tlearn: 0.8266477\ttotal: 46ms\tremaining: 338ms\n",
            "6:\tlearn: 0.8278699\ttotal: 53.8ms\tremaining: 330ms\n",
            "7:\tlearn: 0.8272067\ttotal: 61.3ms\tremaining: 322ms\n",
            "8:\tlearn: 0.8268507\ttotal: 68.7ms\tremaining: 313ms\n",
            "9:\tlearn: 0.8269899\ttotal: 76.7ms\tremaining: 307ms\n",
            "10:\tlearn: 0.8284713\ttotal: 84.4ms\tremaining: 299ms\n",
            "11:\tlearn: 0.8295036\ttotal: 91.9ms\tremaining: 291ms\n",
            "12:\tlearn: 0.8306846\ttotal: 99.3ms\tremaining: 283ms\n",
            "13:\tlearn: 0.8312691\ttotal: 107ms\tremaining: 275ms\n",
            "14:\tlearn: 0.8313587\ttotal: 114ms\tremaining: 267ms\n",
            "15:\tlearn: 0.8317910\ttotal: 122ms\tremaining: 259ms\n",
            "16:\tlearn: 0.8321393\ttotal: 130ms\tremaining: 252ms\n",
            "17:\tlearn: 0.8323246\ttotal: 140ms\tremaining: 249ms\n",
            "18:\tlearn: 0.8325221\ttotal: 148ms\tremaining: 241ms\n",
            "19:\tlearn: 0.8335911\ttotal: 156ms\tremaining: 234ms\n",
            "20:\tlearn: 0.8333558\ttotal: 164ms\tremaining: 226ms\n",
            "21:\tlearn: 0.8340928\ttotal: 173ms\tremaining: 220ms\n",
            "22:\tlearn: 0.8339777\ttotal: 181ms\tremaining: 213ms\n",
            "23:\tlearn: 0.8336332\ttotal: 189ms\tremaining: 205ms\n",
            "24:\tlearn: 0.8345017\ttotal: 197ms\tremaining: 197ms\n",
            "25:\tlearn: 0.8348595\ttotal: 210ms\tremaining: 193ms\n",
            "26:\tlearn: 0.8348717\ttotal: 218ms\tremaining: 185ms\n",
            "27:\tlearn: 0.8353913\ttotal: 225ms\tremaining: 177ms\n",
            "28:\tlearn: 0.8355306\ttotal: 233ms\tremaining: 169ms\n",
            "29:\tlearn: 0.8365002\ttotal: 241ms\tremaining: 161ms\n",
            "30:\tlearn: 0.8367062\ttotal: 249ms\tremaining: 152ms\n",
            "31:\tlearn: 0.8371360\ttotal: 257ms\tremaining: 145ms\n",
            "32:\tlearn: 0.8373203\ttotal: 265ms\tremaining: 137ms\n",
            "33:\tlearn: 0.8381767\ttotal: 274ms\tremaining: 129ms\n",
            "34:\tlearn: 0.8381463\ttotal: 282ms\tremaining: 121ms\n",
            "35:\tlearn: 0.8387518\ttotal: 290ms\tremaining: 113ms\n",
            "36:\tlearn: 0.8387853\ttotal: 297ms\tremaining: 105ms\n",
            "37:\tlearn: 0.8391807\ttotal: 305ms\tremaining: 96.3ms\n",
            "38:\tlearn: 0.8390732\ttotal: 313ms\tremaining: 88.2ms\n",
            "39:\tlearn: 0.8396114\ttotal: 320ms\tremaining: 80.1ms\n",
            "40:\tlearn: 0.8400550\ttotal: 328ms\tremaining: 71.9ms\n",
            "41:\tlearn: 0.8405725\ttotal: 335ms\tremaining: 63.9ms\n",
            "42:\tlearn: 0.8409666\ttotal: 343ms\tremaining: 55.8ms\n",
            "43:\tlearn: 0.8408095\ttotal: 351ms\tremaining: 47.8ms\n",
            "44:\tlearn: 0.8411021\ttotal: 358ms\tremaining: 39.8ms\n",
            "45:\tlearn: 0.8409830\ttotal: 366ms\tremaining: 31.8ms\n",
            "46:\tlearn: 0.8409635\ttotal: 373ms\tremaining: 23.8ms\n",
            "47:\tlearn: 0.8413322\ttotal: 381ms\tremaining: 15.9ms\n",
            "48:\tlearn: 0.8413821\ttotal: 389ms\tremaining: 7.93ms\n",
            "49:\tlearn: 0.8409851\ttotal: 396ms\tremaining: 0us\n",
            "0:\tlearn: 0.8175411\ttotal: 21.7ms\tremaining: 1.06s\n",
            "1:\tlearn: 0.8222927\ttotal: 29.4ms\tremaining: 706ms\n",
            "2:\tlearn: 0.8240895\ttotal: 37ms\tremaining: 580ms\n",
            "3:\tlearn: 0.8244561\ttotal: 44.7ms\tremaining: 514ms\n",
            "4:\tlearn: 0.8249027\ttotal: 52.2ms\tremaining: 470ms\n",
            "5:\tlearn: 0.8253700\ttotal: 59.7ms\tremaining: 438ms\n",
            "6:\tlearn: 0.8260520\ttotal: 67.3ms\tremaining: 413ms\n",
            "7:\tlearn: 0.8265366\ttotal: 74.9ms\tremaining: 393ms\n",
            "8:\tlearn: 0.8282390\ttotal: 82.5ms\tremaining: 376ms\n",
            "9:\tlearn: 0.8285082\ttotal: 90ms\tremaining: 360ms\n",
            "10:\tlearn: 0.8302932\ttotal: 97.6ms\tremaining: 346ms\n",
            "11:\tlearn: 0.8311387\ttotal: 105ms\tremaining: 333ms\n",
            "12:\tlearn: 0.8314562\ttotal: 113ms\tremaining: 321ms\n",
            "13:\tlearn: 0.8317381\ttotal: 120ms\tremaining: 309ms\n",
            "14:\tlearn: 0.8319749\ttotal: 128ms\tremaining: 298ms\n",
            "15:\tlearn: 0.8319656\ttotal: 135ms\tremaining: 288ms\n",
            "16:\tlearn: 0.8330007\ttotal: 143ms\tremaining: 277ms\n",
            "17:\tlearn: 0.8333071\ttotal: 151ms\tremaining: 268ms\n",
            "18:\tlearn: 0.8337411\ttotal: 158ms\tremaining: 258ms\n",
            "19:\tlearn: 0.8341298\ttotal: 166ms\tremaining: 249ms\n",
            "20:\tlearn: 0.8344139\ttotal: 173ms\tremaining: 239ms\n",
            "21:\tlearn: 0.8361245\ttotal: 181ms\tremaining: 230ms\n",
            "22:\tlearn: 0.8359636\ttotal: 189ms\tremaining: 221ms\n",
            "23:\tlearn: 0.8367058\ttotal: 196ms\tremaining: 212ms\n",
            "24:\tlearn: 0.8362714\ttotal: 204ms\tremaining: 204ms\n",
            "25:\tlearn: 0.8362729\ttotal: 211ms\tremaining: 195ms\n",
            "26:\tlearn: 0.8365696\ttotal: 223ms\tremaining: 190ms\n",
            "27:\tlearn: 0.8366883\ttotal: 231ms\tremaining: 182ms\n",
            "28:\tlearn: 0.8364364\ttotal: 239ms\tremaining: 173ms\n",
            "29:\tlearn: 0.8369404\ttotal: 247ms\tremaining: 164ms\n",
            "30:\tlearn: 0.8369423\ttotal: 254ms\tremaining: 156ms\n",
            "31:\tlearn: 0.8374491\ttotal: 262ms\tremaining: 147ms\n",
            "32:\tlearn: 0.8377624\ttotal: 274ms\tremaining: 141ms\n",
            "33:\tlearn: 0.8376935\ttotal: 282ms\tremaining: 133ms\n",
            "34:\tlearn: 0.8387039\ttotal: 296ms\tremaining: 127ms\n",
            "35:\tlearn: 0.8391738\ttotal: 304ms\tremaining: 118ms\n",
            "36:\tlearn: 0.8391025\ttotal: 311ms\tremaining: 109ms\n",
            "37:\tlearn: 0.8388756\ttotal: 319ms\tremaining: 101ms\n",
            "38:\tlearn: 0.8397553\ttotal: 327ms\tremaining: 92.1ms\n",
            "39:\tlearn: 0.8399142\ttotal: 334ms\tremaining: 83.6ms\n",
            "40:\tlearn: 0.8399801\ttotal: 349ms\tremaining: 76.7ms\n",
            "41:\tlearn: 0.8405961\ttotal: 362ms\tremaining: 69ms\n",
            "42:\tlearn: 0.8407485\ttotal: 374ms\tremaining: 60.8ms\n",
            "43:\tlearn: 0.8409671\ttotal: 386ms\tremaining: 52.7ms\n",
            "44:\tlearn: 0.8411046\ttotal: 395ms\tremaining: 43.9ms\n",
            "45:\tlearn: 0.8417703\ttotal: 403ms\tremaining: 35ms\n",
            "46:\tlearn: 0.8415967\ttotal: 410ms\tremaining: 26.2ms\n",
            "47:\tlearn: 0.8424475\ttotal: 418ms\tremaining: 17.4ms\n",
            "48:\tlearn: 0.8429133\ttotal: 426ms\tremaining: 8.7ms\n",
            "49:\tlearn: 0.8431798\ttotal: 435ms\tremaining: 0us\n",
            "0:\tlearn: 0.8203122\ttotal: 8.34ms\tremaining: 409ms\n",
            "1:\tlearn: 0.8210358\ttotal: 15.7ms\tremaining: 377ms\n",
            "2:\tlearn: 0.8228042\ttotal: 23.2ms\tremaining: 364ms\n",
            "3:\tlearn: 0.8245497\ttotal: 30.6ms\tremaining: 352ms\n",
            "4:\tlearn: 0.8253326\ttotal: 42.9ms\tremaining: 386ms\n",
            "5:\tlearn: 0.8263122\ttotal: 50.3ms\tremaining: 369ms\n",
            "6:\tlearn: 0.8263607\ttotal: 57.8ms\tremaining: 355ms\n",
            "7:\tlearn: 0.8267699\ttotal: 65.2ms\tremaining: 342ms\n",
            "8:\tlearn: 0.8275570\ttotal: 72.7ms\tremaining: 331ms\n",
            "9:\tlearn: 0.8275585\ttotal: 80.1ms\tremaining: 320ms\n",
            "10:\tlearn: 0.8279796\ttotal: 87.8ms\tremaining: 311ms\n",
            "11:\tlearn: 0.8290428\ttotal: 95.5ms\tremaining: 302ms\n",
            "12:\tlearn: 0.8292683\ttotal: 103ms\tremaining: 293ms\n",
            "13:\tlearn: 0.8299450\ttotal: 112ms\tremaining: 287ms\n",
            "14:\tlearn: 0.8302030\ttotal: 119ms\tremaining: 278ms\n",
            "15:\tlearn: 0.8303408\ttotal: 127ms\tremaining: 270ms\n",
            "16:\tlearn: 0.8307603\ttotal: 144ms\tremaining: 280ms\n",
            "17:\tlearn: 0.8315045\ttotal: 152ms\tremaining: 270ms\n",
            "18:\tlearn: 0.8321482\ttotal: 159ms\tremaining: 260ms\n",
            "19:\tlearn: 0.8325451\ttotal: 167ms\tremaining: 250ms\n",
            "20:\tlearn: 0.8334492\ttotal: 174ms\tremaining: 241ms\n",
            "21:\tlearn: 0.8337485\ttotal: 182ms\tremaining: 231ms\n",
            "22:\tlearn: 0.8342654\ttotal: 189ms\tremaining: 222ms\n",
            "23:\tlearn: 0.8341079\ttotal: 197ms\tremaining: 213ms\n",
            "24:\tlearn: 0.8343363\ttotal: 208ms\tremaining: 208ms\n",
            "25:\tlearn: 0.8349589\ttotal: 216ms\tremaining: 199ms\n",
            "26:\tlearn: 0.8350339\ttotal: 223ms\tremaining: 190ms\n",
            "27:\tlearn: 0.8355536\ttotal: 230ms\tremaining: 181ms\n",
            "28:\tlearn: 0.8357463\ttotal: 238ms\tremaining: 172ms\n",
            "29:\tlearn: 0.8361556\ttotal: 245ms\tremaining: 163ms\n",
            "30:\tlearn: 0.8360105\ttotal: 252ms\tremaining: 155ms\n",
            "31:\tlearn: 0.8365398\ttotal: 260ms\tremaining: 146ms\n",
            "32:\tlearn: 0.8370090\ttotal: 268ms\tremaining: 138ms\n",
            "33:\tlearn: 0.8373876\ttotal: 275ms\tremaining: 130ms\n",
            "34:\tlearn: 0.8375437\ttotal: 283ms\tremaining: 121ms\n",
            "35:\tlearn: 0.8383925\ttotal: 290ms\tremaining: 113ms\n",
            "36:\tlearn: 0.8386849\ttotal: 298ms\tremaining: 105ms\n",
            "37:\tlearn: 0.8385816\ttotal: 305ms\tremaining: 96.4ms\n",
            "38:\tlearn: 0.8390589\ttotal: 313ms\tremaining: 88.2ms\n",
            "39:\tlearn: 0.8388859\ttotal: 320ms\tremaining: 80ms\n",
            "40:\tlearn: 0.8392454\ttotal: 327ms\tremaining: 71.9ms\n",
            "41:\tlearn: 0.8393853\ttotal: 335ms\tremaining: 63.8ms\n",
            "42:\tlearn: 0.8398907\ttotal: 343ms\tremaining: 55.8ms\n",
            "43:\tlearn: 0.8406183\ttotal: 350ms\tremaining: 47.7ms\n",
            "44:\tlearn: 0.8403475\ttotal: 358ms\tremaining: 39.7ms\n",
            "45:\tlearn: 0.8404363\ttotal: 365ms\tremaining: 31.7ms\n",
            "46:\tlearn: 0.8403035\ttotal: 373ms\tremaining: 23.8ms\n",
            "47:\tlearn: 0.8405764\ttotal: 380ms\tremaining: 15.8ms\n",
            "48:\tlearn: 0.8409733\ttotal: 387ms\tremaining: 7.91ms\n",
            "49:\tlearn: 0.8415347\ttotal: 395ms\tremaining: 0us\n",
            "0:\tlearn: 0.8221740\ttotal: 7.55ms\tremaining: 370ms\n",
            "1:\tlearn: 0.8221891\ttotal: 14ms\tremaining: 336ms\n",
            "2:\tlearn: 0.8230445\ttotal: 20.4ms\tremaining: 320ms\n",
            "3:\tlearn: 0.8240781\ttotal: 27.1ms\tremaining: 312ms\n",
            "4:\tlearn: 0.8228073\ttotal: 33.7ms\tremaining: 303ms\n",
            "5:\tlearn: 0.8232509\ttotal: 40.2ms\tremaining: 295ms\n",
            "6:\tlearn: 0.8231074\ttotal: 46.8ms\tremaining: 287ms\n",
            "7:\tlearn: 0.8236017\ttotal: 53.5ms\tremaining: 281ms\n",
            "8:\tlearn: 0.8228581\ttotal: 60.1ms\tremaining: 274ms\n",
            "9:\tlearn: 0.8240188\ttotal: 66.7ms\tremaining: 267ms\n",
            "10:\tlearn: 0.8231036\ttotal: 73.2ms\tremaining: 260ms\n",
            "11:\tlearn: 0.8229337\ttotal: 79.9ms\tremaining: 253ms\n",
            "12:\tlearn: 0.8222207\ttotal: 86.1ms\tremaining: 245ms\n",
            "13:\tlearn: 0.8227256\ttotal: 92.6ms\tremaining: 238ms\n",
            "14:\tlearn: 0.8218649\ttotal: 99.2ms\tremaining: 231ms\n",
            "15:\tlearn: 0.8227193\ttotal: 106ms\tremaining: 225ms\n",
            "16:\tlearn: 0.8227230\ttotal: 112ms\tremaining: 217ms\n",
            "17:\tlearn: 0.8226676\ttotal: 118ms\tremaining: 210ms\n",
            "18:\tlearn: 0.8227930\ttotal: 124ms\tremaining: 203ms\n",
            "19:\tlearn: 0.8233390\ttotal: 131ms\tremaining: 196ms\n",
            "20:\tlearn: 0.8234694\ttotal: 137ms\tremaining: 189ms\n",
            "21:\tlearn: 0.8235555\ttotal: 143ms\tremaining: 182ms\n",
            "22:\tlearn: 0.8234302\ttotal: 150ms\tremaining: 176ms\n",
            "23:\tlearn: 0.8241166\ttotal: 156ms\tremaining: 169ms\n",
            "24:\tlearn: 0.8240648\ttotal: 162ms\tremaining: 162ms\n",
            "25:\tlearn: 0.8240263\ttotal: 169ms\tremaining: 156ms\n",
            "26:\tlearn: 0.8244040\ttotal: 175ms\tremaining: 149ms\n",
            "27:\tlearn: 0.8249405\ttotal: 181ms\tremaining: 142ms\n",
            "28:\tlearn: 0.8257049\ttotal: 188ms\tremaining: 136ms\n",
            "29:\tlearn: 0.8246517\ttotal: 194ms\tremaining: 129ms\n",
            "30:\tlearn: 0.8254032\ttotal: 203ms\tremaining: 125ms\n",
            "31:\tlearn: 0.8254011\ttotal: 212ms\tremaining: 119ms\n",
            "32:\tlearn: 0.8256860\ttotal: 220ms\tremaining: 113ms\n",
            "33:\tlearn: 0.8262286\ttotal: 230ms\tremaining: 108ms\n",
            "34:\tlearn: 0.8256074\ttotal: 236ms\tremaining: 101ms\n",
            "35:\tlearn: 0.8257811\ttotal: 243ms\tremaining: 94.3ms\n",
            "36:\tlearn: 0.8265363\ttotal: 249ms\tremaining: 87.5ms\n",
            "37:\tlearn: 0.8272967\ttotal: 256ms\tremaining: 80.7ms\n",
            "38:\tlearn: 0.8273814\ttotal: 263ms\tremaining: 74.3ms\n",
            "39:\tlearn: 0.8272333\ttotal: 270ms\tremaining: 67.4ms\n",
            "40:\tlearn: 0.8282287\ttotal: 276ms\tremaining: 60.6ms\n",
            "41:\tlearn: 0.8287520\ttotal: 282ms\tremaining: 53.8ms\n",
            "42:\tlearn: 0.8287749\ttotal: 289ms\tremaining: 47ms\n",
            "43:\tlearn: 0.8293630\ttotal: 307ms\tremaining: 41.9ms\n",
            "44:\tlearn: 0.8295310\ttotal: 313ms\tremaining: 34.8ms\n",
            "45:\tlearn: 0.8301836\ttotal: 320ms\tremaining: 27.8ms\n",
            "46:\tlearn: 0.8305335\ttotal: 326ms\tremaining: 20.8ms\n",
            "47:\tlearn: 0.8304180\ttotal: 332ms\tremaining: 13.8ms\n",
            "48:\tlearn: 0.8307720\ttotal: 339ms\tremaining: 6.91ms\n",
            "49:\tlearn: 0.8309259\ttotal: 345ms\tremaining: 0us\n",
            "0:\tlearn: 0.8207154\ttotal: 8.55ms\tremaining: 419ms\n",
            "1:\tlearn: 0.8202022\ttotal: 15.2ms\tremaining: 365ms\n",
            "2:\tlearn: 0.8205117\ttotal: 21.8ms\tremaining: 342ms\n",
            "3:\tlearn: 0.8216047\ttotal: 28.4ms\tremaining: 327ms\n",
            "4:\tlearn: 0.8198893\ttotal: 35.1ms\tremaining: 316ms\n",
            "5:\tlearn: 0.8213087\ttotal: 51.3ms\tremaining: 376ms\n",
            "6:\tlearn: 0.8216390\ttotal: 57.9ms\tremaining: 356ms\n",
            "7:\tlearn: 0.8224873\ttotal: 64.6ms\tremaining: 339ms\n",
            "8:\tlearn: 0.8233888\ttotal: 71.3ms\tremaining: 325ms\n",
            "9:\tlearn: 0.8223400\ttotal: 78.1ms\tremaining: 312ms\n",
            "10:\tlearn: 0.8225803\ttotal: 84.8ms\tremaining: 300ms\n",
            "11:\tlearn: 0.8223397\ttotal: 99.8ms\tremaining: 316ms\n",
            "12:\tlearn: 0.8226151\ttotal: 106ms\tremaining: 303ms\n",
            "13:\tlearn: 0.8233463\ttotal: 113ms\tremaining: 291ms\n",
            "14:\tlearn: 0.8230053\ttotal: 120ms\tremaining: 279ms\n",
            "15:\tlearn: 0.8222019\ttotal: 126ms\tremaining: 268ms\n",
            "16:\tlearn: 0.8231991\ttotal: 132ms\tremaining: 257ms\n",
            "17:\tlearn: 0.8223228\ttotal: 139ms\tremaining: 247ms\n",
            "18:\tlearn: 0.8225162\ttotal: 145ms\tremaining: 237ms\n",
            "19:\tlearn: 0.8225458\ttotal: 152ms\tremaining: 228ms\n",
            "20:\tlearn: 0.8227086\ttotal: 159ms\tremaining: 219ms\n",
            "21:\tlearn: 0.8229025\ttotal: 165ms\tremaining: 210ms\n",
            "22:\tlearn: 0.8243180\ttotal: 171ms\tremaining: 201ms\n",
            "23:\tlearn: 0.8237078\ttotal: 178ms\tremaining: 192ms\n",
            "24:\tlearn: 0.8246049\ttotal: 184ms\tremaining: 184ms\n",
            "25:\tlearn: 0.8237582\ttotal: 190ms\tremaining: 175ms\n",
            "26:\tlearn: 0.8238894\ttotal: 196ms\tremaining: 167ms\n",
            "27:\tlearn: 0.8257851\ttotal: 208ms\tremaining: 163ms\n",
            "28:\tlearn: 0.8258578\ttotal: 214ms\tremaining: 155ms\n",
            "29:\tlearn: 0.8256118\ttotal: 221ms\tremaining: 147ms\n",
            "30:\tlearn: 0.8257779\ttotal: 227ms\tremaining: 139ms\n",
            "31:\tlearn: 0.8260530\ttotal: 233ms\tremaining: 131ms\n",
            "32:\tlearn: 0.8260811\ttotal: 240ms\tremaining: 123ms\n",
            "33:\tlearn: 0.8267250\ttotal: 246ms\tremaining: 116ms\n",
            "34:\tlearn: 0.8275754\ttotal: 252ms\tremaining: 108ms\n",
            "35:\tlearn: 0.8282314\ttotal: 264ms\tremaining: 103ms\n",
            "36:\tlearn: 0.8279774\ttotal: 270ms\tremaining: 94.9ms\n",
            "37:\tlearn: 0.8286148\ttotal: 277ms\tremaining: 87.3ms\n",
            "38:\tlearn: 0.8289527\ttotal: 283ms\tremaining: 79.7ms\n",
            "39:\tlearn: 0.8287991\ttotal: 289ms\tremaining: 72.3ms\n",
            "40:\tlearn: 0.8292095\ttotal: 296ms\tremaining: 64.9ms\n",
            "41:\tlearn: 0.8291540\ttotal: 302ms\tremaining: 57.5ms\n",
            "42:\tlearn: 0.8290114\ttotal: 309ms\tremaining: 50.2ms\n",
            "43:\tlearn: 0.8295252\ttotal: 315ms\tremaining: 42.9ms\n",
            "44:\tlearn: 0.8296091\ttotal: 321ms\tremaining: 35.7ms\n",
            "45:\tlearn: 0.8295939\ttotal: 327ms\tremaining: 28.5ms\n",
            "46:\tlearn: 0.8296310\ttotal: 334ms\tremaining: 21.3ms\n",
            "47:\tlearn: 0.8297378\ttotal: 340ms\tremaining: 14.2ms\n",
            "48:\tlearn: 0.8300268\ttotal: 347ms\tremaining: 7.08ms\n",
            "49:\tlearn: 0.8302881\ttotal: 353ms\tremaining: 0us\n",
            "0:\tlearn: 0.8212797\ttotal: 7.61ms\tremaining: 373ms\n",
            "1:\tlearn: 0.8217589\ttotal: 14.1ms\tremaining: 339ms\n",
            "2:\tlearn: 0.8221040\ttotal: 20.6ms\tremaining: 323ms\n",
            "3:\tlearn: 0.8224184\ttotal: 27.2ms\tremaining: 313ms\n",
            "4:\tlearn: 0.8217881\ttotal: 34.2ms\tremaining: 308ms\n",
            "5:\tlearn: 0.8225217\ttotal: 40.8ms\tremaining: 299ms\n",
            "6:\tlearn: 0.8230053\ttotal: 47.2ms\tremaining: 290ms\n",
            "7:\tlearn: 0.8232723\ttotal: 53.7ms\tremaining: 282ms\n",
            "8:\tlearn: 0.8228952\ttotal: 60.2ms\tremaining: 274ms\n",
            "9:\tlearn: 0.8234078\ttotal: 66.8ms\tremaining: 267ms\n",
            "10:\tlearn: 0.8234382\ttotal: 73.3ms\tremaining: 260ms\n",
            "11:\tlearn: 0.8236441\ttotal: 79.8ms\tremaining: 253ms\n",
            "12:\tlearn: 0.8239059\ttotal: 86.3ms\tremaining: 246ms\n",
            "13:\tlearn: 0.8237021\ttotal: 93ms\tremaining: 239ms\n",
            "14:\tlearn: 0.8237962\ttotal: 99.5ms\tremaining: 232ms\n",
            "15:\tlearn: 0.8236264\ttotal: 106ms\tremaining: 225ms\n",
            "16:\tlearn: 0.8240638\ttotal: 112ms\tremaining: 218ms\n",
            "17:\tlearn: 0.8241428\ttotal: 119ms\tremaining: 211ms\n",
            "18:\tlearn: 0.8236054\ttotal: 125ms\tremaining: 204ms\n",
            "19:\tlearn: 0.8240559\ttotal: 132ms\tremaining: 198ms\n",
            "20:\tlearn: 0.8239932\ttotal: 138ms\tremaining: 191ms\n",
            "21:\tlearn: 0.8243985\ttotal: 145ms\tremaining: 184ms\n",
            "22:\tlearn: 0.8244091\ttotal: 151ms\tremaining: 178ms\n",
            "23:\tlearn: 0.8244029\ttotal: 162ms\tremaining: 175ms\n",
            "24:\tlearn: 0.8245324\ttotal: 168ms\tremaining: 168ms\n",
            "25:\tlearn: 0.8250134\ttotal: 175ms\tremaining: 161ms\n",
            "26:\tlearn: 0.8252649\ttotal: 182ms\tremaining: 155ms\n",
            "27:\tlearn: 0.8246583\ttotal: 188ms\tremaining: 148ms\n",
            "28:\tlearn: 0.8259256\ttotal: 195ms\tremaining: 141ms\n",
            "29:\tlearn: 0.8269037\ttotal: 206ms\tremaining: 137ms\n",
            "30:\tlearn: 0.8264105\ttotal: 213ms\tremaining: 130ms\n",
            "31:\tlearn: 0.8263299\ttotal: 219ms\tremaining: 123ms\n",
            "32:\tlearn: 0.8265927\ttotal: 226ms\tremaining: 116ms\n",
            "33:\tlearn: 0.8272286\ttotal: 232ms\tremaining: 109ms\n",
            "34:\tlearn: 0.8277326\ttotal: 239ms\tremaining: 102ms\n",
            "35:\tlearn: 0.8277635\ttotal: 245ms\tremaining: 95.4ms\n",
            "36:\tlearn: 0.8278623\ttotal: 252ms\tremaining: 88.4ms\n",
            "37:\tlearn: 0.8287579\ttotal: 259ms\tremaining: 81.7ms\n",
            "38:\tlearn: 0.8284571\ttotal: 265ms\tremaining: 74.8ms\n",
            "39:\tlearn: 0.8285574\ttotal: 272ms\tremaining: 67.9ms\n",
            "40:\tlearn: 0.8294548\ttotal: 278ms\tremaining: 61ms\n",
            "41:\tlearn: 0.8292443\ttotal: 284ms\tremaining: 54.2ms\n",
            "42:\tlearn: 0.8296084\ttotal: 291ms\tremaining: 47.3ms\n",
            "43:\tlearn: 0.8292465\ttotal: 297ms\tremaining: 40.5ms\n",
            "44:\tlearn: 0.8298800\ttotal: 304ms\tremaining: 33.7ms\n",
            "45:\tlearn: 0.8298367\ttotal: 310ms\tremaining: 27ms\n",
            "46:\tlearn: 0.8300250\ttotal: 317ms\tremaining: 20.2ms\n",
            "47:\tlearn: 0.8297506\ttotal: 323ms\tremaining: 13.5ms\n",
            "48:\tlearn: 0.8307479\ttotal: 329ms\tremaining: 6.72ms\n",
            "49:\tlearn: 0.8309651\ttotal: 336ms\tremaining: 0us\n",
            "0:\tlearn: 0.8163678\ttotal: 7.52ms\tremaining: 369ms\n",
            "1:\tlearn: 0.8202104\ttotal: 14.1ms\tremaining: 338ms\n",
            "2:\tlearn: 0.8200861\ttotal: 20.6ms\tremaining: 323ms\n",
            "3:\tlearn: 0.8222193\ttotal: 27.6ms\tremaining: 318ms\n",
            "4:\tlearn: 0.8213553\ttotal: 34.3ms\tremaining: 309ms\n",
            "5:\tlearn: 0.8223321\ttotal: 40.9ms\tremaining: 300ms\n",
            "6:\tlearn: 0.8218839\ttotal: 47.4ms\tremaining: 291ms\n",
            "7:\tlearn: 0.8215350\ttotal: 54ms\tremaining: 283ms\n",
            "8:\tlearn: 0.8210779\ttotal: 60.4ms\tremaining: 275ms\n",
            "9:\tlearn: 0.8225070\ttotal: 66.9ms\tremaining: 268ms\n",
            "10:\tlearn: 0.8223706\ttotal: 73.8ms\tremaining: 262ms\n",
            "11:\tlearn: 0.8219154\ttotal: 80.4ms\tremaining: 255ms\n",
            "12:\tlearn: 0.8223933\ttotal: 86.8ms\tremaining: 247ms\n",
            "13:\tlearn: 0.8222549\ttotal: 93.4ms\tremaining: 240ms\n",
            "14:\tlearn: 0.8224857\ttotal: 99.9ms\tremaining: 233ms\n",
            "15:\tlearn: 0.8224595\ttotal: 106ms\tremaining: 226ms\n",
            "16:\tlearn: 0.8229137\ttotal: 113ms\tremaining: 219ms\n",
            "17:\tlearn: 0.8226170\ttotal: 119ms\tremaining: 212ms\n",
            "18:\tlearn: 0.8226530\ttotal: 126ms\tremaining: 205ms\n",
            "19:\tlearn: 0.8224007\ttotal: 132ms\tremaining: 198ms\n",
            "20:\tlearn: 0.8224166\ttotal: 139ms\tremaining: 192ms\n",
            "21:\tlearn: 0.8228317\ttotal: 145ms\tremaining: 185ms\n",
            "22:\tlearn: 0.8223416\ttotal: 152ms\tremaining: 178ms\n",
            "23:\tlearn: 0.8228944\ttotal: 158ms\tremaining: 171ms\n",
            "24:\tlearn: 0.8229074\ttotal: 165ms\tremaining: 165ms\n",
            "25:\tlearn: 0.8236160\ttotal: 171ms\tremaining: 158ms\n",
            "26:\tlearn: 0.8230613\ttotal: 178ms\tremaining: 151ms\n",
            "27:\tlearn: 0.8240284\ttotal: 186ms\tremaining: 146ms\n",
            "28:\tlearn: 0.8240600\ttotal: 193ms\tremaining: 140ms\n",
            "29:\tlearn: 0.8237477\ttotal: 205ms\tremaining: 136ms\n",
            "30:\tlearn: 0.8252566\ttotal: 211ms\tremaining: 129ms\n",
            "31:\tlearn: 0.8259316\ttotal: 218ms\tremaining: 122ms\n",
            "32:\tlearn: 0.8261492\ttotal: 224ms\tremaining: 115ms\n",
            "33:\tlearn: 0.8263136\ttotal: 230ms\tremaining: 108ms\n",
            "34:\tlearn: 0.8263974\ttotal: 237ms\tremaining: 102ms\n",
            "35:\tlearn: 0.8265795\ttotal: 243ms\tremaining: 94.7ms\n",
            "36:\tlearn: 0.8269145\ttotal: 250ms\tremaining: 87.8ms\n",
            "37:\tlearn: 0.8271724\ttotal: 256ms\tremaining: 80.9ms\n",
            "38:\tlearn: 0.8271677\ttotal: 263ms\tremaining: 74.1ms\n",
            "39:\tlearn: 0.8274519\ttotal: 269ms\tremaining: 67.3ms\n",
            "40:\tlearn: 0.8276743\ttotal: 275ms\tremaining: 60.5ms\n",
            "41:\tlearn: 0.8276959\ttotal: 282ms\tremaining: 53.7ms\n",
            "42:\tlearn: 0.8280928\ttotal: 288ms\tremaining: 46.9ms\n",
            "43:\tlearn: 0.8286731\ttotal: 295ms\tremaining: 40.2ms\n",
            "44:\tlearn: 0.8287001\ttotal: 303ms\tremaining: 33.7ms\n",
            "45:\tlearn: 0.8290323\ttotal: 312ms\tremaining: 27.1ms\n",
            "46:\tlearn: 0.8291022\ttotal: 318ms\tremaining: 20.3ms\n",
            "47:\tlearn: 0.8289609\ttotal: 325ms\tremaining: 13.5ms\n",
            "48:\tlearn: 0.8287412\ttotal: 331ms\tremaining: 6.76ms\n",
            "49:\tlearn: 0.8285407\ttotal: 338ms\tremaining: 0us\n",
            "0:\tlearn: 0.8182001\ttotal: 7.42ms\tremaining: 364ms\n",
            "1:\tlearn: 0.8209084\ttotal: 13.9ms\tremaining: 333ms\n",
            "2:\tlearn: 0.8195502\ttotal: 20.3ms\tremaining: 318ms\n",
            "3:\tlearn: 0.8216133\ttotal: 26.7ms\tremaining: 307ms\n",
            "4:\tlearn: 0.8215994\ttotal: 33ms\tremaining: 297ms\n",
            "5:\tlearn: 0.8228841\ttotal: 39.4ms\tremaining: 289ms\n",
            "6:\tlearn: 0.8218029\ttotal: 45.8ms\tremaining: 281ms\n",
            "7:\tlearn: 0.8225234\ttotal: 52.2ms\tremaining: 274ms\n",
            "8:\tlearn: 0.8223840\ttotal: 58.5ms\tremaining: 267ms\n",
            "9:\tlearn: 0.8226916\ttotal: 64.9ms\tremaining: 260ms\n",
            "10:\tlearn: 0.8227840\ttotal: 71.4ms\tremaining: 253ms\n",
            "11:\tlearn: 0.8215247\ttotal: 77.6ms\tremaining: 246ms\n",
            "12:\tlearn: 0.8217641\ttotal: 84ms\tremaining: 239ms\n",
            "13:\tlearn: 0.8218361\ttotal: 90.2ms\tremaining: 232ms\n",
            "14:\tlearn: 0.8215614\ttotal: 96.5ms\tremaining: 225ms\n",
            "15:\tlearn: 0.8217568\ttotal: 103ms\tremaining: 219ms\n",
            "16:\tlearn: 0.8217058\ttotal: 111ms\tremaining: 215ms\n",
            "17:\tlearn: 0.8220622\ttotal: 117ms\tremaining: 208ms\n",
            "18:\tlearn: 0.8221585\ttotal: 123ms\tremaining: 201ms\n",
            "19:\tlearn: 0.8215917\ttotal: 130ms\tremaining: 195ms\n",
            "20:\tlearn: 0.8227452\ttotal: 136ms\tremaining: 188ms\n",
            "21:\tlearn: 0.8228312\ttotal: 147ms\tremaining: 187ms\n",
            "22:\tlearn: 0.8222767\ttotal: 153ms\tremaining: 180ms\n",
            "23:\tlearn: 0.8222059\ttotal: 159ms\tremaining: 172ms\n",
            "24:\tlearn: 0.8230260\ttotal: 166ms\tremaining: 166ms\n",
            "25:\tlearn: 0.8243913\ttotal: 172ms\tremaining: 159ms\n",
            "26:\tlearn: 0.8240556\ttotal: 184ms\tremaining: 157ms\n",
            "27:\tlearn: 0.8243225\ttotal: 196ms\tremaining: 154ms\n",
            "28:\tlearn: 0.8248701\ttotal: 207ms\tremaining: 150ms\n",
            "29:\tlearn: 0.8250463\ttotal: 213ms\tremaining: 142ms\n",
            "30:\tlearn: 0.8251393\ttotal: 220ms\tremaining: 135ms\n",
            "31:\tlearn: 0.8254818\ttotal: 226ms\tremaining: 127ms\n",
            "32:\tlearn: 0.8266304\ttotal: 233ms\tremaining: 120ms\n",
            "33:\tlearn: 0.8263366\ttotal: 239ms\tremaining: 112ms\n",
            "34:\tlearn: 0.8268561\ttotal: 245ms\tremaining: 105ms\n",
            "35:\tlearn: 0.8274599\ttotal: 252ms\tremaining: 97.9ms\n",
            "36:\tlearn: 0.8273645\ttotal: 258ms\tremaining: 90.8ms\n",
            "37:\tlearn: 0.8271919\ttotal: 265ms\tremaining: 83.6ms\n",
            "38:\tlearn: 0.8275200\ttotal: 273ms\tremaining: 77ms\n",
            "39:\tlearn: 0.8280249\ttotal: 282ms\tremaining: 70.5ms\n",
            "40:\tlearn: 0.8291823\ttotal: 288ms\tremaining: 63.3ms\n",
            "41:\tlearn: 0.8293804\ttotal: 295ms\tremaining: 56.1ms\n",
            "42:\tlearn: 0.8297493\ttotal: 301ms\tremaining: 49ms\n",
            "43:\tlearn: 0.8298831\ttotal: 307ms\tremaining: 41.9ms\n",
            "44:\tlearn: 0.8302156\ttotal: 314ms\tremaining: 34.9ms\n",
            "45:\tlearn: 0.8301078\ttotal: 320ms\tremaining: 27.9ms\n",
            "46:\tlearn: 0.8300446\ttotal: 327ms\tremaining: 20.9ms\n",
            "47:\tlearn: 0.8299629\ttotal: 333ms\tremaining: 13.9ms\n",
            "48:\tlearn: 0.8303083\ttotal: 340ms\tremaining: 6.95ms\n",
            "49:\tlearn: 0.8304203\ttotal: 347ms\tremaining: 0us\n",
            "0:\tlearn: 0.8226568\ttotal: 14.1ms\tremaining: 690ms\n",
            "1:\tlearn: 0.8233768\ttotal: 27ms\tremaining: 647ms\n",
            "2:\tlearn: 0.8254223\ttotal: 40.3ms\tremaining: 631ms\n",
            "3:\tlearn: 0.8274003\ttotal: 53.4ms\tremaining: 614ms\n",
            "4:\tlearn: 0.8269537\ttotal: 66.3ms\tremaining: 596ms\n",
            "5:\tlearn: 0.8288594\ttotal: 79.2ms\tremaining: 581ms\n",
            "6:\tlearn: 0.8277491\ttotal: 92.3ms\tremaining: 567ms\n",
            "7:\tlearn: 0.8272133\ttotal: 105ms\tremaining: 553ms\n",
            "8:\tlearn: 0.8280817\ttotal: 118ms\tremaining: 539ms\n",
            "9:\tlearn: 0.8291669\ttotal: 131ms\tremaining: 526ms\n",
            "10:\tlearn: 0.8293008\ttotal: 144ms\tremaining: 512ms\n",
            "11:\tlearn: 0.8291241\ttotal: 157ms\tremaining: 497ms\n",
            "12:\tlearn: 0.8297773\ttotal: 170ms\tremaining: 483ms\n",
            "13:\tlearn: 0.8293400\ttotal: 183ms\tremaining: 469ms\n",
            "14:\tlearn: 0.8299020\ttotal: 196ms\tremaining: 457ms\n",
            "15:\tlearn: 0.8299581\ttotal: 209ms\tremaining: 444ms\n",
            "16:\tlearn: 0.8304128\ttotal: 226ms\tremaining: 439ms\n",
            "17:\tlearn: 0.8305796\ttotal: 239ms\tremaining: 425ms\n",
            "18:\tlearn: 0.8315909\ttotal: 253ms\tremaining: 414ms\n",
            "19:\tlearn: 0.8311352\ttotal: 272ms\tremaining: 408ms\n",
            "20:\tlearn: 0.8310459\ttotal: 285ms\tremaining: 394ms\n",
            "21:\tlearn: 0.8309623\ttotal: 298ms\tremaining: 379ms\n",
            "22:\tlearn: 0.8310117\ttotal: 311ms\tremaining: 366ms\n",
            "23:\tlearn: 0.8315660\ttotal: 325ms\tremaining: 352ms\n",
            "24:\tlearn: 0.8314547\ttotal: 338ms\tremaining: 338ms\n",
            "25:\tlearn: 0.8319711\ttotal: 352ms\tremaining: 325ms\n",
            "26:\tlearn: 0.8331510\ttotal: 365ms\tremaining: 311ms\n",
            "27:\tlearn: 0.8336383\ttotal: 378ms\tremaining: 297ms\n",
            "28:\tlearn: 0.8336088\ttotal: 391ms\tremaining: 283ms\n",
            "29:\tlearn: 0.8341188\ttotal: 409ms\tremaining: 272ms\n",
            "30:\tlearn: 0.8342229\ttotal: 431ms\tremaining: 264ms\n",
            "31:\tlearn: 0.8344436\ttotal: 444ms\tremaining: 250ms\n",
            "32:\tlearn: 0.8349923\ttotal: 457ms\tremaining: 236ms\n",
            "33:\tlearn: 0.8353915\ttotal: 471ms\tremaining: 221ms\n",
            "34:\tlearn: 0.8356953\ttotal: 484ms\tremaining: 207ms\n",
            "35:\tlearn: 0.8356272\ttotal: 497ms\tremaining: 193ms\n",
            "36:\tlearn: 0.8363514\ttotal: 510ms\tremaining: 179ms\n",
            "37:\tlearn: 0.8368531\ttotal: 523ms\tremaining: 165ms\n",
            "38:\tlearn: 0.8369655\ttotal: 536ms\tremaining: 151ms\n",
            "39:\tlearn: 0.8373791\ttotal: 549ms\tremaining: 137ms\n",
            "40:\tlearn: 0.8373676\ttotal: 562ms\tremaining: 123ms\n",
            "41:\tlearn: 0.8379535\ttotal: 575ms\tremaining: 110ms\n",
            "42:\tlearn: 0.8382847\ttotal: 588ms\tremaining: 95.7ms\n",
            "43:\tlearn: 0.8386909\ttotal: 601ms\tremaining: 82ms\n",
            "44:\tlearn: 0.8388573\ttotal: 622ms\tremaining: 69.2ms\n",
            "45:\tlearn: 0.8387546\ttotal: 641ms\tremaining: 55.7ms\n",
            "46:\tlearn: 0.8389703\ttotal: 654ms\tremaining: 41.8ms\n",
            "47:\tlearn: 0.8391655\ttotal: 668ms\tremaining: 27.8ms\n",
            "48:\tlearn: 0.8402529\ttotal: 682ms\tremaining: 13.9ms\n",
            "49:\tlearn: 0.8397296\ttotal: 695ms\tremaining: 0us\n",
            "0:\tlearn: 0.8237717\ttotal: 14ms\tremaining: 687ms\n",
            "1:\tlearn: 0.8221271\ttotal: 26.9ms\tremaining: 646ms\n",
            "2:\tlearn: 0.8263703\ttotal: 44.5ms\tremaining: 697ms\n",
            "3:\tlearn: 0.8275785\ttotal: 57.3ms\tremaining: 659ms\n",
            "4:\tlearn: 0.8274222\ttotal: 70.2ms\tremaining: 632ms\n",
            "5:\tlearn: 0.8273117\ttotal: 83.1ms\tremaining: 610ms\n",
            "6:\tlearn: 0.8276984\ttotal: 96.2ms\tremaining: 591ms\n",
            "7:\tlearn: 0.8280173\ttotal: 109ms\tremaining: 573ms\n",
            "8:\tlearn: 0.8283251\ttotal: 122ms\tremaining: 556ms\n",
            "9:\tlearn: 0.8292238\ttotal: 135ms\tremaining: 541ms\n",
            "10:\tlearn: 0.8296842\ttotal: 148ms\tremaining: 525ms\n",
            "11:\tlearn: 0.8292737\ttotal: 161ms\tremaining: 509ms\n",
            "12:\tlearn: 0.8294896\ttotal: 173ms\tremaining: 493ms\n",
            "13:\tlearn: 0.8294023\ttotal: 187ms\tremaining: 481ms\n",
            "14:\tlearn: 0.8299614\ttotal: 200ms\tremaining: 466ms\n",
            "15:\tlearn: 0.8301617\ttotal: 218ms\tremaining: 463ms\n",
            "16:\tlearn: 0.8301482\ttotal: 231ms\tremaining: 448ms\n",
            "17:\tlearn: 0.8305281\ttotal: 244ms\tremaining: 433ms\n",
            "18:\tlearn: 0.8307293\ttotal: 261ms\tremaining: 425ms\n",
            "19:\tlearn: 0.8307795\ttotal: 274ms\tremaining: 411ms\n",
            "20:\tlearn: 0.8313899\ttotal: 297ms\tremaining: 410ms\n",
            "21:\tlearn: 0.8319331\ttotal: 311ms\tremaining: 395ms\n",
            "22:\tlearn: 0.8322984\ttotal: 324ms\tremaining: 380ms\n",
            "23:\tlearn: 0.8324288\ttotal: 337ms\tremaining: 365ms\n",
            "24:\tlearn: 0.8324090\ttotal: 350ms\tremaining: 350ms\n",
            "25:\tlearn: 0.8325687\ttotal: 363ms\tremaining: 335ms\n",
            "26:\tlearn: 0.8332102\ttotal: 376ms\tremaining: 320ms\n",
            "27:\tlearn: 0.8340268\ttotal: 389ms\tremaining: 306ms\n",
            "28:\tlearn: 0.8341124\ttotal: 403ms\tremaining: 292ms\n",
            "29:\tlearn: 0.8345182\ttotal: 420ms\tremaining: 280ms\n",
            "30:\tlearn: 0.8354306\ttotal: 433ms\tremaining: 265ms\n",
            "31:\tlearn: 0.8354119\ttotal: 446ms\tremaining: 251ms\n",
            "32:\tlearn: 0.8357815\ttotal: 459ms\tremaining: 237ms\n",
            "33:\tlearn: 0.8364636\ttotal: 473ms\tremaining: 222ms\n",
            "34:\tlearn: 0.8363051\ttotal: 489ms\tremaining: 209ms\n",
            "35:\tlearn: 0.8365288\ttotal: 502ms\tremaining: 195ms\n",
            "36:\tlearn: 0.8365539\ttotal: 515ms\tremaining: 181ms\n",
            "37:\tlearn: 0.8370730\ttotal: 529ms\tremaining: 167ms\n",
            "38:\tlearn: 0.8371594\ttotal: 542ms\tremaining: 153ms\n",
            "39:\tlearn: 0.8375954\ttotal: 555ms\tremaining: 139ms\n",
            "40:\tlearn: 0.8375674\ttotal: 568ms\tremaining: 125ms\n",
            "41:\tlearn: 0.8382389\ttotal: 581ms\tremaining: 111ms\n",
            "42:\tlearn: 0.8382722\ttotal: 594ms\tremaining: 96.7ms\n",
            "43:\tlearn: 0.8385681\ttotal: 607ms\tremaining: 82.7ms\n",
            "44:\tlearn: 0.8385118\ttotal: 628ms\tremaining: 69.8ms\n",
            "45:\tlearn: 0.8391183\ttotal: 641ms\tremaining: 55.8ms\n",
            "46:\tlearn: 0.8394879\ttotal: 654ms\tremaining: 41.8ms\n",
            "47:\tlearn: 0.8395969\ttotal: 667ms\tremaining: 27.8ms\n",
            "48:\tlearn: 0.8402133\ttotal: 681ms\tremaining: 13.9ms\n",
            "49:\tlearn: 0.8399982\ttotal: 694ms\tremaining: 0us\n",
            "0:\tlearn: 0.8261099\ttotal: 14.1ms\tremaining: 693ms\n",
            "1:\tlearn: 0.8258193\ttotal: 26.9ms\tremaining: 646ms\n",
            "2:\tlearn: 0.8267542\ttotal: 39.9ms\tremaining: 625ms\n",
            "3:\tlearn: 0.8280536\ttotal: 54.1ms\tremaining: 623ms\n",
            "4:\tlearn: 0.8273297\ttotal: 67ms\tremaining: 603ms\n",
            "5:\tlearn: 0.8286155\ttotal: 79.9ms\tremaining: 586ms\n",
            "6:\tlearn: 0.8287989\ttotal: 92.6ms\tremaining: 569ms\n",
            "7:\tlearn: 0.8280842\ttotal: 107ms\tremaining: 562ms\n",
            "8:\tlearn: 0.8281462\ttotal: 120ms\tremaining: 548ms\n",
            "9:\tlearn: 0.8281267\ttotal: 133ms\tremaining: 533ms\n",
            "10:\tlearn: 0.8284952\ttotal: 148ms\tremaining: 525ms\n",
            "11:\tlearn: 0.8280660\ttotal: 161ms\tremaining: 509ms\n",
            "12:\tlearn: 0.8288240\ttotal: 184ms\tremaining: 524ms\n",
            "13:\tlearn: 0.8290259\ttotal: 197ms\tremaining: 506ms\n",
            "14:\tlearn: 0.8289747\ttotal: 210ms\tremaining: 491ms\n",
            "15:\tlearn: 0.8294882\ttotal: 228ms\tremaining: 485ms\n",
            "16:\tlearn: 0.8299657\ttotal: 242ms\tremaining: 469ms\n",
            "17:\tlearn: 0.8300136\ttotal: 254ms\tremaining: 452ms\n",
            "18:\tlearn: 0.8303890\ttotal: 267ms\tremaining: 436ms\n",
            "19:\tlearn: 0.8303911\ttotal: 281ms\tremaining: 421ms\n",
            "20:\tlearn: 0.8309088\ttotal: 294ms\tremaining: 406ms\n",
            "21:\tlearn: 0.8317920\ttotal: 307ms\tremaining: 391ms\n",
            "22:\tlearn: 0.8310696\ttotal: 324ms\tremaining: 380ms\n",
            "23:\tlearn: 0.8320375\ttotal: 337ms\tremaining: 365ms\n",
            "24:\tlearn: 0.8326222\ttotal: 352ms\tremaining: 352ms\n",
            "25:\tlearn: 0.8327521\ttotal: 365ms\tremaining: 337ms\n",
            "26:\tlearn: 0.8336794\ttotal: 378ms\tremaining: 322ms\n",
            "27:\tlearn: 0.8344758\ttotal: 391ms\tremaining: 307ms\n",
            "28:\tlearn: 0.8343462\ttotal: 405ms\tremaining: 293ms\n",
            "29:\tlearn: 0.8350960\ttotal: 424ms\tremaining: 283ms\n",
            "30:\tlearn: 0.8357181\ttotal: 437ms\tremaining: 268ms\n",
            "31:\tlearn: 0.8359897\ttotal: 450ms\tremaining: 253ms\n",
            "32:\tlearn: 0.8362774\ttotal: 463ms\tremaining: 238ms\n",
            "33:\tlearn: 0.8370316\ttotal: 476ms\tremaining: 224ms\n",
            "34:\tlearn: 0.8373497\ttotal: 490ms\tremaining: 210ms\n",
            "35:\tlearn: 0.8372676\ttotal: 503ms\tremaining: 196ms\n",
            "36:\tlearn: 0.8375850\ttotal: 516ms\tremaining: 181ms\n",
            "37:\tlearn: 0.8383212\ttotal: 529ms\tremaining: 167ms\n",
            "38:\tlearn: 0.8381720\ttotal: 542ms\tremaining: 153ms\n",
            "39:\tlearn: 0.8383918\ttotal: 555ms\tremaining: 139ms\n",
            "40:\tlearn: 0.8381836\ttotal: 568ms\tremaining: 125ms\n",
            "41:\tlearn: 0.8386678\ttotal: 581ms\tremaining: 111ms\n",
            "42:\tlearn: 0.8387877\ttotal: 594ms\tremaining: 96.7ms\n",
            "43:\tlearn: 0.8393413\ttotal: 608ms\tremaining: 82.9ms\n",
            "44:\tlearn: 0.8389367\ttotal: 621ms\tremaining: 69ms\n",
            "45:\tlearn: 0.8390699\ttotal: 639ms\tremaining: 55.6ms\n",
            "46:\tlearn: 0.8398897\ttotal: 652ms\tremaining: 41.6ms\n",
            "47:\tlearn: 0.8396567\ttotal: 666ms\tremaining: 27.7ms\n",
            "48:\tlearn: 0.8398709\ttotal: 679ms\tremaining: 13.9ms\n",
            "49:\tlearn: 0.8401210\ttotal: 699ms\tremaining: 0us\n",
            "0:\tlearn: 0.8200786\ttotal: 14.2ms\tremaining: 695ms\n",
            "1:\tlearn: 0.8250595\ttotal: 27.4ms\tremaining: 659ms\n",
            "2:\tlearn: 0.8269065\ttotal: 50.7ms\tremaining: 795ms\n",
            "3:\tlearn: 0.8265674\ttotal: 63.8ms\tremaining: 733ms\n",
            "4:\tlearn: 0.8264026\ttotal: 77ms\tremaining: 693ms\n",
            "5:\tlearn: 0.8267664\ttotal: 90.1ms\tremaining: 660ms\n",
            "6:\tlearn: 0.8268737\ttotal: 103ms\tremaining: 632ms\n",
            "7:\tlearn: 0.8264565\ttotal: 116ms\tremaining: 608ms\n",
            "8:\tlearn: 0.8279949\ttotal: 129ms\tremaining: 586ms\n",
            "9:\tlearn: 0.8279324\ttotal: 142ms\tremaining: 569ms\n",
            "10:\tlearn: 0.8286039\ttotal: 155ms\tremaining: 550ms\n",
            "11:\tlearn: 0.8289738\ttotal: 168ms\tremaining: 532ms\n",
            "12:\tlearn: 0.8284817\ttotal: 181ms\tremaining: 515ms\n",
            "13:\tlearn: 0.8283602\ttotal: 194ms\tremaining: 498ms\n",
            "14:\tlearn: 0.8279412\ttotal: 209ms\tremaining: 487ms\n",
            "15:\tlearn: 0.8286467\ttotal: 227ms\tremaining: 483ms\n",
            "16:\tlearn: 0.8302021\ttotal: 240ms\tremaining: 466ms\n",
            "17:\tlearn: 0.8298589\ttotal: 253ms\tremaining: 450ms\n",
            "18:\tlearn: 0.8300538\ttotal: 266ms\tremaining: 434ms\n",
            "19:\tlearn: 0.8305403\ttotal: 279ms\tremaining: 418ms\n",
            "20:\tlearn: 0.8311683\ttotal: 293ms\tremaining: 405ms\n",
            "21:\tlearn: 0.8310921\ttotal: 309ms\tremaining: 393ms\n",
            "22:\tlearn: 0.8314074\ttotal: 322ms\tremaining: 378ms\n",
            "23:\tlearn: 0.8313927\ttotal: 335ms\tremaining: 363ms\n",
            "24:\tlearn: 0.8315457\ttotal: 348ms\tremaining: 348ms\n",
            "25:\tlearn: 0.8314944\ttotal: 361ms\tremaining: 333ms\n",
            "26:\tlearn: 0.8317669\ttotal: 373ms\tremaining: 318ms\n",
            "27:\tlearn: 0.8327555\ttotal: 386ms\tremaining: 303ms\n",
            "28:\tlearn: 0.8330202\ttotal: 399ms\tremaining: 289ms\n",
            "29:\tlearn: 0.8330760\ttotal: 412ms\tremaining: 275ms\n",
            "30:\tlearn: 0.8334527\ttotal: 430ms\tremaining: 263ms\n",
            "31:\tlearn: 0.8339753\ttotal: 443ms\tremaining: 249ms\n",
            "32:\tlearn: 0.8342177\ttotal: 456ms\tremaining: 235ms\n",
            "33:\tlearn: 0.8347666\ttotal: 469ms\tremaining: 221ms\n",
            "34:\tlearn: 0.8349123\ttotal: 482ms\tremaining: 207ms\n",
            "35:\tlearn: 0.8351067\ttotal: 496ms\tremaining: 193ms\n",
            "36:\tlearn: 0.8354124\ttotal: 508ms\tremaining: 179ms\n",
            "37:\tlearn: 0.8358490\ttotal: 521ms\tremaining: 165ms\n",
            "38:\tlearn: 0.8359833\ttotal: 534ms\tremaining: 151ms\n",
            "39:\tlearn: 0.8364459\ttotal: 547ms\tremaining: 137ms\n",
            "40:\tlearn: 0.8365998\ttotal: 560ms\tremaining: 123ms\n",
            "41:\tlearn: 0.8365632\ttotal: 573ms\tremaining: 109ms\n",
            "42:\tlearn: 0.8367535\ttotal: 585ms\tremaining: 95.3ms\n",
            "43:\tlearn: 0.8365969\ttotal: 598ms\tremaining: 81.6ms\n",
            "44:\tlearn: 0.8373721\ttotal: 611ms\tremaining: 67.9ms\n",
            "45:\tlearn: 0.8373230\ttotal: 624ms\tremaining: 54.3ms\n",
            "46:\tlearn: 0.8379773\ttotal: 642ms\tremaining: 41ms\n",
            "47:\tlearn: 0.8381452\ttotal: 655ms\tremaining: 27.3ms\n",
            "48:\tlearn: 0.8383653\ttotal: 668ms\tremaining: 13.6ms\n",
            "49:\tlearn: 0.8387603\ttotal: 681ms\tremaining: 0us\n",
            "0:\tlearn: 0.8179091\ttotal: 13.9ms\tremaining: 681ms\n",
            "1:\tlearn: 0.8237129\ttotal: 27.7ms\tremaining: 664ms\n",
            "2:\tlearn: 0.8253223\ttotal: 40.9ms\tremaining: 642ms\n",
            "3:\tlearn: 0.8266655\ttotal: 54ms\tremaining: 621ms\n",
            "4:\tlearn: 0.8260203\ttotal: 67.2ms\tremaining: 604ms\n",
            "5:\tlearn: 0.8269766\ttotal: 82.4ms\tremaining: 604ms\n",
            "6:\tlearn: 0.8262909\ttotal: 95.4ms\tremaining: 586ms\n",
            "7:\tlearn: 0.8264338\ttotal: 109ms\tremaining: 572ms\n",
            "8:\tlearn: 0.8277284\ttotal: 122ms\tremaining: 557ms\n",
            "9:\tlearn: 0.8279136\ttotal: 135ms\tremaining: 540ms\n",
            "10:\tlearn: 0.8274913\ttotal: 148ms\tremaining: 525ms\n",
            "11:\tlearn: 0.8271912\ttotal: 161ms\tremaining: 509ms\n",
            "12:\tlearn: 0.8287086\ttotal: 173ms\tremaining: 494ms\n",
            "13:\tlearn: 0.8292411\ttotal: 187ms\tremaining: 480ms\n",
            "14:\tlearn: 0.8286122\ttotal: 200ms\tremaining: 466ms\n",
            "15:\tlearn: 0.8289632\ttotal: 219ms\tremaining: 466ms\n",
            "16:\tlearn: 0.8290269\ttotal: 233ms\tremaining: 453ms\n",
            "17:\tlearn: 0.8296713\ttotal: 251ms\tremaining: 446ms\n",
            "18:\tlearn: 0.8291908\ttotal: 264ms\tremaining: 431ms\n",
            "19:\tlearn: 0.8297367\ttotal: 277ms\tremaining: 416ms\n",
            "20:\tlearn: 0.8303036\ttotal: 290ms\tremaining: 401ms\n",
            "21:\tlearn: 0.8308498\ttotal: 303ms\tremaining: 386ms\n",
            "22:\tlearn: 0.8310649\ttotal: 316ms\tremaining: 371ms\n",
            "23:\tlearn: 0.8310174\ttotal: 330ms\tremaining: 357ms\n",
            "24:\tlearn: 0.8321533\ttotal: 349ms\tremaining: 349ms\n",
            "25:\tlearn: 0.8322945\ttotal: 362ms\tremaining: 334ms\n",
            "26:\tlearn: 0.8334487\ttotal: 375ms\tremaining: 319ms\n",
            "27:\tlearn: 0.8335009\ttotal: 388ms\tremaining: 305ms\n",
            "28:\tlearn: 0.8334152\ttotal: 401ms\tremaining: 291ms\n",
            "29:\tlearn: 0.8338471\ttotal: 414ms\tremaining: 276ms\n",
            "30:\tlearn: 0.8340152\ttotal: 432ms\tremaining: 265ms\n",
            "31:\tlearn: 0.8342464\ttotal: 445ms\tremaining: 250ms\n",
            "32:\tlearn: 0.8347601\ttotal: 458ms\tremaining: 236ms\n",
            "33:\tlearn: 0.8356275\ttotal: 471ms\tremaining: 222ms\n",
            "34:\tlearn: 0.8354906\ttotal: 484ms\tremaining: 207ms\n",
            "35:\tlearn: 0.8352754\ttotal: 497ms\tremaining: 193ms\n",
            "36:\tlearn: 0.8350852\ttotal: 510ms\tremaining: 179ms\n",
            "37:\tlearn: 0.8357381\ttotal: 523ms\tremaining: 165ms\n",
            "38:\tlearn: 0.8361521\ttotal: 536ms\tremaining: 151ms\n",
            "39:\tlearn: 0.8363531\ttotal: 550ms\tremaining: 137ms\n",
            "40:\tlearn: 0.8366507\ttotal: 563ms\tremaining: 124ms\n",
            "41:\tlearn: 0.8368598\ttotal: 576ms\tremaining: 110ms\n",
            "42:\tlearn: 0.8368744\ttotal: 589ms\tremaining: 95.8ms\n",
            "43:\tlearn: 0.8376596\ttotal: 602ms\tremaining: 82ms\n",
            "44:\tlearn: 0.8379394\ttotal: 622ms\tremaining: 69.1ms\n",
            "45:\tlearn: 0.8378941\ttotal: 640ms\tremaining: 55.7ms\n",
            "46:\tlearn: 0.8381928\ttotal: 662ms\tremaining: 42.3ms\n",
            "47:\tlearn: 0.8386534\ttotal: 675ms\tremaining: 28.1ms\n",
            "48:\tlearn: 0.8392150\ttotal: 689ms\tremaining: 14.1ms\n",
            "49:\tlearn: 0.8391183\ttotal: 702ms\tremaining: 0us\n",
            "0:\tlearn: 0.8226568\ttotal: 14ms\tremaining: 686ms\n",
            "1:\tlearn: 0.8240735\ttotal: 26.7ms\tremaining: 642ms\n",
            "2:\tlearn: 0.8278423\ttotal: 39.8ms\tremaining: 623ms\n",
            "3:\tlearn: 0.8290807\ttotal: 54.4ms\tremaining: 626ms\n",
            "4:\tlearn: 0.8304478\ttotal: 67.3ms\tremaining: 606ms\n",
            "5:\tlearn: 0.8303848\ttotal: 80ms\tremaining: 586ms\n",
            "6:\tlearn: 0.8317429\ttotal: 93.1ms\tremaining: 572ms\n",
            "7:\tlearn: 0.8318608\ttotal: 106ms\tremaining: 557ms\n",
            "8:\tlearn: 0.8333707\ttotal: 119ms\tremaining: 542ms\n",
            "9:\tlearn: 0.8349958\ttotal: 132ms\tremaining: 529ms\n",
            "10:\tlearn: 0.8354917\ttotal: 145ms\tremaining: 515ms\n",
            "11:\tlearn: 0.8372395\ttotal: 158ms\tremaining: 501ms\n",
            "12:\tlearn: 0.8382880\ttotal: 171ms\tremaining: 488ms\n",
            "13:\tlearn: 0.8395637\ttotal: 184ms\tremaining: 474ms\n",
            "14:\tlearn: 0.8400027\ttotal: 197ms\tremaining: 460ms\n",
            "15:\tlearn: 0.8401212\ttotal: 210ms\tremaining: 447ms\n",
            "16:\tlearn: 0.8415190\ttotal: 227ms\tremaining: 441ms\n",
            "17:\tlearn: 0.8421502\ttotal: 240ms\tremaining: 427ms\n",
            "18:\tlearn: 0.8439109\ttotal: 253ms\tremaining: 413ms\n",
            "19:\tlearn: 0.8441278\ttotal: 266ms\tremaining: 399ms\n",
            "20:\tlearn: 0.8447931\ttotal: 279ms\tremaining: 385ms\n",
            "21:\tlearn: 0.8460224\ttotal: 292ms\tremaining: 372ms\n",
            "22:\tlearn: 0.8466943\ttotal: 305ms\tremaining: 359ms\n",
            "23:\tlearn: 0.8464674\ttotal: 318ms\tremaining: 345ms\n",
            "24:\tlearn: 0.8473369\ttotal: 332ms\tremaining: 332ms\n",
            "25:\tlearn: 0.8475081\ttotal: 348ms\tremaining: 322ms\n",
            "26:\tlearn: 0.8483166\ttotal: 361ms\tremaining: 308ms\n",
            "27:\tlearn: 0.8490881\ttotal: 374ms\tremaining: 294ms\n",
            "28:\tlearn: 0.8497573\ttotal: 387ms\tremaining: 280ms\n",
            "29:\tlearn: 0.8505680\ttotal: 400ms\tremaining: 267ms\n",
            "30:\tlearn: 0.8507638\ttotal: 417ms\tremaining: 256ms\n",
            "31:\tlearn: 0.8517590\ttotal: 430ms\tremaining: 242ms\n",
            "32:\tlearn: 0.8518996\ttotal: 445ms\tremaining: 229ms\n",
            "33:\tlearn: 0.8525524\ttotal: 463ms\tremaining: 218ms\n",
            "34:\tlearn: 0.8530874\ttotal: 476ms\tremaining: 204ms\n",
            "35:\tlearn: 0.8541370\ttotal: 489ms\tremaining: 190ms\n",
            "36:\tlearn: 0.8548354\ttotal: 502ms\tremaining: 176ms\n",
            "37:\tlearn: 0.8550679\ttotal: 516ms\tremaining: 163ms\n",
            "38:\tlearn: 0.8555196\ttotal: 530ms\tremaining: 149ms\n",
            "39:\tlearn: 0.8558041\ttotal: 543ms\tremaining: 136ms\n",
            "40:\tlearn: 0.8565869\ttotal: 556ms\tremaining: 122ms\n",
            "41:\tlearn: 0.8572916\ttotal: 569ms\tremaining: 108ms\n",
            "42:\tlearn: 0.8577834\ttotal: 587ms\tremaining: 95.5ms\n",
            "43:\tlearn: 0.8580163\ttotal: 600ms\tremaining: 81.8ms\n",
            "44:\tlearn: 0.8582559\ttotal: 613ms\tremaining: 68.1ms\n",
            "45:\tlearn: 0.8588646\ttotal: 631ms\tremaining: 54.9ms\n",
            "46:\tlearn: 0.8594539\ttotal: 645ms\tremaining: 41.1ms\n",
            "47:\tlearn: 0.8597381\ttotal: 657ms\tremaining: 27.4ms\n",
            "48:\tlearn: 0.8610979\ttotal: 670ms\tremaining: 13.7ms\n",
            "49:\tlearn: 0.8608650\ttotal: 683ms\tremaining: 0us\n",
            "0:\tlearn: 0.8237717\ttotal: 14.2ms\tremaining: 694ms\n",
            "1:\tlearn: 0.8255954\ttotal: 27.2ms\tremaining: 652ms\n",
            "2:\tlearn: 0.8278862\ttotal: 40.1ms\tremaining: 629ms\n",
            "3:\tlearn: 0.8297555\ttotal: 53.2ms\tremaining: 612ms\n",
            "4:\tlearn: 0.8316633\ttotal: 66.5ms\tremaining: 598ms\n",
            "5:\tlearn: 0.8336646\ttotal: 79.9ms\tremaining: 586ms\n",
            "6:\tlearn: 0.8335267\ttotal: 96.2ms\tremaining: 591ms\n",
            "7:\tlearn: 0.8336462\ttotal: 109ms\tremaining: 573ms\n",
            "8:\tlearn: 0.8351122\ttotal: 122ms\tremaining: 557ms\n",
            "9:\tlearn: 0.8373707\ttotal: 136ms\tremaining: 544ms\n",
            "10:\tlearn: 0.8385579\ttotal: 149ms\tremaining: 528ms\n",
            "11:\tlearn: 0.8407098\ttotal: 162ms\tremaining: 513ms\n",
            "12:\tlearn: 0.8408092\ttotal: 175ms\tremaining: 497ms\n",
            "13:\tlearn: 0.8408306\ttotal: 188ms\tremaining: 483ms\n",
            "14:\tlearn: 0.8423864\ttotal: 201ms\tremaining: 469ms\n",
            "15:\tlearn: 0.8432112\ttotal: 219ms\tremaining: 466ms\n",
            "16:\tlearn: 0.8441121\ttotal: 233ms\tremaining: 452ms\n",
            "17:\tlearn: 0.8445263\ttotal: 246ms\tremaining: 437ms\n",
            "18:\tlearn: 0.8446873\ttotal: 259ms\tremaining: 422ms\n",
            "19:\tlearn: 0.8462955\ttotal: 272ms\tremaining: 408ms\n",
            "20:\tlearn: 0.8457732\ttotal: 285ms\tremaining: 393ms\n",
            "21:\tlearn: 0.8466782\ttotal: 298ms\tremaining: 379ms\n",
            "22:\tlearn: 0.8467259\ttotal: 311ms\tremaining: 365ms\n",
            "23:\tlearn: 0.8470466\ttotal: 323ms\tremaining: 350ms\n",
            "24:\tlearn: 0.8475838\ttotal: 336ms\tremaining: 336ms\n",
            "25:\tlearn: 0.8490672\ttotal: 349ms\tremaining: 322ms\n",
            "26:\tlearn: 0.8497204\ttotal: 365ms\tremaining: 311ms\n",
            "27:\tlearn: 0.8502773\ttotal: 378ms\tremaining: 297ms\n",
            "28:\tlearn: 0.8508940\ttotal: 391ms\tremaining: 283ms\n",
            "29:\tlearn: 0.8508988\ttotal: 405ms\tremaining: 270ms\n",
            "30:\tlearn: 0.8513443\ttotal: 422ms\tremaining: 259ms\n",
            "31:\tlearn: 0.8524605\ttotal: 435ms\tremaining: 245ms\n",
            "32:\tlearn: 0.8524701\ttotal: 452ms\tremaining: 233ms\n",
            "33:\tlearn: 0.8532454\ttotal: 465ms\tremaining: 219ms\n",
            "34:\tlearn: 0.8533171\ttotal: 478ms\tremaining: 205ms\n",
            "35:\tlearn: 0.8538519\ttotal: 491ms\tremaining: 191ms\n",
            "36:\tlearn: 0.8542057\ttotal: 504ms\tremaining: 177ms\n",
            "37:\tlearn: 0.8542119\ttotal: 518ms\tremaining: 164ms\n",
            "38:\tlearn: 0.8543918\ttotal: 532ms\tremaining: 150ms\n",
            "39:\tlearn: 0.8545915\ttotal: 545ms\tremaining: 136ms\n",
            "40:\tlearn: 0.8558646\ttotal: 557ms\tremaining: 122ms\n",
            "41:\tlearn: 0.8558001\ttotal: 570ms\tremaining: 109ms\n",
            "42:\tlearn: 0.8561419\ttotal: 583ms\tremaining: 94.9ms\n",
            "43:\tlearn: 0.8569491\ttotal: 596ms\tremaining: 81.3ms\n",
            "44:\tlearn: 0.8576852\ttotal: 609ms\tremaining: 67.7ms\n",
            "45:\tlearn: 0.8582848\ttotal: 626ms\tremaining: 54.5ms\n",
            "46:\tlearn: 0.8587632\ttotal: 639ms\tremaining: 40.8ms\n",
            "47:\tlearn: 0.8598232\ttotal: 652ms\tremaining: 27.2ms\n",
            "48:\tlearn: 0.8602243\ttotal: 671ms\tremaining: 13.7ms\n",
            "49:\tlearn: 0.8608259\ttotal: 689ms\tremaining: 0us\n",
            "0:\tlearn: 0.8261099\ttotal: 13.9ms\tremaining: 679ms\n",
            "1:\tlearn: 0.8258282\ttotal: 26.8ms\tremaining: 643ms\n",
            "2:\tlearn: 0.8279729\ttotal: 39.9ms\tremaining: 625ms\n",
            "3:\tlearn: 0.8288831\ttotal: 52.8ms\tremaining: 607ms\n",
            "4:\tlearn: 0.8295717\ttotal: 65.6ms\tremaining: 591ms\n",
            "5:\tlearn: 0.8319778\ttotal: 78.5ms\tremaining: 576ms\n",
            "6:\tlearn: 0.8340445\ttotal: 96.1ms\tremaining: 590ms\n",
            "7:\tlearn: 0.8350340\ttotal: 109ms\tremaining: 571ms\n",
            "8:\tlearn: 0.8349158\ttotal: 122ms\tremaining: 554ms\n",
            "9:\tlearn: 0.8359760\ttotal: 135ms\tremaining: 539ms\n",
            "10:\tlearn: 0.8368747\ttotal: 148ms\tremaining: 525ms\n",
            "11:\tlearn: 0.8376524\ttotal: 161ms\tremaining: 509ms\n",
            "12:\tlearn: 0.8387241\ttotal: 174ms\tremaining: 495ms\n",
            "13:\tlearn: 0.8394159\ttotal: 187ms\tremaining: 480ms\n",
            "14:\tlearn: 0.8410707\ttotal: 200ms\tremaining: 466ms\n",
            "15:\tlearn: 0.8410581\ttotal: 217ms\tremaining: 462ms\n",
            "16:\tlearn: 0.8424599\ttotal: 231ms\tremaining: 447ms\n",
            "17:\tlearn: 0.8434379\ttotal: 244ms\tremaining: 433ms\n",
            "18:\tlearn: 0.8445043\ttotal: 256ms\tremaining: 418ms\n",
            "19:\tlearn: 0.8451413\ttotal: 270ms\tremaining: 404ms\n",
            "20:\tlearn: 0.8456114\ttotal: 282ms\tremaining: 390ms\n",
            "21:\tlearn: 0.8464066\ttotal: 295ms\tremaining: 376ms\n",
            "22:\tlearn: 0.8471065\ttotal: 308ms\tremaining: 362ms\n",
            "23:\tlearn: 0.8487113\ttotal: 321ms\tremaining: 348ms\n",
            "24:\tlearn: 0.8488414\ttotal: 335ms\tremaining: 335ms\n",
            "25:\tlearn: 0.8498590\ttotal: 348ms\tremaining: 321ms\n",
            "26:\tlearn: 0.8503148\ttotal: 360ms\tremaining: 307ms\n",
            "27:\tlearn: 0.8507267\ttotal: 373ms\tremaining: 293ms\n",
            "28:\tlearn: 0.8515017\ttotal: 387ms\tremaining: 281ms\n",
            "29:\tlearn: 0.8518452\ttotal: 401ms\tremaining: 267ms\n",
            "30:\tlearn: 0.8518912\ttotal: 414ms\tremaining: 254ms\n",
            "31:\tlearn: 0.8521354\ttotal: 430ms\tremaining: 242ms\n",
            "32:\tlearn: 0.8529538\ttotal: 449ms\tremaining: 231ms\n",
            "33:\tlearn: 0.8539498\ttotal: 465ms\tremaining: 219ms\n",
            "34:\tlearn: 0.8539448\ttotal: 478ms\tremaining: 205ms\n",
            "35:\tlearn: 0.8549642\ttotal: 491ms\tremaining: 191ms\n",
            "36:\tlearn: 0.8554660\ttotal: 504ms\tremaining: 177ms\n",
            "37:\tlearn: 0.8557885\ttotal: 517ms\tremaining: 163ms\n",
            "38:\tlearn: 0.8560784\ttotal: 530ms\tremaining: 150ms\n",
            "39:\tlearn: 0.8565298\ttotal: 543ms\tremaining: 136ms\n",
            "40:\tlearn: 0.8571235\ttotal: 561ms\tremaining: 123ms\n",
            "41:\tlearn: 0.8577168\ttotal: 579ms\tremaining: 110ms\n",
            "42:\tlearn: 0.8579944\ttotal: 592ms\tremaining: 96.3ms\n",
            "43:\tlearn: 0.8589813\ttotal: 605ms\tremaining: 82.5ms\n",
            "44:\tlearn: 0.8601291\ttotal: 622ms\tremaining: 69.1ms\n",
            "45:\tlearn: 0.8600989\ttotal: 635ms\tremaining: 55.2ms\n",
            "46:\tlearn: 0.8614335\ttotal: 648ms\tremaining: 41.4ms\n",
            "47:\tlearn: 0.8615586\ttotal: 664ms\tremaining: 27.7ms\n",
            "48:\tlearn: 0.8619521\ttotal: 676ms\tremaining: 13.8ms\n",
            "49:\tlearn: 0.8628568\ttotal: 689ms\tremaining: 0us\n",
            "0:\tlearn: 0.8200786\ttotal: 13.9ms\tremaining: 683ms\n",
            "1:\tlearn: 0.8254426\ttotal: 27ms\tremaining: 648ms\n",
            "2:\tlearn: 0.8267921\ttotal: 40.3ms\tremaining: 631ms\n",
            "3:\tlearn: 0.8291718\ttotal: 53.4ms\tremaining: 614ms\n",
            "4:\tlearn: 0.8292956\ttotal: 66.4ms\tremaining: 597ms\n",
            "5:\tlearn: 0.8308679\ttotal: 79.3ms\tremaining: 581ms\n",
            "6:\tlearn: 0.8323296\ttotal: 92.4ms\tremaining: 568ms\n",
            "7:\tlearn: 0.8336207\ttotal: 109ms\tremaining: 574ms\n",
            "8:\tlearn: 0.8345733\ttotal: 122ms\tremaining: 557ms\n",
            "9:\tlearn: 0.8355061\ttotal: 135ms\tremaining: 542ms\n",
            "10:\tlearn: 0.8363612\ttotal: 148ms\tremaining: 526ms\n",
            "11:\tlearn: 0.8373137\ttotal: 161ms\tremaining: 511ms\n",
            "12:\tlearn: 0.8375185\ttotal: 174ms\tremaining: 496ms\n",
            "13:\tlearn: 0.8386287\ttotal: 188ms\tremaining: 482ms\n",
            "14:\tlearn: 0.8403539\ttotal: 201ms\tremaining: 468ms\n",
            "15:\tlearn: 0.8404079\ttotal: 221ms\tremaining: 470ms\n",
            "16:\tlearn: 0.8413077\ttotal: 234ms\tremaining: 455ms\n",
            "17:\tlearn: 0.8429477\ttotal: 248ms\tremaining: 440ms\n",
            "18:\tlearn: 0.8433009\ttotal: 262ms\tremaining: 428ms\n",
            "19:\tlearn: 0.8441003\ttotal: 275ms\tremaining: 413ms\n",
            "20:\tlearn: 0.8452378\ttotal: 288ms\tremaining: 398ms\n",
            "21:\tlearn: 0.8448940\ttotal: 301ms\tremaining: 384ms\n",
            "22:\tlearn: 0.8462733\ttotal: 314ms\tremaining: 369ms\n",
            "23:\tlearn: 0.8474508\ttotal: 328ms\tremaining: 355ms\n",
            "24:\tlearn: 0.8478843\ttotal: 341ms\tremaining: 341ms\n",
            "25:\tlearn: 0.8491361\ttotal: 354ms\tremaining: 327ms\n",
            "26:\tlearn: 0.8494522\ttotal: 367ms\tremaining: 313ms\n",
            "27:\tlearn: 0.8501659\ttotal: 380ms\tremaining: 299ms\n",
            "28:\tlearn: 0.8503308\ttotal: 393ms\tremaining: 285ms\n",
            "29:\tlearn: 0.8514999\ttotal: 407ms\tremaining: 271ms\n",
            "30:\tlearn: 0.8520699\ttotal: 425ms\tremaining: 260ms\n",
            "31:\tlearn: 0.8519949\ttotal: 445ms\tremaining: 250ms\n",
            "32:\tlearn: 0.8528522\ttotal: 459ms\tremaining: 236ms\n",
            "33:\tlearn: 0.8528747\ttotal: 476ms\tremaining: 224ms\n",
            "34:\tlearn: 0.8534701\ttotal: 489ms\tremaining: 209ms\n",
            "35:\tlearn: 0.8540458\ttotal: 502ms\tremaining: 195ms\n",
            "36:\tlearn: 0.8544641\ttotal: 515ms\tremaining: 181ms\n",
            "37:\tlearn: 0.8545672\ttotal: 528ms\tremaining: 167ms\n",
            "38:\tlearn: 0.8549732\ttotal: 543ms\tremaining: 153ms\n",
            "39:\tlearn: 0.8556321\ttotal: 556ms\tremaining: 139ms\n",
            "40:\tlearn: 0.8563357\ttotal: 569ms\tremaining: 125ms\n",
            "41:\tlearn: 0.8564651\ttotal: 582ms\tremaining: 111ms\n",
            "42:\tlearn: 0.8563095\ttotal: 595ms\tremaining: 96.9ms\n",
            "43:\tlearn: 0.8570524\ttotal: 608ms\tremaining: 83ms\n",
            "44:\tlearn: 0.8574466\ttotal: 627ms\tremaining: 69.6ms\n",
            "45:\tlearn: 0.8580025\ttotal: 640ms\tremaining: 55.6ms\n",
            "46:\tlearn: 0.8577380\ttotal: 653ms\tremaining: 41.7ms\n",
            "47:\tlearn: 0.8586760\ttotal: 666ms\tremaining: 27.7ms\n",
            "48:\tlearn: 0.8597687\ttotal: 679ms\tremaining: 13.9ms\n",
            "49:\tlearn: 0.8596205\ttotal: 692ms\tremaining: 0us\n",
            "0:\tlearn: 0.8179091\ttotal: 13.8ms\tremaining: 674ms\n",
            "1:\tlearn: 0.8256865\ttotal: 29ms\tremaining: 696ms\n",
            "2:\tlearn: 0.8266595\ttotal: 42.2ms\tremaining: 661ms\n",
            "3:\tlearn: 0.8284071\ttotal: 55.2ms\tremaining: 635ms\n",
            "4:\tlearn: 0.8299292\ttotal: 68ms\tremaining: 612ms\n",
            "5:\tlearn: 0.8309043\ttotal: 81ms\tremaining: 594ms\n",
            "6:\tlearn: 0.8319339\ttotal: 94.1ms\tremaining: 578ms\n",
            "7:\tlearn: 0.8327860\ttotal: 107ms\tremaining: 561ms\n",
            "8:\tlearn: 0.8335722\ttotal: 123ms\tremaining: 558ms\n",
            "9:\tlearn: 0.8342744\ttotal: 137ms\tremaining: 549ms\n",
            "10:\tlearn: 0.8356452\ttotal: 150ms\tremaining: 534ms\n",
            "11:\tlearn: 0.8361886\ttotal: 163ms\tremaining: 517ms\n",
            "12:\tlearn: 0.8380081\ttotal: 176ms\tremaining: 502ms\n",
            "13:\tlearn: 0.8378475\ttotal: 190ms\tremaining: 487ms\n",
            "14:\tlearn: 0.8392777\ttotal: 203ms\tremaining: 473ms\n",
            "15:\tlearn: 0.8404966\ttotal: 222ms\tremaining: 471ms\n",
            "16:\tlearn: 0.8415242\ttotal: 235ms\tremaining: 456ms\n",
            "17:\tlearn: 0.8417362\ttotal: 248ms\tremaining: 440ms\n",
            "18:\tlearn: 0.8423111\ttotal: 261ms\tremaining: 425ms\n",
            "19:\tlearn: 0.8431157\ttotal: 274ms\tremaining: 411ms\n",
            "20:\tlearn: 0.8433778\ttotal: 287ms\tremaining: 396ms\n",
            "21:\tlearn: 0.8440962\ttotal: 300ms\tremaining: 381ms\n",
            "22:\tlearn: 0.8452480\ttotal: 313ms\tremaining: 367ms\n",
            "23:\tlearn: 0.8460845\ttotal: 335ms\tremaining: 362ms\n",
            "24:\tlearn: 0.8470663\ttotal: 348ms\tremaining: 348ms\n",
            "25:\tlearn: 0.8478025\ttotal: 361ms\tremaining: 333ms\n",
            "26:\tlearn: 0.8490753\ttotal: 374ms\tremaining: 319ms\n",
            "27:\tlearn: 0.8497542\ttotal: 387ms\tremaining: 304ms\n",
            "28:\tlearn: 0.8501736\ttotal: 403ms\tremaining: 292ms\n",
            "29:\tlearn: 0.8508287\ttotal: 416ms\tremaining: 277ms\n",
            "30:\tlearn: 0.8521225\ttotal: 433ms\tremaining: 265ms\n",
            "31:\tlearn: 0.8517081\ttotal: 446ms\tremaining: 251ms\n",
            "32:\tlearn: 0.8525760\ttotal: 459ms\tremaining: 237ms\n",
            "33:\tlearn: 0.8536739\ttotal: 472ms\tremaining: 222ms\n",
            "34:\tlearn: 0.8540214\ttotal: 485ms\tremaining: 208ms\n",
            "35:\tlearn: 0.8540919\ttotal: 498ms\tremaining: 194ms\n",
            "36:\tlearn: 0.8542931\ttotal: 511ms\tremaining: 180ms\n",
            "37:\tlearn: 0.8546160\ttotal: 524ms\tremaining: 165ms\n",
            "38:\tlearn: 0.8544597\ttotal: 537ms\tremaining: 152ms\n",
            "39:\tlearn: 0.8553317\ttotal: 550ms\tremaining: 138ms\n",
            "40:\tlearn: 0.8556855\ttotal: 563ms\tremaining: 124ms\n",
            "41:\tlearn: 0.8568590\ttotal: 577ms\tremaining: 110ms\n",
            "42:\tlearn: 0.8567945\ttotal: 597ms\tremaining: 97.1ms\n",
            "43:\tlearn: 0.8571106\ttotal: 610ms\tremaining: 83.1ms\n",
            "44:\tlearn: 0.8578593\ttotal: 623ms\tremaining: 69.2ms\n",
            "45:\tlearn: 0.8584597\ttotal: 641ms\tremaining: 55.7ms\n",
            "46:\tlearn: 0.8592539\ttotal: 654ms\tremaining: 41.8ms\n",
            "47:\tlearn: 0.8599318\ttotal: 668ms\tremaining: 27.8ms\n",
            "48:\tlearn: 0.8598625\ttotal: 681ms\tremaining: 13.9ms\n",
            "49:\tlearn: 0.8600755\ttotal: 694ms\tremaining: 0us\n",
            "0:\tlearn: 0.8149140\ttotal: 6.61ms\tremaining: 324ms\n",
            "1:\tlearn: 0.8223910\ttotal: 12.4ms\tremaining: 298ms\n",
            "2:\tlearn: 0.8182328\ttotal: 18.1ms\tremaining: 284ms\n",
            "3:\tlearn: 0.8195185\ttotal: 23.8ms\tremaining: 274ms\n",
            "4:\tlearn: 0.8193527\ttotal: 29.5ms\tremaining: 266ms\n",
            "5:\tlearn: 0.8202765\ttotal: 35.3ms\tremaining: 259ms\n",
            "6:\tlearn: 0.8229793\ttotal: 41.2ms\tremaining: 253ms\n",
            "7:\tlearn: 0.8248278\ttotal: 50.7ms\tremaining: 266ms\n",
            "8:\tlearn: 0.8253410\ttotal: 56.4ms\tremaining: 257ms\n",
            "9:\tlearn: 0.8262698\ttotal: 62ms\tremaining: 248ms\n",
            "10:\tlearn: 0.8275954\ttotal: 67.8ms\tremaining: 240ms\n",
            "11:\tlearn: 0.8287868\ttotal: 73.5ms\tremaining: 233ms\n",
            "12:\tlearn: 0.8286808\ttotal: 79.2ms\tremaining: 225ms\n",
            "13:\tlearn: 0.8287115\ttotal: 84.9ms\tremaining: 218ms\n",
            "14:\tlearn: 0.8289898\ttotal: 90.7ms\tremaining: 212ms\n",
            "15:\tlearn: 0.8298690\ttotal: 96.4ms\tremaining: 205ms\n",
            "16:\tlearn: 0.8305312\ttotal: 102ms\tremaining: 198ms\n",
            "17:\tlearn: 0.8317293\ttotal: 108ms\tremaining: 192ms\n",
            "18:\tlearn: 0.8307878\ttotal: 114ms\tremaining: 185ms\n",
            "19:\tlearn: 0.8317807\ttotal: 119ms\tremaining: 179ms\n",
            "20:\tlearn: 0.8315705\ttotal: 125ms\tremaining: 173ms\n",
            "21:\tlearn: 0.8321627\ttotal: 131ms\tremaining: 167ms\n",
            "22:\tlearn: 0.8318095\ttotal: 137ms\tremaining: 161ms\n",
            "23:\tlearn: 0.8310935\ttotal: 143ms\tremaining: 155ms\n",
            "24:\tlearn: 0.8317375\ttotal: 149ms\tremaining: 149ms\n",
            "25:\tlearn: 0.8314430\ttotal: 155ms\tremaining: 143ms\n",
            "26:\tlearn: 0.8315778\ttotal: 161ms\tremaining: 137ms\n",
            "27:\tlearn: 0.8320898\ttotal: 167ms\tremaining: 131ms\n",
            "28:\tlearn: 0.8323399\ttotal: 172ms\tremaining: 125ms\n",
            "29:\tlearn: 0.8326938\ttotal: 178ms\tremaining: 119ms\n",
            "30:\tlearn: 0.8328027\ttotal: 184ms\tremaining: 112ms\n",
            "31:\tlearn: 0.8329829\ttotal: 189ms\tremaining: 106ms\n",
            "32:\tlearn: 0.8333333\ttotal: 213ms\tremaining: 110ms\n",
            "33:\tlearn: 0.8333107\ttotal: 218ms\tremaining: 103ms\n",
            "34:\tlearn: 0.8330922\ttotal: 224ms\tremaining: 96.1ms\n",
            "35:\tlearn: 0.8336085\ttotal: 230ms\tremaining: 89.5ms\n",
            "36:\tlearn: 0.8343511\ttotal: 236ms\tremaining: 82.9ms\n",
            "37:\tlearn: 0.8341397\ttotal: 242ms\tremaining: 76.3ms\n",
            "38:\tlearn: 0.8343583\ttotal: 247ms\tremaining: 69.8ms\n",
            "39:\tlearn: 0.8347685\ttotal: 257ms\tremaining: 64.2ms\n",
            "40:\tlearn: 0.8346368\ttotal: 265ms\tremaining: 58.2ms\n",
            "41:\tlearn: 0.8346709\ttotal: 271ms\tremaining: 51.6ms\n",
            "42:\tlearn: 0.8347653\ttotal: 276ms\tremaining: 45ms\n",
            "43:\tlearn: 0.8357399\ttotal: 282ms\tremaining: 38.5ms\n",
            "44:\tlearn: 0.8351325\ttotal: 288ms\tremaining: 32ms\n",
            "45:\tlearn: 0.8351176\ttotal: 294ms\tremaining: 25.5ms\n",
            "46:\tlearn: 0.8357317\ttotal: 300ms\tremaining: 19.1ms\n",
            "47:\tlearn: 0.8363381\ttotal: 305ms\tremaining: 12.7ms\n",
            "48:\tlearn: 0.8364943\ttotal: 311ms\tremaining: 6.35ms\n",
            "49:\tlearn: 0.8366276\ttotal: 317ms\tremaining: 0us\n",
            "0:\tlearn: 0.8115735\ttotal: 6.59ms\tremaining: 323ms\n",
            "1:\tlearn: 0.8202072\ttotal: 12.3ms\tremaining: 295ms\n",
            "2:\tlearn: 0.8144023\ttotal: 17.9ms\tremaining: 281ms\n",
            "3:\tlearn: 0.8201013\ttotal: 23.6ms\tremaining: 271ms\n",
            "4:\tlearn: 0.8228271\ttotal: 29.2ms\tremaining: 263ms\n",
            "5:\tlearn: 0.8244606\ttotal: 34.9ms\tremaining: 256ms\n",
            "6:\tlearn: 0.8232231\ttotal: 40.7ms\tremaining: 250ms\n",
            "7:\tlearn: 0.8249748\ttotal: 46.3ms\tremaining: 243ms\n",
            "8:\tlearn: 0.8265523\ttotal: 52ms\tremaining: 237ms\n",
            "9:\tlearn: 0.8270189\ttotal: 57.7ms\tremaining: 231ms\n",
            "10:\tlearn: 0.8265286\ttotal: 63.3ms\tremaining: 225ms\n",
            "11:\tlearn: 0.8272564\ttotal: 69ms\tremaining: 219ms\n",
            "12:\tlearn: 0.8274453\ttotal: 74.7ms\tremaining: 213ms\n",
            "13:\tlearn: 0.8286551\ttotal: 80.5ms\tremaining: 207ms\n",
            "14:\tlearn: 0.8283303\ttotal: 86.3ms\tremaining: 201ms\n",
            "15:\tlearn: 0.8278030\ttotal: 91.9ms\tremaining: 195ms\n",
            "16:\tlearn: 0.8286182\ttotal: 97.5ms\tremaining: 189ms\n",
            "17:\tlearn: 0.8284502\ttotal: 103ms\tremaining: 183ms\n",
            "18:\tlearn: 0.8290262\ttotal: 109ms\tremaining: 178ms\n",
            "19:\tlearn: 0.8297767\ttotal: 115ms\tremaining: 172ms\n",
            "20:\tlearn: 0.8296959\ttotal: 120ms\tremaining: 166ms\n",
            "21:\tlearn: 0.8306675\ttotal: 126ms\tremaining: 160ms\n",
            "22:\tlearn: 0.8306827\ttotal: 132ms\tremaining: 155ms\n",
            "23:\tlearn: 0.8316467\ttotal: 137ms\tremaining: 149ms\n",
            "24:\tlearn: 0.8309501\ttotal: 143ms\tremaining: 143ms\n",
            "25:\tlearn: 0.8307651\ttotal: 149ms\tremaining: 137ms\n",
            "26:\tlearn: 0.8309342\ttotal: 155ms\tremaining: 132ms\n",
            "27:\tlearn: 0.8309399\ttotal: 160ms\tremaining: 126ms\n",
            "28:\tlearn: 0.8304033\ttotal: 166ms\tremaining: 120ms\n",
            "29:\tlearn: 0.8308581\ttotal: 172ms\tremaining: 115ms\n",
            "30:\tlearn: 0.8315255\ttotal: 177ms\tremaining: 109ms\n",
            "31:\tlearn: 0.8322584\ttotal: 187ms\tremaining: 105ms\n",
            "32:\tlearn: 0.8329875\ttotal: 193ms\tremaining: 99.3ms\n",
            "33:\tlearn: 0.8330586\ttotal: 209ms\tremaining: 98.3ms\n",
            "34:\tlearn: 0.8330284\ttotal: 215ms\tremaining: 92ms\n",
            "35:\tlearn: 0.8335554\ttotal: 220ms\tremaining: 85.7ms\n",
            "36:\tlearn: 0.8339882\ttotal: 227ms\tremaining: 79.9ms\n",
            "37:\tlearn: 0.8339807\ttotal: 233ms\tremaining: 73.7ms\n",
            "38:\tlearn: 0.8348502\ttotal: 239ms\tremaining: 67.4ms\n",
            "39:\tlearn: 0.8334615\ttotal: 247ms\tremaining: 61.7ms\n",
            "40:\tlearn: 0.8342418\ttotal: 253ms\tremaining: 55.4ms\n",
            "41:\tlearn: 0.8344416\ttotal: 258ms\tremaining: 49.2ms\n",
            "42:\tlearn: 0.8339781\ttotal: 264ms\tremaining: 43ms\n",
            "43:\tlearn: 0.8347448\ttotal: 270ms\tremaining: 36.8ms\n",
            "44:\tlearn: 0.8349374\ttotal: 275ms\tremaining: 30.6ms\n",
            "45:\tlearn: 0.8347984\ttotal: 281ms\tremaining: 24.4ms\n",
            "46:\tlearn: 0.8345190\ttotal: 287ms\tremaining: 18.3ms\n",
            "47:\tlearn: 0.8344248\ttotal: 293ms\tremaining: 12.2ms\n",
            "48:\tlearn: 0.8347231\ttotal: 298ms\tremaining: 6.09ms\n",
            "49:\tlearn: 0.8346103\ttotal: 304ms\tremaining: 0us\n",
            "0:\tlearn: 0.8112571\ttotal: 6.54ms\tremaining: 321ms\n",
            "1:\tlearn: 0.8204157\ttotal: 12.2ms\tremaining: 294ms\n",
            "2:\tlearn: 0.8124089\ttotal: 18.1ms\tremaining: 283ms\n",
            "3:\tlearn: 0.8199222\ttotal: 23.8ms\tremaining: 273ms\n",
            "4:\tlearn: 0.8201042\ttotal: 29.5ms\tremaining: 266ms\n",
            "5:\tlearn: 0.8215917\ttotal: 35.4ms\tremaining: 260ms\n",
            "6:\tlearn: 0.8237105\ttotal: 41.1ms\tremaining: 253ms\n",
            "7:\tlearn: 0.8238448\ttotal: 47ms\tremaining: 247ms\n",
            "8:\tlearn: 0.8252191\ttotal: 52.7ms\tremaining: 240ms\n",
            "9:\tlearn: 0.8267625\ttotal: 58.4ms\tremaining: 234ms\n",
            "10:\tlearn: 0.8270667\ttotal: 64.1ms\tremaining: 227ms\n",
            "11:\tlearn: 0.8274273\ttotal: 69.8ms\tremaining: 221ms\n",
            "12:\tlearn: 0.8282652\ttotal: 75.5ms\tremaining: 215ms\n",
            "13:\tlearn: 0.8283772\ttotal: 81.2ms\tremaining: 209ms\n",
            "14:\tlearn: 0.8295726\ttotal: 86.9ms\tremaining: 203ms\n",
            "15:\tlearn: 0.8300461\ttotal: 92.6ms\tremaining: 197ms\n",
            "16:\tlearn: 0.8299158\ttotal: 98.3ms\tremaining: 191ms\n",
            "17:\tlearn: 0.8298497\ttotal: 104ms\tremaining: 185ms\n",
            "18:\tlearn: 0.8302233\ttotal: 110ms\tremaining: 179ms\n",
            "19:\tlearn: 0.8305225\ttotal: 115ms\tremaining: 173ms\n",
            "20:\tlearn: 0.8308237\ttotal: 121ms\tremaining: 167ms\n",
            "21:\tlearn: 0.8311292\ttotal: 127ms\tremaining: 161ms\n",
            "22:\tlearn: 0.8312352\ttotal: 133ms\tremaining: 156ms\n",
            "23:\tlearn: 0.8310972\ttotal: 138ms\tremaining: 150ms\n",
            "24:\tlearn: 0.8310236\ttotal: 144ms\tremaining: 144ms\n",
            "25:\tlearn: 0.8311046\ttotal: 150ms\tremaining: 138ms\n",
            "26:\tlearn: 0.8312115\ttotal: 155ms\tremaining: 132ms\n",
            "27:\tlearn: 0.8316609\ttotal: 161ms\tremaining: 127ms\n",
            "28:\tlearn: 0.8318891\ttotal: 167ms\tremaining: 121ms\n",
            "29:\tlearn: 0.8317050\ttotal: 173ms\tremaining: 115ms\n",
            "30:\tlearn: 0.8315310\ttotal: 178ms\tremaining: 109ms\n",
            "31:\tlearn: 0.8320852\ttotal: 184ms\tremaining: 103ms\n",
            "32:\tlearn: 0.8318708\ttotal: 190ms\tremaining: 97.7ms\n",
            "33:\tlearn: 0.8321372\ttotal: 195ms\tremaining: 91.9ms\n",
            "34:\tlearn: 0.8324456\ttotal: 207ms\tremaining: 88.8ms\n",
            "35:\tlearn: 0.8325735\ttotal: 213ms\tremaining: 82.8ms\n",
            "36:\tlearn: 0.8324488\ttotal: 219ms\tremaining: 76.8ms\n",
            "37:\tlearn: 0.8329378\ttotal: 227ms\tremaining: 71.5ms\n",
            "38:\tlearn: 0.8328773\ttotal: 234ms\tremaining: 66ms\n",
            "39:\tlearn: 0.8324731\ttotal: 240ms\tremaining: 60ms\n",
            "40:\tlearn: 0.8329788\ttotal: 246ms\tremaining: 53.9ms\n",
            "41:\tlearn: 0.8327033\ttotal: 251ms\tremaining: 47.9ms\n",
            "42:\tlearn: 0.8325075\ttotal: 257ms\tremaining: 41.9ms\n",
            "43:\tlearn: 0.8335673\ttotal: 263ms\tremaining: 35.9ms\n",
            "44:\tlearn: 0.8336995\ttotal: 269ms\tremaining: 29.9ms\n",
            "45:\tlearn: 0.8340389\ttotal: 274ms\tremaining: 23.9ms\n",
            "46:\tlearn: 0.8347637\ttotal: 280ms\tremaining: 17.9ms\n",
            "47:\tlearn: 0.8351897\ttotal: 286ms\tremaining: 11.9ms\n",
            "48:\tlearn: 0.8349449\ttotal: 291ms\tremaining: 5.95ms\n",
            "49:\tlearn: 0.8352957\ttotal: 297ms\tremaining: 0us\n",
            "0:\tlearn: 0.8022259\ttotal: 6.61ms\tremaining: 324ms\n",
            "1:\tlearn: 0.8131809\ttotal: 12.4ms\tremaining: 297ms\n",
            "2:\tlearn: 0.8129306\ttotal: 18.1ms\tremaining: 283ms\n",
            "3:\tlearn: 0.8204134\ttotal: 23.8ms\tremaining: 274ms\n",
            "4:\tlearn: 0.8226909\ttotal: 31.9ms\tremaining: 287ms\n",
            "5:\tlearn: 0.8231211\ttotal: 37.3ms\tremaining: 274ms\n",
            "6:\tlearn: 0.8249257\ttotal: 43.1ms\tremaining: 265ms\n",
            "7:\tlearn: 0.8234979\ttotal: 48.6ms\tremaining: 255ms\n",
            "8:\tlearn: 0.8258313\ttotal: 54.1ms\tremaining: 246ms\n",
            "9:\tlearn: 0.8265295\ttotal: 59.5ms\tremaining: 238ms\n",
            "10:\tlearn: 0.8267061\ttotal: 65.3ms\tremaining: 231ms\n",
            "11:\tlearn: 0.8272083\ttotal: 71.7ms\tremaining: 227ms\n",
            "12:\tlearn: 0.8272957\ttotal: 77.4ms\tremaining: 220ms\n",
            "13:\tlearn: 0.8280343\ttotal: 83.1ms\tremaining: 214ms\n",
            "14:\tlearn: 0.8277611\ttotal: 88.8ms\tremaining: 207ms\n",
            "15:\tlearn: 0.8285913\ttotal: 94.4ms\tremaining: 201ms\n",
            "16:\tlearn: 0.8286240\ttotal: 100ms\tremaining: 194ms\n",
            "17:\tlearn: 0.8288838\ttotal: 106ms\tremaining: 188ms\n",
            "18:\tlearn: 0.8287807\ttotal: 111ms\tremaining: 182ms\n",
            "19:\tlearn: 0.8286813\ttotal: 117ms\tremaining: 175ms\n",
            "20:\tlearn: 0.8291628\ttotal: 123ms\tremaining: 169ms\n",
            "21:\tlearn: 0.8299989\ttotal: 128ms\tremaining: 163ms\n",
            "22:\tlearn: 0.8301700\ttotal: 134ms\tremaining: 157ms\n",
            "23:\tlearn: 0.8303212\ttotal: 140ms\tremaining: 151ms\n",
            "24:\tlearn: 0.8314435\ttotal: 145ms\tremaining: 145ms\n",
            "25:\tlearn: 0.8311782\ttotal: 151ms\tremaining: 139ms\n",
            "26:\tlearn: 0.8316105\ttotal: 157ms\tremaining: 133ms\n",
            "27:\tlearn: 0.8313614\ttotal: 162ms\tremaining: 128ms\n",
            "28:\tlearn: 0.8315159\ttotal: 168ms\tremaining: 122ms\n",
            "29:\tlearn: 0.8315787\ttotal: 174ms\tremaining: 116ms\n",
            "30:\tlearn: 0.8321122\ttotal: 179ms\tremaining: 110ms\n",
            "31:\tlearn: 0.8325367\ttotal: 185ms\tremaining: 104ms\n",
            "32:\tlearn: 0.8323629\ttotal: 190ms\tremaining: 98.1ms\n",
            "33:\tlearn: 0.8318816\ttotal: 196ms\tremaining: 92.3ms\n",
            "34:\tlearn: 0.8317928\ttotal: 208ms\tremaining: 89.2ms\n",
            "35:\tlearn: 0.8323765\ttotal: 214ms\tremaining: 83.2ms\n",
            "36:\tlearn: 0.8325194\ttotal: 220ms\tremaining: 77.2ms\n",
            "37:\tlearn: 0.8328057\ttotal: 225ms\tremaining: 71.1ms\n",
            "38:\tlearn: 0.8324926\ttotal: 231ms\tremaining: 65.1ms\n",
            "39:\tlearn: 0.8329865\ttotal: 237ms\tremaining: 59.2ms\n",
            "40:\tlearn: 0.8336122\ttotal: 242ms\tremaining: 53.2ms\n",
            "41:\tlearn: 0.8334578\ttotal: 252ms\tremaining: 48ms\n",
            "42:\tlearn: 0.8335635\ttotal: 258ms\tremaining: 41.9ms\n",
            "43:\tlearn: 0.8344419\ttotal: 263ms\tremaining: 35.9ms\n",
            "44:\tlearn: 0.8347362\ttotal: 269ms\tremaining: 29.9ms\n",
            "45:\tlearn: 0.8353439\ttotal: 275ms\tremaining: 23.9ms\n",
            "46:\tlearn: 0.8351713\ttotal: 280ms\tremaining: 17.9ms\n",
            "47:\tlearn: 0.8351006\ttotal: 286ms\tremaining: 11.9ms\n",
            "48:\tlearn: 0.8351753\ttotal: 292ms\tremaining: 5.95ms\n",
            "49:\tlearn: 0.8353490\ttotal: 297ms\tremaining: 0us\n",
            "0:\tlearn: 0.8078383\ttotal: 6.62ms\tremaining: 324ms\n",
            "1:\tlearn: 0.8124069\ttotal: 13.7ms\tremaining: 329ms\n",
            "2:\tlearn: 0.8126607\ttotal: 19.4ms\tremaining: 304ms\n",
            "3:\tlearn: 0.8214950\ttotal: 25.1ms\tremaining: 289ms\n",
            "4:\tlearn: 0.8218580\ttotal: 30.8ms\tremaining: 277ms\n",
            "5:\tlearn: 0.8224596\ttotal: 36.5ms\tremaining: 267ms\n",
            "6:\tlearn: 0.8243261\ttotal: 42.2ms\tremaining: 259ms\n",
            "7:\tlearn: 0.8246033\ttotal: 47.8ms\tremaining: 251ms\n",
            "8:\tlearn: 0.8244690\ttotal: 53.5ms\tremaining: 244ms\n",
            "9:\tlearn: 0.8251530\ttotal: 59.1ms\tremaining: 236ms\n",
            "10:\tlearn: 0.8263393\ttotal: 68.8ms\tremaining: 244ms\n",
            "11:\tlearn: 0.8272163\ttotal: 74.5ms\tremaining: 236ms\n",
            "12:\tlearn: 0.8273327\ttotal: 80.3ms\tremaining: 229ms\n",
            "13:\tlearn: 0.8285536\ttotal: 86ms\tremaining: 221ms\n",
            "14:\tlearn: 0.8285229\ttotal: 91.6ms\tremaining: 214ms\n",
            "15:\tlearn: 0.8289712\ttotal: 97.2ms\tremaining: 207ms\n",
            "16:\tlearn: 0.8293349\ttotal: 103ms\tremaining: 200ms\n",
            "17:\tlearn: 0.8297763\ttotal: 109ms\tremaining: 193ms\n",
            "18:\tlearn: 0.8300052\ttotal: 114ms\tremaining: 186ms\n",
            "19:\tlearn: 0.8304526\ttotal: 120ms\tremaining: 180ms\n",
            "20:\tlearn: 0.8306035\ttotal: 125ms\tremaining: 173ms\n",
            "21:\tlearn: 0.8304480\ttotal: 131ms\tremaining: 167ms\n",
            "22:\tlearn: 0.8303949\ttotal: 137ms\tremaining: 161ms\n",
            "23:\tlearn: 0.8307485\ttotal: 142ms\tremaining: 154ms\n",
            "24:\tlearn: 0.8312598\ttotal: 148ms\tremaining: 148ms\n",
            "25:\tlearn: 0.8312365\ttotal: 154ms\tremaining: 142ms\n",
            "26:\tlearn: 0.8312587\ttotal: 159ms\tremaining: 136ms\n",
            "27:\tlearn: 0.8310176\ttotal: 165ms\tremaining: 130ms\n",
            "28:\tlearn: 0.8310958\ttotal: 171ms\tremaining: 124ms\n",
            "29:\tlearn: 0.8312203\ttotal: 177ms\tremaining: 118ms\n",
            "30:\tlearn: 0.8317826\ttotal: 183ms\tremaining: 112ms\n",
            "31:\tlearn: 0.8317949\ttotal: 188ms\tremaining: 106ms\n",
            "32:\tlearn: 0.8319758\ttotal: 194ms\tremaining: 100ms\n",
            "33:\tlearn: 0.8325061\ttotal: 209ms\tremaining: 98.2ms\n",
            "34:\tlearn: 0.8326601\ttotal: 214ms\tremaining: 91.9ms\n",
            "35:\tlearn: 0.8326525\ttotal: 220ms\tremaining: 85.6ms\n",
            "36:\tlearn: 0.8322920\ttotal: 226ms\tremaining: 79.3ms\n",
            "37:\tlearn: 0.8319715\ttotal: 231ms\tremaining: 73.1ms\n",
            "38:\tlearn: 0.8315642\ttotal: 246ms\tremaining: 69.5ms\n",
            "39:\tlearn: 0.8319216\ttotal: 253ms\tremaining: 63.2ms\n",
            "40:\tlearn: 0.8326143\ttotal: 259ms\tremaining: 56.8ms\n",
            "41:\tlearn: 0.8329532\ttotal: 264ms\tremaining: 50.3ms\n",
            "42:\tlearn: 0.8330887\ttotal: 270ms\tremaining: 44ms\n",
            "43:\tlearn: 0.8332806\ttotal: 278ms\tremaining: 38ms\n",
            "44:\tlearn: 0.8332392\ttotal: 284ms\tremaining: 31.6ms\n",
            "45:\tlearn: 0.8337364\ttotal: 290ms\tremaining: 25.2ms\n",
            "46:\tlearn: 0.8338913\ttotal: 296ms\tremaining: 18.9ms\n",
            "47:\tlearn: 0.8342643\ttotal: 302ms\tremaining: 12.6ms\n",
            "48:\tlearn: 0.8345897\ttotal: 307ms\tremaining: 6.27ms\n",
            "49:\tlearn: 0.8347452\ttotal: 313ms\tremaining: 0us\n",
            "0:\tlearn: 0.8067198\ttotal: 10.6ms\tremaining: 519ms\n",
            "1:\tlearn: 0.8104735\ttotal: 15.8ms\tremaining: 380ms\n",
            "2:\tlearn: 0.8109617\ttotal: 21.1ms\tremaining: 331ms\n",
            "3:\tlearn: 0.8046164\ttotal: 26.1ms\tremaining: 300ms\n",
            "4:\tlearn: 0.8074428\ttotal: 31.1ms\tremaining: 280ms\n",
            "5:\tlearn: 0.8126859\ttotal: 36.1ms\tremaining: 265ms\n",
            "6:\tlearn: 0.8117678\ttotal: 41.1ms\tremaining: 253ms\n",
            "7:\tlearn: 0.8113804\ttotal: 46.2ms\tremaining: 243ms\n",
            "8:\tlearn: 0.8130615\ttotal: 51.3ms\tremaining: 234ms\n",
            "9:\tlearn: 0.8127578\ttotal: 56.2ms\tremaining: 225ms\n",
            "10:\tlearn: 0.8070798\ttotal: 61.2ms\tremaining: 217ms\n",
            "11:\tlearn: 0.8127384\ttotal: 66.1ms\tremaining: 209ms\n",
            "12:\tlearn: 0.8164789\ttotal: 71.1ms\tremaining: 202ms\n",
            "13:\tlearn: 0.8138586\ttotal: 76.1ms\tremaining: 196ms\n",
            "14:\tlearn: 0.8158814\ttotal: 81.2ms\tremaining: 190ms\n",
            "15:\tlearn: 0.8162040\ttotal: 86.7ms\tremaining: 184ms\n",
            "16:\tlearn: 0.8162285\ttotal: 91.6ms\tremaining: 178ms\n",
            "17:\tlearn: 0.8158533\ttotal: 96.5ms\tremaining: 171ms\n",
            "18:\tlearn: 0.8159971\ttotal: 101ms\tremaining: 165ms\n",
            "19:\tlearn: 0.8158402\ttotal: 106ms\tremaining: 159ms\n",
            "20:\tlearn: 0.8177800\ttotal: 111ms\tremaining: 153ms\n",
            "21:\tlearn: 0.8175111\ttotal: 116ms\tremaining: 147ms\n",
            "22:\tlearn: 0.8174596\ttotal: 121ms\tremaining: 142ms\n",
            "23:\tlearn: 0.8179853\ttotal: 125ms\tremaining: 136ms\n",
            "24:\tlearn: 0.8177133\ttotal: 130ms\tremaining: 130ms\n",
            "25:\tlearn: 0.8183964\ttotal: 135ms\tremaining: 125ms\n",
            "26:\tlearn: 0.8191224\ttotal: 140ms\tremaining: 119ms\n",
            "27:\tlearn: 0.8196349\ttotal: 145ms\tremaining: 114ms\n",
            "28:\tlearn: 0.8194222\ttotal: 150ms\tremaining: 109ms\n",
            "29:\tlearn: 0.8201541\ttotal: 155ms\tremaining: 103ms\n",
            "30:\tlearn: 0.8196064\ttotal: 160ms\tremaining: 98ms\n",
            "31:\tlearn: 0.8202605\ttotal: 165ms\tremaining: 92.8ms\n",
            "32:\tlearn: 0.8212444\ttotal: 170ms\tremaining: 87.4ms\n",
            "33:\tlearn: 0.8214143\ttotal: 174ms\tremaining: 82ms\n",
            "34:\tlearn: 0.8214820\ttotal: 179ms\tremaining: 76.7ms\n",
            "35:\tlearn: 0.8222995\ttotal: 184ms\tremaining: 71.6ms\n",
            "36:\tlearn: 0.8221642\ttotal: 189ms\tremaining: 66.3ms\n",
            "37:\tlearn: 0.8225817\ttotal: 194ms\tremaining: 61.2ms\n",
            "38:\tlearn: 0.8224032\ttotal: 198ms\tremaining: 56ms\n",
            "39:\tlearn: 0.8230098\ttotal: 212ms\tremaining: 53ms\n",
            "40:\tlearn: 0.8231069\ttotal: 217ms\tremaining: 47.6ms\n",
            "41:\tlearn: 0.8231856\ttotal: 222ms\tremaining: 42.2ms\n",
            "42:\tlearn: 0.8236238\ttotal: 227ms\tremaining: 36.9ms\n",
            "43:\tlearn: 0.8236160\ttotal: 231ms\tremaining: 31.6ms\n",
            "44:\tlearn: 0.8241273\ttotal: 236ms\tremaining: 26.3ms\n",
            "45:\tlearn: 0.8242065\ttotal: 241ms\tremaining: 21ms\n",
            "46:\tlearn: 0.8247515\ttotal: 248ms\tremaining: 15.8ms\n",
            "47:\tlearn: 0.8249124\ttotal: 252ms\tremaining: 10.5ms\n",
            "48:\tlearn: 0.8246295\ttotal: 257ms\tremaining: 5.25ms\n",
            "49:\tlearn: 0.8251611\ttotal: 262ms\tremaining: 0us\n",
            "0:\tlearn: 0.8046376\ttotal: 6ms\tremaining: 294ms\n",
            "1:\tlearn: 0.8048262\ttotal: 11.3ms\tremaining: 271ms\n",
            "2:\tlearn: 0.8107760\ttotal: 16.3ms\tremaining: 256ms\n",
            "3:\tlearn: 0.8036837\ttotal: 21.3ms\tremaining: 245ms\n",
            "4:\tlearn: 0.8056978\ttotal: 26.4ms\tremaining: 238ms\n",
            "5:\tlearn: 0.8106991\ttotal: 31.6ms\tremaining: 232ms\n",
            "6:\tlearn: 0.8113342\ttotal: 36.6ms\tremaining: 225ms\n",
            "7:\tlearn: 0.8104648\ttotal: 41.7ms\tremaining: 219ms\n",
            "8:\tlearn: 0.8105763\ttotal: 46.6ms\tremaining: 212ms\n",
            "9:\tlearn: 0.8121920\ttotal: 51.5ms\tremaining: 206ms\n",
            "10:\tlearn: 0.8122655\ttotal: 56.5ms\tremaining: 200ms\n",
            "11:\tlearn: 0.8122492\ttotal: 61.3ms\tremaining: 194ms\n",
            "12:\tlearn: 0.8123171\ttotal: 66.3ms\tremaining: 189ms\n",
            "13:\tlearn: 0.8146096\ttotal: 71.3ms\tremaining: 183ms\n",
            "14:\tlearn: 0.8143922\ttotal: 76.3ms\tremaining: 178ms\n",
            "15:\tlearn: 0.8162937\ttotal: 81.2ms\tremaining: 173ms\n",
            "16:\tlearn: 0.8163502\ttotal: 88.8ms\tremaining: 172ms\n",
            "17:\tlearn: 0.8144069\ttotal: 95.6ms\tremaining: 170ms\n",
            "18:\tlearn: 0.8140915\ttotal: 101ms\tremaining: 164ms\n",
            "19:\tlearn: 0.8151724\ttotal: 106ms\tremaining: 158ms\n",
            "20:\tlearn: 0.8161043\ttotal: 111ms\tremaining: 153ms\n",
            "21:\tlearn: 0.8160386\ttotal: 116ms\tremaining: 148ms\n",
            "22:\tlearn: 0.8166395\ttotal: 121ms\tremaining: 142ms\n",
            "23:\tlearn: 0.8170623\ttotal: 126ms\tremaining: 136ms\n",
            "24:\tlearn: 0.8179487\ttotal: 130ms\tremaining: 130ms\n",
            "25:\tlearn: 0.8179213\ttotal: 136ms\tremaining: 125ms\n",
            "26:\tlearn: 0.8206252\ttotal: 141ms\tremaining: 120ms\n",
            "27:\tlearn: 0.8200282\ttotal: 146ms\tremaining: 114ms\n",
            "28:\tlearn: 0.8199386\ttotal: 151ms\tremaining: 109ms\n",
            "29:\tlearn: 0.8206240\ttotal: 156ms\tremaining: 104ms\n",
            "30:\tlearn: 0.8206755\ttotal: 161ms\tremaining: 98.4ms\n",
            "31:\tlearn: 0.8209595\ttotal: 165ms\tremaining: 93ms\n",
            "32:\tlearn: 0.8206184\ttotal: 171ms\tremaining: 88.2ms\n",
            "33:\tlearn: 0.8209015\ttotal: 176ms\tremaining: 82.8ms\n",
            "34:\tlearn: 0.8216528\ttotal: 181ms\tremaining: 77.6ms\n",
            "35:\tlearn: 0.8222038\ttotal: 186ms\tremaining: 72.3ms\n",
            "36:\tlearn: 0.8222729\ttotal: 191ms\tremaining: 67ms\n",
            "37:\tlearn: 0.8224537\ttotal: 196ms\tremaining: 61.8ms\n",
            "38:\tlearn: 0.8226719\ttotal: 201ms\tremaining: 56.6ms\n",
            "39:\tlearn: 0.8231903\ttotal: 206ms\tremaining: 51.5ms\n",
            "40:\tlearn: 0.8232086\ttotal: 211ms\tremaining: 46.2ms\n",
            "41:\tlearn: 0.8239165\ttotal: 215ms\tremaining: 41ms\n",
            "42:\tlearn: 0.8236532\ttotal: 221ms\tremaining: 35.9ms\n",
            "43:\tlearn: 0.8233479\ttotal: 226ms\tremaining: 30.8ms\n",
            "44:\tlearn: 0.8239719\ttotal: 231ms\tremaining: 25.6ms\n",
            "45:\tlearn: 0.8238906\ttotal: 236ms\tremaining: 20.5ms\n",
            "46:\tlearn: 0.8240039\ttotal: 241ms\tremaining: 15.4ms\n",
            "47:\tlearn: 0.8244596\ttotal: 246ms\tremaining: 10.2ms\n",
            "48:\tlearn: 0.8242226\ttotal: 251ms\tremaining: 5.12ms\n",
            "49:\tlearn: 0.8244018\ttotal: 256ms\tremaining: 0us\n",
            "0:\tlearn: 0.8038651\ttotal: 5.89ms\tremaining: 289ms\n",
            "1:\tlearn: 0.8038651\ttotal: 11ms\tremaining: 264ms\n",
            "2:\tlearn: 0.8099961\ttotal: 16ms\tremaining: 251ms\n",
            "3:\tlearn: 0.8046625\ttotal: 20.9ms\tremaining: 241ms\n",
            "4:\tlearn: 0.8066621\ttotal: 26ms\tremaining: 234ms\n",
            "5:\tlearn: 0.8076553\ttotal: 31ms\tremaining: 228ms\n",
            "6:\tlearn: 0.8142397\ttotal: 35.9ms\tremaining: 220ms\n",
            "7:\tlearn: 0.8142609\ttotal: 40.8ms\tremaining: 214ms\n",
            "8:\tlearn: 0.8126313\ttotal: 46ms\tremaining: 210ms\n",
            "9:\tlearn: 0.8076013\ttotal: 51.2ms\tremaining: 205ms\n",
            "10:\tlearn: 0.8126160\ttotal: 56.3ms\tremaining: 200ms\n",
            "11:\tlearn: 0.8131755\ttotal: 61.4ms\tremaining: 195ms\n",
            "12:\tlearn: 0.8130376\ttotal: 66.2ms\tremaining: 188ms\n",
            "13:\tlearn: 0.8126078\ttotal: 71.1ms\tremaining: 183ms\n",
            "14:\tlearn: 0.8160748\ttotal: 76.3ms\tremaining: 178ms\n",
            "15:\tlearn: 0.8153994\ttotal: 81.2ms\tremaining: 173ms\n",
            "16:\tlearn: 0.8153661\ttotal: 86.5ms\tremaining: 168ms\n",
            "17:\tlearn: 0.8168096\ttotal: 101ms\tremaining: 179ms\n",
            "18:\tlearn: 0.8169997\ttotal: 107ms\tremaining: 175ms\n",
            "19:\tlearn: 0.8173566\ttotal: 115ms\tremaining: 173ms\n",
            "20:\tlearn: 0.8168895\ttotal: 121ms\tremaining: 167ms\n",
            "21:\tlearn: 0.8174323\ttotal: 126ms\tremaining: 161ms\n",
            "22:\tlearn: 0.8171011\ttotal: 131ms\tremaining: 154ms\n",
            "23:\tlearn: 0.8176668\ttotal: 137ms\tremaining: 148ms\n",
            "24:\tlearn: 0.8178979\ttotal: 142ms\tremaining: 142ms\n",
            "25:\tlearn: 0.8178998\ttotal: 147ms\tremaining: 136ms\n",
            "26:\tlearn: 0.8179788\ttotal: 153ms\tremaining: 130ms\n",
            "27:\tlearn: 0.8189644\ttotal: 158ms\tremaining: 124ms\n",
            "28:\tlearn: 0.8193974\ttotal: 163ms\tremaining: 118ms\n",
            "29:\tlearn: 0.8191148\ttotal: 168ms\tremaining: 112ms\n",
            "30:\tlearn: 0.8199531\ttotal: 173ms\tremaining: 106ms\n",
            "31:\tlearn: 0.8197498\ttotal: 179ms\tremaining: 101ms\n",
            "32:\tlearn: 0.8206169\ttotal: 184ms\tremaining: 94.9ms\n",
            "33:\tlearn: 0.8216166\ttotal: 190ms\tremaining: 89.3ms\n",
            "34:\tlearn: 0.8218206\ttotal: 195ms\tremaining: 83.7ms\n",
            "35:\tlearn: 0.8233087\ttotal: 208ms\tremaining: 81.1ms\n",
            "36:\tlearn: 0.8226011\ttotal: 214ms\tremaining: 75.2ms\n",
            "37:\tlearn: 0.8227634\ttotal: 220ms\tremaining: 69.3ms\n",
            "38:\tlearn: 0.8220621\ttotal: 225ms\tremaining: 63.5ms\n",
            "39:\tlearn: 0.8224086\ttotal: 231ms\tremaining: 57.6ms\n",
            "40:\tlearn: 0.8235084\ttotal: 236ms\tremaining: 51.8ms\n",
            "41:\tlearn: 0.8235900\ttotal: 242ms\tremaining: 46ms\n",
            "42:\tlearn: 0.8238663\ttotal: 247ms\tremaining: 40.2ms\n",
            "43:\tlearn: 0.8237347\ttotal: 253ms\tremaining: 34.5ms\n",
            "44:\tlearn: 0.8235636\ttotal: 258ms\tremaining: 28.7ms\n",
            "45:\tlearn: 0.8243841\ttotal: 264ms\tremaining: 22.9ms\n",
            "46:\tlearn: 0.8237795\ttotal: 269ms\tremaining: 17.2ms\n",
            "47:\tlearn: 0.8249419\ttotal: 275ms\tremaining: 11.4ms\n",
            "48:\tlearn: 0.8243817\ttotal: 280ms\tremaining: 5.72ms\n",
            "49:\tlearn: 0.8253358\ttotal: 286ms\tremaining: 0us\n",
            "0:\tlearn: 0.7967259\ttotal: 6.1ms\tremaining: 299ms\n",
            "1:\tlearn: 0.8041021\ttotal: 11.5ms\tremaining: 276ms\n",
            "2:\tlearn: 0.8041646\ttotal: 16.5ms\tremaining: 258ms\n",
            "3:\tlearn: 0.8042293\ttotal: 21.8ms\tremaining: 251ms\n",
            "4:\tlearn: 0.8045134\ttotal: 26.7ms\tremaining: 241ms\n",
            "5:\tlearn: 0.8058844\ttotal: 31.8ms\tremaining: 233ms\n",
            "6:\tlearn: 0.8061658\ttotal: 36.6ms\tremaining: 225ms\n",
            "7:\tlearn: 0.8120762\ttotal: 41.5ms\tremaining: 218ms\n",
            "8:\tlearn: 0.8117213\ttotal: 46.4ms\tremaining: 211ms\n",
            "9:\tlearn: 0.8123457\ttotal: 51.5ms\tremaining: 206ms\n",
            "10:\tlearn: 0.8124397\ttotal: 56.6ms\tremaining: 201ms\n",
            "11:\tlearn: 0.8136914\ttotal: 61.5ms\tremaining: 195ms\n",
            "12:\tlearn: 0.8132332\ttotal: 66.4ms\tremaining: 189ms\n",
            "13:\tlearn: 0.8132754\ttotal: 71.3ms\tremaining: 183ms\n",
            "14:\tlearn: 0.8164943\ttotal: 76.3ms\tremaining: 178ms\n",
            "15:\tlearn: 0.8166016\ttotal: 81.4ms\tremaining: 173ms\n",
            "16:\tlearn: 0.8160912\ttotal: 87.9ms\tremaining: 171ms\n",
            "17:\tlearn: 0.8158721\ttotal: 92.8ms\tremaining: 165ms\n",
            "18:\tlearn: 0.8169446\ttotal: 97.6ms\tremaining: 159ms\n",
            "19:\tlearn: 0.8166247\ttotal: 103ms\tremaining: 154ms\n",
            "20:\tlearn: 0.8169390\ttotal: 108ms\tremaining: 149ms\n",
            "21:\tlearn: 0.8172072\ttotal: 112ms\tremaining: 143ms\n",
            "22:\tlearn: 0.8171109\ttotal: 117ms\tremaining: 138ms\n",
            "23:\tlearn: 0.8173038\ttotal: 122ms\tremaining: 132ms\n",
            "24:\tlearn: 0.8179269\ttotal: 127ms\tremaining: 127ms\n",
            "25:\tlearn: 0.8180726\ttotal: 132ms\tremaining: 122ms\n",
            "26:\tlearn: 0.8182104\ttotal: 137ms\tremaining: 117ms\n",
            "27:\tlearn: 0.8193057\ttotal: 146ms\tremaining: 114ms\n",
            "28:\tlearn: 0.8201007\ttotal: 151ms\tremaining: 109ms\n",
            "29:\tlearn: 0.8204543\ttotal: 156ms\tremaining: 104ms\n",
            "30:\tlearn: 0.8208291\ttotal: 161ms\tremaining: 98.4ms\n",
            "31:\tlearn: 0.8207214\ttotal: 166ms\tremaining: 93.1ms\n",
            "32:\tlearn: 0.8210352\ttotal: 170ms\tremaining: 87.8ms\n",
            "33:\tlearn: 0.8215897\ttotal: 175ms\tremaining: 82.4ms\n",
            "34:\tlearn: 0.8212563\ttotal: 180ms\tremaining: 77.2ms\n",
            "35:\tlearn: 0.8217800\ttotal: 186ms\tremaining: 72.2ms\n",
            "36:\tlearn: 0.8218063\ttotal: 191ms\tremaining: 67.1ms\n",
            "37:\tlearn: 0.8220489\ttotal: 205ms\tremaining: 64.8ms\n",
            "38:\tlearn: 0.8226732\ttotal: 210ms\tremaining: 59.3ms\n",
            "39:\tlearn: 0.8230148\ttotal: 216ms\tremaining: 54ms\n",
            "40:\tlearn: 0.8227277\ttotal: 221ms\tremaining: 48.6ms\n",
            "41:\tlearn: 0.8229691\ttotal: 227ms\tremaining: 43.2ms\n",
            "42:\tlearn: 0.8232451\ttotal: 232ms\tremaining: 37.7ms\n",
            "43:\tlearn: 0.8239094\ttotal: 237ms\tremaining: 32.3ms\n",
            "44:\tlearn: 0.8240807\ttotal: 242ms\tremaining: 26.9ms\n",
            "45:\tlearn: 0.8243410\ttotal: 247ms\tremaining: 21.5ms\n",
            "46:\tlearn: 0.8242539\ttotal: 252ms\tremaining: 16.1ms\n",
            "47:\tlearn: 0.8246284\ttotal: 258ms\tremaining: 10.7ms\n",
            "48:\tlearn: 0.8247802\ttotal: 263ms\tremaining: 5.36ms\n",
            "49:\tlearn: 0.8251604\ttotal: 268ms\tremaining: 0us\n",
            "0:\tlearn: 0.8017848\ttotal: 5.83ms\tremaining: 286ms\n",
            "1:\tlearn: 0.8017848\ttotal: 10.8ms\tremaining: 259ms\n",
            "2:\tlearn: 0.8022631\ttotal: 15.6ms\tremaining: 245ms\n",
            "3:\tlearn: 0.8067334\ttotal: 20.8ms\tremaining: 240ms\n",
            "4:\tlearn: 0.8055494\ttotal: 26ms\tremaining: 234ms\n",
            "5:\tlearn: 0.8063390\ttotal: 30.8ms\tremaining: 226ms\n",
            "6:\tlearn: 0.8071082\ttotal: 35.8ms\tremaining: 220ms\n",
            "7:\tlearn: 0.8056484\ttotal: 40.8ms\tremaining: 214ms\n",
            "8:\tlearn: 0.8066122\ttotal: 45.6ms\tremaining: 208ms\n",
            "9:\tlearn: 0.8124486\ttotal: 51.1ms\tremaining: 204ms\n",
            "10:\tlearn: 0.8124472\ttotal: 56.9ms\tremaining: 202ms\n",
            "11:\tlearn: 0.8121601\ttotal: 61.8ms\tremaining: 196ms\n",
            "12:\tlearn: 0.8123385\ttotal: 66.8ms\tremaining: 190ms\n",
            "13:\tlearn: 0.8172448\ttotal: 71.7ms\tremaining: 184ms\n",
            "14:\tlearn: 0.8175973\ttotal: 76.6ms\tremaining: 179ms\n",
            "15:\tlearn: 0.8183149\ttotal: 81.5ms\tremaining: 173ms\n",
            "16:\tlearn: 0.8170677\ttotal: 86.4ms\tremaining: 168ms\n",
            "17:\tlearn: 0.8163320\ttotal: 95.8ms\tremaining: 170ms\n",
            "18:\tlearn: 0.8173581\ttotal: 103ms\tremaining: 168ms\n",
            "19:\tlearn: 0.8157044\ttotal: 108ms\tremaining: 163ms\n",
            "20:\tlearn: 0.8170385\ttotal: 114ms\tremaining: 157ms\n",
            "21:\tlearn: 0.8176437\ttotal: 119ms\tremaining: 151ms\n",
            "22:\tlearn: 0.8178843\ttotal: 124ms\tremaining: 145ms\n",
            "23:\tlearn: 0.8185819\ttotal: 129ms\tremaining: 140ms\n",
            "24:\tlearn: 0.8189739\ttotal: 134ms\tremaining: 134ms\n",
            "25:\tlearn: 0.8192760\ttotal: 139ms\tremaining: 129ms\n",
            "26:\tlearn: 0.8186764\ttotal: 144ms\tremaining: 123ms\n",
            "27:\tlearn: 0.8190901\ttotal: 150ms\tremaining: 118ms\n",
            "28:\tlearn: 0.8196590\ttotal: 155ms\tremaining: 113ms\n",
            "29:\tlearn: 0.8200102\ttotal: 161ms\tremaining: 107ms\n",
            "30:\tlearn: 0.8202843\ttotal: 166ms\tremaining: 102ms\n",
            "31:\tlearn: 0.8204294\ttotal: 171ms\tremaining: 96.3ms\n",
            "32:\tlearn: 0.8210851\ttotal: 176ms\tremaining: 90.7ms\n",
            "33:\tlearn: 0.8217605\ttotal: 181ms\tremaining: 85.3ms\n",
            "34:\tlearn: 0.8214270\ttotal: 186ms\tremaining: 79.8ms\n",
            "35:\tlearn: 0.8209580\ttotal: 191ms\tremaining: 74.4ms\n",
            "36:\tlearn: 0.8219490\ttotal: 203ms\tremaining: 71.2ms\n",
            "37:\tlearn: 0.8220875\ttotal: 207ms\tremaining: 65.5ms\n",
            "38:\tlearn: 0.8218712\ttotal: 212ms\tremaining: 59.9ms\n",
            "39:\tlearn: 0.8225933\ttotal: 218ms\tremaining: 54.4ms\n",
            "40:\tlearn: 0.8230802\ttotal: 223ms\tremaining: 48.9ms\n",
            "41:\tlearn: 0.8231698\ttotal: 228ms\tremaining: 43.4ms\n",
            "42:\tlearn: 0.8238995\ttotal: 233ms\tremaining: 38ms\n",
            "43:\tlearn: 0.8236580\ttotal: 238ms\tremaining: 32.5ms\n",
            "44:\tlearn: 0.8237053\ttotal: 244ms\tremaining: 27.1ms\n",
            "45:\tlearn: 0.8243473\ttotal: 249ms\tremaining: 21.7ms\n",
            "46:\tlearn: 0.8244504\ttotal: 255ms\tremaining: 16.2ms\n",
            "47:\tlearn: 0.8242264\ttotal: 260ms\tremaining: 10.8ms\n",
            "48:\tlearn: 0.8245524\ttotal: 265ms\tremaining: 5.41ms\n",
            "49:\tlearn: 0.8244394\ttotal: 270ms\tremaining: 0us\n",
            "0:\tlearn: 0.8221740\ttotal: 7.34ms\tremaining: 360ms\n",
            "1:\tlearn: 0.8240002\ttotal: 14ms\tremaining: 337ms\n",
            "2:\tlearn: 0.8217674\ttotal: 20.4ms\tremaining: 320ms\n",
            "3:\tlearn: 0.8211732\ttotal: 26.8ms\tremaining: 308ms\n",
            "4:\tlearn: 0.8225045\ttotal: 35.5ms\tremaining: 320ms\n",
            "5:\tlearn: 0.8242530\ttotal: 43.6ms\tremaining: 320ms\n",
            "6:\tlearn: 0.8240154\ttotal: 50.2ms\tremaining: 308ms\n",
            "7:\tlearn: 0.8254074\ttotal: 56.6ms\tremaining: 297ms\n",
            "8:\tlearn: 0.8264500\ttotal: 63ms\tremaining: 287ms\n",
            "9:\tlearn: 0.8273250\ttotal: 69.2ms\tremaining: 277ms\n",
            "10:\tlearn: 0.8290596\ttotal: 75.7ms\tremaining: 268ms\n",
            "11:\tlearn: 0.8290299\ttotal: 81.8ms\tremaining: 259ms\n",
            "12:\tlearn: 0.8294305\ttotal: 88.2ms\tremaining: 251ms\n",
            "13:\tlearn: 0.8305391\ttotal: 94.3ms\tremaining: 243ms\n",
            "14:\tlearn: 0.8306889\ttotal: 101ms\tremaining: 235ms\n",
            "15:\tlearn: 0.8308216\ttotal: 107ms\tremaining: 228ms\n",
            "16:\tlearn: 0.8311409\ttotal: 114ms\tremaining: 221ms\n",
            "17:\tlearn: 0.8318100\ttotal: 120ms\tremaining: 213ms\n",
            "18:\tlearn: 0.8311170\ttotal: 126ms\tremaining: 206ms\n",
            "19:\tlearn: 0.8312079\ttotal: 133ms\tremaining: 199ms\n",
            "20:\tlearn: 0.8319666\ttotal: 139ms\tremaining: 193ms\n",
            "21:\tlearn: 0.8316369\ttotal: 146ms\tremaining: 186ms\n",
            "22:\tlearn: 0.8322945\ttotal: 153ms\tremaining: 179ms\n",
            "23:\tlearn: 0.8326918\ttotal: 159ms\tremaining: 172ms\n",
            "24:\tlearn: 0.8331796\ttotal: 165ms\tremaining: 165ms\n",
            "25:\tlearn: 0.8337720\ttotal: 172ms\tremaining: 158ms\n",
            "26:\tlearn: 0.8338022\ttotal: 178ms\tremaining: 151ms\n",
            "27:\tlearn: 0.8335435\ttotal: 184ms\tremaining: 144ms\n",
            "28:\tlearn: 0.8341740\ttotal: 190ms\tremaining: 138ms\n",
            "29:\tlearn: 0.8356374\ttotal: 197ms\tremaining: 131ms\n",
            "30:\tlearn: 0.8356911\ttotal: 208ms\tremaining: 128ms\n",
            "31:\tlearn: 0.8354967\ttotal: 215ms\tremaining: 121ms\n",
            "32:\tlearn: 0.8361495\ttotal: 221ms\tremaining: 114ms\n",
            "33:\tlearn: 0.8363948\ttotal: 228ms\tremaining: 107ms\n",
            "34:\tlearn: 0.8367738\ttotal: 234ms\tremaining: 100ms\n",
            "35:\tlearn: 0.8365975\ttotal: 240ms\tremaining: 93.5ms\n",
            "36:\tlearn: 0.8364777\ttotal: 247ms\tremaining: 86.7ms\n",
            "37:\tlearn: 0.8374915\ttotal: 253ms\tremaining: 80ms\n",
            "38:\tlearn: 0.8374129\ttotal: 260ms\tremaining: 73.2ms\n",
            "39:\tlearn: 0.8376439\ttotal: 266ms\tremaining: 66.5ms\n",
            "40:\tlearn: 0.8377805\ttotal: 272ms\tremaining: 59.7ms\n",
            "41:\tlearn: 0.8384883\ttotal: 278ms\tremaining: 53ms\n",
            "42:\tlearn: 0.8386805\ttotal: 285ms\tremaining: 46.4ms\n",
            "43:\tlearn: 0.8389297\ttotal: 291ms\tremaining: 39.7ms\n",
            "44:\tlearn: 0.8393244\ttotal: 300ms\tremaining: 33.3ms\n",
            "45:\tlearn: 0.8392300\ttotal: 306ms\tremaining: 26.6ms\n",
            "46:\tlearn: 0.8393935\ttotal: 312ms\tremaining: 19.9ms\n",
            "47:\tlearn: 0.8396909\ttotal: 318ms\tremaining: 13.3ms\n",
            "48:\tlearn: 0.8400570\ttotal: 325ms\tremaining: 6.63ms\n",
            "49:\tlearn: 0.8405260\ttotal: 331ms\tremaining: 0us\n",
            "0:\tlearn: 0.8207154\ttotal: 7.36ms\tremaining: 361ms\n",
            "1:\tlearn: 0.8211284\ttotal: 14.3ms\tremaining: 344ms\n",
            "2:\tlearn: 0.8202203\ttotal: 20.8ms\tremaining: 326ms\n",
            "3:\tlearn: 0.8209806\ttotal: 27.1ms\tremaining: 312ms\n",
            "4:\tlearn: 0.8238003\ttotal: 33.3ms\tremaining: 300ms\n",
            "5:\tlearn: 0.8252562\ttotal: 39.8ms\tremaining: 292ms\n",
            "6:\tlearn: 0.8260315\ttotal: 46.1ms\tremaining: 283ms\n",
            "7:\tlearn: 0.8271282\ttotal: 52.7ms\tremaining: 277ms\n",
            "8:\tlearn: 0.8271400\ttotal: 59.2ms\tremaining: 270ms\n",
            "9:\tlearn: 0.8279009\ttotal: 65.7ms\tremaining: 263ms\n",
            "10:\tlearn: 0.8285868\ttotal: 72ms\tremaining: 255ms\n",
            "11:\tlearn: 0.8289574\ttotal: 78.4ms\tremaining: 248ms\n",
            "12:\tlearn: 0.8304857\ttotal: 84.8ms\tremaining: 241ms\n",
            "13:\tlearn: 0.8310631\ttotal: 91.4ms\tremaining: 235ms\n",
            "14:\tlearn: 0.8312735\ttotal: 98.4ms\tremaining: 230ms\n",
            "15:\tlearn: 0.8312776\ttotal: 105ms\tremaining: 223ms\n",
            "16:\tlearn: 0.8328183\ttotal: 111ms\tremaining: 216ms\n",
            "17:\tlearn: 0.8327507\ttotal: 118ms\tremaining: 209ms\n",
            "18:\tlearn: 0.8327356\ttotal: 124ms\tremaining: 202ms\n",
            "19:\tlearn: 0.8330828\ttotal: 130ms\tremaining: 196ms\n",
            "20:\tlearn: 0.8330789\ttotal: 137ms\tremaining: 189ms\n",
            "21:\tlearn: 0.8338051\ttotal: 143ms\tremaining: 182ms\n",
            "22:\tlearn: 0.8339963\ttotal: 149ms\tremaining: 175ms\n",
            "23:\tlearn: 0.8337419\ttotal: 158ms\tremaining: 172ms\n",
            "24:\tlearn: 0.8340946\ttotal: 165ms\tremaining: 165ms\n",
            "25:\tlearn: 0.8342530\ttotal: 177ms\tremaining: 163ms\n",
            "26:\tlearn: 0.8346432\ttotal: 186ms\tremaining: 159ms\n",
            "27:\tlearn: 0.8346169\ttotal: 193ms\tremaining: 151ms\n",
            "28:\tlearn: 0.8348105\ttotal: 208ms\tremaining: 151ms\n",
            "29:\tlearn: 0.8353859\ttotal: 214ms\tremaining: 143ms\n",
            "30:\tlearn: 0.8349813\ttotal: 220ms\tremaining: 135ms\n",
            "31:\tlearn: 0.8352139\ttotal: 226ms\tremaining: 127ms\n",
            "32:\tlearn: 0.8353693\ttotal: 233ms\tremaining: 120ms\n",
            "33:\tlearn: 0.8354528\ttotal: 237ms\tremaining: 112ms\n",
            "34:\tlearn: 0.8357730\ttotal: 244ms\tremaining: 104ms\n",
            "35:\tlearn: 0.8359329\ttotal: 250ms\tremaining: 97.1ms\n",
            "36:\tlearn: 0.8359647\ttotal: 256ms\tremaining: 89.9ms\n",
            "37:\tlearn: 0.8361464\ttotal: 262ms\tremaining: 82.7ms\n",
            "38:\tlearn: 0.8368021\ttotal: 268ms\tremaining: 75.6ms\n",
            "39:\tlearn: 0.8369221\ttotal: 274ms\tremaining: 68.5ms\n",
            "40:\tlearn: 0.8367084\ttotal: 280ms\tremaining: 61.5ms\n",
            "41:\tlearn: 0.8367273\ttotal: 286ms\tremaining: 54.6ms\n",
            "42:\tlearn: 0.8368682\ttotal: 292ms\tremaining: 47.6ms\n",
            "43:\tlearn: 0.8369122\ttotal: 299ms\tremaining: 40.7ms\n",
            "44:\tlearn: 0.8373041\ttotal: 305ms\tremaining: 33.8ms\n",
            "45:\tlearn: 0.8375085\ttotal: 311ms\tremaining: 27.1ms\n",
            "46:\tlearn: 0.8382813\ttotal: 317ms\tremaining: 20.2ms\n",
            "47:\tlearn: 0.8382959\ttotal: 323ms\tremaining: 13.5ms\n",
            "48:\tlearn: 0.8390547\ttotal: 330ms\tremaining: 6.72ms\n",
            "49:\tlearn: 0.8390211\ttotal: 336ms\tremaining: 0us\n",
            "0:\tlearn: 0.8212797\ttotal: 7.38ms\tremaining: 362ms\n",
            "1:\tlearn: 0.8228276\ttotal: 13.6ms\tremaining: 328ms\n",
            "2:\tlearn: 0.8205253\ttotal: 20.1ms\tremaining: 315ms\n",
            "3:\tlearn: 0.8208355\ttotal: 26.8ms\tremaining: 308ms\n",
            "4:\tlearn: 0.8230846\ttotal: 33.5ms\tremaining: 301ms\n",
            "5:\tlearn: 0.8258322\ttotal: 39.8ms\tremaining: 292ms\n",
            "6:\tlearn: 0.8264037\ttotal: 46ms\tremaining: 282ms\n",
            "7:\tlearn: 0.8279967\ttotal: 52.2ms\tremaining: 274ms\n",
            "8:\tlearn: 0.8289665\ttotal: 58.6ms\tremaining: 267ms\n",
            "9:\tlearn: 0.8287300\ttotal: 65.2ms\tremaining: 261ms\n",
            "10:\tlearn: 0.8295581\ttotal: 71.5ms\tremaining: 254ms\n",
            "11:\tlearn: 0.8296459\ttotal: 78ms\tremaining: 247ms\n",
            "12:\tlearn: 0.8308912\ttotal: 84.5ms\tremaining: 240ms\n",
            "13:\tlearn: 0.8302276\ttotal: 90.9ms\tremaining: 234ms\n",
            "14:\tlearn: 0.8305009\ttotal: 97.1ms\tremaining: 227ms\n",
            "15:\tlearn: 0.8304932\ttotal: 105ms\tremaining: 223ms\n",
            "16:\tlearn: 0.8306301\ttotal: 111ms\tremaining: 216ms\n",
            "17:\tlearn: 0.8308509\ttotal: 118ms\tremaining: 210ms\n",
            "18:\tlearn: 0.8308876\ttotal: 124ms\tremaining: 203ms\n",
            "19:\tlearn: 0.8315027\ttotal: 131ms\tremaining: 196ms\n",
            "20:\tlearn: 0.8320234\ttotal: 137ms\tremaining: 189ms\n",
            "21:\tlearn: 0.8320476\ttotal: 143ms\tremaining: 183ms\n",
            "22:\tlearn: 0.8325445\ttotal: 150ms\tremaining: 176ms\n",
            "23:\tlearn: 0.8328450\ttotal: 156ms\tremaining: 169ms\n",
            "24:\tlearn: 0.8330026\ttotal: 164ms\tremaining: 164ms\n",
            "25:\tlearn: 0.8334198\ttotal: 171ms\tremaining: 158ms\n",
            "26:\tlearn: 0.8336079\ttotal: 177ms\tremaining: 151ms\n",
            "27:\tlearn: 0.8340145\ttotal: 184ms\tremaining: 145ms\n",
            "28:\tlearn: 0.8342780\ttotal: 191ms\tremaining: 138ms\n",
            "29:\tlearn: 0.8349975\ttotal: 197ms\tremaining: 131ms\n",
            "30:\tlearn: 0.8350814\ttotal: 211ms\tremaining: 130ms\n",
            "31:\tlearn: 0.8358890\ttotal: 218ms\tremaining: 123ms\n",
            "32:\tlearn: 0.8356570\ttotal: 224ms\tremaining: 116ms\n",
            "33:\tlearn: 0.8360659\ttotal: 230ms\tremaining: 108ms\n",
            "34:\tlearn: 0.8361819\ttotal: 237ms\tremaining: 102ms\n",
            "35:\tlearn: 0.8365404\ttotal: 243ms\tremaining: 94.6ms\n",
            "36:\tlearn: 0.8362756\ttotal: 249ms\tremaining: 87.6ms\n",
            "37:\tlearn: 0.8369391\ttotal: 256ms\tremaining: 80.8ms\n",
            "38:\tlearn: 0.8368663\ttotal: 262ms\tremaining: 73.9ms\n",
            "39:\tlearn: 0.8370178\ttotal: 268ms\tremaining: 67.1ms\n",
            "40:\tlearn: 0.8367513\ttotal: 275ms\tremaining: 60.3ms\n",
            "41:\tlearn: 0.8370872\ttotal: 281ms\tremaining: 53.5ms\n",
            "42:\tlearn: 0.8373588\ttotal: 287ms\tremaining: 46.8ms\n",
            "43:\tlearn: 0.8378666\ttotal: 293ms\tremaining: 40ms\n",
            "44:\tlearn: 0.8382539\ttotal: 300ms\tremaining: 33.3ms\n",
            "45:\tlearn: 0.8383708\ttotal: 307ms\tremaining: 26.7ms\n",
            "46:\tlearn: 0.8383385\ttotal: 313ms\tremaining: 20ms\n",
            "47:\tlearn: 0.8388324\ttotal: 320ms\tremaining: 13.3ms\n",
            "48:\tlearn: 0.8393250\ttotal: 326ms\tremaining: 6.65ms\n",
            "49:\tlearn: 0.8395207\ttotal: 332ms\tremaining: 0us\n",
            "0:\tlearn: 0.8163678\ttotal: 7.39ms\tremaining: 362ms\n",
            "1:\tlearn: 0.8217449\ttotal: 13.6ms\tremaining: 327ms\n",
            "2:\tlearn: 0.8207138\ttotal: 20.2ms\tremaining: 317ms\n",
            "3:\tlearn: 0.8220872\ttotal: 27ms\tremaining: 310ms\n",
            "4:\tlearn: 0.8237050\ttotal: 33.2ms\tremaining: 299ms\n",
            "5:\tlearn: 0.8240121\ttotal: 39.4ms\tremaining: 289ms\n",
            "6:\tlearn: 0.8239938\ttotal: 45.7ms\tremaining: 281ms\n",
            "7:\tlearn: 0.8253493\ttotal: 52.1ms\tremaining: 274ms\n",
            "8:\tlearn: 0.8262718\ttotal: 58.4ms\tremaining: 266ms\n",
            "9:\tlearn: 0.8281509\ttotal: 64.7ms\tremaining: 259ms\n",
            "10:\tlearn: 0.8280939\ttotal: 70.8ms\tremaining: 251ms\n",
            "11:\tlearn: 0.8288276\ttotal: 77.5ms\tremaining: 245ms\n",
            "12:\tlearn: 0.8295059\ttotal: 83.8ms\tremaining: 238ms\n",
            "13:\tlearn: 0.8303327\ttotal: 90.2ms\tremaining: 232ms\n",
            "14:\tlearn: 0.8306055\ttotal: 96.9ms\tremaining: 226ms\n",
            "15:\tlearn: 0.8308716\ttotal: 103ms\tremaining: 219ms\n",
            "16:\tlearn: 0.8313437\ttotal: 110ms\tremaining: 213ms\n",
            "17:\tlearn: 0.8313137\ttotal: 116ms\tremaining: 207ms\n",
            "18:\tlearn: 0.8319173\ttotal: 123ms\tremaining: 200ms\n",
            "19:\tlearn: 0.8310490\ttotal: 129ms\tremaining: 193ms\n",
            "20:\tlearn: 0.8323007\ttotal: 135ms\tremaining: 186ms\n",
            "21:\tlearn: 0.8321418\ttotal: 141ms\tremaining: 180ms\n",
            "22:\tlearn: 0.8325963\ttotal: 148ms\tremaining: 174ms\n",
            "23:\tlearn: 0.8328669\ttotal: 154ms\tremaining: 167ms\n",
            "24:\tlearn: 0.8334349\ttotal: 161ms\tremaining: 161ms\n",
            "25:\tlearn: 0.8341266\ttotal: 167ms\tremaining: 154ms\n",
            "26:\tlearn: 0.8345632\ttotal: 173ms\tremaining: 148ms\n",
            "27:\tlearn: 0.8340295\ttotal: 180ms\tremaining: 141ms\n",
            "28:\tlearn: 0.8345070\ttotal: 186ms\tremaining: 135ms\n",
            "29:\tlearn: 0.8347249\ttotal: 193ms\tremaining: 129ms\n",
            "30:\tlearn: 0.8347563\ttotal: 199ms\tremaining: 122ms\n",
            "31:\tlearn: 0.8351400\ttotal: 208ms\tremaining: 117ms\n",
            "32:\tlearn: 0.8353624\ttotal: 214ms\tremaining: 110ms\n",
            "33:\tlearn: 0.8359288\ttotal: 221ms\tremaining: 104ms\n",
            "34:\tlearn: 0.8364302\ttotal: 227ms\tremaining: 97.5ms\n",
            "35:\tlearn: 0.8362543\ttotal: 235ms\tremaining: 91.4ms\n",
            "36:\tlearn: 0.8371778\ttotal: 242ms\tremaining: 85ms\n",
            "37:\tlearn: 0.8376883\ttotal: 249ms\tremaining: 78.5ms\n",
            "38:\tlearn: 0.8379081\ttotal: 255ms\tremaining: 72ms\n",
            "39:\tlearn: 0.8376246\ttotal: 262ms\tremaining: 65.5ms\n",
            "40:\tlearn: 0.8379729\ttotal: 268ms\tremaining: 58.9ms\n",
            "41:\tlearn: 0.8382197\ttotal: 275ms\tremaining: 52.4ms\n",
            "42:\tlearn: 0.8382270\ttotal: 287ms\tremaining: 46.7ms\n",
            "43:\tlearn: 0.8388147\ttotal: 294ms\tremaining: 40ms\n",
            "44:\tlearn: 0.8387564\ttotal: 300ms\tremaining: 33.3ms\n",
            "45:\tlearn: 0.8385840\ttotal: 307ms\tremaining: 26.7ms\n",
            "46:\tlearn: 0.8388427\ttotal: 313ms\tremaining: 20ms\n",
            "47:\tlearn: 0.8389510\ttotal: 321ms\tremaining: 13.4ms\n",
            "48:\tlearn: 0.8395034\ttotal: 328ms\tremaining: 6.68ms\n",
            "49:\tlearn: 0.8394144\ttotal: 339ms\tremaining: 0us\n",
            "0:\tlearn: 0.8182001\ttotal: 7.6ms\tremaining: 372ms\n",
            "1:\tlearn: 0.8216252\ttotal: 14.1ms\tremaining: 338ms\n",
            "2:\tlearn: 0.8211809\ttotal: 20.5ms\tremaining: 322ms\n",
            "3:\tlearn: 0.8216399\ttotal: 26.7ms\tremaining: 307ms\n",
            "4:\tlearn: 0.8226454\ttotal: 33ms\tremaining: 297ms\n",
            "5:\tlearn: 0.8236215\ttotal: 39.3ms\tremaining: 288ms\n",
            "6:\tlearn: 0.8244473\ttotal: 45.5ms\tremaining: 279ms\n",
            "7:\tlearn: 0.8252405\ttotal: 51.9ms\tremaining: 273ms\n",
            "8:\tlearn: 0.8267797\ttotal: 58.2ms\tremaining: 265ms\n",
            "9:\tlearn: 0.8279813\ttotal: 64.5ms\tremaining: 258ms\n",
            "10:\tlearn: 0.8279898\ttotal: 71ms\tremaining: 252ms\n",
            "11:\tlearn: 0.8298348\ttotal: 77.2ms\tremaining: 245ms\n",
            "12:\tlearn: 0.8294692\ttotal: 83.5ms\tremaining: 238ms\n",
            "13:\tlearn: 0.8297691\ttotal: 89.9ms\tremaining: 231ms\n",
            "14:\tlearn: 0.8302987\ttotal: 96.3ms\tremaining: 225ms\n",
            "15:\tlearn: 0.8308878\ttotal: 103ms\tremaining: 218ms\n",
            "16:\tlearn: 0.8317617\ttotal: 109ms\tremaining: 212ms\n",
            "17:\tlearn: 0.8325680\ttotal: 116ms\tremaining: 205ms\n",
            "18:\tlearn: 0.8326540\ttotal: 122ms\tremaining: 199ms\n",
            "19:\tlearn: 0.8325410\ttotal: 130ms\tremaining: 195ms\n",
            "20:\tlearn: 0.8326635\ttotal: 136ms\tremaining: 188ms\n",
            "21:\tlearn: 0.8331274\ttotal: 143ms\tremaining: 182ms\n",
            "22:\tlearn: 0.8335206\ttotal: 149ms\tremaining: 175ms\n",
            "23:\tlearn: 0.8337822\ttotal: 155ms\tremaining: 168ms\n",
            "24:\tlearn: 0.8342056\ttotal: 167ms\tremaining: 167ms\n",
            "25:\tlearn: 0.8345919\ttotal: 173ms\tremaining: 160ms\n",
            "26:\tlearn: 0.8343730\ttotal: 180ms\tremaining: 153ms\n",
            "27:\tlearn: 0.8345606\ttotal: 186ms\tremaining: 146ms\n",
            "28:\tlearn: 0.8353547\ttotal: 193ms\tremaining: 139ms\n",
            "29:\tlearn: 0.8354937\ttotal: 199ms\tremaining: 133ms\n",
            "30:\tlearn: 0.8352396\ttotal: 214ms\tremaining: 131ms\n",
            "31:\tlearn: 0.8361974\ttotal: 221ms\tremaining: 124ms\n",
            "32:\tlearn: 0.8359197\ttotal: 227ms\tremaining: 117ms\n",
            "33:\tlearn: 0.8359447\ttotal: 234ms\tremaining: 110ms\n",
            "34:\tlearn: 0.8367384\ttotal: 240ms\tremaining: 103ms\n",
            "35:\tlearn: 0.8368420\ttotal: 247ms\tremaining: 95.9ms\n",
            "36:\tlearn: 0.8367946\ttotal: 257ms\tremaining: 90.3ms\n",
            "37:\tlearn: 0.8369425\ttotal: 270ms\tremaining: 85.2ms\n",
            "38:\tlearn: 0.8369352\ttotal: 276ms\tremaining: 77.8ms\n",
            "39:\tlearn: 0.8372492\ttotal: 282ms\tremaining: 70.5ms\n",
            "40:\tlearn: 0.8376987\ttotal: 288ms\tremaining: 63.3ms\n",
            "41:\tlearn: 0.8377725\ttotal: 294ms\tremaining: 56.1ms\n",
            "42:\tlearn: 0.8380729\ttotal: 301ms\tremaining: 48.9ms\n",
            "43:\tlearn: 0.8384662\ttotal: 310ms\tremaining: 42.3ms\n",
            "44:\tlearn: 0.8388350\ttotal: 316ms\tremaining: 35.1ms\n",
            "45:\tlearn: 0.8393131\ttotal: 322ms\tremaining: 28ms\n",
            "46:\tlearn: 0.8388336\ttotal: 329ms\tremaining: 21ms\n",
            "47:\tlearn: 0.8389139\ttotal: 335ms\tremaining: 13.9ms\n",
            "48:\tlearn: 0.8390321\ttotal: 341ms\tremaining: 6.96ms\n",
            "49:\tlearn: 0.8392510\ttotal: 347ms\tremaining: 0us\n",
            "0:\tlearn: 0.8221740\ttotal: 7.32ms\tremaining: 359ms\n",
            "1:\tlearn: 0.8221891\ttotal: 14ms\tremaining: 335ms\n",
            "2:\tlearn: 0.8230445\ttotal: 20.4ms\tremaining: 320ms\n",
            "3:\tlearn: 0.8240781\ttotal: 29.7ms\tremaining: 342ms\n",
            "4:\tlearn: 0.8228073\ttotal: 36.3ms\tremaining: 327ms\n",
            "5:\tlearn: 0.8232509\ttotal: 43ms\tremaining: 315ms\n",
            "6:\tlearn: 0.8231074\ttotal: 49.4ms\tremaining: 303ms\n",
            "7:\tlearn: 0.8236017\ttotal: 55.9ms\tremaining: 294ms\n",
            "8:\tlearn: 0.8228581\ttotal: 62.2ms\tremaining: 284ms\n",
            "9:\tlearn: 0.8240188\ttotal: 70.7ms\tremaining: 283ms\n",
            "10:\tlearn: 0.8231036\ttotal: 84.2ms\tremaining: 298ms\n",
            "11:\tlearn: 0.8229337\ttotal: 92.2ms\tremaining: 292ms\n",
            "12:\tlearn: 0.8222207\ttotal: 98.5ms\tremaining: 280ms\n",
            "13:\tlearn: 0.8227256\ttotal: 105ms\tremaining: 270ms\n",
            "14:\tlearn: 0.8218649\ttotal: 111ms\tremaining: 260ms\n",
            "15:\tlearn: 0.8227193\ttotal: 118ms\tremaining: 251ms\n",
            "16:\tlearn: 0.8227230\ttotal: 124ms\tremaining: 242ms\n",
            "17:\tlearn: 0.8226676\ttotal: 131ms\tremaining: 233ms\n",
            "18:\tlearn: 0.8227930\ttotal: 137ms\tremaining: 224ms\n",
            "19:\tlearn: 0.8233390\ttotal: 144ms\tremaining: 215ms\n",
            "20:\tlearn: 0.8234694\ttotal: 150ms\tremaining: 207ms\n",
            "21:\tlearn: 0.8235555\ttotal: 156ms\tremaining: 199ms\n",
            "22:\tlearn: 0.8234302\ttotal: 163ms\tremaining: 191ms\n",
            "23:\tlearn: 0.8241166\ttotal: 169ms\tremaining: 183ms\n",
            "24:\tlearn: 0.8240648\ttotal: 176ms\tremaining: 176ms\n",
            "25:\tlearn: 0.8240263\ttotal: 182ms\tremaining: 168ms\n",
            "26:\tlearn: 0.8244040\ttotal: 188ms\tremaining: 160ms\n",
            "27:\tlearn: 0.8249405\ttotal: 194ms\tremaining: 153ms\n",
            "28:\tlearn: 0.8257049\ttotal: 207ms\tremaining: 150ms\n",
            "29:\tlearn: 0.8246517\ttotal: 214ms\tremaining: 142ms\n",
            "30:\tlearn: 0.8254032\ttotal: 221ms\tremaining: 135ms\n",
            "31:\tlearn: 0.8254011\ttotal: 227ms\tremaining: 128ms\n",
            "32:\tlearn: 0.8256860\ttotal: 234ms\tremaining: 121ms\n",
            "33:\tlearn: 0.8262286\ttotal: 241ms\tremaining: 113ms\n",
            "34:\tlearn: 0.8256074\ttotal: 247ms\tremaining: 106ms\n",
            "35:\tlearn: 0.8257811\ttotal: 254ms\tremaining: 98.6ms\n",
            "36:\tlearn: 0.8265363\ttotal: 260ms\tremaining: 91.4ms\n",
            "37:\tlearn: 0.8272967\ttotal: 273ms\tremaining: 86.2ms\n",
            "38:\tlearn: 0.8273814\ttotal: 280ms\tremaining: 78.9ms\n",
            "39:\tlearn: 0.8272333\ttotal: 291ms\tremaining: 72.8ms\n",
            "40:\tlearn: 0.8282287\ttotal: 302ms\tremaining: 66.3ms\n",
            "41:\tlearn: 0.8287520\ttotal: 309ms\tremaining: 58.8ms\n",
            "42:\tlearn: 0.8287749\ttotal: 316ms\tremaining: 51.5ms\n",
            "43:\tlearn: 0.8293630\ttotal: 323ms\tremaining: 44ms\n",
            "44:\tlearn: 0.8295310\ttotal: 329ms\tremaining: 36.6ms\n",
            "45:\tlearn: 0.8301836\ttotal: 336ms\tremaining: 29.2ms\n",
            "46:\tlearn: 0.8305335\ttotal: 342ms\tremaining: 21.8ms\n",
            "47:\tlearn: 0.8304180\ttotal: 349ms\tremaining: 14.5ms\n",
            "48:\tlearn: 0.8307720\ttotal: 357ms\tremaining: 7.28ms\n",
            "49:\tlearn: 0.8309259\ttotal: 363ms\tremaining: 0us\n",
            "0:\tlearn: 0.8207154\ttotal: 7.44ms\tremaining: 364ms\n",
            "1:\tlearn: 0.8202022\ttotal: 14.2ms\tremaining: 340ms\n",
            "2:\tlearn: 0.8205117\ttotal: 20.8ms\tremaining: 325ms\n",
            "3:\tlearn: 0.8216047\ttotal: 32.7ms\tremaining: 376ms\n",
            "4:\tlearn: 0.8198893\ttotal: 39.2ms\tremaining: 353ms\n",
            "5:\tlearn: 0.8213087\ttotal: 45.7ms\tremaining: 335ms\n",
            "6:\tlearn: 0.8216390\ttotal: 52.2ms\tremaining: 321ms\n",
            "7:\tlearn: 0.8224873\ttotal: 58.6ms\tremaining: 308ms\n",
            "8:\tlearn: 0.8233888\ttotal: 65.4ms\tremaining: 298ms\n",
            "9:\tlearn: 0.8223400\ttotal: 72.2ms\tremaining: 289ms\n",
            "10:\tlearn: 0.8225803\ttotal: 78.7ms\tremaining: 279ms\n",
            "11:\tlearn: 0.8223397\ttotal: 85.4ms\tremaining: 271ms\n",
            "12:\tlearn: 0.8226151\ttotal: 92ms\tremaining: 262ms\n",
            "13:\tlearn: 0.8233463\ttotal: 98.5ms\tremaining: 253ms\n",
            "14:\tlearn: 0.8230053\ttotal: 105ms\tremaining: 245ms\n",
            "15:\tlearn: 0.8222019\ttotal: 112ms\tremaining: 237ms\n",
            "16:\tlearn: 0.8231991\ttotal: 118ms\tremaining: 229ms\n",
            "17:\tlearn: 0.8223228\ttotal: 125ms\tremaining: 222ms\n",
            "18:\tlearn: 0.8225162\ttotal: 132ms\tremaining: 216ms\n",
            "19:\tlearn: 0.8225458\ttotal: 142ms\tremaining: 213ms\n",
            "20:\tlearn: 0.8227086\ttotal: 148ms\tremaining: 205ms\n",
            "21:\tlearn: 0.8229025\ttotal: 155ms\tremaining: 197ms\n",
            "22:\tlearn: 0.8243180\ttotal: 162ms\tremaining: 190ms\n",
            "23:\tlearn: 0.8237078\ttotal: 168ms\tremaining: 182ms\n",
            "24:\tlearn: 0.8246049\ttotal: 175ms\tremaining: 175ms\n",
            "25:\tlearn: 0.8237582\ttotal: 181ms\tremaining: 167ms\n",
            "26:\tlearn: 0.8238894\ttotal: 188ms\tremaining: 160ms\n",
            "27:\tlearn: 0.8257851\ttotal: 194ms\tremaining: 153ms\n",
            "28:\tlearn: 0.8258578\ttotal: 209ms\tremaining: 152ms\n",
            "29:\tlearn: 0.8256118\ttotal: 219ms\tremaining: 146ms\n",
            "30:\tlearn: 0.8257779\ttotal: 226ms\tremaining: 138ms\n",
            "31:\tlearn: 0.8260530\ttotal: 232ms\tremaining: 131ms\n",
            "32:\tlearn: 0.8260811\ttotal: 239ms\tremaining: 123ms\n",
            "33:\tlearn: 0.8267250\ttotal: 246ms\tremaining: 116ms\n",
            "34:\tlearn: 0.8275754\ttotal: 253ms\tremaining: 108ms\n",
            "35:\tlearn: 0.8282314\ttotal: 260ms\tremaining: 101ms\n",
            "36:\tlearn: 0.8279774\ttotal: 266ms\tremaining: 93.6ms\n",
            "37:\tlearn: 0.8286148\ttotal: 273ms\tremaining: 86.2ms\n",
            "38:\tlearn: 0.8289527\ttotal: 292ms\tremaining: 82.5ms\n",
            "39:\tlearn: 0.8287991\ttotal: 299ms\tremaining: 74.7ms\n",
            "40:\tlearn: 0.8292095\ttotal: 305ms\tremaining: 67ms\n",
            "41:\tlearn: 0.8291540\ttotal: 312ms\tremaining: 59.5ms\n",
            "42:\tlearn: 0.8290114\ttotal: 319ms\tremaining: 51.9ms\n",
            "43:\tlearn: 0.8295252\ttotal: 325ms\tremaining: 44.3ms\n",
            "44:\tlearn: 0.8296091\ttotal: 332ms\tremaining: 36.8ms\n",
            "45:\tlearn: 0.8295939\ttotal: 338ms\tremaining: 29.4ms\n",
            "46:\tlearn: 0.8296310\ttotal: 345ms\tremaining: 22ms\n",
            "47:\tlearn: 0.8297378\ttotal: 351ms\tremaining: 14.6ms\n",
            "48:\tlearn: 0.8300268\ttotal: 358ms\tremaining: 7.3ms\n",
            "49:\tlearn: 0.8302881\ttotal: 364ms\tremaining: 0us\n",
            "0:\tlearn: 0.8212797\ttotal: 7.42ms\tremaining: 364ms\n",
            "1:\tlearn: 0.8217589\ttotal: 13.8ms\tremaining: 332ms\n",
            "2:\tlearn: 0.8221040\ttotal: 20.2ms\tremaining: 316ms\n",
            "3:\tlearn: 0.8224184\ttotal: 26.6ms\tremaining: 306ms\n",
            "4:\tlearn: 0.8217881\ttotal: 33ms\tremaining: 297ms\n",
            "5:\tlearn: 0.8225217\ttotal: 39.6ms\tremaining: 290ms\n",
            "6:\tlearn: 0.8230053\ttotal: 46ms\tremaining: 283ms\n",
            "7:\tlearn: 0.8232723\ttotal: 52.3ms\tremaining: 275ms\n",
            "8:\tlearn: 0.8228952\ttotal: 58.6ms\tremaining: 267ms\n",
            "9:\tlearn: 0.8234078\ttotal: 65ms\tremaining: 260ms\n",
            "10:\tlearn: 0.8234382\ttotal: 71.5ms\tremaining: 253ms\n",
            "11:\tlearn: 0.8236441\ttotal: 77.9ms\tremaining: 247ms\n",
            "12:\tlearn: 0.8239059\ttotal: 84.1ms\tremaining: 239ms\n",
            "13:\tlearn: 0.8237021\ttotal: 90.7ms\tremaining: 233ms\n",
            "14:\tlearn: 0.8237962\ttotal: 97.3ms\tremaining: 227ms\n",
            "15:\tlearn: 0.8236264\ttotal: 104ms\tremaining: 220ms\n",
            "16:\tlearn: 0.8240638\ttotal: 110ms\tremaining: 213ms\n",
            "17:\tlearn: 0.8241428\ttotal: 118ms\tremaining: 210ms\n",
            "18:\tlearn: 0.8236054\ttotal: 124ms\tremaining: 203ms\n",
            "19:\tlearn: 0.8240559\ttotal: 131ms\tremaining: 196ms\n",
            "20:\tlearn: 0.8239932\ttotal: 137ms\tremaining: 189ms\n",
            "21:\tlearn: 0.8243985\ttotal: 145ms\tremaining: 184ms\n",
            "22:\tlearn: 0.8244091\ttotal: 151ms\tremaining: 178ms\n",
            "23:\tlearn: 0.8244029\ttotal: 160ms\tremaining: 173ms\n",
            "24:\tlearn: 0.8245324\ttotal: 166ms\tremaining: 166ms\n",
            "25:\tlearn: 0.8250134\ttotal: 172ms\tremaining: 159ms\n",
            "26:\tlearn: 0.8252649\ttotal: 179ms\tremaining: 152ms\n",
            "27:\tlearn: 0.8246583\ttotal: 185ms\tremaining: 145ms\n",
            "28:\tlearn: 0.8259256\ttotal: 191ms\tremaining: 139ms\n",
            "29:\tlearn: 0.8269037\ttotal: 198ms\tremaining: 132ms\n",
            "30:\tlearn: 0.8264105\ttotal: 212ms\tremaining: 130ms\n",
            "31:\tlearn: 0.8263299\ttotal: 218ms\tremaining: 122ms\n",
            "32:\tlearn: 0.8265927\ttotal: 225ms\tremaining: 116ms\n",
            "33:\tlearn: 0.8272286\ttotal: 234ms\tremaining: 110ms\n",
            "34:\tlearn: 0.8277326\ttotal: 240ms\tremaining: 103ms\n",
            "35:\tlearn: 0.8277635\ttotal: 247ms\tremaining: 96ms\n",
            "36:\tlearn: 0.8278623\ttotal: 253ms\tremaining: 88.9ms\n",
            "37:\tlearn: 0.8287579\ttotal: 259ms\tremaining: 81.9ms\n",
            "38:\tlearn: 0.8284571\ttotal: 266ms\tremaining: 74.9ms\n",
            "39:\tlearn: 0.8285574\ttotal: 273ms\tremaining: 68.1ms\n",
            "40:\tlearn: 0.8294548\ttotal: 279ms\tremaining: 61.2ms\n",
            "41:\tlearn: 0.8292443\ttotal: 285ms\tremaining: 54.3ms\n",
            "42:\tlearn: 0.8296084\ttotal: 291ms\tremaining: 47.5ms\n",
            "43:\tlearn: 0.8292465\ttotal: 298ms\tremaining: 40.6ms\n",
            "44:\tlearn: 0.8298800\ttotal: 304ms\tremaining: 33.8ms\n",
            "45:\tlearn: 0.8298367\ttotal: 310ms\tremaining: 27ms\n",
            "46:\tlearn: 0.8300250\ttotal: 317ms\tremaining: 20.2ms\n",
            "47:\tlearn: 0.8297506\ttotal: 323ms\tremaining: 13.5ms\n",
            "48:\tlearn: 0.8307479\ttotal: 330ms\tremaining: 6.73ms\n",
            "49:\tlearn: 0.8309651\ttotal: 336ms\tremaining: 0us\n",
            "0:\tlearn: 0.8163678\ttotal: 7.49ms\tremaining: 367ms\n",
            "1:\tlearn: 0.8202104\ttotal: 14ms\tremaining: 337ms\n",
            "2:\tlearn: 0.8200861\ttotal: 20.4ms\tremaining: 319ms\n",
            "3:\tlearn: 0.8222193\ttotal: 27ms\tremaining: 310ms\n",
            "4:\tlearn: 0.8213553\ttotal: 33.4ms\tremaining: 301ms\n",
            "5:\tlearn: 0.8223321\ttotal: 40.5ms\tremaining: 297ms\n",
            "6:\tlearn: 0.8218839\ttotal: 46.8ms\tremaining: 288ms\n",
            "7:\tlearn: 0.8215350\ttotal: 53.2ms\tremaining: 279ms\n",
            "8:\tlearn: 0.8210779\ttotal: 59.4ms\tremaining: 271ms\n",
            "9:\tlearn: 0.8225070\ttotal: 65.9ms\tremaining: 264ms\n",
            "10:\tlearn: 0.8223706\ttotal: 72.1ms\tremaining: 256ms\n",
            "11:\tlearn: 0.8219154\ttotal: 78.5ms\tremaining: 249ms\n",
            "12:\tlearn: 0.8223933\ttotal: 84.7ms\tremaining: 241ms\n",
            "13:\tlearn: 0.8222549\ttotal: 91.1ms\tremaining: 234ms\n",
            "14:\tlearn: 0.8224857\ttotal: 97.4ms\tremaining: 227ms\n",
            "15:\tlearn: 0.8224595\ttotal: 104ms\tremaining: 220ms\n",
            "16:\tlearn: 0.8229137\ttotal: 110ms\tremaining: 213ms\n",
            "17:\tlearn: 0.8226170\ttotal: 116ms\tremaining: 207ms\n",
            "18:\tlearn: 0.8226530\ttotal: 123ms\tremaining: 200ms\n",
            "19:\tlearn: 0.8224007\ttotal: 129ms\tremaining: 194ms\n",
            "20:\tlearn: 0.8224166\ttotal: 136ms\tremaining: 188ms\n",
            "21:\tlearn: 0.8228317\ttotal: 142ms\tremaining: 181ms\n",
            "22:\tlearn: 0.8223416\ttotal: 149ms\tremaining: 174ms\n",
            "23:\tlearn: 0.8228944\ttotal: 155ms\tremaining: 168ms\n",
            "24:\tlearn: 0.8229074\ttotal: 161ms\tremaining: 161ms\n",
            "25:\tlearn: 0.8236160\ttotal: 168ms\tremaining: 155ms\n",
            "26:\tlearn: 0.8230613\ttotal: 174ms\tremaining: 148ms\n",
            "27:\tlearn: 0.8240284\ttotal: 180ms\tremaining: 142ms\n",
            "28:\tlearn: 0.8240600\ttotal: 186ms\tremaining: 135ms\n",
            "29:\tlearn: 0.8237477\ttotal: 193ms\tremaining: 129ms\n",
            "30:\tlearn: 0.8252566\ttotal: 199ms\tremaining: 122ms\n",
            "31:\tlearn: 0.8259316\ttotal: 223ms\tremaining: 125ms\n",
            "32:\tlearn: 0.8261492\ttotal: 235ms\tremaining: 121ms\n",
            "33:\tlearn: 0.8263136\ttotal: 241ms\tremaining: 114ms\n",
            "34:\tlearn: 0.8263974\ttotal: 248ms\tremaining: 106ms\n",
            "35:\tlearn: 0.8265795\ttotal: 254ms\tremaining: 98.8ms\n",
            "36:\tlearn: 0.8269145\ttotal: 260ms\tremaining: 91.5ms\n",
            "37:\tlearn: 0.8271724\ttotal: 267ms\tremaining: 84.3ms\n",
            "38:\tlearn: 0.8271677\ttotal: 274ms\tremaining: 77.2ms\n",
            "39:\tlearn: 0.8274519\ttotal: 281ms\tremaining: 70.2ms\n",
            "40:\tlearn: 0.8276743\ttotal: 287ms\tremaining: 63.1ms\n",
            "41:\tlearn: 0.8276959\ttotal: 294ms\tremaining: 55.9ms\n",
            "42:\tlearn: 0.8280928\ttotal: 300ms\tremaining: 48.9ms\n",
            "43:\tlearn: 0.8286731\ttotal: 307ms\tremaining: 41.8ms\n",
            "44:\tlearn: 0.8287001\ttotal: 313ms\tremaining: 34.8ms\n",
            "45:\tlearn: 0.8290323\ttotal: 320ms\tremaining: 27.8ms\n",
            "46:\tlearn: 0.8291022\ttotal: 326ms\tremaining: 20.8ms\n",
            "47:\tlearn: 0.8289609\ttotal: 333ms\tremaining: 13.9ms\n",
            "48:\tlearn: 0.8287412\ttotal: 340ms\tremaining: 6.93ms\n",
            "49:\tlearn: 0.8285407\ttotal: 346ms\tremaining: 0us\n",
            "0:\tlearn: 0.8182001\ttotal: 7.42ms\tremaining: 364ms\n",
            "1:\tlearn: 0.8209084\ttotal: 14ms\tremaining: 336ms\n",
            "2:\tlearn: 0.8195502\ttotal: 20.7ms\tremaining: 325ms\n",
            "3:\tlearn: 0.8216133\ttotal: 27.2ms\tremaining: 313ms\n",
            "4:\tlearn: 0.8215994\ttotal: 33.7ms\tremaining: 303ms\n",
            "5:\tlearn: 0.8228841\ttotal: 40.2ms\tremaining: 295ms\n",
            "6:\tlearn: 0.8218029\ttotal: 46.9ms\tremaining: 288ms\n",
            "7:\tlearn: 0.8225234\ttotal: 53.5ms\tremaining: 281ms\n",
            "8:\tlearn: 0.8223840\ttotal: 60.1ms\tremaining: 274ms\n",
            "9:\tlearn: 0.8226916\ttotal: 66.6ms\tremaining: 266ms\n",
            "10:\tlearn: 0.8227840\ttotal: 73ms\tremaining: 259ms\n",
            "11:\tlearn: 0.8215247\ttotal: 79.5ms\tremaining: 252ms\n",
            "12:\tlearn: 0.8217641\ttotal: 86ms\tremaining: 245ms\n",
            "13:\tlearn: 0.8218361\ttotal: 92.5ms\tremaining: 238ms\n",
            "14:\tlearn: 0.8215614\ttotal: 99ms\tremaining: 231ms\n",
            "15:\tlearn: 0.8217568\ttotal: 105ms\tremaining: 224ms\n",
            "16:\tlearn: 0.8217058\ttotal: 112ms\tremaining: 217ms\n",
            "17:\tlearn: 0.8220622\ttotal: 119ms\tremaining: 211ms\n",
            "18:\tlearn: 0.8221585\ttotal: 125ms\tremaining: 204ms\n",
            "19:\tlearn: 0.8215917\ttotal: 132ms\tremaining: 197ms\n",
            "20:\tlearn: 0.8227452\ttotal: 138ms\tremaining: 191ms\n",
            "21:\tlearn: 0.8228312\ttotal: 145ms\tremaining: 184ms\n",
            "22:\tlearn: 0.8222767\ttotal: 151ms\tremaining: 178ms\n",
            "23:\tlearn: 0.8222059\ttotal: 158ms\tremaining: 171ms\n",
            "24:\tlearn: 0.8230260\ttotal: 164ms\tremaining: 164ms\n",
            "25:\tlearn: 0.8243913\ttotal: 171ms\tremaining: 158ms\n",
            "26:\tlearn: 0.8240556\ttotal: 180ms\tremaining: 154ms\n",
            "27:\tlearn: 0.8243225\ttotal: 187ms\tremaining: 147ms\n",
            "28:\tlearn: 0.8248701\ttotal: 193ms\tremaining: 140ms\n",
            "29:\tlearn: 0.8250463\ttotal: 207ms\tremaining: 138ms\n",
            "30:\tlearn: 0.8251393\ttotal: 213ms\tremaining: 131ms\n",
            "31:\tlearn: 0.8254818\ttotal: 220ms\tremaining: 124ms\n",
            "32:\tlearn: 0.8266304\ttotal: 226ms\tremaining: 116ms\n",
            "33:\tlearn: 0.8263366\ttotal: 233ms\tremaining: 109ms\n",
            "34:\tlearn: 0.8268561\ttotal: 239ms\tremaining: 102ms\n",
            "35:\tlearn: 0.8274599\ttotal: 245ms\tremaining: 95.4ms\n",
            "36:\tlearn: 0.8273645\ttotal: 252ms\tremaining: 88.5ms\n",
            "37:\tlearn: 0.8271919\ttotal: 258ms\tremaining: 81.6ms\n",
            "38:\tlearn: 0.8275200\ttotal: 265ms\tremaining: 74.7ms\n",
            "39:\tlearn: 0.8280249\ttotal: 271ms\tremaining: 67.8ms\n",
            "40:\tlearn: 0.8291823\ttotal: 278ms\tremaining: 61ms\n",
            "41:\tlearn: 0.8293804\ttotal: 284ms\tremaining: 54.1ms\n",
            "42:\tlearn: 0.8297493\ttotal: 291ms\tremaining: 47.3ms\n",
            "43:\tlearn: 0.8298831\ttotal: 297ms\tremaining: 40.5ms\n",
            "44:\tlearn: 0.8302156\ttotal: 304ms\tremaining: 33.8ms\n",
            "45:\tlearn: 0.8301078\ttotal: 310ms\tremaining: 27ms\n",
            "46:\tlearn: 0.8300446\ttotal: 317ms\tremaining: 20.2ms\n",
            "47:\tlearn: 0.8299629\ttotal: 323ms\tremaining: 13.5ms\n",
            "48:\tlearn: 0.8303083\ttotal: 329ms\tremaining: 6.72ms\n",
            "49:\tlearn: 0.8304203\ttotal: 340ms\tremaining: 0us\n",
            "0:\tlearn: 0.8149140\ttotal: 6.8ms\tremaining: 333ms\n",
            "1:\tlearn: 0.8113679\ttotal: 12.4ms\tremaining: 298ms\n",
            "2:\tlearn: 0.8225110\ttotal: 18.3ms\tremaining: 286ms\n",
            "3:\tlearn: 0.8227276\ttotal: 24ms\tremaining: 276ms\n",
            "4:\tlearn: 0.8217692\ttotal: 29.8ms\tremaining: 268ms\n",
            "5:\tlearn: 0.8232083\ttotal: 35.5ms\tremaining: 261ms\n",
            "6:\tlearn: 0.8231111\ttotal: 41.2ms\tremaining: 253ms\n",
            "7:\tlearn: 0.8216124\ttotal: 46.8ms\tremaining: 246ms\n",
            "8:\tlearn: 0.8216779\ttotal: 53.7ms\tremaining: 245ms\n",
            "9:\tlearn: 0.8209647\ttotal: 61.1ms\tremaining: 244ms\n",
            "10:\tlearn: 0.8221831\ttotal: 66.7ms\tremaining: 237ms\n",
            "11:\tlearn: 0.8203581\ttotal: 72.4ms\tremaining: 229ms\n",
            "12:\tlearn: 0.8205753\ttotal: 78.3ms\tremaining: 223ms\n",
            "13:\tlearn: 0.8213961\ttotal: 84ms\tremaining: 216ms\n",
            "14:\tlearn: 0.8208408\ttotal: 89.6ms\tremaining: 209ms\n",
            "15:\tlearn: 0.8197948\ttotal: 95.3ms\tremaining: 203ms\n",
            "16:\tlearn: 0.8207283\ttotal: 101ms\tremaining: 197ms\n",
            "17:\tlearn: 0.8204066\ttotal: 107ms\tremaining: 190ms\n",
            "18:\tlearn: 0.8204114\ttotal: 113ms\tremaining: 184ms\n",
            "19:\tlearn: 0.8204500\ttotal: 118ms\tremaining: 178ms\n",
            "20:\tlearn: 0.8204250\ttotal: 124ms\tremaining: 171ms\n",
            "21:\tlearn: 0.8204843\ttotal: 130ms\tremaining: 165ms\n",
            "22:\tlearn: 0.8190710\ttotal: 136ms\tremaining: 159ms\n",
            "23:\tlearn: 0.8208929\ttotal: 141ms\tremaining: 153ms\n",
            "24:\tlearn: 0.8209679\ttotal: 147ms\tremaining: 147ms\n",
            "25:\tlearn: 0.8207522\ttotal: 159ms\tremaining: 147ms\n",
            "26:\tlearn: 0.8209828\ttotal: 166ms\tremaining: 141ms\n",
            "27:\tlearn: 0.8209403\ttotal: 171ms\tremaining: 135ms\n",
            "28:\tlearn: 0.8219300\ttotal: 177ms\tremaining: 128ms\n",
            "29:\tlearn: 0.8218020\ttotal: 183ms\tremaining: 122ms\n",
            "30:\tlearn: 0.8229146\ttotal: 188ms\tremaining: 115ms\n",
            "31:\tlearn: 0.8229020\ttotal: 194ms\tremaining: 109ms\n",
            "32:\tlearn: 0.8231831\ttotal: 206ms\tremaining: 106ms\n",
            "33:\tlearn: 0.8230519\ttotal: 211ms\tremaining: 99.5ms\n",
            "34:\tlearn: 0.8233039\ttotal: 219ms\tremaining: 93.8ms\n",
            "35:\tlearn: 0.8240753\ttotal: 227ms\tremaining: 88.2ms\n",
            "36:\tlearn: 0.8248829\ttotal: 232ms\tremaining: 81.7ms\n",
            "37:\tlearn: 0.8250117\ttotal: 238ms\tremaining: 75.2ms\n",
            "38:\tlearn: 0.8252977\ttotal: 244ms\tremaining: 68.7ms\n",
            "39:\tlearn: 0.8251077\ttotal: 249ms\tremaining: 62.4ms\n",
            "40:\tlearn: 0.8255243\ttotal: 255ms\tremaining: 56ms\n",
            "41:\tlearn: 0.8266125\ttotal: 261ms\tremaining: 49.6ms\n",
            "42:\tlearn: 0.8263275\ttotal: 266ms\tremaining: 43.4ms\n",
            "43:\tlearn: 0.8265352\ttotal: 272ms\tremaining: 37.1ms\n",
            "44:\tlearn: 0.8264566\ttotal: 278ms\tremaining: 30.9ms\n",
            "45:\tlearn: 0.8270348\ttotal: 284ms\tremaining: 24.7ms\n",
            "46:\tlearn: 0.8280130\ttotal: 289ms\tremaining: 18.5ms\n",
            "47:\tlearn: 0.8281669\ttotal: 295ms\tremaining: 12.3ms\n",
            "48:\tlearn: 0.8283654\ttotal: 301ms\tremaining: 6.14ms\n",
            "49:\tlearn: 0.8283320\ttotal: 307ms\tremaining: 0us\n",
            "0:\tlearn: 0.8115735\ttotal: 6.58ms\tremaining: 323ms\n",
            "1:\tlearn: 0.8211790\ttotal: 12.7ms\tremaining: 304ms\n",
            "2:\tlearn: 0.8117558\ttotal: 22.4ms\tremaining: 351ms\n",
            "3:\tlearn: 0.8117318\ttotal: 28.1ms\tremaining: 323ms\n",
            "4:\tlearn: 0.8179173\ttotal: 33.9ms\tremaining: 305ms\n",
            "5:\tlearn: 0.8214048\ttotal: 39.6ms\tremaining: 291ms\n",
            "6:\tlearn: 0.8213621\ttotal: 46.8ms\tremaining: 287ms\n",
            "7:\tlearn: 0.8223526\ttotal: 52.5ms\tremaining: 276ms\n",
            "8:\tlearn: 0.8221015\ttotal: 58.2ms\tremaining: 265ms\n",
            "9:\tlearn: 0.8185239\ttotal: 63.9ms\tremaining: 256ms\n",
            "10:\tlearn: 0.8211189\ttotal: 69.6ms\tremaining: 247ms\n",
            "11:\tlearn: 0.8200682\ttotal: 75.5ms\tremaining: 239ms\n",
            "12:\tlearn: 0.8209931\ttotal: 81.1ms\tremaining: 231ms\n",
            "13:\tlearn: 0.8200499\ttotal: 86.8ms\tremaining: 223ms\n",
            "14:\tlearn: 0.8198360\ttotal: 92.6ms\tremaining: 216ms\n",
            "15:\tlearn: 0.8206798\ttotal: 98.3ms\tremaining: 209ms\n",
            "16:\tlearn: 0.8211393\ttotal: 104ms\tremaining: 202ms\n",
            "17:\tlearn: 0.8212083\ttotal: 110ms\tremaining: 195ms\n",
            "18:\tlearn: 0.8208147\ttotal: 115ms\tremaining: 188ms\n",
            "19:\tlearn: 0.8209032\ttotal: 121ms\tremaining: 182ms\n",
            "20:\tlearn: 0.8209664\ttotal: 127ms\tremaining: 175ms\n",
            "21:\tlearn: 0.8217355\ttotal: 132ms\tremaining: 169ms\n",
            "22:\tlearn: 0.8203514\ttotal: 138ms\tremaining: 162ms\n",
            "23:\tlearn: 0.8220034\ttotal: 144ms\tremaining: 156ms\n",
            "24:\tlearn: 0.8223794\ttotal: 150ms\tremaining: 150ms\n",
            "25:\tlearn: 0.8220261\ttotal: 155ms\tremaining: 143ms\n",
            "26:\tlearn: 0.8223115\ttotal: 161ms\tremaining: 137ms\n",
            "27:\tlearn: 0.8227004\ttotal: 167ms\tremaining: 131ms\n",
            "28:\tlearn: 0.8224003\ttotal: 173ms\tremaining: 125ms\n",
            "29:\tlearn: 0.8225630\ttotal: 179ms\tremaining: 119ms\n",
            "30:\tlearn: 0.8228755\ttotal: 185ms\tremaining: 113ms\n",
            "31:\tlearn: 0.8238847\ttotal: 191ms\tremaining: 107ms\n",
            "32:\tlearn: 0.8239928\ttotal: 197ms\tremaining: 101ms\n",
            "33:\tlearn: 0.8238165\ttotal: 209ms\tremaining: 98.3ms\n",
            "34:\tlearn: 0.8242110\ttotal: 215ms\tremaining: 92.3ms\n",
            "35:\tlearn: 0.8242796\ttotal: 221ms\tremaining: 86.1ms\n",
            "36:\tlearn: 0.8243848\ttotal: 228ms\tremaining: 80.1ms\n",
            "37:\tlearn: 0.8243618\ttotal: 234ms\tremaining: 73.9ms\n",
            "38:\tlearn: 0.8249782\ttotal: 241ms\tremaining: 67.8ms\n",
            "39:\tlearn: 0.8251786\ttotal: 246ms\tremaining: 61.6ms\n",
            "40:\tlearn: 0.8255517\ttotal: 252ms\tremaining: 55.4ms\n",
            "41:\tlearn: 0.8260111\ttotal: 258ms\tremaining: 49.1ms\n",
            "42:\tlearn: 0.8260267\ttotal: 264ms\tremaining: 42.9ms\n",
            "43:\tlearn: 0.8267162\ttotal: 269ms\tremaining: 36.7ms\n",
            "44:\tlearn: 0.8267222\ttotal: 275ms\tremaining: 30.6ms\n",
            "45:\tlearn: 0.8267812\ttotal: 281ms\tremaining: 24.4ms\n",
            "46:\tlearn: 0.8270186\ttotal: 287ms\tremaining: 18.3ms\n",
            "47:\tlearn: 0.8272315\ttotal: 295ms\tremaining: 12.3ms\n",
            "48:\tlearn: 0.8277219\ttotal: 301ms\tremaining: 6.14ms\n",
            "49:\tlearn: 0.8277004\ttotal: 307ms\tremaining: 0us\n",
            "0:\tlearn: 0.8112571\ttotal: 6.68ms\tremaining: 328ms\n",
            "1:\tlearn: 0.8225050\ttotal: 12.3ms\tremaining: 296ms\n",
            "2:\tlearn: 0.8214734\ttotal: 18ms\tremaining: 281ms\n",
            "3:\tlearn: 0.8117096\ttotal: 23.9ms\tremaining: 274ms\n",
            "4:\tlearn: 0.8189721\ttotal: 29.5ms\tremaining: 266ms\n",
            "5:\tlearn: 0.8214903\ttotal: 35.3ms\tremaining: 259ms\n",
            "6:\tlearn: 0.8212055\ttotal: 40.9ms\tremaining: 251ms\n",
            "7:\tlearn: 0.8216538\ttotal: 46.5ms\tremaining: 244ms\n",
            "8:\tlearn: 0.8215449\ttotal: 52.1ms\tremaining: 237ms\n",
            "9:\tlearn: 0.8225621\ttotal: 57.7ms\tremaining: 231ms\n",
            "10:\tlearn: 0.8223789\ttotal: 63.4ms\tremaining: 225ms\n",
            "11:\tlearn: 0.8224448\ttotal: 69.1ms\tremaining: 219ms\n",
            "12:\tlearn: 0.8217637\ttotal: 74.7ms\tremaining: 213ms\n",
            "13:\tlearn: 0.8214365\ttotal: 80.3ms\tremaining: 206ms\n",
            "14:\tlearn: 0.8215930\ttotal: 85.9ms\tremaining: 200ms\n",
            "15:\tlearn: 0.8215683\ttotal: 91.6ms\tremaining: 195ms\n",
            "16:\tlearn: 0.8214937\ttotal: 97.1ms\tremaining: 188ms\n",
            "17:\tlearn: 0.8204661\ttotal: 103ms\tremaining: 183ms\n",
            "18:\tlearn: 0.8205356\ttotal: 108ms\tremaining: 177ms\n",
            "19:\tlearn: 0.8210160\ttotal: 114ms\tremaining: 171ms\n",
            "20:\tlearn: 0.8213007\ttotal: 120ms\tremaining: 165ms\n",
            "21:\tlearn: 0.8216443\ttotal: 125ms\tremaining: 160ms\n",
            "22:\tlearn: 0.8202580\ttotal: 131ms\tremaining: 154ms\n",
            "23:\tlearn: 0.8210564\ttotal: 137ms\tremaining: 148ms\n",
            "24:\tlearn: 0.8218580\ttotal: 143ms\tremaining: 143ms\n",
            "25:\tlearn: 0.8212580\ttotal: 148ms\tremaining: 137ms\n",
            "26:\tlearn: 0.8212946\ttotal: 154ms\tremaining: 131ms\n",
            "27:\tlearn: 0.8225540\ttotal: 163ms\tremaining: 128ms\n",
            "28:\tlearn: 0.8230221\ttotal: 169ms\tremaining: 122ms\n",
            "29:\tlearn: 0.8235110\ttotal: 174ms\tremaining: 116ms\n",
            "30:\tlearn: 0.8228156\ttotal: 180ms\tremaining: 110ms\n",
            "31:\tlearn: 0.8239684\ttotal: 188ms\tremaining: 106ms\n",
            "32:\tlearn: 0.8239240\ttotal: 194ms\tremaining: 99.9ms\n",
            "33:\tlearn: 0.8246543\ttotal: 207ms\tremaining: 97.3ms\n",
            "34:\tlearn: 0.8248413\ttotal: 213ms\tremaining: 91.3ms\n",
            "35:\tlearn: 0.8248418\ttotal: 219ms\tremaining: 85.2ms\n",
            "36:\tlearn: 0.8250380\ttotal: 225ms\tremaining: 79.1ms\n",
            "37:\tlearn: 0.8253060\ttotal: 232ms\tremaining: 73.1ms\n",
            "38:\tlearn: 0.8260035\ttotal: 239ms\tremaining: 67.4ms\n",
            "39:\tlearn: 0.8262995\ttotal: 245ms\tremaining: 61.2ms\n",
            "40:\tlearn: 0.8261005\ttotal: 250ms\tremaining: 55ms\n",
            "41:\tlearn: 0.8264577\ttotal: 256ms\tremaining: 48.8ms\n",
            "42:\tlearn: 0.8274830\ttotal: 262ms\tremaining: 42.6ms\n",
            "43:\tlearn: 0.8276401\ttotal: 268ms\tremaining: 36.5ms\n",
            "44:\tlearn: 0.8279330\ttotal: 273ms\tremaining: 30.4ms\n",
            "45:\tlearn: 0.8274613\ttotal: 279ms\tremaining: 24.3ms\n",
            "46:\tlearn: 0.8278344\ttotal: 286ms\tremaining: 18.3ms\n",
            "47:\tlearn: 0.8276896\ttotal: 292ms\tremaining: 12.2ms\n",
            "48:\tlearn: 0.8278083\ttotal: 298ms\tremaining: 6.07ms\n",
            "49:\tlearn: 0.8280705\ttotal: 303ms\tremaining: 0us\n",
            "0:\tlearn: 0.8022259\ttotal: 6.86ms\tremaining: 336ms\n",
            "1:\tlearn: 0.8161752\ttotal: 12.5ms\tremaining: 301ms\n",
            "2:\tlearn: 0.8119387\ttotal: 18.4ms\tremaining: 288ms\n",
            "3:\tlearn: 0.8121780\ttotal: 24.2ms\tremaining: 278ms\n",
            "4:\tlearn: 0.8160286\ttotal: 29.9ms\tremaining: 269ms\n",
            "5:\tlearn: 0.8168349\ttotal: 35.6ms\tremaining: 261ms\n",
            "6:\tlearn: 0.8171937\ttotal: 41.5ms\tremaining: 255ms\n",
            "7:\tlearn: 0.8168552\ttotal: 47.2ms\tremaining: 248ms\n",
            "8:\tlearn: 0.8169849\ttotal: 52.8ms\tremaining: 241ms\n",
            "9:\tlearn: 0.8208650\ttotal: 58.5ms\tremaining: 234ms\n",
            "10:\tlearn: 0.8211573\ttotal: 64.4ms\tremaining: 228ms\n",
            "11:\tlearn: 0.8212166\ttotal: 70.1ms\tremaining: 222ms\n",
            "12:\tlearn: 0.8221271\ttotal: 75.8ms\tremaining: 216ms\n",
            "13:\tlearn: 0.8200316\ttotal: 81.7ms\tremaining: 210ms\n",
            "14:\tlearn: 0.8217078\ttotal: 87.3ms\tremaining: 204ms\n",
            "15:\tlearn: 0.8208069\ttotal: 93ms\tremaining: 198ms\n",
            "16:\tlearn: 0.8206618\ttotal: 98.8ms\tremaining: 192ms\n",
            "17:\tlearn: 0.8207528\ttotal: 104ms\tremaining: 186ms\n",
            "18:\tlearn: 0.8208972\ttotal: 110ms\tremaining: 180ms\n",
            "19:\tlearn: 0.8210875\ttotal: 116ms\tremaining: 174ms\n",
            "20:\tlearn: 0.8207136\ttotal: 122ms\tremaining: 168ms\n",
            "21:\tlearn: 0.8209232\ttotal: 127ms\tremaining: 162ms\n",
            "22:\tlearn: 0.8203567\ttotal: 133ms\tremaining: 156ms\n",
            "23:\tlearn: 0.8207651\ttotal: 139ms\tremaining: 150ms\n",
            "24:\tlearn: 0.8211006\ttotal: 145ms\tremaining: 145ms\n",
            "25:\tlearn: 0.8207537\ttotal: 150ms\tremaining: 139ms\n",
            "26:\tlearn: 0.8215844\ttotal: 156ms\tremaining: 133ms\n",
            "27:\tlearn: 0.8218136\ttotal: 162ms\tremaining: 127ms\n",
            "28:\tlearn: 0.8222327\ttotal: 168ms\tremaining: 121ms\n",
            "29:\tlearn: 0.8224901\ttotal: 173ms\tremaining: 116ms\n",
            "30:\tlearn: 0.8225236\ttotal: 179ms\tremaining: 110ms\n",
            "31:\tlearn: 0.8236057\ttotal: 185ms\tremaining: 104ms\n",
            "32:\tlearn: 0.8244408\ttotal: 191ms\tremaining: 98.2ms\n",
            "33:\tlearn: 0.8248190\ttotal: 196ms\tremaining: 92.5ms\n",
            "34:\tlearn: 0.8245319\ttotal: 209ms\tremaining: 89.5ms\n",
            "35:\tlearn: 0.8250465\ttotal: 215ms\tremaining: 83.5ms\n",
            "36:\tlearn: 0.8254039\ttotal: 220ms\tremaining: 77.4ms\n",
            "37:\tlearn: 0.8265251\ttotal: 227ms\tremaining: 71.6ms\n",
            "38:\tlearn: 0.8260899\ttotal: 233ms\tremaining: 65.6ms\n",
            "39:\tlearn: 0.8260373\ttotal: 239ms\tremaining: 59.6ms\n",
            "40:\tlearn: 0.8261279\ttotal: 244ms\tremaining: 53.6ms\n",
            "41:\tlearn: 0.8266595\ttotal: 250ms\tremaining: 47.6ms\n",
            "42:\tlearn: 0.8267575\ttotal: 256ms\tremaining: 41.6ms\n",
            "43:\tlearn: 0.8269628\ttotal: 261ms\tremaining: 35.6ms\n",
            "44:\tlearn: 0.8271361\ttotal: 267ms\tremaining: 29.6ms\n",
            "45:\tlearn: 0.8269412\ttotal: 273ms\tremaining: 23.7ms\n",
            "46:\tlearn: 0.8271671\ttotal: 278ms\tremaining: 17.8ms\n",
            "47:\tlearn: 0.8273604\ttotal: 284ms\tremaining: 11.8ms\n",
            "48:\tlearn: 0.8272782\ttotal: 290ms\tremaining: 5.91ms\n",
            "49:\tlearn: 0.8277254\ttotal: 295ms\tremaining: 0us\n",
            "0:\tlearn: 0.8078383\ttotal: 6.96ms\tremaining: 341ms\n",
            "1:\tlearn: 0.8200906\ttotal: 12.9ms\tremaining: 309ms\n",
            "2:\tlearn: 0.8194250\ttotal: 18.8ms\tremaining: 294ms\n",
            "3:\tlearn: 0.8118304\ttotal: 24.9ms\tremaining: 286ms\n",
            "4:\tlearn: 0.8206364\ttotal: 30.5ms\tremaining: 275ms\n",
            "5:\tlearn: 0.8211669\ttotal: 36ms\tremaining: 264ms\n",
            "6:\tlearn: 0.8206218\ttotal: 41.6ms\tremaining: 256ms\n",
            "7:\tlearn: 0.8212069\ttotal: 47.3ms\tremaining: 249ms\n",
            "8:\tlearn: 0.8209175\ttotal: 62.7ms\tremaining: 286ms\n",
            "9:\tlearn: 0.8212123\ttotal: 68.3ms\tremaining: 273ms\n",
            "10:\tlearn: 0.8214821\ttotal: 73.7ms\tremaining: 261ms\n",
            "11:\tlearn: 0.8214886\ttotal: 79.5ms\tremaining: 252ms\n",
            "12:\tlearn: 0.8212661\ttotal: 85.2ms\tremaining: 242ms\n",
            "13:\tlearn: 0.8193795\ttotal: 90.7ms\tremaining: 233ms\n",
            "14:\tlearn: 0.8198855\ttotal: 96.2ms\tremaining: 224ms\n",
            "15:\tlearn: 0.8210615\ttotal: 102ms\tremaining: 217ms\n",
            "16:\tlearn: 0.8209457\ttotal: 108ms\tremaining: 209ms\n",
            "17:\tlearn: 0.8211360\ttotal: 114ms\tremaining: 203ms\n",
            "18:\tlearn: 0.8208909\ttotal: 121ms\tremaining: 197ms\n",
            "19:\tlearn: 0.8203929\ttotal: 127ms\tremaining: 191ms\n",
            "20:\tlearn: 0.8208007\ttotal: 133ms\tremaining: 183ms\n",
            "21:\tlearn: 0.8207585\ttotal: 139ms\tremaining: 177ms\n",
            "22:\tlearn: 0.8199032\ttotal: 145ms\tremaining: 170ms\n",
            "23:\tlearn: 0.8209800\ttotal: 150ms\tremaining: 163ms\n",
            "24:\tlearn: 0.8212378\ttotal: 156ms\tremaining: 156ms\n",
            "25:\tlearn: 0.8214564\ttotal: 162ms\tremaining: 149ms\n",
            "26:\tlearn: 0.8216329\ttotal: 168ms\tremaining: 143ms\n",
            "27:\tlearn: 0.8216906\ttotal: 174ms\tremaining: 137ms\n",
            "28:\tlearn: 0.8231300\ttotal: 180ms\tremaining: 130ms\n",
            "29:\tlearn: 0.8231748\ttotal: 186ms\tremaining: 124ms\n",
            "30:\tlearn: 0.8228934\ttotal: 191ms\tremaining: 117ms\n",
            "31:\tlearn: 0.8232370\ttotal: 197ms\tremaining: 111ms\n",
            "32:\tlearn: 0.8235189\ttotal: 215ms\tremaining: 111ms\n",
            "33:\tlearn: 0.8238427\ttotal: 221ms\tremaining: 104ms\n",
            "34:\tlearn: 0.8244429\ttotal: 227ms\tremaining: 97.1ms\n",
            "35:\tlearn: 0.8247916\ttotal: 232ms\tremaining: 90.4ms\n",
            "36:\tlearn: 0.8252011\ttotal: 238ms\tremaining: 83.7ms\n",
            "37:\tlearn: 0.8253904\ttotal: 244ms\tremaining: 77ms\n",
            "38:\tlearn: 0.8257295\ttotal: 249ms\tremaining: 70.3ms\n",
            "39:\tlearn: 0.8255700\ttotal: 255ms\tremaining: 63.8ms\n",
            "40:\tlearn: 0.8257422\ttotal: 261ms\tremaining: 57.2ms\n",
            "41:\tlearn: 0.8266559\ttotal: 266ms\tremaining: 50.7ms\n",
            "42:\tlearn: 0.8265577\ttotal: 272ms\tremaining: 44.3ms\n",
            "43:\tlearn: 0.8267316\ttotal: 278ms\tremaining: 37.8ms\n",
            "44:\tlearn: 0.8266148\ttotal: 283ms\tremaining: 31.5ms\n",
            "45:\tlearn: 0.8268331\ttotal: 288ms\tremaining: 25.1ms\n",
            "46:\tlearn: 0.8270468\ttotal: 294ms\tremaining: 18.8ms\n",
            "47:\tlearn: 0.8269570\ttotal: 299ms\tremaining: 12.5ms\n",
            "48:\tlearn: 0.8273100\ttotal: 305ms\tremaining: 6.22ms\n",
            "49:\tlearn: 0.8274211\ttotal: 310ms\tremaining: 0us\n",
            "0:\tlearn: 0.8219711\ttotal: 14.8ms\tremaining: 726ms\n",
            "1:\tlearn: 0.8260646\ttotal: 29.4ms\tremaining: 705ms\n",
            "2:\tlearn: 0.8280419\ttotal: 42.9ms\tremaining: 671ms\n",
            "3:\tlearn: 0.8286491\ttotal: 57.2ms\tremaining: 657ms\n",
            "4:\tlearn: 0.8292056\ttotal: 73.3ms\tremaining: 660ms\n",
            "5:\tlearn: 0.8320271\ttotal: 86.7ms\tremaining: 636ms\n",
            "6:\tlearn: 0.8329636\ttotal: 99.9ms\tremaining: 614ms\n",
            "7:\tlearn: 0.8331540\ttotal: 113ms\tremaining: 592ms\n",
            "8:\tlearn: 0.8354916\ttotal: 126ms\tremaining: 575ms\n",
            "9:\tlearn: 0.8378654\ttotal: 139ms\tremaining: 557ms\n",
            "10:\tlearn: 0.8378422\ttotal: 153ms\tremaining: 542ms\n",
            "11:\tlearn: 0.8391300\ttotal: 166ms\tremaining: 526ms\n",
            "12:\tlearn: 0.8398056\ttotal: 179ms\tremaining: 510ms\n",
            "13:\tlearn: 0.8399878\ttotal: 192ms\tremaining: 495ms\n",
            "14:\tlearn: 0.8414498\ttotal: 206ms\tremaining: 480ms\n",
            "15:\tlearn: 0.8422754\ttotal: 229ms\tremaining: 486ms\n",
            "16:\tlearn: 0.8435379\ttotal: 242ms\tremaining: 469ms\n",
            "17:\tlearn: 0.8435944\ttotal: 255ms\tremaining: 453ms\n",
            "18:\tlearn: 0.8440591\ttotal: 268ms\tremaining: 438ms\n",
            "19:\tlearn: 0.8444980\ttotal: 282ms\tremaining: 423ms\n",
            "20:\tlearn: 0.8447556\ttotal: 295ms\tremaining: 407ms\n",
            "21:\tlearn: 0.8447748\ttotal: 311ms\tremaining: 396ms\n",
            "22:\tlearn: 0.8459143\ttotal: 324ms\tremaining: 381ms\n",
            "23:\tlearn: 0.8466152\ttotal: 337ms\tremaining: 365ms\n",
            "24:\tlearn: 0.8476981\ttotal: 350ms\tremaining: 350ms\n",
            "25:\tlearn: 0.8475749\ttotal: 363ms\tremaining: 335ms\n",
            "26:\tlearn: 0.8488139\ttotal: 376ms\tremaining: 321ms\n",
            "27:\tlearn: 0.8490304\ttotal: 389ms\tremaining: 306ms\n",
            "28:\tlearn: 0.8497383\ttotal: 402ms\tremaining: 291ms\n",
            "29:\tlearn: 0.8502517\ttotal: 415ms\tremaining: 277ms\n",
            "30:\tlearn: 0.8505975\ttotal: 438ms\tremaining: 268ms\n",
            "31:\tlearn: 0.8509624\ttotal: 451ms\tremaining: 254ms\n",
            "32:\tlearn: 0.8511976\ttotal: 475ms\tremaining: 245ms\n",
            "33:\tlearn: 0.8518278\ttotal: 488ms\tremaining: 230ms\n",
            "34:\tlearn: 0.8522421\ttotal: 501ms\tremaining: 215ms\n",
            "35:\tlearn: 0.8526664\ttotal: 514ms\tremaining: 200ms\n",
            "36:\tlearn: 0.8532957\ttotal: 527ms\tremaining: 185ms\n",
            "37:\tlearn: 0.8530528\ttotal: 540ms\tremaining: 171ms\n",
            "38:\tlearn: 0.8539874\ttotal: 553ms\tremaining: 156ms\n",
            "39:\tlearn: 0.8544265\ttotal: 566ms\tremaining: 142ms\n",
            "40:\tlearn: 0.8550201\ttotal: 579ms\tremaining: 127ms\n",
            "41:\tlearn: 0.8550237\ttotal: 592ms\tremaining: 113ms\n",
            "42:\tlearn: 0.8551472\ttotal: 605ms\tremaining: 98.5ms\n",
            "43:\tlearn: 0.8561665\ttotal: 618ms\tremaining: 84.3ms\n",
            "44:\tlearn: 0.8568226\ttotal: 631ms\tremaining: 70.1ms\n",
            "45:\tlearn: 0.8568431\ttotal: 651ms\tremaining: 56.6ms\n",
            "46:\tlearn: 0.8570550\ttotal: 664ms\tremaining: 42.4ms\n",
            "47:\tlearn: 0.8574891\ttotal: 679ms\tremaining: 28.3ms\n",
            "48:\tlearn: 0.8578043\ttotal: 696ms\tremaining: 14.2ms\n",
            "49:\tlearn: 0.8584919\ttotal: 709ms\tremaining: 0us\n"
          ],
          "name": "stdout"
        },
        {
          "output_type": "execute_result",
          "data": {
            "text/plain": [
              "RandomizedSearchCV(cv=5, error_score=nan,\n",
              "                   estimator=<catboost.core.CatBoostClassifier object at 0x7fa7500e7dd0>,\n",
              "                   iid='deprecated', n_iter=10, n_jobs=None,\n",
              "                   param_distributions={'learning_rate': array([0.  , 0.05, 0.1 , 0.15, 0.2 ]),\n",
              "                                        'max_depth': <scipy.stats._distn_infrastructure.rv_frozen object at 0x7fa7646a71d0>},\n",
              "                   pre_dispatch='2*n_jobs', random_state=None, refit=True,\n",
              "                   return_train_score=False, scoring='f1', verbose=0)"
            ]
          },
          "metadata": {
            "tags": []
          },
          "execution_count": 101
        }
      ]
    },
    {
      "cell_type": "code",
      "metadata": {
        "colab": {
          "base_uri": "https://localhost:8080/"
        },
        "id": "dJaxyxhgPzeD",
        "outputId": "a0f0a832-c2a1-43e0-ddc3-3e869641b88a"
      },
      "source": [
        "rscv.best_params_"
      ],
      "execution_count": null,
      "outputs": [
        {
          "output_type": "execute_result",
          "data": {
            "text/plain": [
              "{'learning_rate': 0.2, 'max_depth': 8}"
            ]
          },
          "metadata": {
            "tags": []
          },
          "execution_count": 95
        }
      ]
    },
    {
      "cell_type": "markdown",
      "metadata": {
        "id": "zUmRb1aWQLw5"
      },
      "source": [
        "{'learning_rate': 0.1, 'max_depth': 9} for 50 iterations<br>\n",
        "{'learning_rate': 0.2, 'max_depth': 8} for 70 iterations"
      ]
    },
    {
      "cell_type": "markdown",
      "metadata": {
        "id": "A-ry5J9dS1tC"
      },
      "source": [
        "### Saving and Loading the model"
      ]
    },
    {
      "cell_type": "code",
      "metadata": {
        "colab": {
          "base_uri": "https://localhost:8080/"
        },
        "id": "l3Q6pL8NRAkl",
        "outputId": "5a597a4d-f14f-41f6-b8b8-5ba4e48571fb"
      },
      "source": [
        "dump(cbc_res, 'cbc_res.joblib')"
      ],
      "execution_count": null,
      "outputs": [
        {
          "output_type": "execute_result",
          "data": {
            "text/plain": [
              "['cbc_res.joblib']"
            ]
          },
          "metadata": {
            "tags": []
          },
          "execution_count": 105
        }
      ]
    },
    {
      "cell_type": "code",
      "metadata": {
        "id": "NOw7nHWoTJAM"
      },
      "source": [
        "cbc_res = load('cbc_res.joblib')"
      ],
      "execution_count": null,
      "outputs": []
    },
    {
      "cell_type": "code",
      "metadata": {
        "id": "sRsaRmgAQIo6"
      },
      "source": [
        "cbc_res = CatBoostClassifier(eval_metric='F1', task_type= 'GPU', random_state = 2, \n",
        "                                 iterations = 50, learning_rate = 0.1, max_depth = 9)"
      ],
      "execution_count": null,
      "outputs": []
    },
    {
      "cell_type": "code",
      "metadata": {
        "colab": {
          "base_uri": "https://localhost:8080/"
        },
        "id": "FQLAKwPzQhmx",
        "outputId": "ffcaaf22-fa15-435b-9d73-cf1026cece6b"
      },
      "source": [
        "cbc_res.fit(x_train_res, y_train_res)"
      ],
      "execution_count": null,
      "outputs": [
        {
          "output_type": "stream",
          "text": [
            "0:\tlearn: 0.8219711\ttotal: 25.6ms\tremaining: 1.26s\n",
            "1:\tlearn: 0.8238210\ttotal: 50.1ms\tremaining: 1.2s\n",
            "2:\tlearn: 0.8261915\ttotal: 74.6ms\tremaining: 1.17s\n",
            "3:\tlearn: 0.8279032\ttotal: 98.9ms\tremaining: 1.14s\n",
            "4:\tlearn: 0.8275335\ttotal: 131ms\tremaining: 1.18s\n",
            "5:\tlearn: 0.8285923\ttotal: 160ms\tremaining: 1.17s\n",
            "6:\tlearn: 0.8293057\ttotal: 185ms\tremaining: 1.14s\n",
            "7:\tlearn: 0.8292361\ttotal: 210ms\tremaining: 1.1s\n",
            "8:\tlearn: 0.8295467\ttotal: 237ms\tremaining: 1.08s\n",
            "9:\tlearn: 0.8296828\ttotal: 262ms\tremaining: 1.05s\n",
            "10:\tlearn: 0.8306111\ttotal: 285ms\tremaining: 1.01s\n",
            "11:\tlearn: 0.8315017\ttotal: 310ms\tremaining: 981ms\n",
            "12:\tlearn: 0.8314140\ttotal: 326ms\tremaining: 928ms\n",
            "13:\tlearn: 0.8314168\ttotal: 342ms\tremaining: 879ms\n",
            "14:\tlearn: 0.8315360\ttotal: 358ms\tremaining: 835ms\n",
            "15:\tlearn: 0.8333244\ttotal: 377ms\tremaining: 800ms\n",
            "16:\tlearn: 0.8334408\ttotal: 393ms\tremaining: 762ms\n",
            "17:\tlearn: 0.8337902\ttotal: 408ms\tremaining: 726ms\n",
            "18:\tlearn: 0.8347599\ttotal: 424ms\tremaining: 692ms\n",
            "19:\tlearn: 0.8356653\ttotal: 445ms\tremaining: 667ms\n",
            "20:\tlearn: 0.8356550\ttotal: 461ms\tremaining: 636ms\n",
            "21:\tlearn: 0.8363226\ttotal: 477ms\tremaining: 607ms\n",
            "22:\tlearn: 0.8367428\ttotal: 490ms\tremaining: 575ms\n",
            "23:\tlearn: 0.8370474\ttotal: 503ms\tremaining: 545ms\n",
            "24:\tlearn: 0.8377467\ttotal: 516ms\tremaining: 516ms\n",
            "25:\tlearn: 0.8381031\ttotal: 529ms\tremaining: 488ms\n",
            "26:\tlearn: 0.8385764\ttotal: 542ms\tremaining: 461ms\n",
            "27:\tlearn: 0.8388581\ttotal: 561ms\tremaining: 441ms\n",
            "28:\tlearn: 0.8390321\ttotal: 574ms\tremaining: 416ms\n",
            "29:\tlearn: 0.8394392\ttotal: 593ms\tremaining: 395ms\n",
            "30:\tlearn: 0.8401992\ttotal: 606ms\tremaining: 372ms\n",
            "31:\tlearn: 0.8405828\ttotal: 619ms\tremaining: 348ms\n",
            "32:\tlearn: 0.8409038\ttotal: 633ms\tremaining: 326ms\n",
            "33:\tlearn: 0.8414270\ttotal: 650ms\tremaining: 306ms\n",
            "34:\tlearn: 0.8416902\ttotal: 662ms\tremaining: 284ms\n",
            "35:\tlearn: 0.8422512\ttotal: 676ms\tremaining: 263ms\n",
            "36:\tlearn: 0.8421621\ttotal: 689ms\tremaining: 242ms\n",
            "37:\tlearn: 0.8420958\ttotal: 702ms\tremaining: 222ms\n",
            "38:\tlearn: 0.8426966\ttotal: 715ms\tremaining: 202ms\n",
            "39:\tlearn: 0.8429398\ttotal: 728ms\tremaining: 182ms\n",
            "40:\tlearn: 0.8432849\ttotal: 741ms\tremaining: 163ms\n",
            "41:\tlearn: 0.8432588\ttotal: 754ms\tremaining: 144ms\n",
            "42:\tlearn: 0.8437151\ttotal: 767ms\tremaining: 125ms\n",
            "43:\tlearn: 0.8443090\ttotal: 781ms\tremaining: 106ms\n",
            "44:\tlearn: 0.8442922\ttotal: 798ms\tremaining: 88.7ms\n",
            "45:\tlearn: 0.8441446\ttotal: 811ms\tremaining: 70.5ms\n",
            "46:\tlearn: 0.8443747\ttotal: 824ms\tremaining: 52.6ms\n",
            "47:\tlearn: 0.8448951\ttotal: 837ms\tremaining: 34.9ms\n",
            "48:\tlearn: 0.8447766\ttotal: 854ms\tremaining: 17.4ms\n",
            "49:\tlearn: 0.8449982\ttotal: 867ms\tremaining: 0us\n"
          ],
          "name": "stdout"
        },
        {
          "output_type": "execute_result",
          "data": {
            "text/plain": [
              "<catboost.core.CatBoostClassifier at 0x7fa7500fb150>"
            ]
          },
          "metadata": {
            "tags": []
          },
          "execution_count": 103
        }
      ]
    },
    {
      "cell_type": "code",
      "metadata": {
        "colab": {
          "base_uri": "https://localhost:8080/",
          "height": 278
        },
        "id": "TAexunvEQtF2",
        "outputId": "39617d4b-7bfb-4d8e-ae24-bddbaeee21c7"
      },
      "source": [
        "plot_confusion_matrix(cbc_res, x_test, y_test, normalize='true')  \n",
        "plt.show()"
      ],
      "execution_count": null,
      "outputs": [
        {
          "output_type": "display_data",
          "data": {
            "image/png": "[encoded data removed]",
            "text/plain": [
              "<Figure size 432x288 with 2 Axes>"
            ]
          },
          "metadata": {
            "tags": [],
            "needs_background": "light"
          }
        }
      ]
    },
    {
      "cell_type": "code",
      "metadata": {
        "colab": {
          "base_uri": "https://localhost:8080/"
        },
        "id": "CEFi7iA4Qylg",
        "outputId": "7a19bb22-6b43-4968-ca0d-2d5a14a22a0c"
      },
      "source": [
        "f1_score(y_test, cbc_res.predict(x_test))"
      ],
      "execution_count": null,
      "outputs": [
        {
          "output_type": "execute_result",
          "data": {
            "text/plain": [
              "0.6540117416829746"
            ]
          },
          "metadata": {
            "tags": []
          },
          "execution_count": 104
        }
      ]
    },
    {
      "cell_type": "markdown",
      "metadata": {
        "id": "07WdCP-MTVJz"
      },
      "source": [
        "It is working fine with 50 iterations"
      ]
    },
    {
      "cell_type": "markdown",
      "metadata": {
        "id": "gtCqPiTa6xhp"
      },
      "source": [
        "# LightGBM"
      ]
    },
    {
      "cell_type": "code",
      "metadata": {
        "id": "bA311KUc6xNa"
      },
      "source": [
        "#!pip install lightgbm"
      ],
      "execution_count": null,
      "outputs": []
    },
    {
      "cell_type": "code",
      "metadata": {
        "id": "nl1vw3zu6xLY"
      },
      "source": [
        "from lightgbm import LGBMClassifier"
      ],
      "execution_count": null,
      "outputs": []
    },
    {
      "cell_type": "code",
      "metadata": {
        "id": "bQ_eVp996xIs"
      },
      "source": [
        "model = LGBMClassifier()"
      ],
      "execution_count": null,
      "outputs": []
    },
    {
      "cell_type": "code",
      "metadata": {
        "id": "gMtayBHa7INX"
      },
      "source": [
        "param_grid = {\n",
        " #   'learning_rate' : np.random.uniform(0, 1),\n",
        "    'boosting_type' : np.random.choice(['gbdt', 'dart', 'goss']),\n",
        "    'min_data' : np.random.randint(10, 100),\n",
        "    'max_depth' : np.random.randint(5, 200)\n",
        "}"
      ],
      "execution_count": null,
      "outputs": []
    },
    {
      "cell_type": "code",
      "metadata": {
        "id": "c4VYtHm67IK6"
      },
      "source": [
        "lgb = RandomizedSearchCV(model, param_grid, scoring='f1', cv =5 )"
      ],
      "execution_count": null,
      "outputs": []
    },
    {
      "cell_type": "markdown",
      "metadata": {
        "id": "Bl3OjlDiAcDh"
      },
      "source": [
        "## On normal Data"
      ]
    },
    {
      "cell_type": "code",
      "metadata": {
        "id": "dOTsVJcO7IIX",
        "colab": {
          "base_uri": "https://localhost:8080/",
          "height": 302
        },
        "outputId": "3e90ed3a-0679-4d2b-f6e9-436d807a7152"
      },
      "source": [
        "lgb.fit(x_train, y_train)"
      ],
      "execution_count": null,
      "outputs": [
        {
          "output_type": "error",
          "ename": "TypeError",
          "evalue": "ignored",
          "traceback": [
            "\u001b[0;31m---------------------------------------------------------------------------\u001b[0m",
            "\u001b[0;31mTypeError\u001b[0m                                 Traceback (most recent call last)",
            "\u001b[0;32m<ipython-input-53-c5b85577ddd3>\u001b[0m in \u001b[0;36m<module>\u001b[0;34m()\u001b[0m\n\u001b[0;32m----> 1\u001b[0;31m \u001b[0mlgb\u001b[0m\u001b[0;34m.\u001b[0m\u001b[0mfit\u001b[0m\u001b[0;34m(\u001b[0m\u001b[0mx_train\u001b[0m\u001b[0;34m,\u001b[0m \u001b[0my_train\u001b[0m\u001b[0;34m)\u001b[0m\u001b[0;34m\u001b[0m\u001b[0;34m\u001b[0m\u001b[0m\n\u001b[0m",
            "\u001b[0;32m/usr/local/lib/python3.7/dist-packages/sklearn/model_selection/_search.py\u001b[0m in \u001b[0;36mfit\u001b[0;34m(self, X, y, groups, **fit_params)\u001b[0m\n\u001b[1;32m    708\u001b[0m                 \u001b[0;32mreturn\u001b[0m \u001b[0mresults\u001b[0m\u001b[0;34m\u001b[0m\u001b[0;34m\u001b[0m\u001b[0m\n\u001b[1;32m    709\u001b[0m \u001b[0;34m\u001b[0m\u001b[0m\n\u001b[0;32m--> 710\u001b[0;31m             \u001b[0mself\u001b[0m\u001b[0;34m.\u001b[0m\u001b[0m_run_search\u001b[0m\u001b[0;34m(\u001b[0m\u001b[0mevaluate_candidates\u001b[0m\u001b[0;34m)\u001b[0m\u001b[0;34m\u001b[0m\u001b[0;34m\u001b[0m\u001b[0m\n\u001b[0m\u001b[1;32m    711\u001b[0m \u001b[0;34m\u001b[0m\u001b[0m\n\u001b[1;32m    712\u001b[0m         \u001b[0;31m# For multi-metric evaluation, store the best_index_, best_params_ and\u001b[0m\u001b[0;34m\u001b[0m\u001b[0;34m\u001b[0m\u001b[0;34m\u001b[0m\u001b[0m\n",
            "\u001b[0;32m/usr/local/lib/python3.7/dist-packages/sklearn/model_selection/_search.py\u001b[0m in \u001b[0;36m_run_search\u001b[0;34m(self, evaluate_candidates)\u001b[0m\n\u001b[1;32m   1482\u001b[0m         evaluate_candidates(ParameterSampler(\n\u001b[1;32m   1483\u001b[0m             \u001b[0mself\u001b[0m\u001b[0;34m.\u001b[0m\u001b[0mparam_distributions\u001b[0m\u001b[0;34m,\u001b[0m \u001b[0mself\u001b[0m\u001b[0;34m.\u001b[0m\u001b[0mn_iter\u001b[0m\u001b[0;34m,\u001b[0m\u001b[0;34m\u001b[0m\u001b[0;34m\u001b[0m\u001b[0m\n\u001b[0;32m-> 1484\u001b[0;31m             random_state=self.random_state))\n\u001b[0m",
            "\u001b[0;32m/usr/local/lib/python3.7/dist-packages/sklearn/model_selection/_search.py\u001b[0m in \u001b[0;36m__init__\u001b[0;34m(self, param_distributions, n_iter, random_state)\u001b[0m\n\u001b[1;32m    255\u001b[0m                     raise TypeError('Parameter value is not iterable '\n\u001b[1;32m    256\u001b[0m                                     \u001b[0;34m'or distribution (key={!r}, value={!r})'\u001b[0m\u001b[0;34m\u001b[0m\u001b[0;34m\u001b[0m\u001b[0m\n\u001b[0;32m--> 257\u001b[0;31m                                     .format(key, dist[key]))\n\u001b[0m\u001b[1;32m    258\u001b[0m         \u001b[0mself\u001b[0m\u001b[0;34m.\u001b[0m\u001b[0mn_iter\u001b[0m \u001b[0;34m=\u001b[0m \u001b[0mn_iter\u001b[0m\u001b[0;34m\u001b[0m\u001b[0;34m\u001b[0m\u001b[0m\n\u001b[1;32m    259\u001b[0m         \u001b[0mself\u001b[0m\u001b[0;34m.\u001b[0m\u001b[0mrandom_state\u001b[0m \u001b[0;34m=\u001b[0m \u001b[0mrandom_state\u001b[0m\u001b[0;34m\u001b[0m\u001b[0;34m\u001b[0m\u001b[0m\n",
            "\u001b[0;31mTypeError\u001b[0m: Parameter value is not iterable or distribution (key='min_data', value=75)"
          ]
        }
      ]
    },
    {
      "cell_type": "code",
      "metadata": {
        "id": "b5BOldRRAjHw"
      },
      "source": [
        ""
      ],
      "execution_count": null,
      "outputs": []
    },
    {
      "cell_type": "code",
      "metadata": {
        "id": "w3QDpVgrAi91"
      },
      "source": [
        ""
      ],
      "execution_count": null,
      "outputs": []
    },
    {
      "cell_type": "code",
      "metadata": {
        "id": "61Sl4kVlAi7W"
      },
      "source": [
        ""
      ],
      "execution_count": null,
      "outputs": []
    },
    {
      "cell_type": "markdown",
      "metadata": {
        "id": "rHWi2r805zFS"
      },
      "source": [
        "# Feature Selection"
      ]
    },
    {
      "cell_type": "code",
      "metadata": {
        "id": "5uneFOcG6Log"
      },
      "source": [
        "#!pip install boruta"
      ],
      "execution_count": 34,
      "outputs": []
    },
    {
      "cell_type": "code",
      "metadata": {
        "id": "D6iDdqmd51l4"
      },
      "source": [
        "from boruta import BorutaPy"
      ],
      "execution_count": 35,
      "outputs": []
    },
    {
      "cell_type": "markdown",
      "metadata": {
        "id": "3uqv0E21u-el"
      },
      "source": [
        "## On Resampled Data"
      ]
    },
    {
      "cell_type": "code",
      "metadata": {
        "id": "kK5g1YjU6Dk2"
      },
      "source": [
        "forest = RandomForestClassifier(n_jobs=-1, max_depth=5, random_state=1)"
      ],
      "execution_count": 44,
      "outputs": []
    },
    {
      "cell_type": "code",
      "metadata": {
        "colab": {
          "base_uri": "https://localhost:8080/"
        },
        "id": "NuH43RiEvDWf",
        "outputId": "617a0838-0831-452c-edff-c5605cfa7d7d"
      },
      "source": [
        "boruta_selector.fit(np.array(x_train_res), np.array(y_train_res))"
      ],
      "execution_count": 46,
      "outputs": [
        {
          "output_type": "stream",
          "text": [
            "Iteration: \t1 / 100\n",
            "Confirmed: \t0\n",
            "Tentative: \t24\n",
            "Rejected: \t0\n",
            "Iteration: \t2 / 100\n",
            "Confirmed: \t0\n",
            "Tentative: \t24\n",
            "Rejected: \t0\n",
            "Iteration: \t3 / 100\n",
            "Confirmed: \t0\n",
            "Tentative: \t24\n",
            "Rejected: \t0\n",
            "Iteration: \t4 / 100\n",
            "Confirmed: \t0\n",
            "Tentative: \t24\n",
            "Rejected: \t0\n",
            "Iteration: \t5 / 100\n",
            "Confirmed: \t0\n",
            "Tentative: \t24\n",
            "Rejected: \t0\n",
            "Iteration: \t6 / 100\n",
            "Confirmed: \t0\n",
            "Tentative: \t24\n",
            "Rejected: \t0\n",
            "Iteration: \t7 / 100\n",
            "Confirmed: \t0\n",
            "Tentative: \t24\n",
            "Rejected: \t0\n",
            "Iteration: \t8 / 100\n",
            "Confirmed: \t21\n",
            "Tentative: \t3\n",
            "Rejected: \t0\n",
            "Iteration: \t9 / 100\n",
            "Confirmed: \t21\n",
            "Tentative: \t3\n",
            "Rejected: \t0\n",
            "Iteration: \t10 / 100\n",
            "Confirmed: \t21\n",
            "Tentative: \t3\n",
            "Rejected: \t0\n",
            "Iteration: \t11 / 100\n",
            "Confirmed: \t21\n",
            "Tentative: \t3\n",
            "Rejected: \t0\n",
            "Iteration: \t12 / 100\n",
            "Confirmed: \t21\n",
            "Tentative: \t3\n",
            "Rejected: \t0\n",
            "Iteration: \t13 / 100\n",
            "Confirmed: \t21\n",
            "Tentative: \t3\n",
            "Rejected: \t0\n",
            "Iteration: \t14 / 100\n",
            "Confirmed: \t21\n",
            "Tentative: \t3\n",
            "Rejected: \t0\n",
            "Iteration: \t15 / 100\n",
            "Confirmed: \t21\n",
            "Tentative: \t3\n",
            "Rejected: \t0\n",
            "Iteration: \t16 / 100\n",
            "Confirmed: \t21\n",
            "Tentative: \t3\n",
            "Rejected: \t0\n",
            "Iteration: \t17 / 100\n",
            "Confirmed: \t21\n",
            "Tentative: \t2\n",
            "Rejected: \t1\n",
            "Iteration: \t18 / 100\n",
            "Confirmed: \t21\n",
            "Tentative: \t2\n",
            "Rejected: \t1\n",
            "Iteration: \t19 / 100\n",
            "Confirmed: \t21\n",
            "Tentative: \t2\n",
            "Rejected: \t1\n",
            "Iteration: \t20 / 100\n",
            "Confirmed: \t21\n",
            "Tentative: \t2\n",
            "Rejected: \t1\n",
            "Iteration: \t21 / 100\n",
            "Confirmed: \t21\n",
            "Tentative: \t2\n",
            "Rejected: \t1\n",
            "Iteration: \t22 / 100\n",
            "Confirmed: \t21\n",
            "Tentative: \t2\n",
            "Rejected: \t1\n",
            "Iteration: \t23 / 100\n",
            "Confirmed: \t21\n",
            "Tentative: \t2\n",
            "Rejected: \t1\n",
            "Iteration: \t24 / 100\n",
            "Confirmed: \t21\n",
            "Tentative: \t2\n",
            "Rejected: \t1\n",
            "Iteration: \t25 / 100\n",
            "Confirmed: \t21\n",
            "Tentative: \t2\n",
            "Rejected: \t1\n",
            "Iteration: \t26 / 100\n",
            "Confirmed: \t21\n",
            "Tentative: \t2\n",
            "Rejected: \t1\n",
            "Iteration: \t27 / 100\n",
            "Confirmed: \t21\n",
            "Tentative: \t2\n",
            "Rejected: \t1\n",
            "Iteration: \t28 / 100\n",
            "Confirmed: \t21\n",
            "Tentative: \t2\n",
            "Rejected: \t1\n",
            "Iteration: \t29 / 100\n",
            "Confirmed: \t21\n",
            "Tentative: \t2\n",
            "Rejected: \t1\n",
            "Iteration: \t30 / 100\n",
            "Confirmed: \t21\n",
            "Tentative: \t2\n",
            "Rejected: \t1\n",
            "Iteration: \t31 / 100\n",
            "Confirmed: \t21\n",
            "Tentative: \t2\n",
            "Rejected: \t1\n",
            "Iteration: \t32 / 100\n",
            "Confirmed: \t21\n",
            "Tentative: \t2\n",
            "Rejected: \t1\n",
            "Iteration: \t33 / 100\n",
            "Confirmed: \t21\n",
            "Tentative: \t2\n",
            "Rejected: \t1\n",
            "Iteration: \t34 / 100\n",
            "Confirmed: \t21\n",
            "Tentative: \t1\n",
            "Rejected: \t2\n",
            "Iteration: \t35 / 100\n",
            "Confirmed: \t21\n",
            "Tentative: \t1\n",
            "Rejected: \t2\n",
            "Iteration: \t36 / 100\n",
            "Confirmed: \t21\n",
            "Tentative: \t1\n",
            "Rejected: \t2\n",
            "Iteration: \t37 / 100\n",
            "Confirmed: \t21\n",
            "Tentative: \t1\n",
            "Rejected: \t2\n",
            "Iteration: \t38 / 100\n",
            "Confirmed: \t21\n",
            "Tentative: \t1\n",
            "Rejected: \t2\n",
            "Iteration: \t39 / 100\n",
            "Confirmed: \t21\n",
            "Tentative: \t1\n",
            "Rejected: \t2\n",
            "Iteration: \t40 / 100\n",
            "Confirmed: \t21\n",
            "Tentative: \t1\n",
            "Rejected: \t2\n",
            "Iteration: \t41 / 100\n",
            "Confirmed: \t21\n",
            "Tentative: \t1\n",
            "Rejected: \t2\n",
            "Iteration: \t42 / 100\n",
            "Confirmed: \t21\n",
            "Tentative: \t1\n",
            "Rejected: \t2\n",
            "Iteration: \t43 / 100\n",
            "Confirmed: \t21\n",
            "Tentative: \t1\n",
            "Rejected: \t2\n",
            "Iteration: \t44 / 100\n",
            "Confirmed: \t21\n",
            "Tentative: \t1\n",
            "Rejected: \t2\n",
            "Iteration: \t45 / 100\n",
            "Confirmed: \t21\n",
            "Tentative: \t1\n",
            "Rejected: \t2\n",
            "Iteration: \t46 / 100\n",
            "Confirmed: \t21\n",
            "Tentative: \t1\n",
            "Rejected: \t2\n",
            "Iteration: \t47 / 100\n",
            "Confirmed: \t21\n",
            "Tentative: \t1\n",
            "Rejected: \t2\n",
            "Iteration: \t48 / 100\n",
            "Confirmed: \t21\n",
            "Tentative: \t1\n",
            "Rejected: \t2\n",
            "Iteration: \t49 / 100\n",
            "Confirmed: \t21\n",
            "Tentative: \t1\n",
            "Rejected: \t2\n",
            "Iteration: \t50 / 100\n",
            "Confirmed: \t21\n",
            "Tentative: \t1\n",
            "Rejected: \t2\n",
            "Iteration: \t51 / 100\n",
            "Confirmed: \t21\n",
            "Tentative: \t1\n",
            "Rejected: \t2\n",
            "Iteration: \t52 / 100\n",
            "Confirmed: \t21\n",
            "Tentative: \t1\n",
            "Rejected: \t2\n",
            "Iteration: \t53 / 100\n",
            "Confirmed: \t21\n",
            "Tentative: \t1\n",
            "Rejected: \t2\n",
            "Iteration: \t54 / 100\n",
            "Confirmed: \t21\n",
            "Tentative: \t1\n",
            "Rejected: \t2\n",
            "Iteration: \t55 / 100\n",
            "Confirmed: \t21\n",
            "Tentative: \t1\n",
            "Rejected: \t2\n",
            "Iteration: \t56 / 100\n",
            "Confirmed: \t21\n",
            "Tentative: \t1\n",
            "Rejected: \t2\n",
            "Iteration: \t57 / 100\n",
            "Confirmed: \t21\n",
            "Tentative: \t1\n",
            "Rejected: \t2\n",
            "Iteration: \t58 / 100\n",
            "Confirmed: \t21\n",
            "Tentative: \t1\n",
            "Rejected: \t2\n",
            "Iteration: \t59 / 100\n",
            "Confirmed: \t21\n",
            "Tentative: \t1\n",
            "Rejected: \t2\n",
            "Iteration: \t60 / 100\n",
            "Confirmed: \t21\n",
            "Tentative: \t1\n",
            "Rejected: \t2\n",
            "Iteration: \t61 / 100\n",
            "Confirmed: \t21\n",
            "Tentative: \t1\n",
            "Rejected: \t2\n",
            "Iteration: \t62 / 100\n",
            "Confirmed: \t21\n",
            "Tentative: \t1\n",
            "Rejected: \t2\n",
            "Iteration: \t63 / 100\n",
            "Confirmed: \t21\n",
            "Tentative: \t1\n",
            "Rejected: \t2\n",
            "Iteration: \t64 / 100\n",
            "Confirmed: \t21\n",
            "Tentative: \t1\n",
            "Rejected: \t2\n",
            "Iteration: \t65 / 100\n",
            "Confirmed: \t21\n",
            "Tentative: \t1\n",
            "Rejected: \t2\n",
            "Iteration: \t66 / 100\n",
            "Confirmed: \t21\n",
            "Tentative: \t1\n",
            "Rejected: \t2\n",
            "Iteration: \t67 / 100\n",
            "Confirmed: \t21\n",
            "Tentative: \t1\n",
            "Rejected: \t2\n",
            "Iteration: \t68 / 100\n",
            "Confirmed: \t21\n",
            "Tentative: \t1\n",
            "Rejected: \t2\n",
            "Iteration: \t69 / 100\n",
            "Confirmed: \t21\n",
            "Tentative: \t1\n",
            "Rejected: \t2\n",
            "Iteration: \t70 / 100\n",
            "Confirmed: \t22\n",
            "Tentative: \t0\n",
            "Rejected: \t2\n",
            "\n",
            "\n",
            "BorutaPy finished running.\n",
            "\n",
            "Iteration: \t71 / 100\n",
            "Confirmed: \t22\n",
            "Tentative: \t0\n",
            "Rejected: \t2\n"
          ],
          "name": "stdout"
        },
        {
          "output_type": "execute_result",
          "data": {
            "text/plain": [
              "BorutaPy(alpha=0.05,\n",
              "         estimator=RandomForestClassifier(bootstrap=True, ccp_alpha=0.0,\n",
              "                                          class_weight=None, criterion='gini',\n",
              "                                          max_depth=5, max_features='auto',\n",
              "                                          max_leaf_nodes=None, max_samples=None,\n",
              "                                          min_impurity_decrease=0.0,\n",
              "                                          min_impurity_split=None,\n",
              "                                          min_samples_leaf=1,\n",
              "                                          min_samples_split=2,\n",
              "                                          min_weight_fraction_leaf=0.0,\n",
              "                                          n_estimators=132, n_jobs=-1,\n",
              "                                          oob_score=False,\n",
              "                                          random_state=RandomState(MT19937) at 0x7F9C357C49E0,\n",
              "                                          verbose=0, warm_start=False),\n",
              "         max_iter=100, n_estimators='auto', perc=100,\n",
              "         random_state=RandomState(MT19937) at 0x7F9C357C49E0, two_step=True,\n",
              "         verbose=2)"
            ]
          },
          "metadata": {
            "tags": []
          },
          "execution_count": 46
        }
      ]
    },
    {
      "cell_type": "code",
      "metadata": {
        "colab": {
          "base_uri": "https://localhost:8080/",
          "height": 784
        },
        "id": "W1T_mYycwBdF",
        "outputId": "126bea2f-d4e1-4506-a9a9-720dd2f2abbc"
      },
      "source": [
        "selected_rfe_features = pd.DataFrame({'Feature':list(x_train_res.columns),\n",
        "'Ranking':boruta_selector.ranking_})\n",
        "selected_rfe_features.sort_values(by='Ranking')"
      ],
      "execution_count": 47,
      "outputs": [
        {
          "output_type": "execute_result",
          "data": {
            "text/html": [
              "<div>\n",
              "<style scoped>\n",
              "    .dataframe tbody tr th:only-of-type {\n",
              "        vertical-align: middle;\n",
              "    }\n",
              "\n",
              "    .dataframe tbody tr th {\n",
              "        vertical-align: top;\n",
              "    }\n",
              "\n",
              "    .dataframe thead th {\n",
              "        text-align: right;\n",
              "    }\n",
              "</style>\n",
              "<table border=\"1\" class=\"dataframe\">\n",
              "  <thead>\n",
              "    <tr style=\"text-align: right;\">\n",
              "      <th></th>\n",
              "      <th>Feature</th>\n",
              "      <th>Ranking</th>\n",
              "    </tr>\n",
              "  </thead>\n",
              "  <tbody>\n",
              "    <tr>\n",
              "      <th>0</th>\n",
              "      <td>age</td>\n",
              "      <td>1</td>\n",
              "    </tr>\n",
              "    <tr>\n",
              "      <th>21</th>\n",
              "      <td>occupation_Transport-moving</td>\n",
              "      <td>1</td>\n",
              "    </tr>\n",
              "    <tr>\n",
              "      <th>19</th>\n",
              "      <td>occupation_Sales</td>\n",
              "      <td>1</td>\n",
              "    </tr>\n",
              "    <tr>\n",
              "      <th>18</th>\n",
              "      <td>occupation_Prof-specialty</td>\n",
              "      <td>1</td>\n",
              "    </tr>\n",
              "    <tr>\n",
              "      <th>17</th>\n",
              "      <td>occupation_Other-service</td>\n",
              "      <td>1</td>\n",
              "    </tr>\n",
              "    <tr>\n",
              "      <th>16</th>\n",
              "      <td>occupation_Machine-op-inspct</td>\n",
              "      <td>1</td>\n",
              "    </tr>\n",
              "    <tr>\n",
              "      <th>15</th>\n",
              "      <td>occupation_Handlers-cleaners</td>\n",
              "      <td>1</td>\n",
              "    </tr>\n",
              "    <tr>\n",
              "      <th>14</th>\n",
              "      <td>occupation_Farming-fishing</td>\n",
              "      <td>1</td>\n",
              "    </tr>\n",
              "    <tr>\n",
              "      <th>13</th>\n",
              "      <td>occupation_Exec-managerial</td>\n",
              "      <td>1</td>\n",
              "    </tr>\n",
              "    <tr>\n",
              "      <th>12</th>\n",
              "      <td>occupation_Craft-repair</td>\n",
              "      <td>1</td>\n",
              "    </tr>\n",
              "    <tr>\n",
              "      <th>11</th>\n",
              "      <td>marital-status_Unmarried</td>\n",
              "      <td>1</td>\n",
              "    </tr>\n",
              "    <tr>\n",
              "      <th>9</th>\n",
              "      <td>marital-status_Married</td>\n",
              "      <td>1</td>\n",
              "    </tr>\n",
              "    <tr>\n",
              "      <th>8</th>\n",
              "      <td>workclass_Self-emp</td>\n",
              "      <td>1</td>\n",
              "    </tr>\n",
              "    <tr>\n",
              "      <th>7</th>\n",
              "      <td>workclass_Private</td>\n",
              "      <td>1</td>\n",
              "    </tr>\n",
              "    <tr>\n",
              "      <th>6</th>\n",
              "      <td>native-country</td>\n",
              "      <td>1</td>\n",
              "    </tr>\n",
              "    <tr>\n",
              "      <th>5</th>\n",
              "      <td>hours-per-week</td>\n",
              "      <td>1</td>\n",
              "    </tr>\n",
              "    <tr>\n",
              "      <th>4</th>\n",
              "      <td>capital-loss</td>\n",
              "      <td>1</td>\n",
              "    </tr>\n",
              "    <tr>\n",
              "      <th>3</th>\n",
              "      <td>capital-gain</td>\n",
              "      <td>1</td>\n",
              "    </tr>\n",
              "    <tr>\n",
              "      <th>2</th>\n",
              "      <td>gender</td>\n",
              "      <td>1</td>\n",
              "    </tr>\n",
              "    <tr>\n",
              "      <th>1</th>\n",
              "      <td>educational-num</td>\n",
              "      <td>1</td>\n",
              "    </tr>\n",
              "    <tr>\n",
              "      <th>10</th>\n",
              "      <td>marital-status_Separated</td>\n",
              "      <td>1</td>\n",
              "    </tr>\n",
              "    <tr>\n",
              "      <th>23</th>\n",
              "      <td>race_White</td>\n",
              "      <td>1</td>\n",
              "    </tr>\n",
              "    <tr>\n",
              "      <th>20</th>\n",
              "      <td>occupation_Tech-support</td>\n",
              "      <td>2</td>\n",
              "    </tr>\n",
              "    <tr>\n",
              "      <th>22</th>\n",
              "      <td>race_Other</td>\n",
              "      <td>3</td>\n",
              "    </tr>\n",
              "  </tbody>\n",
              "</table>\n",
              "</div>"
            ],
            "text/plain": [
              "                         Feature  Ranking\n",
              "0                            age        1\n",
              "21   occupation_Transport-moving        1\n",
              "19              occupation_Sales        1\n",
              "18     occupation_Prof-specialty        1\n",
              "17      occupation_Other-service        1\n",
              "16  occupation_Machine-op-inspct        1\n",
              "15  occupation_Handlers-cleaners        1\n",
              "14    occupation_Farming-fishing        1\n",
              "13    occupation_Exec-managerial        1\n",
              "12       occupation_Craft-repair        1\n",
              "11      marital-status_Unmarried        1\n",
              "9         marital-status_Married        1\n",
              "8             workclass_Self-emp        1\n",
              "7              workclass_Private        1\n",
              "6                 native-country        1\n",
              "5                 hours-per-week        1\n",
              "4                   capital-loss        1\n",
              "3                   capital-gain        1\n",
              "2                         gender        1\n",
              "1                educational-num        1\n",
              "10      marital-status_Separated        1\n",
              "23                    race_White        1\n",
              "20       occupation_Tech-support        2\n",
              "22                    race_Other        3"
            ]
          },
          "metadata": {
            "tags": []
          },
          "execution_count": 47
        }
      ]
    },
    {
      "cell_type": "markdown",
      "metadata": {
        "id": "gFVTZWH5xeFT"
      },
      "source": [
        "### Creating a new subset of the data using the selected features"
      ]
    },
    {
      "cell_type": "code",
      "metadata": {
        "id": "3JkAYrXoxFP7"
      },
      "source": [
        "x_important_train = x_train_res.drop(['occupation_Tech-support','race_Other'], axis = 'columns')\n",
        "x_important_test =  x_test.drop(['occupation_Tech-support','race_Other'], axis = 'columns')"
      ],
      "execution_count": 61,
      "outputs": []
    },
    {
      "cell_type": "code",
      "metadata": {
        "id": "feCADMcBx8WW"
      },
      "source": [
        "xgb = xgboost.XGBClassifier(colsample_bytree = 0.3,\n",
        "                               gamma = 0.0,\n",
        "                               learning_rate = 0.25,\n",
        "                               max_depth = 8,\n",
        "                               min_child_weight = 1)"
      ],
      "execution_count": 55,
      "outputs": []
    },
    {
      "cell_type": "code",
      "metadata": {
        "colab": {
          "base_uri": "https://localhost:8080/"
        },
        "id": "huRqpkLHyPgn",
        "outputId": "94b23f74-5da2-48a6-c91e-b10c841b7f42"
      },
      "source": [
        "xgb.fit(x_important_train, y_train_res)"
      ],
      "execution_count": 57,
      "outputs": [
        {
          "output_type": "execute_result",
          "data": {
            "text/plain": [
              "XGBClassifier(base_score=0.5, booster='gbtree', colsample_bylevel=1,\n",
              "              colsample_bynode=1, colsample_bytree=0.3, gamma=0.0,\n",
              "              learning_rate=0.25, max_delta_step=0, max_depth=8,\n",
              "              min_child_weight=1, missing=None, n_estimators=100, n_jobs=1,\n",
              "              nthread=None, objective='binary:logistic', random_state=0,\n",
              "              reg_alpha=0, reg_lambda=1, scale_pos_weight=1, seed=None,\n",
              "              silent=None, subsample=1, verbosity=1)"
            ]
          },
          "metadata": {
            "tags": []
          },
          "execution_count": 57
        }
      ]
    },
    {
      "cell_type": "code",
      "metadata": {
        "colab": {
          "base_uri": "https://localhost:8080/",
          "height": 278
        },
        "id": "dMjAMMnHyU6h",
        "outputId": "e8d78a62-d393-4cbe-e113-e6495659cea2"
      },
      "source": [
        "plot_confusion_matrix(xgb, x_important_test, y_test, normalize='true')  \n",
        "plt.show()"
      ],
      "execution_count": 62,
      "outputs": [
        {
          "output_type": "display_data",
          "data": {
            "image/png": "[encoded data removed]",
            "text/plain": [
              "<Figure size 432x288 with 2 Axes>"
            ]
          },
          "metadata": {
            "tags": [],
            "needs_background": "light"
          }
        }
      ]
    },
    {
      "cell_type": "code",
      "metadata": {
        "colab": {
          "base_uri": "https://localhost:8080/"
        },
        "id": "NG3D2dkPzXwT",
        "outputId": "c8dc3545-fa09-4871-cf7c-c52cfb1228b8"
      },
      "source": [
        "x_test.shape, x_important_test.shape"
      ],
      "execution_count": 60,
      "outputs": [
        {
          "output_type": "execute_result",
          "data": {
            "text/plain": [
              "((9396, 24), (52788, 22))"
            ]
          },
          "metadata": {
            "tags": []
          },
          "execution_count": 60
        }
      ]
    },
    {
      "cell_type": "code",
      "metadata": {
        "colab": {
          "base_uri": "https://localhost:8080/"
        },
        "id": "viMNoyBPzf3F",
        "outputId": "3184d1b8-a0f0-47e7-faf0-55252852e7d6"
      },
      "source": [
        "f1_score(y_test, xgb.predict(x_important_test))"
      ],
      "execution_count": 63,
      "outputs": [
        {
          "output_type": "execute_result",
          "data": {
            "text/plain": [
              "0.6179569399908383"
            ]
          },
          "metadata": {
            "tags": []
          },
          "execution_count": 63
        }
      ]
    },
    {
      "cell_type": "markdown",
      "metadata": {
        "id": "7Np-AjqVz2Nr"
      },
      "source": [
        "After Feature selection, my score F1 score was reduced a little bit"
      ]
    }
  ]
}