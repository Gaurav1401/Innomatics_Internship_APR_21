{
 "cells": [
  {
   "cell_type": "markdown",
   "metadata": {},
   "source": [
    "# HackerRank Questions"
   ]
  },
  {
   "cell_type": "markdown",
   "metadata": {},
   "source": [
    "Available on:- https://www.hackerrank.com/domains/python?filters%5Bsubdomains%5D%5B%5D=py-basic-data-types&filters%5Bsubdomains%5D%5B%5D=py-sets"
   ]
  },
  {
   "cell_type": "markdown",
   "metadata": {},
   "source": [
    "If the list values are all integer types, use the map() method to convert all the strings to integers."
   ]
  },
  {
   "cell_type": "markdown",
   "metadata": {},
   "source": [
    "    newlis = list(map(int, lis))\n",
    "    print (newlis)\n",
    "    [5, 4, 3, 2]"
   ]
  },
  {
   "cell_type": "markdown",
   "metadata": {},
   "source": [
    "**Q1. List Comprehensions**"
   ]
  },
  {
   "cell_type": "code",
   "execution_count": 1,
   "metadata": {},
   "outputs": [
    {
     "name": "stdout",
     "output_type": "stream",
     "text": [
      "1\n",
      "1\n",
      "1\n",
      "2\n",
      "[[0, 0, 0], [0, 0, 1], [0, 1, 0], [1, 0, 0], [1, 1, 1]]\n"
     ]
    }
   ],
   "source": [
    "x = int(input())\n",
    "y = int(input())\n",
    "z = int(input())\n",
    "n = int(input())\n",
    "    \n",
    "print([[i, j, k] for i in range(x+1) for j in range(y+1) for k in range(z+1) if (i+j+k) != n])"
   ]
  },
  {
   "cell_type": "markdown",
   "metadata": {},
   "source": [
    "**Q2. Find the Runner-Up Score!**"
   ]
  },
  {
   "cell_type": "code",
   "execution_count": 34,
   "metadata": {},
   "outputs": [
    {
     "name": "stdout",
     "output_type": "stream",
     "text": [
      "5\n",
      "2 3 6 6 5\n",
      "5\n"
     ]
    }
   ],
   "source": [
    "n = int(input())\n",
    "arr = map(int, input().split())\n",
    "s = set(arr)\n",
    "l = list(s)\n",
    "l.sort(reverse = True)\n",
    "print(l[1])"
   ]
  },
  {
   "cell_type": "markdown",
   "metadata": {},
   "source": [
    "**Q3. Nested Lists**"
   ]
  },
  {
   "cell_type": "code",
   "execution_count": 43,
   "metadata": {},
   "outputs": [
    {
     "name": "stdout",
     "output_type": "stream",
     "text": [
      "5\n",
      "Harry\n",
      "37.21\n",
      "Berry\n",
      "37.21\n",
      "Tina\n",
      "37.2\n",
      "Akriti\n",
      "41\n",
      "Harsh\n",
      "39\n",
      "Berry\n",
      "Harry\n"
     ]
    }
   ],
   "source": [
    "students = []\n",
    "for _ in range(int(input())):\n",
    "    name = input()\n",
    "    score = float(input())\n",
    "    students.append([a for a in [name, score]])\n",
    "#   print(students)\n",
    "marks = []    \n",
    "for inner in students:\n",
    "    marks.append(inner[1])\n",
    "marks.sort()\n",
    "marks = list(set(marks))\n",
    "marks.sort() \n",
    "lowest_2nd = marks[1]\n",
    "\n",
    "lowest_2nd_students = []\n",
    "for inner in students:\n",
    "    if lowest_2nd == inner[1]:\n",
    "        lowest_2nd_students.append(inner[0])\n",
    "lowest_2nd_students.sort()\n",
    "for student in lowest_2nd_students:\n",
    "    print(student)"
   ]
  },
  {
   "cell_type": "markdown",
   "metadata": {},
   "source": [
    "**Q4. Finding the percentage**"
   ]
  },
  {
   "cell_type": "code",
   "execution_count": 45,
   "metadata": {},
   "outputs": [
    {
     "name": "stdout",
     "output_type": "stream",
     "text": [
      "3\n",
      "Krishna 67 68 69\n",
      "Arjun 70 98 63\n",
      "Malika 52 56 60\n",
      "Malika\n",
      "56.00\n"
     ]
    }
   ],
   "source": [
    "n = int(input())\n",
    "student_marks = {}\n",
    "for _ in range(n):\n",
    "    name, *line = input().split()\n",
    "    scores = list(map(float, line))\n",
    "    student_marks[name] = scores\n",
    "query_name = input()\n",
    "avg = sum(student_marks[query_name]) / len(student_marks[query_name])\n",
    "print('{:.2f}'.format(avg))"
   ]
  },
  {
   "cell_type": "markdown",
   "metadata": {},
   "source": [
    "**Q5. Lists**"
   ]
  },
  {
   "cell_type": "code",
   "execution_count": 1,
   "metadata": {},
   "outputs": [
    {
     "name": "stdout",
     "output_type": "stream",
     "text": [
      "12\n",
      "insert 0 5\n",
      "insert 1 10\n",
      "insert 0 6\n",
      "print\n",
      "[6, 5, 10]\n",
      "remove 6\n",
      "append 9\n",
      "append 1\n",
      "sort \n",
      "print\n",
      "[1, 5, 9, 10]\n",
      "pop\n",
      "reverse\n",
      "print\n",
      "[9, 5, 1]\n"
     ]
    }
   ],
   "source": [
    "N = int(input())\n",
    "l = []\n",
    "for _ in range(N):\n",
    "    s = input().split()\n",
    "    cmd = s[0]\n",
    "    args = s[1:]\n",
    "    if cmd == 'insert':\n",
    "        l.insert(int(args[0]), int(args[1]))\n",
    "    elif cmd == 'append':\n",
    "        l.append(int(args[0]))\n",
    "    elif cmd == 'print':\n",
    "        print(l)\n",
    "    elif cmd == 'sort':\n",
    "        l.sort()\n",
    "    elif cmd == 'pop':\n",
    "        l.pop()\n",
    "    elif cmd == 'remove':\n",
    "        l.remove(int(args[0]))\n",
    "    elif cmd == 'reverse':\n",
    "        l.reverse()"
   ]
  },
  {
   "cell_type": "markdown",
   "metadata": {},
   "source": [
    "**Q6. Tuples**"
   ]
  },
  {
   "cell_type": "code",
   "execution_count": 5,
   "metadata": {},
   "outputs": [
    {
     "name": "stdout",
     "output_type": "stream",
     "text": [
      "2\n",
      "1 2\n",
      "-3550055125485641917\n"
     ]
    }
   ],
   "source": [
    "n = int(input())\n",
    "integer_list = map(int, input().split())\n",
    "print(hash(tuple(integer_list)))"
   ]
  },
  {
   "cell_type": "markdown",
   "metadata": {},
   "source": [
    "**Q7. Introduction to Sets**"
   ]
  },
  {
   "cell_type": "code",
   "execution_count": 2,
   "metadata": {},
   "outputs": [],
   "source": [
    "def average(array):\n",
    "    s = set(array)\n",
    "    add = 0\n",
    "    for i in s:\n",
    "        add+= i\n",
    "    avg = add / len(s)\n",
    "    return round(avg, 3)"
   ]
  },
  {
   "cell_type": "code",
   "execution_count": 3,
   "metadata": {},
   "outputs": [
    {
     "name": "stdout",
     "output_type": "stream",
     "text": [
      "10\n",
      "161 182 161 154 176 170 167 171 170 174\n",
      "169.375\n"
     ]
    }
   ],
   "source": [
    "n = int(input())\n",
    "arr = list(map(int, input().split()))\n",
    "result = average(arr)\n",
    "print(result)"
   ]
  },
  {
   "cell_type": "markdown",
   "metadata": {},
   "source": [
    "**Q8. No Idea!**"
   ]
  },
  {
   "cell_type": "code",
   "execution_count": 10,
   "metadata": {},
   "outputs": [
    {
     "name": "stdout",
     "output_type": "stream",
     "text": [
      "3 2\n",
      "1 5 3\n",
      "3 1\n",
      "5 7\n",
      "1\n"
     ]
    }
   ],
   "source": [
    "happy = 0\n",
    "z = map(int, input().split())\n",
    "arr = map(int, input().split())\n",
    "arr = list(arr)\n",
    "A = map(int, input().split())\n",
    "A = set(A)\n",
    "B = map(int, input().split())\n",
    "B = set(B)\n",
    "for i in arr:\n",
    "    if i in A:\n",
    "        happy += 1\n",
    "    if i in B:\n",
    "        happy -= 1\n",
    "print(happy)"
   ]
  },
  {
   "cell_type": "markdown",
   "metadata": {},
   "source": [
    "**Q9. Symmetric Difference**"
   ]
  },
  {
   "cell_type": "code",
   "execution_count": 37,
   "metadata": {},
   "outputs": [
    {
     "name": "stdout",
     "output_type": "stream",
     "text": [
      "4\n",
      "2 4 5 9\n",
      "4\n",
      "2 4 11 12\n",
      "5\n",
      "9\n",
      "11\n",
      "12\n"
     ]
    }
   ],
   "source": [
    "M = int(input())\n",
    "a = set(map(int, input().split()))\n",
    "N = int(input())\n",
    "b = set(map(int, input().split()))\n",
    "\n",
    "x = a.difference(b)\n",
    "y = b.difference(a)\n",
    "x.update(y)\n",
    "x = list(x)\n",
    "x.sort()\n",
    "for i in x:\n",
    "    print(i)"
   ]
  },
  {
   "cell_type": "markdown",
   "metadata": {},
   "source": [
    "**Q10. Set .add()**"
   ]
  },
  {
   "cell_type": "markdown",
   "metadata": {},
   "source": [
    "If we want to add a single element to an existing set, we can use the .add() operation.\n",
    "\n",
    "It adds the element to the set and returns 'None'."
   ]
  },
  {
   "cell_type": "markdown",
   "metadata": {},
   "source": [
    "    >>>s = set('HackerRank')\n",
    "    >>> s.add('H')\n",
    "    >>> print s\n",
    "    set(['a', 'c', 'e', 'H', 'k', 'n', 'r', 'R'])\n",
    "    >>> print s.add('HackerRank')\n",
    "    None\n",
    "    >>> print s\n",
    "    set(['a', 'c', 'e', 'HackerRank', 'H', 'k', 'n', 'r', 'R'])"
   ]
  },
  {
   "cell_type": "code",
   "execution_count": 38,
   "metadata": {},
   "outputs": [
    {
     "name": "stdout",
     "output_type": "stream",
     "text": [
      "7\n",
      "UK\n",
      "China\n",
      "USA\n",
      "France\n",
      "New Zealand\n",
      "UK\n",
      "France\n",
      "5\n"
     ]
    }
   ],
   "source": [
    "n = int(input())\n",
    "s = set()\n",
    "for _ in range(n):\n",
    "    c = input()\n",
    "    s.add(c)\n",
    "print(len(s))"
   ]
  },
  {
   "cell_type": "markdown",
   "metadata": {},
   "source": [
    "**Q11. Set .discard(), .remove() & .pop()** "
   ]
  },
  {
   "cell_type": "markdown",
   "metadata": {},
   "source": [
    "    discard(x) and remove(x)\n",
    "    Both removes the element x from the set.\n",
    "    If element x doesn't exist in the set, remoce raises key error but discard doesn't "
   ]
  },
  {
   "cell_type": "markdown",
   "metadata": {},
   "source": [
    "    .pop()\n",
    "    This operation removes and return an arbitrary element from the set.\n",
    "    If there are no elements to remove, it raises a KeyError."
   ]
  },
  {
   "cell_type": "code",
   "execution_count": 5,
   "metadata": {},
   "outputs": [
    {
     "name": "stdout",
     "output_type": "stream",
     "text": [
      "9\n",
      "1 2 3 4 5 6 7 8 9\n",
      "10\n",
      "pop\n",
      "remove 9\n",
      "discard 9\n",
      "discard 8\n",
      "remove 7\n",
      "pop\n",
      "discard 6\n",
      "remove 5\n",
      "pop\n",
      "discard 5\n",
      "4\n"
     ]
    }
   ],
   "source": [
    "n = int(input())\n",
    "s = set(map(int, input().split()))\n",
    "N = int(input())\n",
    "for _ in range(N):\n",
    "    cmd = input().split()\n",
    "    if cmd[0] == 'pop':\n",
    "        s.pop()\n",
    "    elif cmd[0] == 'remove':\n",
    "        s.remove(int(cmd[1]))\n",
    "    elif cmd[0] == 'discard':\n",
    "        s.discard(int(cmd[1]))\n",
    "        \n",
    "print(sum(s))"
   ]
  },
  {
   "cell_type": "markdown",
   "metadata": {},
   "source": [
    "**Q12. Set .union() Operation**"
   ]
  },
  {
   "cell_type": "markdown",
   "metadata": {},
   "source": [
    "    The .union() operator returns the union of a set and the set of elements in an iterable.\n",
    "    Sometimes, the | operator is used in place of .union() operator, but it operates only on the set of elements in set.\n",
    "    Set is immutable to the .union() operation (or | operation)."
   ]
  },
  {
   "cell_type": "code",
   "execution_count": 7,
   "metadata": {},
   "outputs": [
    {
     "name": "stdout",
     "output_type": "stream",
     "text": [
      "9\n",
      "1 2 3 4 5 6 7 8 9\n",
      "9\n",
      "10 1 2 3 11 21 55 6 8\n",
      "13\n"
     ]
    }
   ],
   "source": [
    "n = int(input())\n",
    "eng = set(map(int, input().split()))\n",
    "b = int(input())\n",
    "fre = set(map(int, input().split()))\n",
    "num = eng.union(fre)\n",
    "print(len(num))"
   ]
  },
  {
   "cell_type": "markdown",
   "metadata": {},
   "source": [
    "**Q13. Set .intersection() Operation**"
   ]
  },
  {
   "cell_type": "markdown",
   "metadata": {},
   "source": [
    "    The .intersection() operator returns the intersection of a set and the set of elements in an iterable.\n",
    "    Sometimes, the & operator is used in place of the .intersection() operator, but it only operates on the set of elements in set.\n",
    "    The set is immutable to the .intersection() operation (or & operation)."
   ]
  },
  {
   "cell_type": "code",
   "execution_count": 8,
   "metadata": {},
   "outputs": [
    {
     "name": "stdout",
     "output_type": "stream",
     "text": [
      "9\n",
      "1 2 3 4 5 6 7 8 9\n",
      "9\n",
      "10 1 2 3 11 21 55 6 8\n",
      "5\n"
     ]
    }
   ],
   "source": [
    "n = int(input())\n",
    "eng = set(map(int, input().split()))\n",
    "b = int(input())\n",
    "fre = set(map(int, input().split()))\n",
    "both = eng & fre\n",
    "print(len(both))"
   ]
  },
  {
   "cell_type": "markdown",
   "metadata": {},
   "source": [
    "**Q14. Set .difference() Operation**"
   ]
  },
  {
   "cell_type": "markdown",
   "metadata": {},
   "source": [
    "    The tool .difference() returns a set with all the elements from the set that are not in an iterable.\n",
    "Sometimes the - operator is used in place of the .difference() tool, but it only operates on the set of elements in set.\n",
    "Set is immutable to the .difference() operation (or the - operation)."
   ]
  },
  {
   "cell_type": "code",
   "execution_count": 9,
   "metadata": {},
   "outputs": [
    {
     "name": "stdout",
     "output_type": "stream",
     "text": [
      "9\n",
      "1 2 3 4 5 6 7 8 9\n",
      "9\n",
      "10 1 2 3 11 21 55 6 8\n",
      "4\n"
     ]
    }
   ],
   "source": [
    "n = int(input())\n",
    "eng = set(map(int, input().split()))\n",
    "b = int(input())\n",
    "fre = set(map(int, input().split()))\n",
    " \n",
    "eng_only = eng - fre\n",
    "print(len(eng_only))"
   ]
  },
  {
   "cell_type": "markdown",
   "metadata": {},
   "source": [
    "**Q15. Set .symmetric_difference() Operation**"
   ]
  },
  {
   "cell_type": "markdown",
   "metadata": {},
   "source": [
    "    The .symmetric_difference() operator returns a set with all the elements that are in the set and the iterable but not both.\n",
    "    Sometimes, a ^ operator is used in place of the .symmetric_difference() tool, but it only operates on the set of elements in set.\n",
    "    The set is immutable to the .symmetric_difference() operation (or ^ operation)."
   ]
  },
  {
   "cell_type": "code",
   "execution_count": 11,
   "metadata": {},
   "outputs": [
    {
     "name": "stdout",
     "output_type": "stream",
     "text": [
      "9\n",
      "1 2 3 4 5 6 7 8 9\n",
      "9\n",
      "10 1 2 3 11 21 55 6 8\n",
      "8\n"
     ]
    }
   ],
   "source": [
    "n = int(input())\n",
    "eng = set(map(int, input().split()))\n",
    "b = int(input())\n",
    "fre = set(map(int, input().split()))\n",
    "only_one = eng.symmetric_difference(fre)\n",
    "print(len(only_one))"
   ]
  },
  {
   "cell_type": "markdown",
   "metadata": {},
   "source": [
    "**Q16. Set Mutations**"
   ]
  },
  {
   "cell_type": "code",
   "execution_count": 16,
   "metadata": {},
   "outputs": [
    {
     "name": "stdout",
     "output_type": "stream",
     "text": [
      "16\n",
      "1 2 3 4 5 6 7 8 9 10 11 12 13 14 24 52\n",
      "4\n",
      "intersection_update 10\n",
      "2 3 5 6 8 9 1 4 7 11\n",
      "update 2\n",
      "55 66\n",
      "symmetric_difference_update 5\n",
      "22 7 35 62 58\n",
      "difference_update 7\n",
      "11 22 35 55 58 62 66\n",
      "38\n"
     ]
    }
   ],
   "source": [
    "n = int(input())\n",
    "set_A = set(map(int, input().split()))\n",
    "N = int(input())\n",
    "for _ in range(N):\n",
    "    cmd, arg = input().split()\n",
    "    other_set = set(map(int, input().split()))\n",
    "    if cmd == 'symmetric_difference_update':\n",
    "        set_A.symmetric_difference_update(other_set)\n",
    "    elif cmd == 'difference_update':\n",
    "        set_A.difference_update(other_set)\n",
    "    elif cmd == 'intersection_update':\n",
    "        set_A.intersection_update(other_set)\n",
    "    elif cmd == 'update':\n",
    "        set_A.update(other_set)\n",
    "print(sum(set_A))"
   ]
  },
  {
   "cell_type": "markdown",
   "metadata": {},
   "source": [
    "**Q17. The Captain's Room**"
   ]
  },
  {
   "cell_type": "code",
   "execution_count": 17,
   "metadata": {},
   "outputs": [
    {
     "name": "stdout",
     "output_type": "stream",
     "text": [
      "5\n",
      "1 2 3 6 5 4 4 2 5 3 6 1 6 5 3 2 4 1 2 5 1 4 3 6 8 4 3 1 5 6 2\n",
      "8\n"
     ]
    }
   ],
   "source": [
    "def single_number(arr, K):\n",
    "    return((K*sum(set(arr)) - sum(arr)) // (K-1))\n",
    "\n",
    "K = int(input())\n",
    "arr = list(map(int, input().split()))\n",
    "captain = single_number(arr, K)\n",
    "print(captain)"
   ]
  },
  {
   "cell_type": "markdown",
   "metadata": {},
   "source": [
    "**Q18. Check Subset**"
   ]
  },
  {
   "cell_type": "code",
   "execution_count": 21,
   "metadata": {},
   "outputs": [
    {
     "name": "stdout",
     "output_type": "stream",
     "text": [
      "3\n",
      "5\n",
      "1 2 3 5 6\n",
      "9\n",
      "9 8 5 6 3 2 1 4 7\n",
      "True\n",
      "1\n",
      "2\n",
      "5\n",
      "3 6 5 4 1\n",
      "False\n",
      "7\n",
      "1 2 3 5 6 8 9\n",
      "3\n",
      "9 8 2\n",
      "False\n"
     ]
    }
   ],
   "source": [
    "T = int(input())\n",
    "for _ in range(T):\n",
    "    nA = int(input())\n",
    "    A = set(map(int, input().split()))\n",
    "    nB = int(input())\n",
    "    B = set(map(int, input().split()))\n",
    "    if A.union(B) == B:\n",
    "        print(True)\n",
    "    else:\n",
    "        print(False)"
   ]
  },
  {
   "cell_type": "markdown",
   "metadata": {},
   "source": [
    "**Q19. Check Strict Superset**"
   ]
  },
  {
   "cell_type": "code",
   "execution_count": null,
   "metadata": {},
   "outputs": [],
   "source": [
    "A = set(map(int, input().split()))\n",
    "n = int(input())\n",
    "lst = []\n",
    "for _ in range(n):\n",
    "    a = set(map(int, input().split()))\n",
    "    lst.append(a)\n",
    "\n",
    "sum = 0\n",
    "for i in lst:\n",
    "    if i.union(A) == A and i.union(A) != i.intersection(A):\n",
    "        sum+=1\n",
    "    \n",
    "if len(lst) == sum:\n",
    "    print(True)\n",
    "else:\n",
    "    print(False)\n",
    "    "
   ]
  },
  {
   "cell_type": "code",
   "execution_count": null,
   "metadata": {},
   "outputs": [],
   "source": []
  },
  {
   "cell_type": "code",
   "execution_count": null,
   "metadata": {},
   "outputs": [],
   "source": []
  },
  {
   "cell_type": "code",
   "execution_count": null,
   "metadata": {},
   "outputs": [],
   "source": []
  },
  {
   "cell_type": "code",
   "execution_count": null,
   "metadata": {},
   "outputs": [],
   "source": []
  },
  {
   "cell_type": "code",
   "execution_count": null,
   "metadata": {},
   "outputs": [],
   "source": []
  },
  {
   "cell_type": "code",
   "execution_count": null,
   "metadata": {},
   "outputs": [],
   "source": []
  },
  {
   "cell_type": "code",
   "execution_count": null,
   "metadata": {},
   "outputs": [],
   "source": []
  },
  {
   "cell_type": "code",
   "execution_count": null,
   "metadata": {},
   "outputs": [],
   "source": []
  }
 ],
 "metadata": {
  "kernelspec": {
   "display_name": "Python 3",
   "language": "python",
   "name": "python3"
  },
  "language_info": {
   "codemirror_mode": {
    "name": "ipython",
    "version": 3
   },
   "file_extension": ".py",
   "mimetype": "text/x-python",
   "name": "python",
   "nbconvert_exporter": "python",
   "pygments_lexer": "ipython3",
   "version": "3.8.5"
  }
 },
 "nbformat": 4,
 "nbformat_minor": 4
}
