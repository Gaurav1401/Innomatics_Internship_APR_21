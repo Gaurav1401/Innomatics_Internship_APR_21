{
 "cells": [
  {
   "cell_type": "markdown",
   "metadata": {},
   "source": [
    "Questions:-  https://www.hackerrank.com/domains/python?filters%5Bsubdomains%5D%5B%5D=numpy"
   ]
  },
  {
   "cell_type": "markdown",
   "metadata": {},
   "source": [
    "**Q1. Arrays**"
   ]
  },
  {
   "cell_type": "code",
   "execution_count": 19,
   "metadata": {},
   "outputs": [
    {
     "name": "stdout",
     "output_type": "stream",
     "text": [
      "1 2 3 4 -8 -10\n",
      "[-10.  -8.   4.   3.   2.   1.]\n"
     ]
    }
   ],
   "source": [
    "import numpy\n",
    "\n",
    "def arrays(arr):\n",
    "    # complete this function\n",
    "    # use numpy.array\n",
    "    arr = numpy.array(arr, float)\n",
    "    return arr[::-1]\n",
    "\n",
    "arr = input().strip().split(' ')\n",
    "result = arrays(arr)\n",
    "print(result)"
   ]
  },
  {
   "cell_type": "markdown",
   "metadata": {},
   "source": [
    "**Q2 . Shape and Reshape**"
   ]
  },
  {
   "cell_type": "code",
   "execution_count": 17,
   "metadata": {},
   "outputs": [
    {
     "name": "stdout",
     "output_type": "stream",
     "text": [
      "1 2 3 4 5 6 7 8 9\n",
      "[[1 2 3]\n",
      " [4 5 6]\n",
      " [7 8 9]]\n"
     ]
    }
   ],
   "source": [
    "import numpy\n",
    "\n",
    "lst = input().split()\n",
    "\n",
    "arr = numpy.array(lst, int)\n",
    "\n",
    "print(numpy.reshape(arr, (3,3)))\n"
   ]
  },
  {
   "cell_type": "markdown",
   "metadata": {},
   "source": [
    "**Q3. Transpose and Flatten**"
   ]
  },
  {
   "cell_type": "code",
   "execution_count": 16,
   "metadata": {},
   "outputs": [
    {
     "name": "stdout",
     "output_type": "stream",
     "text": [
      "2 2\n",
      "1 2\n",
      "3 4\n",
      "[[1 3]\n",
      " [2 4]]\n",
      "[1 2 3 4]\n"
     ]
    }
   ],
   "source": [
    "import numpy\n",
    "\n",
    "lst = list(map(int, input().split()))\n",
    "N = lst[0]\n",
    "M = lst[1]\n",
    "\n",
    "arr = []\n",
    "for i in range(N):\n",
    "    row = list(map(int, input().split()))\n",
    "    arr.append(row)\n",
    "\n",
    "arr = numpy.array(arr)    \n",
    "print(numpy.transpose(arr))\n",
    "print(arr.flatten())"
   ]
  },
  {
   "cell_type": "markdown",
   "metadata": {},
   "source": [
    "**Q4. Concatenate**"
   ]
  },
  {
   "cell_type": "code",
   "execution_count": 6,
   "metadata": {},
   "outputs": [
    {
     "name": "stdout",
     "output_type": "stream",
     "text": [
      "4 3 2\n",
      "1 2\n",
      "1 2 \n",
      "1 2\n",
      "1 2 \n",
      "3 4\n",
      "3 4\n",
      "3 4\n",
      "[[1 2]\n",
      " [1 2]\n",
      " [1 2]\n",
      " [1 2]\n",
      " [3 4]\n",
      " [3 4]\n",
      " [3 4]]\n"
     ]
    }
   ],
   "source": [
    "import numpy\n",
    "\n",
    "lst = list(map(int, input().split()))\n",
    "N = lst[0]\n",
    "M = lst[1]\n",
    "P = lst[2]\n",
    "\n",
    "arr_1 = []\n",
    "arr_2 = []\n",
    "for i in range(N):\n",
    "    ele = list(map(int, input().split()))[:P]\n",
    "    arr_1.append(ele)\n",
    "    \n",
    "for i in range(M):\n",
    "    ele = list(map(int, input().split()))[:P]\n",
    "    arr_2.append(ele)\n",
    "\n",
    "arr_1 = numpy.array(arr_1)\n",
    "arr_2 = numpy.array(arr_2)\n",
    "\n",
    "array = numpy.concatenate((arr_1, arr_2), axis = 0)\n",
    "\n",
    "print(array)"
   ]
  },
  {
   "cell_type": "markdown",
   "metadata": {},
   "source": [
    "**Q5. Zeros and Ones**"
   ]
  },
  {
   "cell_type": "code",
   "execution_count": 8,
   "metadata": {},
   "outputs": [
    {
     "name": "stdout",
     "output_type": "stream",
     "text": [
      "3 3 3\n",
      "[[[0 0 0]\n",
      "  [0 0 0]\n",
      "  [0 0 0]]\n",
      "\n",
      " [[0 0 0]\n",
      "  [0 0 0]\n",
      "  [0 0 0]]\n",
      "\n",
      " [[0 0 0]\n",
      "  [0 0 0]\n",
      "  [0 0 0]]]\n",
      "[[[1 1 1]\n",
      "  [1 1 1]\n",
      "  [1 1 1]]\n",
      "\n",
      " [[1 1 1]\n",
      "  [1 1 1]\n",
      "  [1 1 1]]\n",
      "\n",
      " [[1 1 1]\n",
      "  [1 1 1]\n",
      "  [1 1 1]]]\n"
     ]
    }
   ],
   "source": [
    "import numpy\n",
    "shape = tuple(map(int, input().split()))\n",
    "print(numpy.zeros(shape, dtype = int))\n",
    "print(numpy.ones(shape, dtype = int))\n"
   ]
  },
  {
   "cell_type": "markdown",
   "metadata": {},
   "source": [
    "**Q6. Eye and Identity**"
   ]
  },
  {
   "cell_type": "code",
   "execution_count": 9,
   "metadata": {},
   "outputs": [
    {
     "name": "stdout",
     "output_type": "stream",
     "text": [
      "3 3\n",
      "[[ 1.  0.  0.]\n",
      " [ 0.  1.  0.]\n",
      " [ 0.  0.  1.]]\n"
     ]
    }
   ],
   "source": [
    "import numpy\n",
    "\n",
    "numpy.set_printoptions(legacy = '1.13')\n",
    "\n",
    "lst = list(map(int, input().split()))\n",
    "N = lst[0]\n",
    "M = lst[1]\n",
    "\n",
    "print(numpy.eye(N,M,k  = 0))"
   ]
  },
  {
   "cell_type": "markdown",
   "metadata": {},
   "source": [
    "**Q7. Array Mathematics**"
   ]
  },
  {
   "cell_type": "code",
   "execution_count": 13,
   "metadata": {},
   "outputs": [
    {
     "name": "stdout",
     "output_type": "stream",
     "text": [
      "1 4 \n",
      "1 2 3 4\n",
      "5 6 7 8\n",
      "[[ 6  8 10 12]]\n",
      "[[-4 -4 -4 -4]]\n",
      "[[ 5 12 21 32]]\n",
      "[[0 0 0 0]]\n",
      "[[1 2 3 4]]\n",
      "[[    1    64  2187 65536]]\n"
     ]
    }
   ],
   "source": [
    "import numpy\n",
    "lst = list(map(int, input().split()))\n",
    "n = lst[0]\n",
    "m = lst[1]\n",
    "arr_A = []\n",
    "arr_B = []\n",
    "for _ in range(n):\n",
    "    ele = list(map(int, input().split()))[:m]\n",
    "    arr_A.append(ele)\n",
    "    \n",
    "for _ in range(n):\n",
    "    ele = list(map(int, input().split()))[:m]\n",
    "    arr_B.append(ele)\n",
    "\n",
    "arr_A = numpy.array(arr_A)\n",
    "arr_B = numpy.array(arr_B)\n",
    "\n",
    "print(arr_A + arr_B)\n",
    "print(arr_A - arr_B)\n",
    "print(arr_A * arr_B)\n",
    "print(arr_A // arr_B)\n",
    "print(arr_A % arr_B)\n",
    "print(arr_A ** arr_B)"
   ]
  },
  {
   "cell_type": "markdown",
   "metadata": {},
   "source": [
    "**Q8. Floor, Ceil and Rint**"
   ]
  },
  {
   "cell_type": "code",
   "execution_count": 15,
   "metadata": {},
   "outputs": [
    {
     "name": "stdout",
     "output_type": "stream",
     "text": [
      "1.1 2.2 3.3 4.4 5.5 6.6 7.7 8.8 9.9\n",
      "[ 1.  2.  3.  4.  5.  6.  7.  8.  9.]\n",
      "[  2.   3.   4.   5.   6.   7.   8.   9.  10.]\n",
      "[  1.   2.   3.   4.   6.   7.   8.   9.  10.]\n"
     ]
    }
   ],
   "source": [
    "import numpy\n",
    "numpy.set_printoptions(legacy = '1.13')\n",
    "\n",
    "a = list(map(float, input().split()))\n",
    "a = numpy.array(a)\n",
    "\n",
    "print(numpy.floor(a))\n",
    "print(numpy.ceil(a))\n",
    "print(numpy.rint(a))"
   ]
  },
  {
   "cell_type": "markdown",
   "metadata": {},
   "source": [
    "**Q9. Sum and Prod**"
   ]
  },
  {
   "cell_type": "code",
   "execution_count": 3,
   "metadata": {},
   "outputs": [
    {
     "name": "stdout",
     "output_type": "stream",
     "text": [
      "2 2\n",
      "1 2\n",
      "3 4\n",
      "24\n"
     ]
    }
   ],
   "source": [
    "import numpy\n",
    "\n",
    "lst = list(map(int, input().split()))\n",
    "n = lst[0]\n",
    "m = lst[1]\n",
    "\n",
    "arr = []\n",
    "for _ in range(n):\n",
    "    ele = list(map(int, input().split()))[:m]\n",
    "    arr.append(ele)\n",
    "\n",
    "arr = numpy.array(arr)\n",
    "\n",
    "s = numpy.sum(arr, axis = 0)\n",
    "print(numpy.prod(arr))"
   ]
  },
  {
   "cell_type": "markdown",
   "metadata": {},
   "source": [
    "**Q10. Min and Max**"
   ]
  },
  {
   "cell_type": "code",
   "execution_count": 5,
   "metadata": {},
   "outputs": [
    {
     "name": "stdout",
     "output_type": "stream",
     "text": [
      "4 2\n",
      "2 5\n",
      "3 7\n",
      "1 3\n",
      "4 0\n",
      "3\n"
     ]
    }
   ],
   "source": [
    "import numpy\n",
    "\n",
    "lst = list(map(int, input().split()))\n",
    "n = lst[0]\n",
    "m = lst[1]\n",
    "\n",
    "arr = []\n",
    "for _ in range(n):\n",
    "    s = list(map(int, input().split()))[:m]\n",
    "    arr.append(s)\n",
    "    \n",
    "arr = numpy.array(arr)\n",
    "\n",
    "mini = numpy.min(arr, axis = 1)\n",
    "print(numpy.max(mini))"
   ]
  },
  {
   "cell_type": "markdown",
   "metadata": {},
   "source": [
    "**Q11. Mean, Var, and Std**"
   ]
  },
  {
   "cell_type": "code",
   "execution_count": 8,
   "metadata": {},
   "outputs": [
    {
     "name": "stdout",
     "output_type": "stream",
     "text": [
      "2 2\n",
      "1 2\n",
      "3 4\n",
      "[1.5 3.5]\n",
      "[1. 1.]\n",
      "1.11803398875\n"
     ]
    }
   ],
   "source": [
    "import numpy\n",
    "\n",
    "lst = list(map(int, input().split()))\n",
    "\n",
    "n = lst[0]\n",
    "m = lst[1]\n",
    "\n",
    "arr = []\n",
    "for _ in range(n):\n",
    "    row = list(map(int, input().split()))[:m]\n",
    "    arr.append(row)\n",
    "    \n",
    "arr = numpy.array(arr)\n",
    "\n",
    "print(numpy.mean(arr, axis = 1))\n",
    "print(numpy.var(arr, axis = 0))\n",
    "print(numpy.round(numpy.std(arr, axis = None), 11))"
   ]
  },
  {
   "cell_type": "markdown",
   "metadata": {},
   "source": [
    "**Q12. Dot and Cross**"
   ]
  },
  {
   "cell_type": "code",
   "execution_count": 9,
   "metadata": {},
   "outputs": [
    {
     "name": "stdout",
     "output_type": "stream",
     "text": [
      "2\n",
      "1 2\n",
      "3 4\n",
      "1 2\n",
      "3 4\n",
      "[[ 7 10]\n",
      " [15 22]]\n"
     ]
    }
   ],
   "source": [
    "import numpy\n",
    "\n",
    "n = int(input())\n",
    "\n",
    "arr_A = []\n",
    "arr_B = []\n",
    "for _ in range(n):\n",
    "    s = list(map(int, input().split()))[:n]\n",
    "    arr_A.append(s)\n",
    "    \n",
    "for _ in range(n):\n",
    "    s = list(map(int, input().split()))[:n]\n",
    "    arr_B.append(s)\n",
    "    \n",
    "\n",
    "print(numpy.dot(arr_A, arr_B))\n"
   ]
  },
  {
   "cell_type": "markdown",
   "metadata": {},
   "source": [
    "**Q13. Inner and Outer**"
   ]
  },
  {
   "cell_type": "code",
   "execution_count": 10,
   "metadata": {},
   "outputs": [
    {
     "name": "stdout",
     "output_type": "stream",
     "text": [
      "0 1\n",
      "2 3\n",
      "3\n",
      "[[0 0]\n",
      " [2 3]]\n"
     ]
    }
   ],
   "source": [
    "import numpy\n",
    "\n",
    "a = list(map(int, input().split()))\n",
    "b = list(map(int, input().split()))\n",
    "\n",
    "a = numpy.array(a)\n",
    "b = numpy.array(b)\n",
    "\n",
    "print(numpy.inner(a,b))\n",
    "print(numpy.outer(a,b))\n",
    "\n"
   ]
  },
  {
   "cell_type": "markdown",
   "metadata": {},
   "source": [
    "**Q14. Polynomials**"
   ]
  },
  {
   "cell_type": "code",
   "execution_count": 12,
   "metadata": {},
   "outputs": [
    {
     "name": "stdout",
     "output_type": "stream",
     "text": [
      "1.1 2 3\n",
      "0\n",
      "3.0\n"
     ]
    }
   ],
   "source": [
    "import numpy\n",
    "\n",
    "lst = list(map(float, input().split()))\n",
    "a = int(input())\n",
    "arr = numpy.array(lst)\n",
    "\n",
    "print(numpy.polyval(arr, a))"
   ]
  },
  {
   "cell_type": "markdown",
   "metadata": {},
   "source": [
    "**Q15. Linear Algebra**"
   ]
  },
  {
   "cell_type": "code",
   "execution_count": 1,
   "metadata": {},
   "outputs": [
    {
     "name": "stdout",
     "output_type": "stream",
     "text": [
      "2\n",
      "1.1 1.1\n",
      "1.1 1.1\n",
      "0.0\n"
     ]
    }
   ],
   "source": [
    "import numpy\n",
    "\n",
    "n = int(input())\n",
    "a = []\n",
    "for _ in range(n):\n",
    "    ele = list(map(float, input().split()))[:n]\n",
    "    a.append(ele)\n",
    "    \n",
    "a = numpy.array(a)\n",
    "print(numpy.round(numpy.linalg.det(a), 2))"
   ]
  }
 ],
 "metadata": {
  "kernelspec": {
   "display_name": "Python 3",
   "language": "python",
   "name": "python3"
  },
  "language_info": {
   "codemirror_mode": {
    "name": "ipython",
    "version": 3
   },
   "file_extension": ".py",
   "mimetype": "text/x-python",
   "name": "python",
   "nbconvert_exporter": "python",
   "pygments_lexer": "ipython3",
   "version": "3.8.5"
  }
 },
 "nbformat": 4,
 "nbformat_minor": 4
}
