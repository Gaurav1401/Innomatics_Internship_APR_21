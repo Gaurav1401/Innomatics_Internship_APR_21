{
 "cells": [
  {
   "cell_type": "markdown",
   "metadata": {},
   "source": [
    "Questions:- https://docs.google.com/document/d/1ktm_p-IeSRvTH2szMWaefstaDH1ZhtrJDcZ899MMhsQ/edit"
   ]
  },
  {
   "cell_type": "code",
   "execution_count": 1,
   "metadata": {},
   "outputs": [],
   "source": [
    "import numpy as np\n",
    "import pandas as pd\n",
    "import matplotlib.pyplot as plt\n",
    "import seaborn as sns\n",
    "%matplotlib inline"
   ]
  },
  {
   "cell_type": "code",
   "execution_count": 2,
   "metadata": {},
   "outputs": [],
   "source": [
    "import warnings as wg\n",
    "wg.filterwarnings('ignore')"
   ]
  },
  {
   "cell_type": "code",
   "execution_count": 3,
   "metadata": {},
   "outputs": [],
   "source": [
    "pd.set_option('max_rows', None)"
   ]
  },
  {
   "cell_type": "code",
   "execution_count": 4,
   "metadata": {},
   "outputs": [],
   "source": [
    "data = pd.read_csv('data.csv')"
   ]
  },
  {
   "cell_type": "code",
   "execution_count": 10,
   "metadata": {},
   "outputs": [
    {
     "data": {
      "text/html": [
       "<div>\n",
       "<style scoped>\n",
       "    .dataframe tbody tr th:only-of-type {\n",
       "        vertical-align: middle;\n",
       "    }\n",
       "\n",
       "    .dataframe tbody tr th {\n",
       "        vertical-align: top;\n",
       "    }\n",
       "\n",
       "    .dataframe thead th {\n",
       "        text-align: right;\n",
       "    }\n",
       "</style>\n",
       "<table border=\"1\" class=\"dataframe\">\n",
       "  <thead>\n",
       "    <tr style=\"text-align: right;\">\n",
       "      <th></th>\n",
       "      <th>Mthly_HH_Income</th>\n",
       "      <th>Mthly_HH_Expense</th>\n",
       "      <th>No_of_Fly_Members</th>\n",
       "      <th>Emi_or_Rent_Amt</th>\n",
       "      <th>Annual_HH_Income</th>\n",
       "      <th>Highest_Qualified_Member</th>\n",
       "      <th>No_of_Earning_Members</th>\n",
       "    </tr>\n",
       "  </thead>\n",
       "  <tbody>\n",
       "    <tr>\n",
       "      <th>0</th>\n",
       "      <td>5000</td>\n",
       "      <td>8000</td>\n",
       "      <td>3</td>\n",
       "      <td>2000</td>\n",
       "      <td>64200</td>\n",
       "      <td>Under-Graduate</td>\n",
       "      <td>1</td>\n",
       "    </tr>\n",
       "    <tr>\n",
       "      <th>1</th>\n",
       "      <td>6000</td>\n",
       "      <td>7000</td>\n",
       "      <td>2</td>\n",
       "      <td>3000</td>\n",
       "      <td>79920</td>\n",
       "      <td>Illiterate</td>\n",
       "      <td>1</td>\n",
       "    </tr>\n",
       "    <tr>\n",
       "      <th>2</th>\n",
       "      <td>10000</td>\n",
       "      <td>4500</td>\n",
       "      <td>2</td>\n",
       "      <td>0</td>\n",
       "      <td>112800</td>\n",
       "      <td>Under-Graduate</td>\n",
       "      <td>1</td>\n",
       "    </tr>\n",
       "    <tr>\n",
       "      <th>3</th>\n",
       "      <td>10000</td>\n",
       "      <td>2000</td>\n",
       "      <td>1</td>\n",
       "      <td>0</td>\n",
       "      <td>97200</td>\n",
       "      <td>Illiterate</td>\n",
       "      <td>1</td>\n",
       "    </tr>\n",
       "    <tr>\n",
       "      <th>4</th>\n",
       "      <td>12500</td>\n",
       "      <td>12000</td>\n",
       "      <td>2</td>\n",
       "      <td>3000</td>\n",
       "      <td>147000</td>\n",
       "      <td>Graduate</td>\n",
       "      <td>1</td>\n",
       "    </tr>\n",
       "    <tr>\n",
       "      <th>5</th>\n",
       "      <td>14000</td>\n",
       "      <td>8000</td>\n",
       "      <td>2</td>\n",
       "      <td>0</td>\n",
       "      <td>196560</td>\n",
       "      <td>Graduate</td>\n",
       "      <td>1</td>\n",
       "    </tr>\n",
       "    <tr>\n",
       "      <th>6</th>\n",
       "      <td>15000</td>\n",
       "      <td>16000</td>\n",
       "      <td>3</td>\n",
       "      <td>35000</td>\n",
       "      <td>167400</td>\n",
       "      <td>Post-Graduate</td>\n",
       "      <td>1</td>\n",
       "    </tr>\n",
       "    <tr>\n",
       "      <th>7</th>\n",
       "      <td>18000</td>\n",
       "      <td>20000</td>\n",
       "      <td>5</td>\n",
       "      <td>8000</td>\n",
       "      <td>216000</td>\n",
       "      <td>Graduate</td>\n",
       "      <td>1</td>\n",
       "    </tr>\n",
       "    <tr>\n",
       "      <th>8</th>\n",
       "      <td>19000</td>\n",
       "      <td>9000</td>\n",
       "      <td>2</td>\n",
       "      <td>0</td>\n",
       "      <td>218880</td>\n",
       "      <td>Under-Graduate</td>\n",
       "      <td>1</td>\n",
       "    </tr>\n",
       "    <tr>\n",
       "      <th>9</th>\n",
       "      <td>20000</td>\n",
       "      <td>9000</td>\n",
       "      <td>4</td>\n",
       "      <td>0</td>\n",
       "      <td>220800</td>\n",
       "      <td>Under-Graduate</td>\n",
       "      <td>2</td>\n",
       "    </tr>\n",
       "    <tr>\n",
       "      <th>10</th>\n",
       "      <td>20000</td>\n",
       "      <td>18000</td>\n",
       "      <td>4</td>\n",
       "      <td>8000</td>\n",
       "      <td>278400</td>\n",
       "      <td>Under-Graduate</td>\n",
       "      <td>2</td>\n",
       "    </tr>\n",
       "    <tr>\n",
       "      <th>11</th>\n",
       "      <td>22000</td>\n",
       "      <td>25000</td>\n",
       "      <td>6</td>\n",
       "      <td>12000</td>\n",
       "      <td>279840</td>\n",
       "      <td>Illiterate</td>\n",
       "      <td>1</td>\n",
       "    </tr>\n",
       "    <tr>\n",
       "      <th>12</th>\n",
       "      <td>23400</td>\n",
       "      <td>5000</td>\n",
       "      <td>3</td>\n",
       "      <td>0</td>\n",
       "      <td>292032</td>\n",
       "      <td>Illiterate</td>\n",
       "      <td>1</td>\n",
       "    </tr>\n",
       "    <tr>\n",
       "      <th>13</th>\n",
       "      <td>24000</td>\n",
       "      <td>10500</td>\n",
       "      <td>6</td>\n",
       "      <td>0</td>\n",
       "      <td>316800</td>\n",
       "      <td>Graduate</td>\n",
       "      <td>2</td>\n",
       "    </tr>\n",
       "    <tr>\n",
       "      <th>14</th>\n",
       "      <td>24000</td>\n",
       "      <td>10000</td>\n",
       "      <td>4</td>\n",
       "      <td>0</td>\n",
       "      <td>244800</td>\n",
       "      <td>Graduate</td>\n",
       "      <td>2</td>\n",
       "    </tr>\n",
       "    <tr>\n",
       "      <th>15</th>\n",
       "      <td>25000</td>\n",
       "      <td>12300</td>\n",
       "      <td>3</td>\n",
       "      <td>0</td>\n",
       "      <td>246000</td>\n",
       "      <td>Graduate</td>\n",
       "      <td>1</td>\n",
       "    </tr>\n",
       "    <tr>\n",
       "      <th>16</th>\n",
       "      <td>25000</td>\n",
       "      <td>20000</td>\n",
       "      <td>3</td>\n",
       "      <td>3500</td>\n",
       "      <td>261000</td>\n",
       "      <td>Graduate</td>\n",
       "      <td>1</td>\n",
       "    </tr>\n",
       "    <tr>\n",
       "      <th>17</th>\n",
       "      <td>25000</td>\n",
       "      <td>10000</td>\n",
       "      <td>6</td>\n",
       "      <td>0</td>\n",
       "      <td>258000</td>\n",
       "      <td>Under-Graduate</td>\n",
       "      <td>3</td>\n",
       "    </tr>\n",
       "    <tr>\n",
       "      <th>18</th>\n",
       "      <td>29000</td>\n",
       "      <td>6600</td>\n",
       "      <td>2</td>\n",
       "      <td>2000</td>\n",
       "      <td>348000</td>\n",
       "      <td>Graduate</td>\n",
       "      <td>1</td>\n",
       "    </tr>\n",
       "    <tr>\n",
       "      <th>19</th>\n",
       "      <td>30000</td>\n",
       "      <td>13000</td>\n",
       "      <td>4</td>\n",
       "      <td>0</td>\n",
       "      <td>385200</td>\n",
       "      <td>Graduate</td>\n",
       "      <td>1</td>\n",
       "    </tr>\n",
       "    <tr>\n",
       "      <th>20</th>\n",
       "      <td>30500</td>\n",
       "      <td>25000</td>\n",
       "      <td>5</td>\n",
       "      <td>5000</td>\n",
       "      <td>351360</td>\n",
       "      <td>Under-Graduate</td>\n",
       "      <td>1</td>\n",
       "    </tr>\n",
       "    <tr>\n",
       "      <th>21</th>\n",
       "      <td>32000</td>\n",
       "      <td>15000</td>\n",
       "      <td>4</td>\n",
       "      <td>0</td>\n",
       "      <td>445440</td>\n",
       "      <td>Professional</td>\n",
       "      <td>1</td>\n",
       "    </tr>\n",
       "    <tr>\n",
       "      <th>22</th>\n",
       "      <td>34000</td>\n",
       "      <td>19000</td>\n",
       "      <td>6</td>\n",
       "      <td>0</td>\n",
       "      <td>330480</td>\n",
       "      <td>Professional</td>\n",
       "      <td>1</td>\n",
       "    </tr>\n",
       "    <tr>\n",
       "      <th>23</th>\n",
       "      <td>34000</td>\n",
       "      <td>25000</td>\n",
       "      <td>3</td>\n",
       "      <td>4000</td>\n",
       "      <td>469200</td>\n",
       "      <td>Professional</td>\n",
       "      <td>1</td>\n",
       "    </tr>\n",
       "    <tr>\n",
       "      <th>24</th>\n",
       "      <td>35000</td>\n",
       "      <td>12000</td>\n",
       "      <td>3</td>\n",
       "      <td>0</td>\n",
       "      <td>466200</td>\n",
       "      <td>Graduate</td>\n",
       "      <td>1</td>\n",
       "    </tr>\n",
       "    <tr>\n",
       "      <th>25</th>\n",
       "      <td>35000</td>\n",
       "      <td>25000</td>\n",
       "      <td>4</td>\n",
       "      <td>0</td>\n",
       "      <td>449400</td>\n",
       "      <td>Professional</td>\n",
       "      <td>2</td>\n",
       "    </tr>\n",
       "    <tr>\n",
       "      <th>26</th>\n",
       "      <td>39000</td>\n",
       "      <td>8000</td>\n",
       "      <td>4</td>\n",
       "      <td>0</td>\n",
       "      <td>556920</td>\n",
       "      <td>Under-Graduate</td>\n",
       "      <td>1</td>\n",
       "    </tr>\n",
       "    <tr>\n",
       "      <th>27</th>\n",
       "      <td>40000</td>\n",
       "      <td>10000</td>\n",
       "      <td>4</td>\n",
       "      <td>0</td>\n",
       "      <td>412800</td>\n",
       "      <td>Under-Graduate</td>\n",
       "      <td>1</td>\n",
       "    </tr>\n",
       "    <tr>\n",
       "      <th>28</th>\n",
       "      <td>42000</td>\n",
       "      <td>15000</td>\n",
       "      <td>4</td>\n",
       "      <td>0</td>\n",
       "      <td>488880</td>\n",
       "      <td>Graduate</td>\n",
       "      <td>1</td>\n",
       "    </tr>\n",
       "    <tr>\n",
       "      <th>29</th>\n",
       "      <td>43000</td>\n",
       "      <td>12000</td>\n",
       "      <td>4</td>\n",
       "      <td>0</td>\n",
       "      <td>619200</td>\n",
       "      <td>Graduate</td>\n",
       "      <td>1</td>\n",
       "    </tr>\n",
       "    <tr>\n",
       "      <th>30</th>\n",
       "      <td>45000</td>\n",
       "      <td>25000</td>\n",
       "      <td>6</td>\n",
       "      <td>0</td>\n",
       "      <td>523800</td>\n",
       "      <td>Graduate</td>\n",
       "      <td>3</td>\n",
       "    </tr>\n",
       "    <tr>\n",
       "      <th>31</th>\n",
       "      <td>45000</td>\n",
       "      <td>40000</td>\n",
       "      <td>6</td>\n",
       "      <td>3500</td>\n",
       "      <td>507600</td>\n",
       "      <td>Professional</td>\n",
       "      <td>2</td>\n",
       "    </tr>\n",
       "    <tr>\n",
       "      <th>32</th>\n",
       "      <td>45000</td>\n",
       "      <td>10000</td>\n",
       "      <td>2</td>\n",
       "      <td>1000</td>\n",
       "      <td>437400</td>\n",
       "      <td>Post-Graduate</td>\n",
       "      <td>1</td>\n",
       "    </tr>\n",
       "    <tr>\n",
       "      <th>33</th>\n",
       "      <td>45000</td>\n",
       "      <td>22000</td>\n",
       "      <td>4</td>\n",
       "      <td>2500</td>\n",
       "      <td>610200</td>\n",
       "      <td>Post-Graduate</td>\n",
       "      <td>1</td>\n",
       "    </tr>\n",
       "    <tr>\n",
       "      <th>34</th>\n",
       "      <td>46000</td>\n",
       "      <td>25000</td>\n",
       "      <td>5</td>\n",
       "      <td>3500</td>\n",
       "      <td>596160</td>\n",
       "      <td>Graduate</td>\n",
       "      <td>1</td>\n",
       "    </tr>\n",
       "    <tr>\n",
       "      <th>35</th>\n",
       "      <td>47000</td>\n",
       "      <td>15000</td>\n",
       "      <td>7</td>\n",
       "      <td>0</td>\n",
       "      <td>456840</td>\n",
       "      <td>Professional</td>\n",
       "      <td>4</td>\n",
       "    </tr>\n",
       "    <tr>\n",
       "      <th>36</th>\n",
       "      <td>50000</td>\n",
       "      <td>20000</td>\n",
       "      <td>4</td>\n",
       "      <td>0</td>\n",
       "      <td>570000</td>\n",
       "      <td>Professional</td>\n",
       "      <td>1</td>\n",
       "    </tr>\n",
       "    <tr>\n",
       "      <th>37</th>\n",
       "      <td>50500</td>\n",
       "      <td>20000</td>\n",
       "      <td>3</td>\n",
       "      <td>0</td>\n",
       "      <td>581760</td>\n",
       "      <td>Professional</td>\n",
       "      <td>2</td>\n",
       "    </tr>\n",
       "    <tr>\n",
       "      <th>38</th>\n",
       "      <td>55000</td>\n",
       "      <td>45000</td>\n",
       "      <td>6</td>\n",
       "      <td>12000</td>\n",
       "      <td>600600</td>\n",
       "      <td>Graduate</td>\n",
       "      <td>2</td>\n",
       "    </tr>\n",
       "    <tr>\n",
       "      <th>39</th>\n",
       "      <td>60000</td>\n",
       "      <td>10000</td>\n",
       "      <td>3</td>\n",
       "      <td>0</td>\n",
       "      <td>590400</td>\n",
       "      <td>Post-Graduate</td>\n",
       "      <td>1</td>\n",
       "    </tr>\n",
       "    <tr>\n",
       "      <th>40</th>\n",
       "      <td>60000</td>\n",
       "      <td>50000</td>\n",
       "      <td>6</td>\n",
       "      <td>10000</td>\n",
       "      <td>590400</td>\n",
       "      <td>Graduate</td>\n",
       "      <td>1</td>\n",
       "    </tr>\n",
       "    <tr>\n",
       "      <th>41</th>\n",
       "      <td>65000</td>\n",
       "      <td>20000</td>\n",
       "      <td>4</td>\n",
       "      <td>5000</td>\n",
       "      <td>647400</td>\n",
       "      <td>Illiterate</td>\n",
       "      <td>2</td>\n",
       "    </tr>\n",
       "    <tr>\n",
       "      <th>42</th>\n",
       "      <td>70000</td>\n",
       "      <td>9000</td>\n",
       "      <td>2</td>\n",
       "      <td>0</td>\n",
       "      <td>756000</td>\n",
       "      <td>Graduate</td>\n",
       "      <td>1</td>\n",
       "    </tr>\n",
       "    <tr>\n",
       "      <th>43</th>\n",
       "      <td>80000</td>\n",
       "      <td>20000</td>\n",
       "      <td>4</td>\n",
       "      <td>0</td>\n",
       "      <td>1075200</td>\n",
       "      <td>Graduate</td>\n",
       "      <td>1</td>\n",
       "    </tr>\n",
       "    <tr>\n",
       "      <th>44</th>\n",
       "      <td>85000</td>\n",
       "      <td>25000</td>\n",
       "      <td>5</td>\n",
       "      <td>0</td>\n",
       "      <td>1142400</td>\n",
       "      <td>Under-Graduate</td>\n",
       "      <td>2</td>\n",
       "    </tr>\n",
       "    <tr>\n",
       "      <th>45</th>\n",
       "      <td>90000</td>\n",
       "      <td>48000</td>\n",
       "      <td>7</td>\n",
       "      <td>0</td>\n",
       "      <td>885600</td>\n",
       "      <td>Post-Graduate</td>\n",
       "      <td>3</td>\n",
       "    </tr>\n",
       "    <tr>\n",
       "      <th>46</th>\n",
       "      <td>98000</td>\n",
       "      <td>25000</td>\n",
       "      <td>5</td>\n",
       "      <td>0</td>\n",
       "      <td>1152480</td>\n",
       "      <td>Professional</td>\n",
       "      <td>2</td>\n",
       "    </tr>\n",
       "    <tr>\n",
       "      <th>47</th>\n",
       "      <td>100000</td>\n",
       "      <td>30000</td>\n",
       "      <td>6</td>\n",
       "      <td>0</td>\n",
       "      <td>1404000</td>\n",
       "      <td>Graduate</td>\n",
       "      <td>3</td>\n",
       "    </tr>\n",
       "    <tr>\n",
       "      <th>48</th>\n",
       "      <td>100000</td>\n",
       "      <td>50000</td>\n",
       "      <td>4</td>\n",
       "      <td>20000</td>\n",
       "      <td>1032000</td>\n",
       "      <td>Professional</td>\n",
       "      <td>2</td>\n",
       "    </tr>\n",
       "    <tr>\n",
       "      <th>49</th>\n",
       "      <td>100000</td>\n",
       "      <td>40000</td>\n",
       "      <td>6</td>\n",
       "      <td>10000</td>\n",
       "      <td>1320000</td>\n",
       "      <td>Post-Graduate</td>\n",
       "      <td>1</td>\n",
       "    </tr>\n",
       "  </tbody>\n",
       "</table>\n",
       "</div>"
      ],
      "text/plain": [
       "    Mthly_HH_Income  Mthly_HH_Expense  No_of_Fly_Members  Emi_or_Rent_Amt  \\\n",
       "0              5000              8000                  3             2000   \n",
       "1              6000              7000                  2             3000   \n",
       "2             10000              4500                  2                0   \n",
       "3             10000              2000                  1                0   \n",
       "4             12500             12000                  2             3000   \n",
       "5             14000              8000                  2                0   \n",
       "6             15000             16000                  3            35000   \n",
       "7             18000             20000                  5             8000   \n",
       "8             19000              9000                  2                0   \n",
       "9             20000              9000                  4                0   \n",
       "10            20000             18000                  4             8000   \n",
       "11            22000             25000                  6            12000   \n",
       "12            23400              5000                  3                0   \n",
       "13            24000             10500                  6                0   \n",
       "14            24000             10000                  4                0   \n",
       "15            25000             12300                  3                0   \n",
       "16            25000             20000                  3             3500   \n",
       "17            25000             10000                  6                0   \n",
       "18            29000              6600                  2             2000   \n",
       "19            30000             13000                  4                0   \n",
       "20            30500             25000                  5             5000   \n",
       "21            32000             15000                  4                0   \n",
       "22            34000             19000                  6                0   \n",
       "23            34000             25000                  3             4000   \n",
       "24            35000             12000                  3                0   \n",
       "25            35000             25000                  4                0   \n",
       "26            39000              8000                  4                0   \n",
       "27            40000             10000                  4                0   \n",
       "28            42000             15000                  4                0   \n",
       "29            43000             12000                  4                0   \n",
       "30            45000             25000                  6                0   \n",
       "31            45000             40000                  6             3500   \n",
       "32            45000             10000                  2             1000   \n",
       "33            45000             22000                  4             2500   \n",
       "34            46000             25000                  5             3500   \n",
       "35            47000             15000                  7                0   \n",
       "36            50000             20000                  4                0   \n",
       "37            50500             20000                  3                0   \n",
       "38            55000             45000                  6            12000   \n",
       "39            60000             10000                  3                0   \n",
       "40            60000             50000                  6            10000   \n",
       "41            65000             20000                  4             5000   \n",
       "42            70000              9000                  2                0   \n",
       "43            80000             20000                  4                0   \n",
       "44            85000             25000                  5                0   \n",
       "45            90000             48000                  7                0   \n",
       "46            98000             25000                  5                0   \n",
       "47           100000             30000                  6                0   \n",
       "48           100000             50000                  4            20000   \n",
       "49           100000             40000                  6            10000   \n",
       "\n",
       "    Annual_HH_Income Highest_Qualified_Member  No_of_Earning_Members  \n",
       "0              64200           Under-Graduate                      1  \n",
       "1              79920               Illiterate                      1  \n",
       "2             112800           Under-Graduate                      1  \n",
       "3              97200               Illiterate                      1  \n",
       "4             147000                 Graduate                      1  \n",
       "5             196560                 Graduate                      1  \n",
       "6             167400            Post-Graduate                      1  \n",
       "7             216000                 Graduate                      1  \n",
       "8             218880           Under-Graduate                      1  \n",
       "9             220800           Under-Graduate                      2  \n",
       "10            278400           Under-Graduate                      2  \n",
       "11            279840               Illiterate                      1  \n",
       "12            292032               Illiterate                      1  \n",
       "13            316800                 Graduate                      2  \n",
       "14            244800                 Graduate                      2  \n",
       "15            246000                 Graduate                      1  \n",
       "16            261000                 Graduate                      1  \n",
       "17            258000           Under-Graduate                      3  \n",
       "18            348000                 Graduate                      1  \n",
       "19            385200                 Graduate                      1  \n",
       "20            351360           Under-Graduate                      1  \n",
       "21            445440             Professional                      1  \n",
       "22            330480             Professional                      1  \n",
       "23            469200             Professional                      1  \n",
       "24            466200                 Graduate                      1  \n",
       "25            449400             Professional                      2  \n",
       "26            556920           Under-Graduate                      1  \n",
       "27            412800           Under-Graduate                      1  \n",
       "28            488880                 Graduate                      1  \n",
       "29            619200                 Graduate                      1  \n",
       "30            523800                 Graduate                      3  \n",
       "31            507600             Professional                      2  \n",
       "32            437400            Post-Graduate                      1  \n",
       "33            610200            Post-Graduate                      1  \n",
       "34            596160                 Graduate                      1  \n",
       "35            456840             Professional                      4  \n",
       "36            570000             Professional                      1  \n",
       "37            581760             Professional                      2  \n",
       "38            600600                 Graduate                      2  \n",
       "39            590400            Post-Graduate                      1  \n",
       "40            590400                 Graduate                      1  \n",
       "41            647400               Illiterate                      2  \n",
       "42            756000                 Graduate                      1  \n",
       "43           1075200                 Graduate                      1  \n",
       "44           1142400           Under-Graduate                      2  \n",
       "45            885600            Post-Graduate                      3  \n",
       "46           1152480             Professional                      2  \n",
       "47           1404000                 Graduate                      3  \n",
       "48           1032000             Professional                      2  \n",
       "49           1320000            Post-Graduate                      1  "
      ]
     },
     "execution_count": 10,
     "metadata": {},
     "output_type": "execute_result"
    }
   ],
   "source": [
    "data"
   ]
  },
  {
   "cell_type": "code",
   "execution_count": 15,
   "metadata": {},
   "outputs": [
    {
     "data": {
      "text/plain": [
       "Index(['Mthly_HH_Income', 'Mthly_HH_Expense', 'No_of_Fly_Members',\n",
       "       'Emi_or_Rent_Amt', 'Annual_HH_Income', 'Highest_Qualified_Member',\n",
       "       'No_of_Earning_Members'],\n",
       "      dtype='object')"
      ]
     },
     "execution_count": 15,
     "metadata": {},
     "output_type": "execute_result"
    }
   ],
   "source": [
    "data.columns"
   ]
  },
  {
   "cell_type": "code",
   "execution_count": 5,
   "metadata": {},
   "outputs": [],
   "source": [
    "num = ['Mthly_HH_Income', 'Mthly_HH_Expense', 'No_of_Fly_Members',\n",
    "       'Emi_or_Rent_Amt', 'Annual_HH_Income']\n",
    "cat = ['Highest_Qualified_Member','No_of_Earning_Members']"
   ]
  },
  {
   "cell_type": "markdown",
   "metadata": {},
   "source": [
    "## Mean"
   ]
  },
  {
   "cell_type": "markdown",
   "metadata": {},
   "source": [
    " - The mean is the most widely spread measure of central tendency.It is the simple average of the dataset.<br>\n",
    " - **Note**:- Easily affected by outliers<br>\n",
    " - **Formula:-**<br>\n",
    "$$ \\mu = \\frac{\\sum_{i=1}^{N} x_i}{N} $$ \n",
    "\n",
    "OR"
   ]
  },
  {
   "cell_type": "markdown",
   "metadata": {},
   "source": [
    "$$ \\frac{x_1 + x_2 + x_3 + ..... + x_{N-1} + x_N}{N}$$"
   ]
  },
  {
   "cell_type": "markdown",
   "metadata": {},
   "source": [
    "**Without Library Function**"
   ]
  },
  {
   "cell_type": "code",
   "execution_count": 37,
   "metadata": {},
   "outputs": [],
   "source": [
    "record_mean = {}"
   ]
  },
  {
   "cell_type": "code",
   "execution_count": 38,
   "metadata": {},
   "outputs": [],
   "source": [
    "for i in num:\n",
    "    record_mean[i] = ''"
   ]
  },
  {
   "cell_type": "code",
   "execution_count": 39,
   "metadata": {},
   "outputs": [
    {
     "data": {
      "text/plain": [
       "{'Mthly_HH_Income': '',\n",
       " 'Mthly_HH_Expense': '',\n",
       " 'No_of_Fly_Members': '',\n",
       " 'Emi_or_Rent_Amt': '',\n",
       " 'Annual_HH_Income': ''}"
      ]
     },
     "execution_count": 39,
     "metadata": {},
     "output_type": "execute_result"
    }
   ],
   "source": [
    "record_mean"
   ]
  },
  {
   "cell_type": "code",
   "execution_count": 40,
   "metadata": {},
   "outputs": [],
   "source": [
    "for key, value in record_mean.items():\n",
    "    mean = sum(data[key])/len(data[key])\n",
    "    record_mean[key] = mean"
   ]
  },
  {
   "cell_type": "code",
   "execution_count": 41,
   "metadata": {},
   "outputs": [
    {
     "data": {
      "text/plain": [
       "{'Mthly_HH_Income': 41558.0,\n",
       " 'Mthly_HH_Expense': 18818.0,\n",
       " 'No_of_Fly_Members': 4.06,\n",
       " 'Emi_or_Rent_Amt': 3060.0,\n",
       " 'Annual_HH_Income': 490019.04}"
      ]
     },
     "execution_count": 41,
     "metadata": {},
     "output_type": "execute_result"
    }
   ],
   "source": [
    "record_mean"
   ]
  },
  {
   "cell_type": "markdown",
   "metadata": {},
   "source": [
    "**With Library Function**"
   ]
  },
  {
   "cell_type": "code",
   "execution_count": 43,
   "metadata": {},
   "outputs": [
    {
     "data": {
      "text/plain": [
       "Mthly_HH_Income           41558.00\n",
       "Mthly_HH_Expense          18818.00\n",
       "No_of_Fly_Members             4.06\n",
       "Emi_or_Rent_Amt            3060.00\n",
       "Annual_HH_Income         490019.04\n",
       "No_of_Earning_Members         1.46\n",
       "Name: mean, dtype: float64"
      ]
     },
     "execution_count": 43,
     "metadata": {},
     "output_type": "execute_result"
    }
   ],
   "source": [
    "data.describe().loc['mean',:]"
   ]
  },
  {
   "cell_type": "markdown",
   "metadata": {},
   "source": [
    "## Median"
   ]
  },
  {
   "cell_type": "markdown",
   "metadata": {},
   "source": [
    " - The median is the mid point of the ordered dataset.It is not as popular as the mean, but is often used in academia and datascience.That is since it is not affected by outliers."
   ]
  },
  {
   "cell_type": "markdown",
   "metadata": {},
   "source": [
    " - In an ordered dataset, the median is the number at $\\frac{n+1}{2} $th position, when thhe total number of observations is odd"
   ]
  },
  {
   "cell_type": "markdown",
   "metadata": {},
   "source": [
    " - If the total number of observations are even then,<br>\n",
    "    Median is the average of the numbers at position $\\frac{n}{2}$ and $\\frac{n}{2} + 1$."
   ]
  },
  {
   "cell_type": "markdown",
   "metadata": {},
   "source": [
    "**Without Library function**`"
   ]
  },
  {
   "cell_type": "code",
   "execution_count": 44,
   "metadata": {},
   "outputs": [],
   "source": [
    "record_median = {}"
   ]
  },
  {
   "cell_type": "code",
   "execution_count": 45,
   "metadata": {},
   "outputs": [],
   "source": [
    "for i in num:\n",
    "    record_median[i] = ''"
   ]
  },
  {
   "cell_type": "code",
   "execution_count": 46,
   "metadata": {},
   "outputs": [
    {
     "data": {
      "text/plain": [
       "{'Mthly_HH_Income': '',\n",
       " 'Mthly_HH_Expense': '',\n",
       " 'No_of_Fly_Members': '',\n",
       " 'Emi_or_Rent_Amt': '',\n",
       " 'Annual_HH_Income': ''}"
      ]
     },
     "execution_count": 46,
     "metadata": {},
     "output_type": "execute_result"
    }
   ],
   "source": [
    "record_median"
   ]
  },
  {
   "cell_type": "code",
   "execution_count": 47,
   "metadata": {},
   "outputs": [
    {
     "data": {
      "text/plain": [
       "50"
      ]
     },
     "execution_count": 47,
     "metadata": {},
     "output_type": "execute_result"
    }
   ],
   "source": [
    "len(data)"
   ]
  },
  {
   "cell_type": "code",
   "execution_count": 76,
   "metadata": {},
   "outputs": [],
   "source": [
    "for key, value in record_median.items():\n",
    "    lst = list(data[key].values)\n",
    "    lst.sort()\n",
    "    median = (lst[int((len(lst)/2)-1)] + lst[int(len(lst)/2)])/2\n",
    "    record_median[key] = median"
   ]
  },
  {
   "cell_type": "code",
   "execution_count": 77,
   "metadata": {},
   "outputs": [
    {
     "data": {
      "text/plain": [
       "{'Mthly_HH_Income': 35000.0,\n",
       " 'Mthly_HH_Expense': 15500.0,\n",
       " 'No_of_Fly_Members': 4.0,\n",
       " 'Emi_or_Rent_Amt': 0.0,\n",
       " 'Annual_HH_Income': 447420.0}"
      ]
     },
     "execution_count": 77,
     "metadata": {},
     "output_type": "execute_result"
    }
   ],
   "source": [
    "record_median"
   ]
  },
  {
   "cell_type": "markdown",
   "metadata": {},
   "source": [
    "**With Library Function**"
   ]
  },
  {
   "cell_type": "code",
   "execution_count": 78,
   "metadata": {},
   "outputs": [
    {
     "name": "stdout",
     "output_type": "stream",
     "text": [
      "Mthly_HH_Income : 35000.0\n",
      "Mthly_HH_Expense : 15500.0\n",
      "No_of_Fly_Members : 4.0\n",
      "Emi_or_Rent_Amt : 0.0\n",
      "Annual_HH_Income : 447420.0\n"
     ]
    }
   ],
   "source": [
    "for i in num:\n",
    "    print(i,':',np.median(data[i]))"
   ]
  },
  {
   "cell_type": "markdown",
   "metadata": {},
   "source": [
    "## Mode"
   ]
  },
  {
   "cell_type": "markdown",
   "metadata": {},
   "source": [
    " - The mode is the value that occurs most often. A dataset can have 0 modes,1 mode or multiple modes."
   ]
  },
  {
   "cell_type": "markdown",
   "metadata": {},
   "source": [
    " - The mode is calculated simply by finding the value with the highest frequency."
   ]
  },
  {
   "cell_type": "markdown",
   "metadata": {},
   "source": [
    "**With Library Fuction**"
   ]
  },
  {
   "cell_type": "code",
   "execution_count": 5,
   "metadata": {},
   "outputs": [
    {
     "name": "stdout",
     "output_type": "stream",
     "text": [
      "Highest_Qualified_Member 0    Graduate\n",
      "dtype: object \n",
      "\n",
      "No_of_Earning_Members 0    1\n",
      "dtype: int64 \n",
      "\n"
     ]
    }
   ],
   "source": [
    "for i in cat:\n",
    "    print(i, data[i].mode(), '\\n')"
   ]
  },
  {
   "cell_type": "markdown",
   "metadata": {},
   "source": [
    "**Without Library Function**`"
   ]
  },
  {
   "cell_type": "code",
   "execution_count": 5,
   "metadata": {},
   "outputs": [
    {
     "data": {
      "text/plain": [
       "['Highest_Qualified_Member', 'No_of_Earning_Members']"
      ]
     },
     "execution_count": 5,
     "metadata": {},
     "output_type": "execute_result"
    }
   ],
   "source": [
    "cat"
   ]
  },
  {
   "cell_type": "code",
   "execution_count": 10,
   "metadata": {},
   "outputs": [],
   "source": [
    "record_mode = {}\n",
    "for i in cat:\n",
    "    record_mode[i] = ''"
   ]
  },
  {
   "cell_type": "code",
   "execution_count": 11,
   "metadata": {},
   "outputs": [
    {
     "data": {
      "text/plain": [
       "{'Highest_Qualified_Member': '', 'No_of_Earning_Members': ''}"
      ]
     },
     "execution_count": 11,
     "metadata": {},
     "output_type": "execute_result"
    }
   ],
   "source": [
    "record_mode "
   ]
  },
  {
   "cell_type": "code",
   "execution_count": 14,
   "metadata": {},
   "outputs": [],
   "source": [
    "def find_mode(column_name):\n",
    "    unique = list(data[column_name].unique())\n",
    "#    print(unique)\n",
    "    dct = {}\n",
    "    for i in unique:\n",
    "        dct[i] = 0\n",
    "        \n",
    "\n",
    "    for j in unique:\n",
    "        for k in data[column_name]:\n",
    "            if j == k:\n",
    "                dct[j] += 1\n",
    "                \n",
    "    return dct"
   ]
  },
  {
   "cell_type": "code",
   "execution_count": 15,
   "metadata": {},
   "outputs": [
    {
     "name": "stdout",
     "output_type": "stream",
     "text": [
      "Column: Highest_Qualified_Member\n",
      "{'Under-Graduate': 10, 'Illiterate': 5, 'Graduate': 19, 'Post-Graduate': 6, 'Professional': 10}\n",
      "\n",
      "\n",
      "Column: No_of_Earning_Members\n",
      "{1: 33, 2: 12, 3: 4, 4: 1}\n",
      "\n",
      "\n"
     ]
    }
   ],
   "source": [
    "for i in cat:\n",
    "    print('Column:',i)\n",
    "    print(find_mode(i))\n",
    "    print('\\n')"
   ]
  },
  {
   "cell_type": "code",
   "execution_count": 19,
   "metadata": {},
   "outputs": [],
   "source": [
    "dict_1 = {'Under-Graduate': 10, 'Illiterate': 5, 'Graduate': 19, 'Post-Graduate': 6, 'Professional': 10}\n",
    "dict_2 = {1: 33, 2: 12, 3: 4, 4: 1}"
   ]
  },
  {
   "cell_type": "code",
   "execution_count": 22,
   "metadata": {},
   "outputs": [
    {
     "name": "stdout",
     "output_type": "stream",
     "text": [
      "[10, 5, 19, 6, 10]\n"
     ]
    }
   ],
   "source": [
    "lst = []\n",
    "for key, value in dict_1.items():\n",
    "    lst.append(value)\n",
    "    \n",
    "print(lst)"
   ]
  },
  {
   "cell_type": "markdown",
   "metadata": {},
   "source": [
    "## Variance"
   ]
  },
  {
   "cell_type": "markdown",
   "metadata": {},
   "source": [
    "It measures the spread of the data around the average or mean."
   ]
  },
  {
   "cell_type": "markdown",
   "metadata": {},
   "source": [
    "**Formula:**<br>\n",
    "\n",
    "**For Population:**<br>\n",
    "$$\\sigma^2 = \\frac{\\sum_{i=1}^{n} (x_i - \\mu)^2}{n} $$"
   ]
  },
  {
   "cell_type": "markdown",
   "metadata": {},
   "source": [
    "**For Sample:**\n",
    "\n",
    "$$ S^2 = \\frac{\\sum_{i=1}^{n} (x_i - \\bar{x})^2}{n-1} $$    "
   ]
  },
  {
   "cell_type": "markdown",
   "metadata": {},
   "source": [
    " - It has one major drawback that it magnifies even the small differences due to the square function\n",
    " - Also it is not much used in real life because the spread of data having unit of $m$ will have the spread of unit $m^2$"
   ]
  },
  {
   "cell_type": "markdown",
   "metadata": {},
   "source": [
    "**Without Library Function**"
   ]
  },
  {
   "cell_type": "code",
   "execution_count": 51,
   "metadata": {},
   "outputs": [],
   "source": [
    "num_var = {}\n",
    "for i in num:\n",
    "    num_var[i] = ''"
   ]
  },
  {
   "cell_type": "code",
   "execution_count": 52,
   "metadata": {},
   "outputs": [
    {
     "data": {
      "text/plain": [
       "{'Mthly_HH_Income': '',\n",
       " 'Mthly_HH_Expense': '',\n",
       " 'No_of_Fly_Members': '',\n",
       " 'Emi_or_Rent_Amt': '',\n",
       " 'Annual_HH_Income': ''}"
      ]
     },
     "execution_count": 52,
     "metadata": {},
     "output_type": "execute_result"
    }
   ],
   "source": [
    "num_var"
   ]
  },
  {
   "cell_type": "code",
   "execution_count": 53,
   "metadata": {},
   "outputs": [],
   "source": [
    "def var(X, mu, n):\n",
    "    sum_xi_mu = sum([(i - mu)**2 for i in X])\n",
    "    variance = (sum_xi_mu) / (n-1)    \n",
    "    return variance"
   ]
  },
  {
   "cell_type": "code",
   "execution_count": 54,
   "metadata": {},
   "outputs": [],
   "source": [
    "for key, value in num_var.items():\n",
    "    num_var[key] = round(var(data[key], data[key].mean(), len(data[key])), 2)"
   ]
  },
  {
   "cell_type": "code",
   "execution_count": 55,
   "metadata": {},
   "outputs": [
    {
     "data": {
      "text/plain": [
       "{'Mthly_HH_Income': 681100853.06,\n",
       " 'Mthly_HH_Expense': 146173342.86,\n",
       " 'No_of_Fly_Members': 2.3,\n",
       " 'Emi_or_Rent_Amt': 38955510.2,\n",
       " 'Annual_HH_Income': 102486925397.92}"
      ]
     },
     "execution_count": 55,
     "metadata": {},
     "output_type": "execute_result"
    }
   ],
   "source": [
    "num_var"
   ]
  },
  {
   "cell_type": "markdown",
   "metadata": {},
   "source": [
    "**With Library Function**"
   ]
  },
  {
   "cell_type": "code",
   "execution_count": 50,
   "metadata": {},
   "outputs": [
    {
     "name": "stdout",
     "output_type": "stream",
     "text": [
      "Mthly_HH_Income : 681100853.06\n",
      "Mthly_HH_Expense : 146173342.86\n",
      "No_of_Fly_Members : 2.3\n",
      "Emi_or_Rent_Amt : 38955510.2\n",
      "Annual_HH_Income : 102486925397.92\n"
     ]
    }
   ],
   "source": [
    "for i in num:\n",
    "    print(i,':',round(data[i].var(), 2))"
   ]
  },
  {
   "cell_type": "markdown",
   "metadata": {},
   "source": []
  },
  {
   "cell_type": "markdown",
   "metadata": {},
   "source": [
    "## Standard Deviation"
   ]
  },
  {
   "cell_type": "markdown",
   "metadata": {},
   "source": [
    "It is also used to measure the spread of the data similar to variance but it is more commonly used"
   ]
  },
  {
   "cell_type": "markdown",
   "metadata": {},
   "source": [
    "**Formula:**<br>\n",
    "\n",
    "**For Population:**<br>\n",
    "$$\\sigma = \\sqrt[2]{\\frac{\\sum_{i=1}^{n} (x_i - \\mu)^2}{n}}$$"
   ]
  },
  {
   "cell_type": "markdown",
   "metadata": {},
   "source": [
    "**For Sample:**\n",
    "\n",
    "$$ S^2 = \\sqrt[2]{\\frac{\\sum_{i=1}^{n} (x_i - \\bar{x})^2}{n-1}} $$    "
   ]
  },
  {
   "cell_type": "markdown",
   "metadata": {},
   "source": [
    "It shows the spread of data in the same units as that of data"
   ]
  },
  {
   "cell_type": "markdown",
   "metadata": {},
   "source": [
    "**Without Library Function**"
   ]
  },
  {
   "cell_type": "code",
   "execution_count": 56,
   "metadata": {},
   "outputs": [],
   "source": [
    "num_std = {}\n",
    "for i in num:\n",
    "    num_std[i] = ''"
   ]
  },
  {
   "cell_type": "code",
   "execution_count": 57,
   "metadata": {},
   "outputs": [
    {
     "data": {
      "text/plain": [
       "{'Mthly_HH_Income': '',\n",
       " 'Mthly_HH_Expense': '',\n",
       " 'No_of_Fly_Members': '',\n",
       " 'Emi_or_Rent_Amt': '',\n",
       " 'Annual_HH_Income': ''}"
      ]
     },
     "execution_count": 57,
     "metadata": {},
     "output_type": "execute_result"
    }
   ],
   "source": [
    "num_std"
   ]
  },
  {
   "cell_type": "code",
   "execution_count": 58,
   "metadata": {},
   "outputs": [],
   "source": [
    "def var(X, mu, n):\n",
    "    sum_xi_mu = sum([(i - mu)**2 for i in X])\n",
    "    variance = ((sum_xi_mu) / (n-1))**0.5    \n",
    "    return variance"
   ]
  },
  {
   "cell_type": "code",
   "execution_count": 59,
   "metadata": {},
   "outputs": [],
   "source": [
    "for key, value in num_std.items():\n",
    "    num_std[key] = round(var(data[key], data[key].mean(), len(data[key])), 2)"
   ]
  },
  {
   "cell_type": "code",
   "execution_count": 60,
   "metadata": {},
   "outputs": [
    {
     "data": {
      "text/plain": [
       "{'Mthly_HH_Income': 26097.91,\n",
       " 'Mthly_HH_Expense': 12090.22,\n",
       " 'No_of_Fly_Members': 1.52,\n",
       " 'Emi_or_Rent_Amt': 6241.43,\n",
       " 'Annual_HH_Income': 320135.79}"
      ]
     },
     "execution_count": 60,
     "metadata": {},
     "output_type": "execute_result"
    }
   ],
   "source": [
    "num_std"
   ]
  },
  {
   "cell_type": "markdown",
   "metadata": {},
   "source": [
    "**With Library Function**"
   ]
  },
  {
   "cell_type": "code",
   "execution_count": 61,
   "metadata": {},
   "outputs": [
    {
     "name": "stdout",
     "output_type": "stream",
     "text": [
      "Mthly_HH_Income : 26097.91\n",
      "Mthly_HH_Expense : 12090.22\n",
      "No_of_Fly_Members : 1.52\n",
      "Emi_or_Rent_Amt : 6241.43\n",
      "Annual_HH_Income : 320135.79\n"
     ]
    }
   ],
   "source": [
    "for i in num:\n",
    "    print(i,':',round(data[i].std(), 2))"
   ]
  },
  {
   "cell_type": "markdown",
   "metadata": {},
   "source": [
    "## Correlation"
   ]
  },
  {
   "cell_type": "markdown",
   "metadata": {},
   "source": [
    "Correlation is a measure of the joint variability of two variables. Unlike covariance, correlation could be thought of as a standardized measure. It takes on values between -1 and 1, thus it is easy for us to interpret the result."
   ]
  },
  {
   "cell_type": "markdown",
   "metadata": {},
   "source": [
    " - A correlation of 1, known as perfect positive correlation, means that one variable is perfectly explained by the other.\n",
    " - A correlation of 0 means that the variables are independent.\n",
    " - A correlation of -1, known as perfect negative correlation, means that one variable is explaining the other one perfectly,but they move in opposite directions"
   ]
  },
  {
   "cell_type": "markdown",
   "metadata": {},
   "source": [
    "Work only if the two variables are linearly related"
   ]
  },
  {
   "cell_type": "markdown",
   "metadata": {},
   "source": [
    "**Formual of Pearson Correlation coefficient:**<br>\n",
    "\n",
    "**For Sample**\n",
    "$$\\Upsilon = \\frac{s_{xy}}{s_x s_y}$$"
   ]
  },
  {
   "cell_type": "markdown",
   "metadata": {},
   "source": [
    "**For Population**<br>\n",
    "$$\\rho = \\frac{\\sigma_{xy}}{\\sigma_x \\sigma_y}$$"
   ]
  },
  {
   "cell_type": "markdown",
   "metadata": {},
   "source": [
    "Where, \n",
    "$$\\sigma_{xy} =\\frac{\\sum_{i=1}^{n}(x_i - \\mu_x)(y_i - \\mu_y)}{N}$$\n",
    "And, \n",
    "\n",
    "$$S_{xy} =\\frac{\\sum_{i=1}^{n}(x_i - \\bar{x})(y_i - \\bar{y})}{N-1}$$"
   ]
  },
  {
   "cell_type": "markdown",
   "metadata": {},
   "source": [
    "**Without Library Function**"
   ]
  },
  {
   "cell_type": "code",
   "execution_count": 8,
   "metadata": {},
   "outputs": [
    {
     "data": {
      "text/plain": [
       "50"
      ]
     },
     "execution_count": 8,
     "metadata": {},
     "output_type": "execute_result"
    }
   ],
   "source": [
    "len(data['Mthly_HH_Income'])"
   ]
  },
  {
   "cell_type": "code",
   "execution_count": 14,
   "metadata": {},
   "outputs": [],
   "source": [
    "def correlation(X, Y, mu_x, mu_y):\n",
    "#    print([((xi - mu_x)*(yi- mu_y)) for xi in X for yi in Y])\n",
    "    prod_sum = sum([((X[i] - mu_x)*(Y[i]- mu_y)) for i in range(50)])\n",
    "#    print('prod_sum',prod_sum)\n",
    "    x_sqr_sum = sum([(xi - mu_x)**2 for xi in X])\n",
    "#    print('x_sqr_sum',x_sqr_sum)\n",
    "    y_sqr_sum = sum([(yi - mu_y)**2 for yi in Y])\n",
    "#    print('y_sqr_sum',y_sqr_sum)\n",
    "    return prod_sum / np.sqrt(x_sqr_sum * y_sqr_sum)"
   ]
  },
  {
   "cell_type": "code",
   "execution_count": 15,
   "metadata": {},
   "outputs": [
    {
     "name": "stdout",
     "output_type": "stream",
     "text": [
      "Correlation between Mthly_HH_Income and Mthly_HH_Income: 1.0\n",
      "Correlation between Mthly_HH_Income and Mthly_HH_Expense: 0.6492152549316461\n",
      "Correlation between Mthly_HH_Income and No_of_Fly_Members: 0.4483173135943263\n",
      "Correlation between Mthly_HH_Income and Emi_or_Rent_Amt: 0.03697611093890591\n",
      "Correlation between Mthly_HH_Income and Annual_HH_Income: 0.9703154166603716\n",
      "Correlation between Mthly_HH_Expense and Mthly_HH_Income: 0.6492152549316461\n",
      "Correlation between Mthly_HH_Expense and Mthly_HH_Expense: 1.0\n",
      "Correlation between Mthly_HH_Expense and No_of_Fly_Members: 0.6397015597607346\n",
      "Correlation between Mthly_HH_Expense and Emi_or_Rent_Amt: 0.4052802691623041\n",
      "Correlation between Mthly_HH_Expense and Annual_HH_Income: 0.5912216295468027\n",
      "Correlation between No_of_Fly_Members and Mthly_HH_Income: 0.4483173135943263\n",
      "Correlation between No_of_Fly_Members and Mthly_HH_Expense: 0.6397015597607346\n",
      "Correlation between No_of_Fly_Members and No_of_Fly_Members: 1.0\n",
      "Correlation between No_of_Fly_Members and Emi_or_Rent_Amt: 0.08580759298648681\n",
      "Correlation between No_of_Fly_Members and Annual_HH_Income: 0.43086759922760104\n",
      "Correlation between Emi_or_Rent_Amt and Mthly_HH_Income: 0.03697611093890591\n",
      "Correlation between Emi_or_Rent_Amt and Mthly_HH_Expense: 0.4052802691623041\n",
      "Correlation between Emi_or_Rent_Amt and No_of_Fly_Members: 0.08580759298648681\n",
      "Correlation between Emi_or_Rent_Amt and Emi_or_Rent_Amt: 1.0\n",
      "Correlation between Emi_or_Rent_Amt and Annual_HH_Income: 0.002715702219692466\n",
      "Correlation between Annual_HH_Income and Mthly_HH_Income: 0.9703154166603716\n",
      "Correlation between Annual_HH_Income and Mthly_HH_Expense: 0.5912216295468027\n",
      "Correlation between Annual_HH_Income and No_of_Fly_Members: 0.43086759922760104\n",
      "Correlation between Annual_HH_Income and Emi_or_Rent_Amt: 0.002715702219692466\n",
      "Correlation between Annual_HH_Income and Annual_HH_Income: 1.0\n"
     ]
    }
   ],
   "source": [
    "# i = 'Mthly_HH_Income'\n",
    "# j = 'Mthly_HH_Expense'\n",
    "for i in num:\n",
    "    for j in num:\n",
    "        x = correlation(data[i], data[j], data[i].mean(), data[j].mean())\n",
    "        print(f'Correlation between {i} and {j}:',x)"
   ]
  },
  {
   "cell_type": "markdown",
   "metadata": {},
   "source": [
    "**With Library Function**"
   ]
  },
  {
   "cell_type": "code",
   "execution_count": 62,
   "metadata": {},
   "outputs": [
    {
     "data": {
      "text/html": [
       "<div>\n",
       "<style scoped>\n",
       "    .dataframe tbody tr th:only-of-type {\n",
       "        vertical-align: middle;\n",
       "    }\n",
       "\n",
       "    .dataframe tbody tr th {\n",
       "        vertical-align: top;\n",
       "    }\n",
       "\n",
       "    .dataframe thead th {\n",
       "        text-align: right;\n",
       "    }\n",
       "</style>\n",
       "<table border=\"1\" class=\"dataframe\">\n",
       "  <thead>\n",
       "    <tr style=\"text-align: right;\">\n",
       "      <th></th>\n",
       "      <th>Mthly_HH_Income</th>\n",
       "      <th>Mthly_HH_Expense</th>\n",
       "      <th>No_of_Fly_Members</th>\n",
       "      <th>Emi_or_Rent_Amt</th>\n",
       "      <th>Annual_HH_Income</th>\n",
       "      <th>No_of_Earning_Members</th>\n",
       "    </tr>\n",
       "  </thead>\n",
       "  <tbody>\n",
       "    <tr>\n",
       "      <th>Mthly_HH_Income</th>\n",
       "      <td>1.000000</td>\n",
       "      <td>0.649215</td>\n",
       "      <td>0.448317</td>\n",
       "      <td>0.036976</td>\n",
       "      <td>0.970315</td>\n",
       "      <td>0.347883</td>\n",
       "    </tr>\n",
       "    <tr>\n",
       "      <th>Mthly_HH_Expense</th>\n",
       "      <td>0.649215</td>\n",
       "      <td>1.000000</td>\n",
       "      <td>0.639702</td>\n",
       "      <td>0.405280</td>\n",
       "      <td>0.591222</td>\n",
       "      <td>0.311915</td>\n",
       "    </tr>\n",
       "    <tr>\n",
       "      <th>No_of_Fly_Members</th>\n",
       "      <td>0.448317</td>\n",
       "      <td>0.639702</td>\n",
       "      <td>1.000000</td>\n",
       "      <td>0.085808</td>\n",
       "      <td>0.430868</td>\n",
       "      <td>0.597482</td>\n",
       "    </tr>\n",
       "    <tr>\n",
       "      <th>Emi_or_Rent_Amt</th>\n",
       "      <td>0.036976</td>\n",
       "      <td>0.405280</td>\n",
       "      <td>0.085808</td>\n",
       "      <td>1.000000</td>\n",
       "      <td>0.002716</td>\n",
       "      <td>-0.097431</td>\n",
       "    </tr>\n",
       "    <tr>\n",
       "      <th>Annual_HH_Income</th>\n",
       "      <td>0.970315</td>\n",
       "      <td>0.591222</td>\n",
       "      <td>0.430868</td>\n",
       "      <td>0.002716</td>\n",
       "      <td>1.000000</td>\n",
       "      <td>0.296679</td>\n",
       "    </tr>\n",
       "    <tr>\n",
       "      <th>No_of_Earning_Members</th>\n",
       "      <td>0.347883</td>\n",
       "      <td>0.311915</td>\n",
       "      <td>0.597482</td>\n",
       "      <td>-0.097431</td>\n",
       "      <td>0.296679</td>\n",
       "      <td>1.000000</td>\n",
       "    </tr>\n",
       "  </tbody>\n",
       "</table>\n",
       "</div>"
      ],
      "text/plain": [
       "                       Mthly_HH_Income  Mthly_HH_Expense  No_of_Fly_Members  \\\n",
       "Mthly_HH_Income               1.000000          0.649215           0.448317   \n",
       "Mthly_HH_Expense              0.649215          1.000000           0.639702   \n",
       "No_of_Fly_Members             0.448317          0.639702           1.000000   \n",
       "Emi_or_Rent_Amt               0.036976          0.405280           0.085808   \n",
       "Annual_HH_Income              0.970315          0.591222           0.430868   \n",
       "No_of_Earning_Members         0.347883          0.311915           0.597482   \n",
       "\n",
       "                       Emi_or_Rent_Amt  Annual_HH_Income  \\\n",
       "Mthly_HH_Income               0.036976          0.970315   \n",
       "Mthly_HH_Expense              0.405280          0.591222   \n",
       "No_of_Fly_Members             0.085808          0.430868   \n",
       "Emi_or_Rent_Amt               1.000000          0.002716   \n",
       "Annual_HH_Income              0.002716          1.000000   \n",
       "No_of_Earning_Members        -0.097431          0.296679   \n",
       "\n",
       "                       No_of_Earning_Members  \n",
       "Mthly_HH_Income                     0.347883  \n",
       "Mthly_HH_Expense                    0.311915  \n",
       "No_of_Fly_Members                   0.597482  \n",
       "Emi_or_Rent_Amt                    -0.097431  \n",
       "Annual_HH_Income                    0.296679  \n",
       "No_of_Earning_Members               1.000000  "
      ]
     },
     "execution_count": 62,
     "metadata": {},
     "output_type": "execute_result"
    }
   ],
   "source": [
    "data.corr()"
   ]
  },
  {
   "cell_type": "markdown",
   "metadata": {},
   "source": [
    "## Normal Diastribution"
   ]
  },
  {
   "cell_type": "markdown",
   "metadata": {},
   "source": [
    "The Normal distribution is also known as Gaussian distribution or the Bell curve. It is one of the most common distributions due to the following reasons:"
   ]
  },
  {
   "cell_type": "markdown",
   "metadata": {},
   "source": [
    " - It approximates a wide variety of random variables.\n",
    " - Distributions of sample means with large enough samples sizes could be approximated to normal.\n",
    " - Heavily used in regression analysis\n",
    " - Good Track record."
   ]
  },
  {
   "cell_type": "markdown",
   "metadata": {},
   "source": [
    "The Normal distrbution is indicated by:\n",
    "    $$N ~ (\\mu, \\sigma^2)$$"
   ]
  },
  {
   "cell_type": "markdown",
   "metadata": {},
   "source": [
    "*In cases of Normal Distribution, Mean = Median = Mode*"
   ]
  },
  {
   "cell_type": "code",
   "execution_count": 14,
   "metadata": {},
   "outputs": [
    {
     "data": {
      "text/plain": [
       "['Mthly_HH_Income',\n",
       " 'Mthly_HH_Expense',\n",
       " 'No_of_Fly_Members',\n",
       " 'Emi_or_Rent_Amt',\n",
       " 'Annual_HH_Income']"
      ]
     },
     "execution_count": 14,
     "metadata": {},
     "output_type": "execute_result"
    }
   ],
   "source": [
    "num"
   ]
  },
  {
   "cell_type": "code",
   "execution_count": 30,
   "metadata": {},
   "outputs": [
    {
     "data": {
      "image/png": "[encoded data removed]",
      "text/plain": [
       "<Figure size 432x288 with 1 Axes>"
      ]
     },
     "metadata": {
      "needs_background": "light"
     },
     "output_type": "display_data"
    }
   ],
   "source": [
    "sns.kdeplot(data['Mthly_HH_Income'])\n",
    "plt.show()"
   ]
  },
  {
   "cell_type": "markdown",
   "metadata": {},
   "source": [
    "It is right skewed data and is quit close to a normal distribution\n",
    "Since in the normal distribution the data is symmetrically distributed around the mean and also maximum around the mean"
   ]
  },
  {
   "cell_type": "code",
   "execution_count": 29,
   "metadata": {},
   "outputs": [
    {
     "data": {
      "image/png": "[encoded data removed]",
      "text/plain": [
       "<Figure size 432x288 with 1 Axes>"
      ]
     },
     "metadata": {
      "needs_background": "light"
     },
     "output_type": "display_data"
    }
   ],
   "source": [
    "sns.kdeplot(data['Mthly_HH_Expense'])\n",
    "plt.show()"
   ]
  },
  {
   "cell_type": "markdown",
   "metadata": {},
   "source": [
    "This data is also little bit right / positively skewed may be due to some outliers"
   ]
  },
  {
   "cell_type": "code",
   "execution_count": 48,
   "metadata": {},
   "outputs": [
    {
     "data": {
      "image/png": "[encoded data removed]",
      "text/plain": [
       "<Figure size 432x288 with 1 Axes>"
      ]
     },
     "metadata": {
      "needs_background": "light"
     },
     "output_type": "display_data"
    }
   ],
   "source": [
    "plt.axvline(x = np.mean(data['No_of_Fly_Members']), color = 'r')\n",
    "plt.axvline(x = np.median(data['No_of_Fly_Members']), color = 'g')\n",
    "plt.axvline(x = data['No_of_Fly_Members'].mode().values[0], color = 'black')\n",
    "\n",
    "\n",
    "sns.kdeplot(data['No_of_Fly_Members'])\n",
    "plt.show()"
   ]
  },
  {
   "cell_type": "markdown",
   "metadata": {},
   "source": [
    "As we can see this graph mostly resembles with normal distribution as:\n",
    "\n",
    " - Median and Mode are completely overlapping and mean is very less displaced\n",
    " - Most of the data is distrbuted aroung the average only.\n",
    " - Kind of resembles with bell shape"
   ]
  },
  {
   "cell_type": "code",
   "execution_count": 27,
   "metadata": {},
   "outputs": [
    {
     "data": {
      "image/png": "[encoded data removed]",
      "text/plain": [
       "<Figure size 432x288 with 1 Axes>"
      ]
     },
     "metadata": {
      "needs_background": "light"
     },
     "output_type": "display_data"
    }
   ],
   "source": [
    "sns.kdeplot(data['Emi_or_Rent_Amt'])\n",
    "plt.show()"
   ]
  },
  {
   "cell_type": "markdown",
   "metadata": {},
   "source": [
    "This is a pareto distribution graph not closer to normal at all\n",
    "The distribution is highly positively skewed.\n",
    "\n",
    "If the same were on the left side then it would be negatively skewed data."
   ]
  },
  {
   "cell_type": "code",
   "execution_count": 26,
   "metadata": {},
   "outputs": [
    {
     "data": {
      "image/png": "[encoded data removed]",
      "text/plain": [
       "<Figure size 432x288 with 1 Axes>"
      ]
     },
     "metadata": {
      "needs_background": "light"
     },
     "output_type": "display_data"
    }
   ],
   "source": [
    "sns.kdeplot(data['Annual_HH_Income'])\n",
    "plt.show()"
   ]
  },
  {
   "cell_type": "markdown",
   "metadata": {},
   "source": [
    "It is right skewed distribution like the first 2 distributions"
   ]
  },
  {
   "cell_type": "markdown",
   "metadata": {},
   "source": [
    "## Effect on Mean, Median and Mode due to Skewness\n"
   ]
  },
  {
   "cell_type": "code",
   "execution_count": 47,
   "metadata": {},
   "outputs": [
    {
     "data": {
      "image/png": "[encoded data removed]",
      "text/plain": [
       "<Figure size 432x288 with 1 Axes>"
      ]
     },
     "metadata": {
      "needs_background": "light"
     },
     "output_type": "display_data"
    }
   ],
   "source": [
    "plt.axvline(x = np.mean(data['Emi_or_Rent_Amt']), color = 'r')\n",
    "plt.axvline(x = np.median(data['Emi_or_Rent_Amt']), color = 'g')\n",
    "plt.axvline(x = data['Emi_or_Rent_Amt'].mode().values[0], color = 'black')\n",
    "\n",
    "\n",
    "sns.kdeplot(data['Emi_or_Rent_Amt'])\n",
    "plt.show()"
   ]
  },
  {
   "cell_type": "markdown",
   "metadata": {},
   "source": [
    "This graph clearly shows that presence of outliers or skewness have no affect on median and mode(they are overlapping) but have a huge impact on the value of mean and it shifts towads the outliers."
   ]
  },
  {
   "cell_type": "markdown",
   "metadata": {},
   "source": [
    "## QQ Plot (Quantile - Quantile Plot)"
   ]
  },
  {
   "cell_type": "markdown",
   "metadata": {},
   "source": [
    "Simple Explanation:\n",
    "It gives a scatter plot along with a line, if the line is inclined at 45 degree and all the points are on the line then it is a normal distrbuted data"
   ]
  },
  {
   "cell_type": "markdown",
   "metadata": {},
   "source": [
    "Technical Definition:"
   ]
  },
  {
   "cell_type": "markdown",
   "metadata": {},
   "source": [
    "The ***quantile-quantile (q-q)*** plot is a graphical technique for determining if two data sets come from populations with a common distribution. A q-q plot is a plot of the quantiles of the first data set against the quantiles of the second data set. A 45-degree reference line is also plotted."
   ]
  },
  {
   "cell_type": "code",
   "execution_count": 49,
   "metadata": {},
   "outputs": [],
   "source": [
    "from scipy import stats"
   ]
  },
  {
   "cell_type": "code",
   "execution_count": 55,
   "metadata": {},
   "outputs": [
    {
     "data": {
      "image/png": "[encoded data removed]",
      "text/plain": [
       "<Figure size 432x288 with 1 Axes>"
      ]
     },
     "metadata": {
      "needs_background": "light"
     },
     "output_type": "display_data"
    },
    {
     "data": {
      "image/png": "[encoded data removed]",
      "text/plain": [
       "<Figure size 432x288 with 1 Axes>"
      ]
     },
     "metadata": {
      "needs_background": "light"
     },
     "output_type": "display_data"
    },
    {
     "data": {
      "image/png": "[encoded data removed]",
      "text/plain": [
       "<Figure size 432x288 with 1 Axes>"
      ]
     },
     "metadata": {
      "needs_background": "light"
     },
     "output_type": "display_data"
    },
    {
     "data": {
      "image/png": "[encoded data removed]",
      "text/plain": [
       "<Figure size 432x288 with 1 Axes>"
      ]
     },
     "metadata": {
      "needs_background": "light"
     },
     "output_type": "display_data"
    },
    {
     "data": {
      "image/png": "[encoded data removed]",
      "text/plain": [
       "<Figure size 432x288 with 1 Axes>"
      ]
     },
     "metadata": {
      "needs_background": "light"
     },
     "output_type": "display_data"
    }
   ],
   "source": [
    "for i in num:\n",
    "    plt.subplots()\n",
    "    stats.probplot(data[i], dist = 'norm', plot = plt)\n",
    "    plt.grid()\n",
    "    plt.title(i)"
   ]
  },
  {
   "cell_type": "markdown",
   "metadata": {},
   "source": [
    "# Box-Cox Transformation"
   ]
  },
  {
   "cell_type": "markdown",
   "metadata": {},
   "source": [
    " - We now use boxcox to transform the data so it’s closest to normal:"
   ]
  },
  {
   "cell_type": "markdown",
   "metadata": {},
   "source": [
    "The box cox transformation is given as:\n",
    "    \n",
    "$$\n",
    "y = \\left\\{\n",
    "    \\begin{array}\\\\\n",
    "        \\frac{x^\\lambda - 1}{\\lambda} & \\mbox{if } \\lambda \\neq  0 \\\\\n",
    "        log(x) & \\mbox{if} \\lambda = 0\n",
    "    \\end{array}\n",
    "\\right.\n",
    "$$"
   ]
  },
  {
   "cell_type": "markdown",
   "metadata": {},
   "source": [
    "From Scipy website <br>\n",
    "\n",
    "Boxcox requires the input data to be positive. Sometimes a Box-Cox transformation provides a shift parameter to achieve this; Boxcox does not. Such a shift parameter is equivalent to adding a positive constant to x before calling boxcox."
   ]
  },
  {
   "cell_type": "code",
   "execution_count": 53,
   "metadata": {},
   "outputs": [
    {
     "name": "stdout",
     "output_type": "stream",
     "text": [
      "0.3031376789702236\n"
     ]
    }
   ],
   "source": [
    "x_t, l = stats.boxcox(data['Mthly_HH_Income'])\n",
    "print(l)"
   ]
  },
  {
   "cell_type": "code",
   "execution_count": 54,
   "metadata": {},
   "outputs": [
    {
     "data": {
      "image/png": "[encoded data removed]",
      "text/plain": [
       "<Figure size 432x288 with 1 Axes>"
      ]
     },
     "metadata": {
      "needs_background": "light"
     },
     "output_type": "display_data"
    }
   ],
   "source": [
    "stats.probplot(x_t, dist=\"norm\", plot=plt)\n",
    "plt.grid()"
   ]
  },
  {
   "cell_type": "code",
   "execution_count": 57,
   "metadata": {},
   "outputs": [
    {
     "data": {
      "text/plain": [
       "0"
      ]
     },
     "execution_count": 57,
     "metadata": {},
     "output_type": "execute_result"
    }
   ],
   "source": [
    "data['Emi_or_Rent_Amt'].min()"
   ]
  },
  {
   "cell_type": "code",
   "execution_count": 58,
   "metadata": {},
   "outputs": [],
   "source": [
    "data['positive_emi_rent'] =  data['Emi_or_Rent_Amt'] + 1"
   ]
  },
  {
   "cell_type": "code",
   "execution_count": 60,
   "metadata": {},
   "outputs": [],
   "source": [
    "num = ['Mthly_HH_Income',\n",
    " 'Mthly_HH_Expense',\n",
    " 'No_of_Fly_Members',\n",
    " 'positive_emi_rent',\n",
    " 'Annual_HH_Income']"
   ]
  },
  {
   "cell_type": "code",
   "execution_count": 61,
   "metadata": {},
   "outputs": [
    {
     "data": {
      "image/png": "[encoded data removed]",
      "text/plain": [
       "<Figure size 432x288 with 1 Axes>"
      ]
     },
     "metadata": {
      "needs_background": "light"
     },
     "output_type": "display_data"
    },
    {
     "data": {
      "image/png": "[encoded data removed]",
      "text/plain": [
       "<Figure size 432x288 with 1 Axes>"
      ]
     },
     "metadata": {
      "needs_background": "light"
     },
     "output_type": "display_data"
    },
    {
     "data": {
      "image/png": "[encoded data removed]",
      "text/plain": [
       "<Figure size 432x288 with 1 Axes>"
      ]
     },
     "metadata": {
      "needs_background": "light"
     },
     "output_type": "display_data"
    },
    {
     "data": {
      "image/png": "[encoded data removed]",
      "text/plain": [
       "<Figure size 432x288 with 1 Axes>"
      ]
     },
     "metadata": {
      "needs_background": "light"
     },
     "output_type": "display_data"
    },
    {
     "data": {
      "image/png": "[encoded data removed]",
      "text/plain": [
       "<Figure size 432x288 with 1 Axes>"
      ]
     },
     "metadata": {
      "needs_background": "light"
     },
     "output_type": "display_data"
    }
   ],
   "source": [
    "for i in num:\n",
    "    plt.subplots()\n",
    "    x_t, l = stats.boxcox(data[i])\n",
    "    stats.probplot(x_t, dist = 'norm', plot = plt)\n",
    "    plt.grid()\n",
    "    plt.title(i)"
   ]
  },
  {
   "cell_type": "code",
   "execution_count": null,
   "metadata": {},
   "outputs": [],
   "source": []
  }
 ],
 "metadata": {
  "kernelspec": {
   "display_name": "Python 3",
   "language": "python",
   "name": "python3"
  },
  "language_info": {
   "codemirror_mode": {
    "name": "ipython",
    "version": 3
   },
   "file_extension": ".py",
   "mimetype": "text/x-python",
   "name": "python",
   "nbconvert_exporter": "python",
   "pygments_lexer": "ipython3",
   "version": "3.8.5"
  }
 },
 "nbformat": 4,
 "nbformat_minor": 4
}
