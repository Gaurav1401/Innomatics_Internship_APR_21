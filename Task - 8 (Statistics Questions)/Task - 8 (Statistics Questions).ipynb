{
 "cells": [
  {
   "cell_type": "markdown",
   "metadata": {},
   "source": [
    "### Day 4: Binomial Distribution I"
   ]
  },
  {
   "cell_type": "code",
   "execution_count": 19,
   "metadata": {},
   "outputs": [
    {
     "name": "stdout",
     "output_type": "stream",
     "text": [
      "23.475\n"
     ]
    }
   ],
   "source": [
    "import math\n",
    "def bin_dist(n, p, r):\n",
    "    prob = (math.factorial(n)/(math.factorial(n - r) * math.factorial(r)))*((p**r)*((1-p)**(n-r)))\n",
    "    return prob\n",
    "\n",
    "for i in range(3,7):\n",
    "    b += bin_dist(6, 1.09/2.09, i)\n",
    "    \n",
    "print(\"{:.3f}\".format(b))"
   ]
  },
  {
   "cell_type": "markdown",
   "metadata": {},
   "source": [
    "### Day 4: Binomial Distribution II\n",
    "\n"
   ]
  },
  {
   "cell_type": "code",
   "execution_count": 22,
   "metadata": {},
   "outputs": [
    {
     "name": "stdout",
     "output_type": "stream",
     "text": [
      "0.891\n",
      "0.342\n"
     ]
    }
   ],
   "source": [
    "import math\n",
    "def bin_dist(n, p, r):\n",
    "    prob = (math.factorial(n)/(math.factorial(n - r) * math.factorial(r)))*((p**r)*((1-p)**(n-r)))\n",
    "    return prob\n",
    "b = 0\n",
    "for i in range(0,3):\n",
    "    b += bin_dist(10, 0.12, i)\n",
    "print(round(b,3))\n",
    "\n",
    "\n",
    "prob_2 = 1 - b + bin_dist(10, 0.12, 2)\n",
    "\n",
    "print(round(prob_2,3))\n",
    "    "
   ]
  },
  {
   "cell_type": "markdown",
   "metadata": {},
   "source": [
    "### Day 5: Normal Distribution I"
   ]
  },
  {
   "cell_type": "code",
   "execution_count": 3,
   "metadata": {},
   "outputs": [
    {
     "name": "stdout",
     "output_type": "stream",
     "text": [
      "20 2\n",
      "19.5\n",
      "20 22\n",
      "0.401\n",
      "0.341\n"
     ]
    }
   ],
   "source": [
    "# Enter your code here. Read input from STDIN. Print output to STDOUT\n",
    "\n",
    "from scipy.stats import norm\n",
    "import numpy\n",
    "\n",
    "mean, std = map(int, input().split())\n",
    "a = float(input())\n",
    "b, c = map(int, input().split())\n",
    "\n",
    "\n",
    "prob_1 = norm(loc = mean , scale = std).cdf(a)\n",
    "\n",
    "cdf_upper_limit = norm(loc = mean , scale = std).cdf(c)\n",
    "cdf_lower_limit = norm(loc = mean , scale = std).cdf(b)\n",
    " \n",
    "prob = cdf_upper_limit - cdf_lower_limit\n",
    "\n",
    "\n",
    "print(numpy.round(prob_1, 3))\n",
    "print(numpy.round(prob, 3))"
   ]
  },
  {
   "cell_type": "code",
   "execution_count": 4,
   "metadata": {},
   "outputs": [
    {
     "name": "stdout",
     "output_type": "stream",
     "text": [
      "0.401\n",
      "0.341\n"
     ]
    }
   ],
   "source": [
    "import math\n",
    "mean, std = 20, 2\n",
    "cdf = lambda x: 0.5 * (1 + math.erf((x - mean) / (std * (2 ** 0.5))))\n",
    "\n",
    "# Less than 19.5\n",
    "print('{:.3f}'.format(cdf(19.5)))\n",
    "# Between 20 and 22\n",
    "print('{:.3f}'.format(cdf(22) - cdf(20)))"
   ]
  },
  {
   "cell_type": "markdown",
   "metadata": {},
   "source": [
    "### Day 5: Normal Distribution II"
   ]
  },
  {
   "cell_type": "code",
   "execution_count": 6,
   "metadata": {},
   "outputs": [
    {
     "name": "stdout",
     "output_type": "stream",
     "text": [
      "15.87\n",
      "86.55\n",
      "13.45\n"
     ]
    }
   ],
   "source": [
    "# Enter your code here. Read input from STDIN. Print output to STDOUT\n",
    "\n",
    "import math\n",
    "mean, std = 70, 10\n",
    "# for CDF\n",
    "cdf = lambda x: 0.5 * (1 + math.erf((x - mean) / (std * (2 ** 0.5))))\n",
    "\n",
    "# FOR PDF\n",
    "def normpdf(x, mean, std):\n",
    "    var = float(std)**2\n",
    "    denom = (2*math.pi*var)**.5\n",
    "    num = math.exp(-(float(x)-float(mean))**2/(2*var))\n",
    "    return num/denom\n",
    "\n",
    "# Greater than 80\n",
    "print('{:.2f}'.format(100*(1 - cdf(80))))\n",
    "\n",
    "# Greater than or equal to 60\n",
    "print('{:.2f}'.format(100*(1 - cdf(60) + normpdf(60, mean, std))))\n",
    "\n",
    "# Lesser than 60\n",
    "print('{:.2f}'.format(100*(cdf(60) - normpdf(60, mean, std))))"
   ]
  },
  {
   "cell_type": "code",
   "execution_count": 7,
   "metadata": {},
   "outputs": [
    {
     "name": "stdout",
     "output_type": "stream",
     "text": [
      "15.87\n",
      "84.13\n",
      "15.87\n"
     ]
    }
   ],
   "source": [
    "# Enter your code here. Read input from STDIN. Print output to STDOUT\n",
    "\n",
    "import math\n",
    "mean, std = 70, 10\n",
    "# for CDF\n",
    "cdf = lambda x: 0.5 * (1 + math.erf((x - mean) / (std * (2 ** 0.5))))\n",
    "\n",
    "# FOR PDF\n",
    "def normpdf(x, mean, std):\n",
    "    var = float(std)**2\n",
    "    denom = (2*math.pi*var)**.5\n",
    "    num = math.exp(-(float(x)-float(mean))**2/(2*var))\n",
    "    return num/denom\n",
    "\n",
    "# Greater than 80\n",
    "print('{:.2f}'.format(100*(1 - cdf(80))))\n",
    "\n",
    "# Greater than or equal to 60\n",
    "print('{:.2f}'.format(100*(1 - cdf(60))))\n",
    "\n",
    "# Lesser than 60\n",
    "print('{:.2f}'.format(100*(cdf(60))))"
   ]
  },
  {
   "cell_type": "markdown",
   "metadata": {},
   "source": [
    "## Day 6: The Central Limit Theorem I"
   ]
  },
  {
   "cell_type": "code",
   "execution_count": 1,
   "metadata": {},
   "outputs": [
    {
     "name": "stdout",
     "output_type": "stream",
     "text": [
      "9800\n",
      "49\n",
      "205\n",
      "15\n",
      "0.0098\n"
     ]
    }
   ],
   "source": [
    "import math\n",
    "\n",
    "max_ = int(input())\n",
    "n = int(input())\n",
    "mu = int(input())\n",
    "std = int(input())\n",
    "\n",
    "mu_sum = n * mu\n",
    "std_sum = std * (n**0.5)\n",
    "\n",
    "cdf = lambda x: 0.5 * (1 + math.erf((x - mu_sum) / (std_sum * (2 ** 0.5))))\n",
    "\n",
    "print(round(cdf(max_), 4))"
   ]
  },
  {
   "cell_type": "markdown",
   "metadata": {},
   "source": [
    "## Day 6: The Central Limit Theorem II"
   ]
  },
  {
   "cell_type": "code",
   "execution_count": 3,
   "metadata": {},
   "outputs": [
    {
     "name": "stdout",
     "output_type": "stream",
     "text": [
      "250\n",
      "100\n",
      "2.0\n",
      "2.4\n",
      "0.9814\n"
     ]
    }
   ],
   "source": [
    "import math\n",
    "\n",
    "max_ = int(input())\n",
    "n = int(input())\n",
    "mu = float(input())\n",
    "std = float(input())\n",
    "\n",
    "mu_sum = n * mu\n",
    "std_sum = std * (n**0.5)\n",
    "\n",
    "cdf = lambda x: 0.5 * (1 + math.erf((x - mu_sum) / (std_sum * (2 ** 0.5))))\n",
    "\n",
    "print(round(cdf(max_), 4))"
   ]
  },
  {
   "cell_type": "markdown",
   "metadata": {},
   "source": [
    "## Day 6: The Central Limit Theorem III"
   ]
  },
  {
   "cell_type": "code",
   "execution_count": 5,
   "metadata": {},
   "outputs": [
    {
     "name": "stdout",
     "output_type": "stream",
     "text": [
      "100\n",
      "500\n",
      "80\n",
      "0.95\n",
      "1.96\n",
      "484.32\n",
      "515.68\n"
     ]
    }
   ],
   "source": [
    "n = int(input())\n",
    "mu = int(input())\n",
    "std = int(input())\n",
    "percent = float(input())\n",
    "z = float(input())\n",
    "\n",
    "sample_std = std / (n**0.5)\n",
    "\n",
    "A = mu - sample_std * z\n",
    "B = mu + sample_std * z\n",
    "print(round(A, 2))\n",
    "print(round(B, 2))"
   ]
  },
  {
   "cell_type": "markdown",
   "metadata": {},
   "source": [
    "### Day 7: Pearson Correlation Coefficient I"
   ]
  },
  {
   "cell_type": "code",
   "execution_count": 41,
   "metadata": {},
   "outputs": [
    {
     "name": "stdout",
     "output_type": "stream",
     "text": [
      "10\n",
      "10 9.8 8 7.8 7.7 7 6 5 4 2\n",
      "200 44 32 24 22 17 15 12 8 4\n",
      "0.612\n"
     ]
    }
   ],
   "source": [
    "# Enter your code here. Read input from STDIN. Print output to STDOUT\n",
    "#import numpy\n",
    "n = int(input())\n",
    "\n",
    "lst_x = list(map(float, input().split()))[:n]\n",
    "lst_y = list(map(float, input().split()))[:n]\n",
    "\n",
    "mu_x = sum(lst_x) / n\n",
    "mu_y = sum(lst_y) / n\n",
    "\n",
    "xi = 0\n",
    "yi = 0\n",
    "for i in lst_x:\n",
    "    xi += (i - mu_x)**2\n",
    "std_x = (xi / n)**0.5\n",
    "    \n",
    "for i in lst_y:\n",
    "    yi += (i - mu_y)**2 \n",
    "std_y = (yi / n)**0.5\n",
    "    \n",
    "cov = sum([(lst_x[i] - mu_x) * (lst_y[i] - mu_y) for i in range(n)]) \n",
    "\n",
    "corr = cov / (n * std_x * std_y)\n",
    "\n",
    "print(round(corr, 3))"
   ]
  },
  {
   "cell_type": "markdown",
   "metadata": {},
   "source": [
    "## Day 8: Least Square Regression Line"
   ]
  },
  {
   "cell_type": "code",
   "execution_count": 18,
   "metadata": {},
   "outputs": [
    {
     "name": "stdout",
     "output_type": "stream",
     "text": [
      "95 85\n",
      "85 95\n",
      "80 70\n",
      "70 65\n",
      "60 70\n"
     ]
    }
   ],
   "source": [
    "#import numpy\n",
    "stats_y = []\n",
    "aptitude_x = []\n",
    "for i in range(5):\n",
    "    a, b = map(int, input().split())\n",
    "    stats_y.append(b)\n",
    "    aptitude_x.append(a)\n",
    "\n",
    "#stats = numpy.array(stats)\n",
    "#aptitude = numpy.array(aptitude)"
   ]
  },
  {
   "cell_type": "code",
   "execution_count": 19,
   "metadata": {},
   "outputs": [
    {
     "data": {
      "text/plain": [
       "[85, 95, 70, 65, 70]"
      ]
     },
     "execution_count": 19,
     "metadata": {},
     "output_type": "execute_result"
    }
   ],
   "source": [
    "stats_y"
   ]
  },
  {
   "cell_type": "code",
   "execution_count": 20,
   "metadata": {},
   "outputs": [
    {
     "data": {
      "text/plain": [
       "[95, 85, 80, 70, 60]"
      ]
     },
     "execution_count": 20,
     "metadata": {},
     "output_type": "execute_result"
    }
   ],
   "source": [
    "aptitude_x"
   ]
  },
  {
   "cell_type": "code",
   "execution_count": 21,
   "metadata": {},
   "outputs": [],
   "source": [
    "n = len(stats_y)"
   ]
  },
  {
   "cell_type": "code",
   "execution_count": 23,
   "metadata": {},
   "outputs": [
    {
     "name": "stdout",
     "output_type": "stream",
     "text": [
      "95 85\n",
      "85 95\n",
      "80 70\n",
      "70 65\n",
      "60 70\n"
     ]
    }
   ],
   "source": [
    "for x,y in zip(aptitude_x, stats_y):\n",
    "    print(x, y)"
   ]
  },
  {
   "cell_type": "code",
   "execution_count": 24,
   "metadata": {},
   "outputs": [],
   "source": [
    "sum_xi_yi = sum([xi*yi for xi,yi in zip(aptitude_x, stats_y)])"
   ]
  },
  {
   "cell_type": "code",
   "execution_count": 25,
   "metadata": {},
   "outputs": [],
   "source": [
    "sum_xi = sum(aptitude_x)\n",
    "sum_yi = sum(stats_y)"
   ]
  },
  {
   "cell_type": "code",
   "execution_count": 26,
   "metadata": {},
   "outputs": [],
   "source": [
    "sum_xi2 = sum([i**2 for i in aptitude_x])"
   ]
  },
  {
   "cell_type": "code",
   "execution_count": 27,
   "metadata": {},
   "outputs": [],
   "source": [
    "sum_xi = sum([i for i in aptitude_x])\n",
    "sum_xi_2 = sum_xi**2"
   ]
  },
  {
   "cell_type": "code",
   "execution_count": 29,
   "metadata": {},
   "outputs": [],
   "source": [
    "b = ((n*sum_xi_yi) - (sum_yi*sum_xi))/ (n*sum_xi2 - sum_xi_2)"
   ]
  },
  {
   "cell_type": "code",
   "execution_count": 28,
   "metadata": {},
   "outputs": [],
   "source": [
    "x_bar = sum(aptitude_x)/n\n",
    "y_bar = sum(stats_y) / n"
   ]
  },
  {
   "cell_type": "code",
   "execution_count": 30,
   "metadata": {},
   "outputs": [],
   "source": [
    "a = y_bar - b*x_bar"
   ]
  },
  {
   "cell_type": "code",
   "execution_count": 34,
   "metadata": {},
   "outputs": [
    {
     "data": {
      "text/plain": [
       "(26.78082191780822, 0.6438356164383562)"
      ]
     },
     "execution_count": 34,
     "metadata": {},
     "output_type": "execute_result"
    }
   ],
   "source": [
    "a, b"
   ]
  },
  {
   "cell_type": "code",
   "execution_count": 36,
   "metadata": {},
   "outputs": [
    {
     "name": "stdout",
     "output_type": "stream",
     "text": [
      "78.288\n"
     ]
    }
   ],
   "source": [
    "#print the value of y  when x = 80.\n",
    "x = 80\n",
    "y = a + b * x\n",
    "print(\"%.3f\" %y)"
   ]
  },
  {
   "cell_type": "markdown",
   "metadata": {},
   "source": [
    "## Day 9: Multiple Linear Regression"
   ]
  },
  {
   "cell_type": "code",
   "execution_count": 1,
   "metadata": {},
   "outputs": [
    {
     "name": "stdout",
     "output_type": "stream",
     "text": [
      "1.0 2.3 4 5 3.8\n"
     ]
    }
   ],
   "source": [
    "*features, y = map(float, input().split())"
   ]
  },
  {
   "cell_type": "code",
   "execution_count": 2,
   "metadata": {},
   "outputs": [
    {
     "data": {
      "text/plain": [
       "[1.0, 2.3, 4.0, 5.0]"
      ]
     },
     "execution_count": 2,
     "metadata": {},
     "output_type": "execute_result"
    }
   ],
   "source": [
    "features"
   ]
  },
  {
   "cell_type": "code",
   "execution_count": 5,
   "metadata": {},
   "outputs": [
    {
     "name": "stdout",
     "output_type": "stream",
     "text": [
      "2 7\n",
      "0.18 0.89 109.85\n",
      "1.0 0.26 155.72\n",
      "0.92 0.11 137.66\n",
      "0.07 0.37 76.17\n",
      "0.85 0.16 139.75\n",
      "0.99 0.41 162.6\n",
      "0.87 0.47 151.77\n",
      "4\n",
      "0.49 0.18\n",
      "0.57 0.83\n",
      "0.56 0.64\n",
      "0.76 0.18\n",
      "105.21\n",
      "142.67\n",
      "132.94\n",
      "129.7\n"
     ]
    }
   ],
   "source": [
    "from sklearn import linear_model\n",
    "model = linear_model.LinearRegression()\n",
    "\n",
    "m,n = map(int, input().split())\n",
    "x = []\n",
    "y_real = []\n",
    "for _ in range(n):\n",
    "    *features, y = map(float, input().split())    \n",
    "    x.append(features)\n",
    "    y_real.append(y)\n",
    "    \n",
    "q = int(input())\n",
    "\n",
    "x_test = []\n",
    "for _  in range(q):\n",
    "    x_test.append(list(map(float, input().split())))\n",
    "    \n",
    "model.fit(x, y_real)\n",
    "\n",
    "for i in model.predict(x_test):\n",
    "    print(round(i,2))"
   ]
  },
  {
   "cell_type": "code",
   "execution_count": null,
   "metadata": {},
   "outputs": [],
   "source": []
  }
 ],
 "metadata": {
  "kernelspec": {
   "display_name": "Python 3",
   "language": "python",
   "name": "python3"
  },
  "language_info": {
   "codemirror_mode": {
    "name": "ipython",
    "version": 3
   },
   "file_extension": ".py",
   "mimetype": "text/x-python",
   "name": "python",
   "nbconvert_exporter": "python",
   "pygments_lexer": "ipython3",
   "version": "3.8.5"
  }
 },
 "nbformat": 4,
 "nbformat_minor": 4
}
